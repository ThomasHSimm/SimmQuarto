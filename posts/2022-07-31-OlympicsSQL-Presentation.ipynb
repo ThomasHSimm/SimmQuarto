{
 "cells": [
  {
   "cell_type": "markdown",
   "metadata": {},
   "source": [
    "# Presentation of Olympics data with SQL and pandas\n",
    "> Presentation of Using SQL and Pandas to understad Olympic data\n",
    "\n",
    "- toc: true \n",
    "- badges: true\n",
    "- categories: [Presentation,SQL, Pandas, python, Olympics]"
   ]
  },
  {
   "cell_type": "markdown",
   "metadata": {},
   "source": [
    "![](ghtop_images/header2.png)"
   ]
  },
  {
   "cell_type": "markdown",
   "metadata": {},
   "source": [
    "![](ghtop_images/Slide1.PNG)\n",
    "\n",
    "![](ghtop_images/Slide2.PNG)\n",
    "\n",
    "![](ghtop_images/Slide3.PNG)\n",
    "\n",
    "![](ghtop_images/Slide4.PNG)\n",
    "\n",
    "![](ghtop_images/Slide5.PNG)\n",
    "\n",
    "![](ghtop_images/Slide6.PNG)\n",
    "\n",
    "![](ghtop_images/Slide7.PNG)\n",
    "\n",
    "![](ghtop_images/Slide8.PNG)\n",
    "\n",
    "![](ghtop_images/Slide9.PNG)\n",
    "\n",
    "\n",
    "![](ghtop_images/Slide10.PNG)\n",
    "\n",
    "![](ghtop_images/Slide11.PNG)\n",
    "\n",
    "![](ghtop_images/Slide12.PNG)\n",
    "\n",
    "![](ghtop_images/Slide13.PNG)\n",
    "\n",
    "![](ghtop_images/Slide14.PNG)\n",
    "\n",
    "![](ghtop_images/Slide15.PNG)\n",
    "\n",
    "![](ghtop_images/Slide16.PNG)\n",
    "\n",
    "![](ghtop_images/Slide17.PNG)\n",
    "\n",
    "![](ghtop_images/Slide18.PNG)\n",
    "\n",
    "![](ghtop_images/Slide19.PNG)\n",
    "\n",
    "\n",
    "![](ghtop_images/Slide20.PNG)\n",
    "\n",
    "![](ghtop_images/Slide21.PNG)\n",
    "\n",
    "![](ghtop_images/Slide22.PNG)\n",
    "\n",
    "![](ghtop_images/Slide23.PNG)\n",
    "\n",
    "![](ghtop_images/Slide24.PNG)\n",
    "\n",
    "![](ghtop_images/Slide25.PNG)\n",
    "\n",
    "![](ghtop_images/Slide26.PNG)\n",
    "\n",
    "![](ghtop_images/Slide27.PNG)\n",
    "\n",
    "![](ghtop_images/Slide28.PNG)\n",
    "\n",
    "![](ghtop_images/Slide29.PNG)\n",
    "\n",
    "\n",
    "![](ghtop_images/Slide30.PNG)\n",
    "\n",
    "![](ghtop_images/Slide31.PNG)\n",
    "\n",
    "![](ghtop_images/Slide32.PNG)\n",
    "\n",
    "![](ghtop_images/Slide33.PNG)\n",
    "\n",
    "![](ghtop_images/Slide34.PNG)\n",
    "\n",
    "![](ghtop_images/Slide35.PNG)\n",
    "\n",
    "![](ghtop_images/Slide36.PNG)\n"
   ]
  }
 ],
 "metadata": {
  "hide_input": false,
  "kernelspec": {
   "display_name": "Python 3 (ipykernel)",
   "language": "python",
   "name": "python3"
  },
  "language_info": {
   "codemirror_mode": {
    "name": "ipython",
    "version": 3
   },
   "file_extension": ".py",
   "mimetype": "text/x-python",
   "name": "python",
   "nbconvert_exporter": "python",
   "pygments_lexer": "ipython3",
   "version": "3.8.8"
  },
  "varInspector": {
   "cols": {
    "lenName": 16,
    "lenType": 16,
    "lenVar": 40
   },
   "kernels_config": {
    "python": {
     "delete_cmd_postfix": "",
     "delete_cmd_prefix": "del ",
     "library": "var_list.py",
     "varRefreshCmd": "print(var_dic_list())"
    },
    "r": {
     "delete_cmd_postfix": ") ",
     "delete_cmd_prefix": "rm(",
     "library": "var_list.r",
     "varRefreshCmd": "cat(var_dic_list()) "
    }
   },
   "types_to_exclude": [
    "module",
    "function",
    "builtin_function_or_method",
    "instance",
    "_Feature"
   ],
   "window_display": false
  }
 },
 "nbformat": 4,
 "nbformat_minor": 2
}
