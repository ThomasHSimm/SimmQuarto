{
 "cells": [
  {
   "cell_type": "raw",
   "metadata": {},
   "source": [
    "---\n",
    "title: \"Communicating code and data\"\n",
    "subtitle: \"Using the notebook format to communicate code and data\"\n",
    "author: \"Thomas H. Simm\"\n",
    "format:\n",
    "  html:\n",
    "    toc: true\n",
    "      \n",
    "title-slide-attributes:\n",
    "  data-background-size: contain\n",
    "  data-background-opacity: \"0.5\"\n",
    "jupyter: python3\n",
    "---"
   ]
  },
  {
   "cell_type": "code",
   "execution_count": 4,
   "metadata": {
    "tags": [
     "remove-cell"
    ]
   },
   "outputs": [],
   "source": [
    "import pandas as pd\n",
    "\n",
    "import os\n",
    "from pathlib import Path\n",
    "import sys\n",
    "\n",
    "module_path = Path( os.getcwd() )\n",
    "module_path = module_path.parent.parent.parent.__str__() + '\\\\Pesticide'\n",
    "\n",
    "cwd = module_path\n",
    "\n",
    "folder_path = os.path.join(cwd,'data')\n",
    "\n",
    "sys.path.insert(0, module_path)\n",
    "\n",
    "df2 = pd.read_csv(os.path.join(folder_path,'combined_df.csv') ,index_col=0 )\n",
    "# change data type of columns\n",
    "df2['date_of_sampling'] = pd.to_datetime(df2['date_of_sampling'])\n"
   ]
  },
  {
   "attachments": {},
   "cell_type": "markdown",
   "metadata": {},
   "source": [
    "## Content\n",
    "\n",
    "- Notebooks overview\n",
    "- Converting Notebooks\n",
    "- Example useage of notebooks \n",
    "\n",
    "\n",
    "\n"
   ]
  },
  {
   "attachments": {},
   "cell_type": "markdown",
   "metadata": {},
   "source": [
    "# Notebooks\n",
    "## Jupyter Notebooks\n",
    "\n",
    "From [TalkPython: Awesome Jupyter Libraries and Extensions](https://talkpython.fm/episodes/show/394/awesome-jupyter-libraries-and-extensions-in-2022)\n",
    "\n",
    "> Jupyter is an amazing environment for exploring data and generating executable reports with Python. But there are many external tools, extensions, and libraries to make it so much better and make you more productive. \n",
    "\n",
    "- A notebook consists of two parts\n",
    "    - markdown part where we can:\n",
    "        - write text, add images, links, html, LaTeX etc\n",
    "    - code part which runs and displays output of code\n",
    "\n",
    "Some links:\n",
    "\n",
    "- [Jupyter Book](https://jupyterbook.org/en/stable/intro.html)\n",
    "- [A curated list of awesome Jupyter projects](https://github.com/markusschanta/awesome-jupyter)\n",
    "- [Code Documentation QA of Code](https://best-practice-and-impact.github.io/qa-of-code-guidance/code_documentation.html#generating-html-documentation)\n",
    "- [FastAI guide for better blogs](https://www.fast.ai/posts/2019-05-13-blogging-advice.html)\n",
    "\n",
    "\n",
    "\n"
   ]
  },
  {
   "attachments": {},
   "cell_type": "markdown",
   "metadata": {},
   "source": [
    "## Example of a notebook\n",
    " \n",
    "An example notebook\n",
    "\n",
    "![](ghtop_images/jupyter.png)\n",
    "\n"
   ]
  },
  {
   "attachments": {},
   "cell_type": "markdown",
   "metadata": {},
   "source": [
    "## Example of a notebook: output"
   ]
  },
  {
   "cell_type": "code",
   "execution_count": 8,
   "metadata": {},
   "outputs": [
    {
     "data": {
      "text/plain": [
       "[<matplotlib.lines.Line2D at 0x243220aff70>]"
      ]
     },
     "execution_count": 8,
     "metadata": {},
     "output_type": "execute_result"
    },
    {
     "data": {
      "image/png": "[encoded data removed]",
      "text/plain": [
       "<Figure size 640x480 with 1 Axes>"
      ]
     },
     "metadata": {},
     "output_type": "display_data"
    }
   ],
   "source": [
    "import matplotlib.pyplot as plt\n",
    "plt.plot(df2['date_of_sampling'])"
   ]
  },
  {
   "attachments": {},
   "cell_type": "markdown",
   "metadata": {},
   "source": [
    "## Example of a notebook: output 2"
   ]
  },
  {
   "cell_type": "code",
   "execution_count": 10,
   "metadata": {},
   "outputs": [
    {
     "data": {
      "text/html": [
       "\n",
       "<div id=\"altair-viz-8ba91a2a926a4b868d15a8560d060b3c\"></div>\n",
       "<script type=\"text/javascript\">\n",
       "  var VEGA_DEBUG = (typeof VEGA_DEBUG == \"undefined\") ? {} : VEGA_DEBUG;\n",
       "  (function(spec, embedOpt){\n",
       "    let outputDiv = document.currentScript.previousElementSibling;\n",
       "    if (outputDiv.id !== \"altair-viz-8ba91a2a926a4b868d15a8560d060b3c\") {\n",
       "      outputDiv = document.getElementById(\"altair-viz-8ba91a2a926a4b868d15a8560d060b3c\");\n",
       "    }\n",
       "    const paths = {\n",
       "      \"vega\": \"https://cdn.jsdelivr.net/npm//vega@5?noext\",\n",
       "      \"vega-lib\": \"https://cdn.jsdelivr.net/npm//vega-lib?noext\",\n",
       "      \"vega-lite\": \"https://cdn.jsdelivr.net/npm//vega-lite@4.17.0?noext\",\n",
       "      \"vega-embed\": \"https://cdn.jsdelivr.net/npm//vega-embed@6?noext\",\n",
       "    };\n",
       "\n",
       "    function maybeLoadScript(lib, version) {\n",
       "      var key = `${lib.replace(\"-\", \"\")}_version`;\n",
       "      return (VEGA_DEBUG[key] == version) ?\n",
       "        Promise.resolve(paths[lib]) :\n",
       "        new Promise(function(resolve, reject) {\n",
       "          var s = document.createElement('script');\n",
       "          document.getElementsByTagName(\"head\")[0].appendChild(s);\n",
       "          s.async = true;\n",
       "          s.onload = () => {\n",
       "            VEGA_DEBUG[key] = version;\n",
       "            return resolve(paths[lib]);\n",
       "          };\n",
       "          s.onerror = () => reject(`Error loading script: ${paths[lib]}`);\n",
       "          s.src = paths[lib];\n",
       "        });\n",
       "    }\n",
       "\n",
       "    function showError(err) {\n",
       "      outputDiv.innerHTML = `<div class=\"error\" style=\"color:red;\">${err}</div>`;\n",
       "      throw err;\n",
       "    }\n",
       "\n",
       "    function displayChart(vegaEmbed) {\n",
       "      vegaEmbed(outputDiv, spec, embedOpt)\n",
       "        .catch(err => showError(`Javascript Error: ${err.message}<br>This usually means there's a typo in your chart specification. See the javascript console for the full traceback.`));\n",
       "    }\n",
       "\n",
       "    if(typeof define === \"function\" && define.amd) {\n",
       "      requirejs.config({paths});\n",
       "      require([\"vega-embed\"], displayChart, err => showError(`Error loading script: ${err.message}`));\n",
       "    } else {\n",
       "      maybeLoadScript(\"vega\", \"5\")\n",
       "        .then(() => maybeLoadScript(\"vega-lite\", \"4.17.0\"))\n",
       "        .then(() => maybeLoadScript(\"vega-embed\", \"6\"))\n",
       "        .catch(showError)\n",
       "        .then(() => displayChart(vegaEmbed));\n",
       "    }\n",
       "  })({\"config\": {\"view\": {\"continuousWidth\": 400, \"continuousHeight\": 300}}, \"vconcat\": [{\"hconcat\": [{\"mark\": {\"type\": \"point\", \"filled\": true}, \"encoding\": {\"tooltip\": {\"field\": \"Title\", \"type\": \"nominal\"}, \"x\": {\"field\": \"Worldwide_Gross\", \"scale\": {\"clamp\": true, \"domain\": [100000, 1000000000]}, \"type\": \"quantitative\"}, \"y\": {\"field\": \"IMDB_Rating\", \"type\": \"quantitative\"}}, \"height\": 200, \"selection\": {\"Release Year_\": {\"type\": \"single\", \"bind\": {\"input\": \"range\", \"max\": 2018, \"min\": 1969, \"step\": 1}, \"fields\": [\"Release_Year\"]}}, \"title\": \"Slider Filtering\", \"transform\": [{\"calculate\": \"floor(datum.IMDB_Rating)\", \"as\": \"Rounded_IMDB_Rating\"}, {\"calculate\": \"datum.Production_Budget > 100000000.0 ? 100 : 10\", \"as\": \"Hundred_Million_Production\"}, {\"calculate\": \"year(datum.Release_Date)\", \"as\": \"Release_Year\"}, {\"filter\": \"(datum.IMDB_Rating > 0)\"}, {\"filter\": {\"field\": \"MPAA_Rating\", \"oneOf\": [\"G\", \"NC-17\", \"PG\", \"PG-13\", \"R\"]}}, {\"filter\": {\"selection\": \"Release Year_\"}}], \"width\": 200}, {\"mark\": {\"type\": \"point\", \"filled\": true}, \"encoding\": {\"tooltip\": {\"field\": \"Title\", \"type\": \"nominal\"}, \"x\": {\"field\": \"Worldwide_Gross\", \"scale\": {\"clamp\": true, \"domain\": [100000, 1000000000]}, \"type\": \"quantitative\"}, \"y\": {\"field\": \"IMDB_Rating\", \"type\": \"quantitative\"}}, \"height\": 200, \"selection\": {\"Genre\": {\"type\": \"single\", \"fields\": [\"Major_Genre\"], \"bind\": {\"input\": \"select\", \"options\": [\"Action\", \"Adventure\", \"Black Comedy\", \"Comedy\", \"Concert/Performance\", \"Documentary\", \"Drama\", \"Horror\", \"Musical\", \"Romantic Comedy\", \"Thriller/Suspense\", \"Western\"]}}}, \"title\": \"Dropdown Filtering\", \"transform\": [{\"calculate\": \"floor(datum.IMDB_Rating)\", \"as\": \"Rounded_IMDB_Rating\"}, {\"calculate\": \"datum.Production_Budget > 100000000.0 ? 100 : 10\", \"as\": \"Hundred_Million_Production\"}, {\"calculate\": \"year(datum.Release_Date)\", \"as\": \"Release_Year\"}, {\"filter\": \"(datum.IMDB_Rating > 0)\"}, {\"filter\": {\"field\": \"MPAA_Rating\", \"oneOf\": [\"G\", \"NC-17\", \"PG\", \"PG-13\", \"R\"]}}, {\"filter\": {\"selection\": \"Genre\"}}], \"width\": 200}]}, {\"hconcat\": [{\"mark\": {\"type\": \"point\", \"filled\": true}, \"encoding\": {\"color\": {\"condition\": {\"field\": \"MPAA_Rating\", \"legend\": null, \"type\": \"nominal\", \"selection\": \"Rating\"}, \"value\": \"lightgray\"}, \"tooltip\": {\"field\": \"Title\", \"type\": \"nominal\"}, \"x\": {\"field\": \"Worldwide_Gross\", \"scale\": {\"clamp\": true, \"domain\": [100000, 1000000000]}, \"type\": \"quantitative\"}, \"y\": {\"field\": \"IMDB_Rating\", \"type\": \"quantitative\"}}, \"height\": 200, \"selection\": {\"Rating\": {\"type\": \"single\", \"fields\": [\"MPAA_Rating\"], \"bind\": {\"input\": \"radio\", \"options\": [\"G\", \"NC-17\", \"PG\", \"PG-13\", \"R\"]}}}, \"title\": \"Radio Button Highlighting\", \"transform\": [{\"calculate\": \"floor(datum.IMDB_Rating)\", \"as\": \"Rounded_IMDB_Rating\"}, {\"calculate\": \"datum.Production_Budget > 100000000.0 ? 100 : 10\", \"as\": \"Hundred_Million_Production\"}, {\"calculate\": \"year(datum.Release_Date)\", \"as\": \"Release_Year\"}, {\"filter\": \"(datum.IMDB_Rating > 0)\"}, {\"filter\": {\"field\": \"MPAA_Rating\", \"oneOf\": [\"G\", \"NC-17\", \"PG\", \"PG-13\", \"R\"]}}], \"width\": 200}, {\"mark\": {\"type\": \"point\", \"filled\": true}, \"encoding\": {\"size\": {\"condition\": {\"value\": 25, \"selection\": \"Big Budget Films\"}, \"field\": \"Hundred_Million_Production\", \"type\": \"quantitative\"}, \"tooltip\": {\"field\": \"Title\", \"type\": \"nominal\"}, \"x\": {\"field\": \"Worldwide_Gross\", \"scale\": {\"clamp\": true, \"domain\": [100000, 1000000000]}, \"type\": \"quantitative\"}, \"y\": {\"field\": \"IMDB_Rating\", \"type\": \"quantitative\"}}, \"height\": 200, \"selection\": {\"Big Budget Films\": {\"type\": \"single\", \"bind\": {\"input\": \"checkbox\"}}}, \"title\": \"Checkbox Formatting\", \"transform\": [{\"calculate\": \"floor(datum.IMDB_Rating)\", \"as\": \"Rounded_IMDB_Rating\"}, {\"calculate\": \"datum.Production_Budget > 100000000.0 ? 100 : 10\", \"as\": \"Hundred_Million_Production\"}, {\"calculate\": \"year(datum.Release_Date)\", \"as\": \"Release_Year\"}, {\"filter\": \"(datum.IMDB_Rating > 0)\"}, {\"filter\": {\"field\": \"MPAA_Rating\", \"oneOf\": [\"G\", \"NC-17\", \"PG\", \"PG-13\", \"R\"]}}], \"width\": 200}]}], \"data\": {\"url\": \"https://cdn.jsdelivr.net/npm/vega-datasets@v1.29.0/data/movies.json\", \"format\": {\"parse\": {\"Release_Date\": \"date\"}}}, \"$schema\": \"https://vega.github.io/schema/vega-lite/v4.17.0.json\"}, {\"mode\": \"vega-lite\"});\n",
       "</script>"
      ],
      "text/plain": [
       "alt.VConcatChart(...)"
      ]
     },
     "execution_count": 10,
     "metadata": {},
     "output_type": "execute_result"
    }
   ],
   "source": [
    "import altair as alt\n",
    "from vega_datasets import data\n",
    "\n",
    "movies = alt.UrlData(\n",
    "    data.movies.url,\n",
    "    format=alt.DataFormat(parse={\"Release_Date\":\"date\"})\n",
    ")\n",
    "ratings = ['G', 'NC-17', 'PG', 'PG-13', 'R']\n",
    "genres = ['Action', 'Adventure', 'Black Comedy', 'Comedy',\n",
    "       'Concert/Performance', 'Documentary', 'Drama', 'Horror', 'Musical',\n",
    "       'Romantic Comedy', 'Thriller/Suspense', 'Western']\n",
    "\n",
    "base = alt.Chart(movies, width=200, height=200).mark_point(filled=True).transform_calculate(\n",
    "    Rounded_IMDB_Rating = \"floor(datum.IMDB_Rating)\",\n",
    "    Hundred_Million_Production =  \"datum.Production_Budget > 100000000.0 ? 100 : 10\",\n",
    "    Release_Year = \"year(datum.Release_Date)\"\n",
    ").transform_filter(\n",
    "    alt.datum.IMDB_Rating > 0\n",
    ").transform_filter(\n",
    "    alt.FieldOneOfPredicate(field='MPAA_Rating', oneOf=ratings)\n",
    ").encode(\n",
    "    x=alt.X('Worldwide_Gross:Q', scale=alt.Scale(domain=(100000,10**9), clamp=True)),\n",
    "    y='IMDB_Rating:Q',\n",
    "    tooltip=\"Title:N\"\n",
    ")\n",
    "\n",
    "# A slider filter\n",
    "year_slider = alt.binding_range(min=1969, max=2018, step=1)\n",
    "slider_selection = alt.selection_single(bind=year_slider, fields=['Release_Year'], name=\"Release Year_\")\n",
    "\n",
    "\n",
    "filter_year = base.add_selection(\n",
    "    slider_selection\n",
    ").transform_filter(\n",
    "    slider_selection\n",
    ").properties(title=\"Slider Filtering\")\n",
    "\n",
    "# A dropdown filter\n",
    "genre_dropdown = alt.binding_select(options=genres)\n",
    "genre_select = alt.selection_single(fields=['Major_Genre'], bind=genre_dropdown, name=\"Genre\")\n",
    "\n",
    "filter_genres = base.add_selection(\n",
    "    genre_select\n",
    ").transform_filter(\n",
    "    genre_select\n",
    ").properties(title=\"Dropdown Filtering\")\n",
    "\n",
    "#color changing marks\n",
    "rating_radio = alt.binding_radio(options=ratings)\n",
    "\n",
    "rating_select = alt.selection_single(fields=['MPAA_Rating'], bind=rating_radio, name=\"Rating\")\n",
    "rating_color_condition = alt.condition(rating_select,\n",
    "                      alt.Color('MPAA_Rating:N', legend=None),\n",
    "                      alt.value('lightgray'))\n",
    "\n",
    "highlight_ratings = base.add_selection(\n",
    "    rating_select\n",
    ").encode(\n",
    "    color=rating_color_condition\n",
    ").properties(title=\"Radio Button Highlighting\")\n",
    "\n",
    "# Boolean selection for format changes\n",
    "input_checkbox = alt.binding_checkbox()\n",
    "checkbox_selection = alt.selection_single(bind=input_checkbox, name=\"Big Budget Films\")\n",
    "\n",
    "size_checkbox_condition = alt.condition(checkbox_selection,\n",
    "                                        alt.SizeValue(25),\n",
    "                                        alt.Size('Hundred_Million_Production:Q')\n",
    "                                       )\n",
    "\n",
    "budget_sizing = base.add_selection(\n",
    "    checkbox_selection\n",
    ").encode(\n",
    "    size=size_checkbox_condition\n",
    ").properties(title=\"Checkbox Formatting\")\n",
    "\n",
    "( filter_year | filter_genres) &  (highlight_ratings | budget_sizing  )"
   ]
  },
  {
   "cell_type": "markdown",
   "metadata": {},
   "source": [
    "## Communicating when code is a large element of what is being presented\n",
    "\n",
    "- Microsoft Word/ppt- type methods aren't set-up well to include code\n",
    "- Programming files (e.g. `.py`) aren't set-up well to share\n",
    "- Videoing code with outputs is an option, but don't translate to other formats (i.e. we may also need to do a written format of this)\n",
    "- Apps (e.g. streamlit) can be good. \n",
    "    - But the code is hidden\n",
    "- Programming notebooks (e.g.`.ipynb`) offer a good and easy to share code but with some limitations\n",
    " \n",
    "An easier way is to convert the notebooks to html\n",
    "\n",
    "- e.g. maybe someone doesn't have python installed \n",
    "\n"
   ]
  },
  {
   "cell_type": "markdown",
   "metadata": {},
   "source": [
    "## Notebook Benefits\n",
    "\n",
    "- Notebooks are **intuitive**\n",
    "    - You have the code then the result of the code\n",
    "    - Plus can add details of how code works\n",
    "    - And it's linear\n",
    "- Can get things up and working **quickly**\n",
    "- Aid with communicating code\n",
    "- Encourages **Writing** \n",
    "    - and writing things down aids thinking in the now and understanding what you did and why in the future  \n",
    "- Can use shell commands e.g. `!pip install pandas`\n",
    "- Can use [magic commands](https://ipython.readthedocs.io/en/stable/interactive/magics.html) e.g. `%%time` to time a cell\n",
    "\n",
    "With the ONS moving towards Python/R from Excel and a varied level of skills. The first of these is particularly important to aid communicating code\n"
   ]
  },
  {
   "cell_type": "markdown",
   "metadata": {},
   "source": [
    "# Converting Notebooks"
   ]
  },
  {
   "cell_type": "markdown",
   "metadata": {},
   "source": [
    "## What I have used to convert notebooks\n",
    "\n",
    "-  [fastpages](https://fastpages.fast.ai/)\n",
    "    - Previously I converted notebooks to html via fastpages but this is now deprecated and they are recommending the use of quarto. \n",
    "-  [quarto](https://quarto.org/)\n",
    "    - So far I have found **quarto** really good and flexible (*N.B. R works too*) \n",
    "    -  Easy to convert a notebook to multiple formats, including html, powerpoint, pdf, word doc\n",
    "    -  **BUT** Quarto is not possible within ONS (as far as I can tell currently)\n",
    "-  [nbconvert](https://nbconvert.readthedocs.io/en/latest/) is another option I tried\n",
    "    -  but it doesn't seem to have the functionality of fastpages or quarto. \n",
    "-  [Jupyter Books](https://jupyterbook.org/en/stable/intro.html) seems to be the best option within ONS\n",
    "    -  Maybe not as good as quarto but it works!\n"
   ]
  },
  {
   "cell_type": "markdown",
   "metadata": {},
   "source": [
    "## Others\n",
    "\n",
    "- I know some people use [Sphinx](https://www.sphinx-doc.org/en/master/), \n",
    "    - is recommended by QA \n",
    "    - From what [I can tell sphinx](https://www.sphinx-doc.org/en/master/tutorial/index.html) on it's own is not as easy to use as notebooks\n",
    "    - But there is a jupyter extension [nbsphinx](https://nbsphinx.readthedocs.io/en/0.8.10/) \n",
    "    - Jupyter Books uses Sphinx heavily [under the hood](https://jupyterbook.org/en/stable/explain/sphinx.html)\n",
    "- [nbdev](https://nbdev.fast.ai/getting_started.html) \n",
    "    - I think is connected to quarto\n",
    "- [Voila](https://github.com/voila-dashboards/voila)\n",
    "    - Voilà turns Jupyter notebooks into standalone web applications.\n",
    "    - Looks good, bit like streamlit \n",
    "    - but seems to interfere with other libraries and not checked whether works in ONS\n",
    "    - [mercury](https://github.com/mljar/mercury) seems similar\n",
    "\n",
    "\n",
    "- Anything else people use and recommend?"
   ]
  },
  {
   "cell_type": "markdown",
   "metadata": {},
   "source": [
    "## Quarto Outputs\n",
    "\n",
    "We can then create different files from this .ipynb Jupyter notebook using the following code:\n",
    "\n",
    "- `quarto render testPres.ipynb --to pptx`\n",
    "- `quarto render testPres.ipynb --to pdf`\n",
    "- `quarto render testPres.ipynb --to html`\n",
    "- `quarto render testPres.ipynb --to revealjs`\n",
    "\n",
    "or for Jupyter Books\n",
    "- `jupyter-book build .\\PesticideDocs\\`\n"
   ]
  },
  {
   "cell_type": "markdown",
   "metadata": {},
   "source": [
    "## Creating a webpage from this\n",
    "\n",
    "Takes about 30 mins including installing chosen converter. *(But can be done much quicker)*\n",
    "\n",
    "- create a Github repo for your website\n",
    "- choose the converter (e.g. Jupyter Books)\n",
    "    - And follow their instructions\n",
    "- go to settings -> Pages within the repo\n",
    "    - few options to do\n",
    "- Optional: add your own website url to it\n",
    "    \n",
    "Link how to do this [here](https://kirenz.github.io/codelabs/codelabs/jupyter-book/#7)"
   ]
  },
  {
   "cell_type": "markdown",
   "metadata": {},
   "source": [
    "# Examples"
   ]
  },
  {
   "attachments": {},
   "cell_type": "markdown",
   "metadata": {},
   "source": [
    "## Example: Documenting Code\n",
    "\n",
    "- [Here](https://thomashsimm.github.io/PesticideDocs/UK_areas.html) is my website for my research project on pesticides in UK food.\n",
    "\n",
    "- This is not the same as documentation for a package but there are parallels \n",
    "\n",
    "This does a few things:\n",
    "\n",
    "- Documents the analysis steps I have taken including the code and outputs\n",
    "    - Useful for data transparency, useability of the code if needs modifiying/adapting, and why I did XYZ\n",
    "- Provides a way to present the data\n",
    "    - There is a streamlit app, but sometimes I like to be able to see the code\n",
    "\n",
    "![](ghtop_images/pest.png)"
   ]
  },
  {
   "cell_type": "markdown",
   "metadata": {},
   "source": [
    "## Example: Discussing Code\n",
    "\n",
    "- GP Tables example"
   ]
  },
  {
   "attachments": {},
   "cell_type": "markdown",
   "metadata": {},
   "source": [
    "## Example: Tool to aid learning\n",
    "\n",
    "A big area I have been using Jupyter Notebooks for is to aid learning\n",
    "\n",
    "- If you want to understand something it helps to write it down\n",
    "- Having the code next to it is a big advantage\n",
    "- And if stored on github you can access it anywhere\n",
    "\n",
    "[Tensoflow cheat sheet](https://thomashsimm.com/tensorflow/2022/09/28/Tensorflow.html)\n",
    "![](ghtop_images/tflow.png)"
   ]
  },
  {
   "cell_type": "markdown",
   "metadata": {},
   "source": [
    "## Example: Debugging Code\n",
    "\n",
    "- Since starting at ONS I have been working with understanding an existing project and latterly adding code to it\n",
    "- The project consists of multiple python files across several folders\n",
    "    - My Python was good but lots of the functions and their useage weren't immediately obvious to me \n",
    "- **break-points** in VS Studio is really good to step through the code and work out what happens in the code.\n",
    "    - I had not used before with Python (but had lots with MATLAB), and it's really useful\n",
    "- But it can be limited what you can do\n",
    "    - difficult to probe code if want to write more than 1 line of code\n",
    "    - the experience/knowledge exists as you go through it but no documentation to refer to later, e.g. function X does this when I give it Y etc\n",
    "- By copying and pasting code into Jupyter cells I could see and document how they worked (e.g. changing inputs)\n",
    "    - This (copying and pasting) would get around code changes too (which would be an issue if modules were just imported)\n",
    "    - because this was all done in Jupyter notebook I can have a ipynb code file and a html file showing how the code works\n",
    "    - I could even save a pickle file of the variables at a particularly point to understand how the code would work from this point\n",
    " "
   ]
  },
  {
   "attachments": {},
   "cell_type": "markdown",
   "metadata": {},
   "source": [
    "## Presenting in multiple formats\n",
    "\n",
    "- Jupyter notebooks can be used on their own or as html\n",
    "- But can also be used to create presentations, pdf/word documentation or even books\n",
    "- This presentation was done with Quarto using the `revealjs` format\n",
    "    - So it is a presentation format but with a html file\n",
    "- Some of these file types can be difficult within ONS framework to do\n",
    "    - I hit a wall when trying to go beyond html and docs with Jupyter books due to dependencies\n",
    "\n",
    "## Presenting in multiple formats: video\n",
    "\n",
    "![](ghtop_images/vid.mp4)\n"
   ]
  },
  {
   "cell_type": "code",
   "execution_count": null,
   "metadata": {},
   "outputs": [],
   "source": []
  },
  {
   "cell_type": "code",
   "execution_count": null,
   "metadata": {},
   "outputs": [],
   "source": []
  },
  {
   "cell_type": "markdown",
   "metadata": {},
   "source": [
    "## Questions/ Comments\n",
    "\n",
    "- Thoughts on:\n",
    "    - using notebooks\n",
    "    - documenting code\n",
    "    - encouraging communication of code across ONS areas and experiences\n",
    "- Can we share html files? Or do we have to work within the current framework?\n",
    "- Anything else?"
   ]
  }
 ],
 "metadata": {
  "celltoolbar": "Tags",
  "kernelspec": {
   "display_name": "ons-env",
   "language": "python",
   "name": "ons-env"
  },
  "language_info": {
   "codemirror_mode": {
    "name": "ipython",
    "version": 3
   },
   "file_extension": ".py",
   "mimetype": "text/x-python",
   "name": "python",
   "nbconvert_exporter": "python",
   "pygments_lexer": "ipython3",
   "version": "3.8.8"
  },
  "vscode": {
   "interpreter": {
    "hash": "5ca7ab3073cce3b29d80f881db5d07487222bdafec031d83c06f5ba7dfb5c682"
   }
  }
 },
 "nbformat": 4,
 "nbformat_minor": 2
}
