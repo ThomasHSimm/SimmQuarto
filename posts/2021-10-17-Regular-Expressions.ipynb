{
 "cells": [
  {
   "cell_type": "markdown",
   "id": "ab810389",
   "metadata": {},
   "source": [
    "# Regular expressions RE\n",
    "\n",
    "> Regular expression in Python\n",
    "\n",
    "- toc: true \n",
    "- badges: true\n",
    "- categories: [regex, RE, regular expression, Python]\n"
   ]
  },
  {
   "cell_type": "markdown",
   "metadata": {},
   "source": [
    "![](ghtop_images/header2.png)"
   ]
  },
  {
   "cell_type": "code",
   "execution_count": 1,
   "id": "ce89a3e4",
   "metadata": {},
   "outputs": [],
   "source": [
    "import re"
   ]
  },
  {
   "cell_type": "markdown",
   "metadata": {},
   "source": [
    "## Regular Expressions Cheat-Sheets\n",
    "\n",
    "Check out the following links for more information:\n",
    "\n",
    "https://docs.python.org/3/howto/regex.html\n",
    "\n",
    "https://docs.python.org/3/library/re.html\n",
    "\n",
    "https://docs.python.org/3/howto/regex.html#greedy-versus-non-greedy\n",
    "\n",
    "Shout out to regex101.com, which will explain each stage of a regex. \n",
    "\n",
    "\n",
    "## Summary\n",
    "\n",
    "`^` Beginning character\n",
    "\n",
    "`$` End character\n",
    "\n",
    "Putting \\ before finds the special char\n",
    "\n",
    "`\\w` matches letters number and underscores\n",
    "\n",
    "`\\d` matches digits\n",
    "\n",
    "`\\s` for whitespace characters, space tab or newline\n",
    "\n",
    "`\\b` for word boundaries\n",
    "\n",
    "`[a-z]` is all lowercase letters \n",
    "\n",
    "`[A-Z]` is upercase letters \n",
    "\n",
    "`[0-9]` is numbers\n",
    "\n",
    "`.` is a joker button\n",
    "\n",
    "`*` means can have any length\n",
    "\n",
    "`?` zero or one occurence of the character before it\n",
    "\n",
    "`^` NOT to all in the character class\n",
    "\n",
    "`|` Or statement\n",
    "\n",
    "`[]` within square brackets are or statements\n",
    "\n",
    "`{n,m}` numeric repetition qualifiers with brackets between n and m. Remove n or m can do less or more "
   ]
  },
  {
   "cell_type": "markdown",
   "metadata": {},
   "source": [
    "## Different commands\n",
    "\n",
    "`re.search` finds first instance\n",
    "\n",
    "`re.findall` finds all instances\n",
    "\n",
    "`re.split` split based on the expression\n",
    "\n",
    "`re.sub`  substitute a part of the string"
   ]
  },
  {
   "cell_type": "code",
   "execution_count": 220,
   "metadata": {},
   "outputs": [
    {
     "name": "stdout",
     "output_type": "stream",
     "text": [
      "Using>> re.search(r\"ba\",\"babar\") gives:\n",
      " <re.Match object; span=(0, 2), match='ba'>\n",
      "Using>> re.findall(r\"ba\",\"babar\") gives:\n",
      " ['ba', 'ba']\n"
     ]
    }
   ],
   "source": [
    "print('Using>> re.search(r\"ba\",\"babar\") gives:\\n',\\\n",
    "      re.search(r\"ba\",\"babar\"))\n",
    "print('Using>> re.findall(r\"ba\",\"babar\") gives:\\n',\\\n",
    "      re.findall(r\"ba\",\"babar\"))"
   ]
  },
  {
   "cell_type": "code",
   "execution_count": 223,
   "metadata": {},
   "outputs": [
    {
     "name": "stdout",
     "output_type": "stream",
     "text": [
      "['the dog', ' is here', ' whhere', ' oh I see', '']\n"
     ]
    }
   ],
   "source": [
    "print(re.split(r\"[.?!]\",\"the dog! is here. whhere? oh I see.\"))"
   ]
  },
  {
   "cell_type": "code",
   "execution_count": 224,
   "metadata": {},
   "outputs": [
    {
     "name": "stdout",
     "output_type": "stream",
     "text": [
      "the cat! is here. whhere? oh I see.\n"
     ]
    }
   ],
   "source": [
    "print(re.sub(r\"dog\",\"cat\",\"the dog! is here. whhere? oh I see.\"))"
   ]
  },
  {
   "cell_type": "markdown",
   "id": "23677931",
   "metadata": {},
   "source": [
    "## Search within a string\n",
    "\n"
   ]
  },
  {
   "cell_type": "code",
   "execution_count": 150,
   "id": "c1882121",
   "metadata": {},
   "outputs": [
    {
     "name": "stdout",
     "output_type": "stream",
     "text": [
      "        Find a string within a string\n",
      "<re.Match object; span=(1, 4), match='aza'>\n",
      "<re.Match object; span=(2, 5), match='aza'>\n",
      "\n",
      "        At start of the string\n",
      "<re.Match object; span=(0, 1), match='z'>\n",
      "None\n",
      "\n",
      "        The joker .\n",
      "<re.Match object; span=(0, 3), match='xen'>\n",
      "<re.Match object; span=(0, 4), match='xeno'>\n"
     ]
    }
   ],
   "source": [
    "print('        Find a string within a string')\n",
    "\n",
    "result = re.search(r\"aza\",\"bazaar\")\n",
    "print(result)\n",
    "result = re.search(r\"aza\",\"plaza\")\n",
    "print(result)\n",
    "\n",
    "print('\\n        At start of the string')\n",
    "result=re.search(r\"^z\",\"zebra\")\n",
    "print(result)\n",
    "result = re.search(r\"^z\",\"plaza\")\n",
    "print(result)\n",
    "\n",
    "print('\\n        The joker .')\n",
    "result = re.search(r\"x.n\",\"xenon\")\n",
    "print(result)\n",
    "result = re.search(r\"x..o\",\"xenon\")\n",
    "print(result)"
   ]
  },
  {
   "cell_type": "markdown",
   "id": "80b8492d",
   "metadata": {},
   "source": [
    "### Character classes \n",
    "\n",
    "These are inside square brackets and are OR statements\n",
    "\n",
    "[a-z] is all lowercase letters\n",
    "[A-Z] is upercase letters\n",
    "[0-9] is numbers"
   ]
  },
  {
   "cell_type": "code",
   "execution_count": 151,
   "id": "44511153",
   "metadata": {},
   "outputs": [
    {
     "name": "stdout",
     "output_type": "stream",
     "text": [
      "<re.Match object; span=(0, 6), match='cython'>\n",
      "<re.Match object; span=(0, 6), match='dython'>\n",
      "None\n",
      "<re.Match object; span=(1, 5), match='yway'>\n",
      "<re.Match object; span=(0, 6), match='cloud9'>\n",
      "<re.Match object; span=(0, 1), match='d'>\n"
     ]
    }
   ],
   "source": [
    "print(re.search(r\"[Ppc]ython\",\"cython\"))\n",
    "print(re.search(r\"[a-z]ython\",\"dython\"))\n",
    "print(re.search(r\"[a-z]way\",\"My way\"))\n",
    "print(re.search(r\"[a-z]way\",\"Myway\"))\n",
    "\n",
    "#find cloud with letter or number after it\n",
    "print(re.search(r\"cloud[a-zA-Z0-9]\",\"cloud9\"))\n",
    "print(re.search(r\"[a-zA-Z0-9]\",\"dy9thon\"))"
   ]
  },
  {
   "cell_type": "markdown",
   "id": "5b3d0b08",
   "metadata": {},
   "source": [
    "### apply a NOT to all in the character class\n",
    "\n",
    "This uses the pipe class ^"
   ]
  },
  {
   "cell_type": "code",
   "execution_count": 152,
   "id": "822d7d64",
   "metadata": {},
   "outputs": [
    {
     "name": "stdout",
     "output_type": "stream",
     "text": [
      "<re.Match object; span=(3, 4), match=' '>\n",
      "<re.Match object; span=(3, 4), match='_'>\n",
      "<re.Match object; span=(8, 9), match='-'>\n"
     ]
    }
   ],
   "source": [
    "#this finds a space\n",
    "print(re.search(r\"[^a-zA-Z0-9]\",\"dy9 thon\"))\n",
    "#this finds an underscore\n",
    "print(re.search(r\"[^a-zA-Z0-9]\",\"dy9_thon\"))\n",
    "\n",
    "#this includes a not for spaces\n",
    "print(re.search(r\"[^a-zA-Z0-9 ]\",\"dy9 thon-\"))\n"
   ]
  },
  {
   "cell_type": "markdown",
   "id": "20debb88",
   "metadata": {},
   "source": [
    "### find a string OR another one"
   ]
  },
  {
   "cell_type": "code",
   "execution_count": 153,
   "id": "712c6f75",
   "metadata": {},
   "outputs": [
    {
     "name": "stdout",
     "output_type": "stream",
     "text": [
      "<re.Match object; span=(7, 10), match='cat'>\n"
     ]
    }
   ],
   "source": [
    "\n",
    "print(re.search(r\"cat|dog\",\"I ilke cats\"))\n"
   ]
  },
  {
   "cell_type": "markdown",
   "id": "f77a8120",
   "metadata": {},
   "source": [
    "### Greedy `*`\n",
    "Extension of `.`\n",
    "\n",
    "`.*` means can have any length\n"
   ]
  },
  {
   "cell_type": "code",
   "execution_count": 154,
   "id": "3a176f0e",
   "metadata": {},
   "outputs": [
    {
     "name": "stdout",
     "output_type": "stream",
     "text": [
      "<re.Match object; span=(0, 17), match='python programmin'>\n",
      "<re.Match object; span=(0, 6), match='python'>\n"
     ]
    }
   ],
   "source": [
    "#this finds something starting with p and ending with n\n",
    "print(re.search(r\"p.*n\",\"python programming\"))\n",
    "\n",
    "#this finds something starting with py ending n but only a-z chars\n",
    "print(re.search(r\"py[a-z]*n\",\"python programming\"))\n"
   ]
  },
  {
   "cell_type": "markdown",
   "id": "3cdaa67e",
   "metadata": {},
   "source": [
    "### match one or more occurence `+`\n",
    "\n",
    "So `o+l` looks for `ol` "
   ]
  },
  {
   "cell_type": "code",
   "execution_count": 156,
   "id": "6834c64e",
   "metadata": {},
   "outputs": [
    {
     "name": "stdout",
     "output_type": "stream",
     "text": [
      "<re.Match object; span=(0, 2), match='ol'>\n",
      "None\n",
      "<re.Match object; span=(0, 3), match='ool'>\n",
      "<re.Match object; span=(1, 3), match='ol'>\n"
     ]
    }
   ],
   "source": [
    "#this works\n",
    "print(re.search(r\"o+l\",\"olly\"))\n",
    "\n",
    "#this fails because there is an i inbetween\n",
    "print(re.search(r\"o+l\",\"oilly\"))\n",
    "\n",
    "#this finds from 1st o to l\n",
    "print(re.search(r\"o+l\",\"oolly\"))\n",
    "\n",
    "# here we can just remove the +\n",
    "print(re.search(r\"ol\",\"oolly\"))"
   ]
  },
  {
   "cell_type": "markdown",
   "id": "ca4b1a7e",
   "metadata": {},
   "source": [
    "### zero or one occurence of the character before it `?`"
   ]
  },
  {
   "cell_type": "code",
   "execution_count": 157,
   "id": "28d38308",
   "metadata": {},
   "outputs": [
    {
     "name": "stdout",
     "output_type": "stream",
     "text": [
      "<re.Match object; span=(3, 7), match='each'>\n",
      "<re.Match object; span=(3, 8), match='peach'>\n",
      "<re.Match object; span=(4, 8), match='each'>\n"
     ]
    }
   ],
   "source": [
    "#\n",
    "print(re.search(r\"p?each\",\"To each their own\"))\n",
    "\n",
    "#\n",
    "print(re.search(r\"p?each\",\"To peach their own\"))\n",
    "\n",
    "#\n",
    "print(re.search(r\"p?each\",\"Top each their own\"))"
   ]
  },
  {
   "cell_type": "markdown",
   "id": "6ee99d34",
   "metadata": {},
   "source": [
    "### special characters `\\`\n",
    "\n",
    "Putting `\\` before finds the special char"
   ]
  },
  {
   "cell_type": "code",
   "execution_count": 159,
   "id": "f3ce2aba",
   "metadata": {},
   "outputs": [
    {
     "name": "stdout",
     "output_type": "stream",
     "text": [
      "<re.Match object; span=(8, 12), match='.com'>\n",
      "<re.Match object; span=(2, 6), match='lcom'>\n",
      "<re.Match object; span=(8, 12), match='.com'>\n",
      "None\n",
      "<re.Match object; span=(8, 9), match='('>\n"
     ]
    }
   ],
   "source": [
    "# . here is anything so works here\n",
    "print(re.search(r\".com\",\"internet.com\"))\n",
    "# but not here\n",
    "print(re.search(r\".com\",\"welcome\"))\n",
    "# Add backslash we get it here \n",
    "print(re.search(r\"\\.com\",\"internet.com\"))\n",
    "# and a negative here\n",
    "print(re.search(r\"\\.com\",\"welcome\"))\n",
    "# find a (\n",
    "print(re.search(r\"\\(\",\"welcome (no dont)\"))"
   ]
  },
  {
   "cell_type": "markdown",
   "id": "80d432ac",
   "metadata": {},
   "source": [
    "### More special chars\n",
    "\n",
    "`\\w` matches letters number and underscores\n",
    "\n",
    "`\\d` matches digits\n",
    "\n",
    "`\\s` for whitespace characters, space tab or newline\n",
    "\n",
    "`^` Beginning character\n",
    "\n",
    "`$` End character"
   ]
  },
  {
   "cell_type": "code",
   "execution_count": 178,
   "id": "11918c77",
   "metadata": {},
   "outputs": [
    {
     "name": "stdout",
     "output_type": "stream",
     "text": [
      "       so get here internet (stops at dot)\n",
      "<re.Match object; span=(0, 8), match='internet'>\n",
      "\n",
      "     and here the whole string\n",
      "<re.Match object; span=(0, 14), match='internet99_com'>\n",
      "\n",
      "     find country start and end in 'a'\n",
      "this works>>\n",
      " <re.Match object; span=(0, 9), match='Australia'>\n",
      "this doesn't end in a>>\n",
      " <re.Match object; span=(0, 9), match='Azerbaija'>\n",
      "\n",
      "     add the begin and end chars- works correct for both\n",
      "<re.Match object; span=(0, 9), match='Australia'>\n",
      "None\n"
     ]
    }
   ],
   "source": [
    "print('       so get here internet (stops at dot)')\n",
    "print(re.search(r\"\\w*\",\"internet.com\"))\n",
    "\n",
    "print(\"\\n     and here the whole string\")\n",
    "print(re.search(r\"\\w*\",\"internet99_com\"))\n",
    "\n",
    "\n",
    "print(\"\\n     find country start and end in 'a'\")\n",
    "\n",
    "print(\"this works>>\\n\",re.search(r\"A.*a\",\"Australia\"))\n",
    "print(\"this doesn't end in a>>\\n\",re.search(r\"A.*a\",\"Azerbaijan\"))\n",
    "\n",
    "print(\"\\n     add the begin and end chars- works correct for both\")\n",
    "print(re.search(r\"^A.*a$\",\"Australia\"))\n",
    "print(re.search(r\"^A.*a$\",\"Azerbaijan\"))"
   ]
  },
  {
   "cell_type": "markdown",
   "id": "f8ee277b",
   "metadata": {},
   "source": [
    "### Word boundaries `\\b` \n",
    "\n",
    "For word boundaries the `\\b` needs to be placed on both sides of the word to find"
   ]
  },
  {
   "cell_type": "code",
   "execution_count": 187,
   "id": "c650d075",
   "metadata": {},
   "outputs": [
    {
     "name": "stdout",
     "output_type": "stream",
     "text": [
      "           Find the word hello\n",
      "<re.Match object; span=(0, 5), match='hello'>\n",
      "\n",
      "           Find the substring hell\n",
      "works without \b>>\n",
      " <re.Match object; span=(0, 4), match='hell'>\n",
      "but not a full word so doesn't work with \b>>\n",
      " None\n"
     ]
    }
   ],
   "source": [
    "print(\"           Find the word hello\")\n",
    "print(re.search(r\"\\bhello\\b\",\"hello darkness my old friend\"))\n",
    "print(\"\\n           Find the substring hell\")\n",
    "print(\"works without \\b>>\\n\",re.search(r\"hell\",\"hello darkness my old friend\"))\n",
    "print(\"but not a full word so doesn't work with \\b>>\\n\",re.search(r\"\\bhell\\b\",\"hello darkness my old friend\"))\n"
   ]
  },
  {
   "cell_type": "markdown",
   "id": "bd891cf9",
   "metadata": {},
   "source": [
    "### Combine a few\n",
    "\n",
    "This is for valid variable names"
   ]
  },
  {
   "cell_type": "code",
   "execution_count": 189,
   "id": "85bf0d06",
   "metadata": {},
   "outputs": [
    {
     "name": "stdout",
     "output_type": "stream",
     "text": [
      "<re.Match object; span=(0, 10), match='LLnananj_9'>\n",
      "<re.Match object; span=(0, 10), match='LLnananj_9'>\n",
      "None\n"
     ]
    }
   ],
   "source": [
    "# ^[a-zA-Z_] startswith letters or underscore\n",
    "# [a-zA-Z0-9_] then letters, numbers or undercore\n",
    "# *$ end with above\n",
    "pattern=r\"^[a-zA-Z_][a-zA-Z0-9_]*$\"\n",
    "\n",
    "print(re.search(pattern,\"LLnananj_9\"))\n",
    "\n",
    "print(re.search(pattern,\"LLnananj_9\"))\n",
    "print(re.search(pattern,\"9LLnananj_9\"))\n"
   ]
  },
  {
   "cell_type": "markdown",
   "metadata": {},
   "source": [
    "### numeric repetition qualifiers `{m,n}`\n",
    "\n",
    "`[a-z]{n}` for a repetition of lower case chars n time \n",
    "\n",
    "`[a-z]{n,m}`  repetition between n and m\n",
    "\n",
    "`[a-z]{n,}`   repetition of n or more\n",
    "\n",
    "`[a-z]{,n}`   repetitions of n or less"
   ]
  },
  {
   "cell_type": "code",
   "execution_count": 212,
   "metadata": {},
   "outputs": [
    {
     "name": "stdout",
     "output_type": "stream",
     "text": [
      "<re.Match object; span=(2, 7), match='ghost'>\n",
      "<re.Match object; span=(2, 7), match='scary'>\n"
     ]
    }
   ],
   "source": [
    "print(re.search(r\"[a-zA-Z]{5}\",\"a ghost\"))\n",
    "\n",
    "# a number but we only get the first\n",
    "print(re.search(r\"[a-zA-Z]{5}\",\"a scary super ghost\"))"
   ]
  },
  {
   "cell_type": "code",
   "execution_count": 213,
   "metadata": {},
   "outputs": [
    {
     "name": "stdout",
     "output_type": "stream",
     "text": [
      "['scary', 'super', 'ghost']\n",
      "['scary', 'super', 'ghost']\n",
      "['scary', 'ghost']\n"
     ]
    }
   ],
   "source": [
    "print(re.findall(r\"[a-zA-Z]{5}\",\"a scary super ghost\"))\n",
    "\n",
    "# but if we give a longer word?\n",
    "print(re.findall(r\"[a-zA-Z]{5}\",\"a scary superior ghost\"))\n",
    "\n",
    "# we get part of the superior word\n",
    "\n",
    "# to get just the words we want of 5 long can use \\b\n",
    "print(re.findall(r\"\\b[a-zA-Z]{5}\\b\",\"a scary superior ghost\"))"
   ]
  },
  {
   "cell_type": "code",
   "execution_count": 215,
   "metadata": {},
   "outputs": [
    {
     "name": "stdout",
     "output_type": "stream",
     "text": [
      "<re.Match object; span=(2, 4), match='ab'>\n",
      "['ab', 'abc', 'abcd']\n",
      "['ab', 'abc', 'abcd', 'abcd', 'abcd', 'ef']\n",
      "['ab', 'abc', 'abcd', 'abcde', 'abcdef']\n",
      "['a', '', 'ab', '', 'abc', '', '', '', '', '', '', '']\n"
     ]
    }
   ],
   "source": [
    "#between 2 and 4 exactly  full word\n",
    "print(re.search(r\"\\b[a-zA-Z]{2,4}\\b\",\"a ab abc abcd abcde abcdef\"))\n",
    "\n",
    "print(re.findall(r\"\\b[a-zA-Z]{2,4}\\b\",\"a ab abc abcd abcde abcdef\"))\n",
    "\n",
    "#NB \\b needed otherwise see below\n",
    "print(re.findall(r\"[a-zA-Z]{2,4}\",\"a ab abc abcd abcde abcdef\"))\n",
    "\n",
    "# 2 and above full word\n",
    "print(re.findall(r\"\\b[a-zA-Z]{2,}\\b\",\"a ab abc abcd abcde abcdef\"))\n",
    "\n",
    "# {,3} up to this many reps\n",
    "print(re.findall(r\"\\b[a-zA-Z]{,3}\\b\",\"a ab abc abcd abcde abcdef\"))"
   ]
  },
  {
   "cell_type": "markdown",
   "id": "ffc6299b",
   "metadata": {},
   "source": [
    "## Capturing groups"
   ]
  },
  {
   "cell_type": "code",
   "execution_count": 208,
   "id": "c28ce248",
   "metadata": {},
   "outputs": [],
   "source": [
    "# start with letters number and underscores  \n",
    "# then comma and space\n",
    "# ends with letters number and underscores\n",
    "\n",
    "def dogroups(regExpr,string):\n",
    "\n",
    "    result = re.search(regExpr,string)\n",
    "    \n",
    "    print(\"String is >> {},\\n regExpr is >> {},\\n result is >> {}\\n\".format(string, regExpr,result))\n",
    "\n",
    "    print(\"groups\",result.groups())\n",
    "    try:\n",
    "        print(\"result[0]\",result[0])\n",
    "    except:\n",
    "        print(\"no result 0\")\n",
    "    try:\n",
    "        print(\"result[1]\",result[1])\n",
    "    except:\n",
    "        print(\"no result 1\")\n",
    "    try:\n",
    "        print(\"result[2]\",result[2])\n",
    "    except:\n",
    "        print(\"no result 2\")\n",
    "             "
   ]
  },
  {
   "cell_type": "markdown",
   "metadata": {},
   "source": [
    "#### Match normally, just get one result"
   ]
  },
  {
   "cell_type": "code",
   "execution_count": 210,
   "metadata": {},
   "outputs": [
    {
     "name": "stdout",
     "output_type": "stream",
     "text": [
      "String is >> Lovelace, Ada,\n",
      " regExpr is >> ^\\w*, \\w*$,\n",
      " result is >> <re.Match object; span=(0, 13), match='Lovelace, Ada'>\n",
      "\n",
      "groups ()\n",
      "result[0] Lovelace, Ada\n",
      "no result 1\n",
      "no result 2\n"
     ]
    }
   ],
   "source": [
    "dogroups(r\"^\\w*, \\w*$\",\"Lovelace, Ada\") "
   ]
  },
  {
   "cell_type": "markdown",
   "metadata": {},
   "source": [
    "#### Use brackets `()` to match multiple results"
   ]
  },
  {
   "cell_type": "code",
   "execution_count": 211,
   "metadata": {},
   "outputs": [
    {
     "name": "stdout",
     "output_type": "stream",
     "text": [
      "String is >> Lovelace, Ada,\n",
      " regExpr is >> (^\\w*), (\\w*$),\n",
      " result is >> <re.Match object; span=(0, 13), match='Lovelace, Ada'>\n",
      "\n",
      "groups ('Lovelace', 'Ada')\n",
      "result[0] Lovelace, Ada\n",
      "result[1] Lovelace\n",
      "result[2] Ada\n"
     ]
    }
   ],
   "source": [
    "dogroups(r\"(^\\w*), (\\w*$)\",\"Lovelace, Ada\") "
   ]
  },
  {
   "cell_type": "markdown",
   "id": "24f7e364",
   "metadata": {},
   "source": []
  },
  {
   "cell_type": "code",
   "execution_count": 221,
   "id": "7c7eb0c3",
   "metadata": {},
   "outputs": [
    {
     "name": "stdout",
     "output_type": "stream",
     "text": [
      "result[0]= [12345], result[1]=12345\n",
      "result.group= [12345], result.groups= ('12345',)\n"
     ]
    }
   ],
   "source": [
    "log = \"July 31 07:51:48 mycomputer bad_process[12345]: ERROR Performing package upgrade\"\n",
    "# has [ followed by digits at least 1 followed by ]\n",
    "regex= r\"\\[(\\d+)\\]\"\n",
    "result= re.search(regex,log)\n",
    "print(\"result[0]= {}, result[1]={}\".format(result[0],result[1]))\n",
    "print(\"result.group= {}, result.groups= {}\".format(result.group(),result.groups()))\n",
    "\n"
   ]
  },
  {
   "cell_type": "code",
   "execution_count": 222,
   "id": "56b4ee51",
   "metadata": {},
   "outputs": [
    {
     "name": "stdout",
     "output_type": "stream",
     "text": [
      "12345\n",
      "None\n"
     ]
    }
   ],
   "source": [
    "def extract_pid(log_line):\n",
    "    regex= r\"\\[(\\d+)\\]\"\n",
    "    result=re.search(regex,log_line)\n",
    "    if result is None:\n",
    "        return \"None\"\n",
    "    return result[1]\n",
    "\n",
    "print(extract_pid(log))\n",
    "print(extract_pid(\"[cat]  sass\"))\n"
   ]
  },
  {
   "cell_type": "markdown",
   "id": "c2f2fcd1",
   "metadata": {},
   "source": []
  },
  {
   "cell_type": "markdown",
   "metadata": {},
   "source": [
    "### `re.sub`\n",
    "\n",
    "the general format is:\n",
    "\n",
    "`re.sub(regular_expression_looking_for, what_to_replace_with,the_input_string)` "
   ]
  },
  {
   "cell_type": "code",
   "execution_count": 226,
   "id": "ff8a6331",
   "metadata": {},
   "outputs": [
    {
     "name": "stdout",
     "output_type": "stream",
     "text": [
      "Received an email for [REDACTED]\n"
     ]
    }
   ],
   "source": [
    "# (char num _) at least one + folowed by @ with char dot or dash at least one +\n",
    "\n",
    "print(re.sub(r\"[\\w.%+-]+@[\\w.-]+\",\"[REDACTED]\",\"Received an email for go_nuts95@my.examle.com\"))\n"
   ]
  },
  {
   "cell_type": "markdown",
   "metadata": {},
   "source": [
    "#### Combining with groups\n",
    "\n",
    "If the regular expression has split the answer into groups (using `()`) then can specify those parts using `\\1` for first term `\\2` for second term etc in the what to replace with part\n",
    "\n",
    "`re.sub(regexp,r\"\\1 and \\2\",string)`\n",
    "\n",
    "the output is just the 1st and 2nd parts with \"and\" in the middle\n",
    "\n"
   ]
  },
  {
   "cell_type": "code",
   "execution_count": 228,
   "id": "cc3bae66",
   "metadata": {},
   "outputs": [
    {
     "name": "stdout",
     "output_type": "stream",
     "text": [
      "Lovelace, Ada Lovelace Ada\n"
     ]
    },
    {
     "data": {
      "text/plain": [
       "'Ada Lovelace'"
      ]
     },
     "execution_count": 228,
     "metadata": {},
     "output_type": "execute_result"
    }
   ],
   "source": [
    "texta = \"Lovelace, Ada\"\n",
    "patt = r\"^([\\w]*), ([\\w]*$)\"\n",
    "res=re.search(patt, texta)\n",
    "print(res[0],res[1],res[2])\n",
    "\n",
    "     #this says sub with: result2 space result 1\n",
    "re.sub(patt, r\"\\2 \\1\",texta)"
   ]
  },
  {
   "cell_type": "markdown",
   "id": "8a90312c",
   "metadata": {},
   "source": [
    "## Some Examples"
   ]
  },
  {
   "cell_type": "code",
   "execution_count": null,
   "id": "325e3459",
   "metadata": {},
   "outputs": [],
   "source": [
    "import re\n",
    "def repeating_letter_a(text):\n",
    "    #here we go A or a - followed by a-z or space- followed by a or A  \n",
    "    result = re.search(r\"(a|A)[a-z ]*(a|A)\", text)\n",
    "\n",
    "    return result != None\n",
    "\n",
    "print(repeating_letter_a(\"banana\")) # True\n",
    "print(repeating_letter_a(\"pineapple\")) # False\n",
    "print(repeating_letter_a(\"Animal Kingdom\")) # True\n",
    "print(repeating_letter_a(\"A is for apple\")) # True"
   ]
  },
  {
   "cell_type": "code",
   "execution_count": null,
   "id": "f2f9aa8f",
   "metadata": {},
   "outputs": [],
   "source": [
    "# Fill in the code to check if the text\n",
    "# passed has at least 2 groups of alphanumeric characters \n",
    "# (including letters, numbers, and underscores)\n",
    "# separated by one or more whitespace characters.\n",
    "import re\n",
    "def check_character_groups(text):\n",
    "  result = re.search(r\"\\w\\s\\w\", text)\n",
    "  return result != None\n",
    "\n",
    "print(check_character_groups(\"One\")) # False\n",
    "print(check_character_groups(\"123  Ready Set GO\")) # True\n",
    "print(check_character_groups(\"username user_01\")) # True\n",
    "print(check_character_groups(\"shopping_list: milk, bread, eggs.\")) # False"
   ]
  },
  {
   "cell_type": "code",
   "execution_count": 108,
   "id": "0a13b18d",
   "metadata": {},
   "outputs": [
    {
     "name": "stdout",
     "output_type": "stream",
     "text": [
      "True\n",
      "False\n",
      "True\n",
      "False\n",
      "True\n"
     ]
    }
   ],
   "source": [
    "import re\n",
    "def check_web_address(text):\n",
    "\n",
    "# starts with letters,numbers,underscores\n",
    "# followed by a dot then ends with letters,numbers,underscores\n",
    "    pattern = r\"\\w\\.\\w*$\"\n",
    "    result = re.search(pattern, text)\n",
    "    return result != None\n",
    "\n",
    "print(check_web_address(\"gmail.com\")) # True\n",
    "print(check_web_address(\"www@google\")) # False\n",
    "print(check_web_address(\"www.Coursera.org\")) # True\n",
    "print(check_web_address(\"web-address.com/homepage\")) # False\n",
    "print(check_web_address(\"My_Favorite-Blog.US\")) # True\n"
   ]
  },
  {
   "cell_type": "code",
   "execution_count": 230,
   "id": "62f24bcc",
   "metadata": {},
   "outputs": [
    {
     "name": "stdout",
     "output_type": "stream",
     "text": [
      "John F. Kennedy\n",
      "John Franklin Kennedy\n"
     ]
    }
   ],
   "source": [
    "import re\n",
    "def rearrange_name(name):\n",
    "    result = re.search(r\"^([\\w \\.-]*), ([\\w \\.-]*)$\", name)\n",
    "    if result == None:\n",
    "        \n",
    "        return name\n",
    "        \n",
    "    return \"{} {}\".format(result[2], result[1])\n",
    "\n",
    "name=rearrange_name(\"Kennedy, John F.\")\n",
    "print(name)\n",
    "\n",
    "name=rearrange_name(\"Kennedy, John Franklin\")\n",
    "print(name)"
   ]
  },
  {
   "cell_type": "code",
   "execution_count": 231,
   "id": "93aac6db",
   "metadata": {},
   "outputs": [
    {
     "name": "stdout",
     "output_type": "stream",
     "text": [
      "['morning']\n",
      "['chocolate', 'afternoon']\n",
      "[]\n"
     ]
    }
   ],
   "source": [
    "#words of at least 7 chars\n",
    "import re\n",
    "def long_words(text):\n",
    "    #this says full words (\\b) with chars [A-Za-z] repeated 7 times or more {7,}\n",
    "    pattern = r\"\\b[A-Za-z]{7,}\\b\"\n",
    "    result = re.findall(pattern, text)\n",
    "    return result\n",
    "\n",
    "print(long_words(\"I like to drink coffee in the morning.\")) # ['morning']\n",
    "print(long_words(\"I also have a taste for hot chocolate in the afternoon.\")) # ['chocolate', 'afternoon']\n",
    "print(long_words(\"I never drink tea late at night.\")) # []\n",
    "\n",
    "\n"
   ]
  },
  {
   "cell_type": "code",
   "execution_count": 238,
   "id": "c8b9602c",
   "metadata": {},
   "outputs": [
    {
     "name": "stdout",
     "output_type": "stream",
     "text": [
      "<re.Match object; span=(39, 46), match='[12345]'>\n",
      "12345\n",
      "None\n",
      "<re.Match object; span=(31, 38), match='[34567]'>\n",
      "34567\n",
      "<re.Match object; span=(39, 46), match='[67890]'>\n",
      "67890\n"
     ]
    }
   ],
   "source": [
    "# Add to the regular expression used in the extract_pid function, \n",
    "# to return the uppercase message in parenthesis, after the process id.\n",
    "\n",
    "import re\n",
    "def extract_pid(log_line):\n",
    "    regex = r\"\\[([0-9]*)\\]\"  #\n",
    "    result = re.search(regex, log_line)\n",
    "    if result is None:\n",
    "        return None\n",
    "    print(result)\n",
    "    return result[1]#\"{} ({})\".format(result[1],result[2])\n",
    "\n",
    "print(extract_pid(\"July 31 07:51:48 mycomputer bad_process[12345]: ERROR Performing package upgrade\")) # 12345 (ERROR)\n",
    "print(extract_pid(\"99 elephants in a [cage]\")) # None\n",
    "print(extract_pid(\"A string that also has numbers [34567] but no uppercase message\")) # None\n",
    "print(extract_pid(\"July 31 08:08:08 mycomputer new_process[67890]: RUNNING Performing backup\")) # 67890 (RUNNING)\n"
   ]
  },
  {
   "cell_type": "code",
   "execution_count": 239,
   "id": "077cdd93",
   "metadata": {},
   "outputs": [
    {
     "data": {
      "text/plain": [
       "['One sentence. Ano', 'r one? And ', ' l', 'st one!']"
      ]
     },
     "execution_count": 239,
     "metadata": {},
     "output_type": "execute_result"
    }
   ],
   "source": [
    "# We want to split a piece of text by either the word \"a\" or \"the\", \n",
    "# as implemented in the following code. \n",
    "# What is the resulting split list?\n",
    "\n",
    "re.split(r\"the|a\", \"One sentence. Another one? And the last one!\")\n"
   ]
  },
  {
   "cell_type": "code",
   "execution_count": 240,
   "id": "2e2446be",
   "metadata": {},
   "outputs": [
    {
     "name": "stdout",
     "output_type": "stream",
     "text": [
      "Sabrina Green,System Administrator (+1-802-867-5309)\n",
      "Eli Jones,IT specialist (+1-684-3481127)\n",
      "Melody Daniels,Programmer (+1-846-687-7436)\n",
      "Charlie Rivera,Web Developer (+1-698-746-3357)\n"
     ]
    }
   ],
   "source": [
    "import re\n",
    "def transform_record(record):\n",
    "    pat = r\"(\\b[A-Za-z ]{2,}\\b),([0-9-]{2,}),(\\b[A-Za-z ]{2,}\\b)\"\n",
    "    new_record = re.sub(pat,r\"\\1,\\3 (+1-\\2)\",record)\n",
    "    \n",
    "    return new_record\n",
    "\n",
    "# Change the order to Name, Job, (Phone No.)\n",
    "\n",
    "print(transform_record(\"Sabrina Green,802-867-5309,System Administrator\")) \n",
    "\n",
    "print(transform_record(\"Eli Jones,684-3481127,IT specialist\")) \n",
    "\n",
    "print(transform_record(\"Melody Daniels,846-687-7436,Programmer\")) \n",
    "\n",
    "print(transform_record(\"Charlie Rivera,698-746-3357,Web Developer\")) \n"
   ]
  },
  {
   "cell_type": "code",
   "execution_count": 242,
   "id": "3d1bfc3d",
   "metadata": {},
   "outputs": [
    {
     "name": "stdout",
     "output_type": "stream",
     "text": [
      "['beautiful']\n",
      "['Obviously', 'queen', 'courageous', 'gracious']\n",
      "['rambunctious', 'quietly', 'delicious']\n",
      "['queue']\n",
      "[]\n"
     ]
    }
   ],
   "source": [
    "import re\n",
    "def multi_vowel_words(text):\n",
    "  pattern = r\"[A-Za-z]*[aeiou]{3,}[a-z]*\"\n",
    "  result = re.findall(pattern, text)\n",
    "  return result\n",
    "\n",
    "print(multi_vowel_words(\"Life is beautiful\")) \n",
    "# ['beautiful']\n",
    "\n",
    "print(multi_vowel_words(\"Obviously, the queen is courageous and gracious.\")) \n",
    "# ['Obviously', 'queen', 'courageous', 'gracious']\n",
    "\n",
    "print(multi_vowel_words(\"The rambunctious children had to sit quietly and await their delicious dinner.\")) \n",
    "# ['rambunctious', 'quietly', 'delicious']\n",
    "\n",
    "print(multi_vowel_words(\"The order of a data queue is First In First Out (FIFO)\")) \n",
    "# ['queue']\n",
    "\n",
    "print(multi_vowel_words(\"Hello world!\")) \n",
    "# []"
   ]
  },
  {
   "cell_type": "code",
   "execution_count": 243,
   "id": "4686ea5c",
   "metadata": {},
   "outputs": [
    {
     "name": "stdout",
     "output_type": "stream",
     "text": [
      "// Start of program\n",
      "  number = 0   // Initialize the variable\n",
      "  number += 1   // Increment the variable\n",
      "  return(number)\n"
     ]
    }
   ],
   "source": [
    "import re\n",
    "def transform_comments(line_of_code):\n",
    "    patt=r\"#{1,}\"\n",
    "    result = re.sub(patt,\"//\",line_of_code)\n",
    "    return result\n",
    "\n",
    "print(transform_comments(\"### Start of program\")) \n",
    "# Should be \"// Start of program\"\n",
    "print(transform_comments(\"  number = 0   ## Initialize the variable\")) \n",
    "# Should be \"  number = 0   // Initialize the variable\"\n",
    "print(transform_comments(\"  number += 1   # Increment the variable\")) \n",
    "# Should be \"  number += 1   // Increment the variable\"\n",
    "print(transform_comments(\"  return(number)\")) \n",
    "# Should be \"  return(number)\""
   ]
  },
  {
   "cell_type": "code",
   "execution_count": 244,
   "metadata": {},
   "outputs": [],
   "source": [
    "string = \"My number is 21-345-9999.\"\n",
    "\n",
    "patt = r\"([0-9]{2}-)\"\n",
    "resa=re.findall(patt,phone)\n",
    "# result = re.sub(patt,r\"({0}),{1},{2}\".format(resa[0],resa[1],resa[2]),phone)\n",
    "\n",
    "\n",
    "# result"
   ]
  },
  {
   "cell_type": "code",
   "execution_count": 249,
   "metadata": {},
   "outputs": [
    {
     "name": "stdout",
     "output_type": "stream",
     "text": [
      "My number is (212) 345-9999.\n",
      "Please call (888) 555-1234\n",
      "123-123-12345\n",
      "Phone number of Buckingham Palace is +44 303 123 7300\n"
     ]
    }
   ],
   "source": [
    "import re\n",
    "def convert_phone_number(phone):\n",
    "  patt = r\"\\s([0-9]{1,})[-\\s]([0-9]{1,})[-]([0-9]{1,})\"\n",
    "    \n",
    "  result = re.sub(patt,r\" (\\1) \\2-\\3\",phone)\n",
    "  return result\n",
    "\n",
    "print(convert_phone_number(\"My number is 212-345-9999.\")) # My number is (212) 345-9999.\n",
    "print(convert_phone_number(\"Please call 888-555-1234\")) # Please call (888) 555-1234\n",
    "print(convert_phone_number(\"123-123-12345\")) # 123-123-12345\n",
    "print(convert_phone_number(\"Phone number of Buckingham Palace is +44 303 123 7300\")) # Phone number of Buckingham Palace is +44 303 123 7300"
   ]
  }
 ],
 "metadata": {
  "hide_input": false,
  "kernelspec": {
   "display_name": "Python 3 (ipykernel)",
   "language": "python",
   "name": "python3"
  },
  "language_info": {
   "codemirror_mode": {
    "name": "ipython",
    "version": 3
   },
   "file_extension": ".py",
   "mimetype": "text/x-python",
   "name": "python",
   "nbconvert_exporter": "python",
   "pygments_lexer": "ipython3",
   "version": "3.8.8"
  },
  "varInspector": {
   "cols": {
    "lenName": 16,
    "lenType": 16,
    "lenVar": 40
   },
   "kernels_config": {
    "python": {
     "delete_cmd_postfix": "",
     "delete_cmd_prefix": "del ",
     "library": "var_list.py",
     "varRefreshCmd": "print(var_dic_list())"
    },
    "r": {
     "delete_cmd_postfix": ") ",
     "delete_cmd_prefix": "rm(",
     "library": "var_list.r",
     "varRefreshCmd": "cat(var_dic_list()) "
    }
   },
   "types_to_exclude": [
    "module",
    "function",
    "builtin_function_or_method",
    "instance",
    "_Feature"
   ],
   "window_display": false
  }
 },
 "nbformat": 4,
 "nbformat_minor": 5
}
