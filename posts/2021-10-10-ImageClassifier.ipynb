{
 "cells": [
  {
   "cell_type": "markdown",
   "id": "f6c3269a",
   "metadata": {},
   "source": [
    "![](ghtop_images/header2.png)"
   ]
  },
  {
   "cell_type": "markdown",
   "id": "ce276e1d",
   "metadata": {},
   "source": [
    "# Building a Classifier App on the web\n",
    "> Creating an image classifier app that is on the net! Using Jupyter notebooks, FastAi, Binder and Voila\n",
    "\n",
    "- toc:true\n",
    "- branch: master\n",
    "- badges: true\n",
    "- comments: true\n",
    "- author: Thomas H. Simm\n",
    "- categories: [fastai, jupyter, Binder, Voila, myBinder, ThomasHSimm]"
   ]
  },
  {
   "cell_type": "markdown",
   "id": "def7abc3",
   "metadata": {},
   "source": [
    "1) The Model Part\n",
    "\n",
    "2) The Python Part Of the App\n",
    "\n",
    "3) The Binder Part"
   ]
  },
  {
   "cell_type": "markdown",
   "id": "22a4e25d",
   "metadata": {},
   "source": [
    "## 1) The model Part"
   ]
  },
  {
   "cell_type": "markdown",
   "id": "40978333",
   "metadata": {},
   "source": [
    "The model was run on https://colab.research.google.com with a GPU\n",
    "\n",
    "Necessary to have a GPU for time"
   ]
  },
  {
   "cell_type": "markdown",
   "id": "d37ab11a",
   "metadata": {},
   "source": [
    "Some imports and installs"
   ]
  },
  {
   "cell_type": "code",
   "execution_count": null,
   "id": "a8407f1b",
   "metadata": {
    "deletable": false,
    "editable": false,
    "run_control": {
     "frozen": true
    }
   },
   "outputs": [],
   "source": [
    "!pip install -Uqq fastbook\n",
    "import fastbook\n",
    "fastbook.setup_book()"
   ]
  },
  {
   "cell_type": "code",
   "execution_count": null,
   "id": "aeb6f170",
   "metadata": {
    "deletable": false,
    "editable": false,
    "run_control": {
     "frozen": true
    }
   },
   "outputs": [],
   "source": [
    "from fastbook import *\n",
    "from fastai.vision.widgets import *"
   ]
  },
  {
   "cell_type": "markdown",
   "id": "eb85fd28",
   "metadata": {},
   "source": [
    "Gets Azure search key to use Bing search API"
   ]
  },
  {
   "cell_type": "code",
   "execution_count": null,
   "id": "10b2d258",
   "metadata": {
    "deletable": false,
    "editable": false,
    "run_control": {
     "frozen": true
    }
   },
   "outputs": [],
   "source": [
    "key = os.environ.get('AZURE_SEARCH_KEY', 'keygoeshere')"
   ]
  },
  {
   "cell_type": "markdown",
   "id": "780f94ec",
   "metadata": {},
   "source": [
    "I'm going to do a classifier for holiday types"
   ]
  },
  {
   "cell_type": "code",
   "execution_count": null,
   "id": "93281cbb",
   "metadata": {
    "deletable": false,
    "editable": false,
    "run_control": {
     "frozen": true
    }
   },
   "outputs": [],
   "source": [
    "destas={'beach':{'beach','tropical','sea','beach holidays'},\n",
    "        'snow':{'ski','snowboard','snow','ski holidays'},\n",
    "        'countryside':{'lakes mountains','countryside','forest','fields'},\n",
    "        'city':{'city','cities','bars','buildings'},\n",
    "        'safari':{'safari','safari holidays','safari park','safari africa'}}"
   ]
  },
  {
   "cell_type": "markdown",
   "id": "89c5ed8a",
   "metadata": {},
   "source": [
    "Creates a folder containing images for each type\n",
    "\n",
    "Need to add to dir with different searches not delete and add new stuff each time\n",
    "\n",
    "For eaach holiday type- go through the search topics and add the results together before downloading images to the holiday type folder\n",
    "\n",
    "This gives 600 pics per holiday type"
   ]
  },
  {
   "cell_type": "code",
   "execution_count": null,
   "id": "2c7f17a7",
   "metadata": {
    "deletable": false,
    "editable": false,
    "run_control": {
     "frozen": true
    }
   },
   "outputs": [],
   "source": [
    "path = Path('Destinations')\n",
    "try:\n",
    "    path.mkdir()\n",
    "except:\n",
    "    pass"
   ]
  },
  {
   "cell_type": "code",
   "execution_count": null,
   "id": "7ed9f7e4",
   "metadata": {
    "deletable": false,
    "editable": false,
    "run_control": {
     "frozen": true
    }
   },
   "outputs": [],
   "source": [
    "for o in destas:\n",
    "    dest = (path/o)\n",
    "    dest.mkdir(exist_ok=True)\n",
    "    for ii,oo in enumerate(destas[o]): \n",
    "        # print(oo)\n",
    "        results = search_images_bing(key, f'{oo}')\n",
    "        if ii>0:\n",
    "            resultsALL = L(resultsALL,results).concat()\n",
    "        else:\n",
    "            resultsALL=results\n",
    "    print(o)\n",
    "    print(np.shape(resultsALL))\n",
    "    download_images(dest, urls=resultsALL.attrgot('contentUrl'))\n"
   ]
  },
  {
   "cell_type": "markdown",
   "id": "1bb2e4a0",
   "metadata": {},
   "source": [
    "Create a data block for fastai"
   ]
  },
  {
   "cell_type": "code",
   "execution_count": null,
   "id": "698d2d66",
   "metadata": {
    "deletable": false,
    "editable": false,
    "run_control": {
     "frozen": true
    }
   },
   "outputs": [],
   "source": [
    "fns = get_image_files(path)\n",
    "\n",
    "dests = DataBlock(\n",
    "    blocks=(ImageBlock, CategoryBlock), \n",
    "    get_items=get_image_files, \n",
    "    splitter=RandomSplitter(valid_pct=0.2, seed=42),\n",
    "    get_y=parent_label,\n",
    "    item_tfms=Resize(128))"
   ]
  },
  {
   "cell_type": "markdown",
   "id": "d9d51cd6",
   "metadata": {},
   "source": [
    "get rid of failed images"
   ]
  },
  {
   "cell_type": "code",
   "execution_count": null,
   "id": "b1c651e3",
   "metadata": {
    "deletable": false,
    "editable": false,
    "run_control": {
     "frozen": true
    }
   },
   "outputs": [],
   "source": [
    "failed = verify_images(fns)\n",
    "failed.map(Path.unlink)\n",
    "failed"
   ]
  },
  {
   "cell_type": "markdown",
   "id": "c5235678",
   "metadata": {},
   "source": [
    "Have a look at the images\n"
   ]
  },
  {
   "cell_type": "code",
   "execution_count": null,
   "id": "8bfe8cb5",
   "metadata": {
    "deletable": false,
    "editable": false,
    "run_control": {
     "frozen": true
    }
   },
   "outputs": [],
   "source": [
    "dls = dests.dataloaders(path)\n",
    "dls.valid.show_batch(max_n=40, nrows=10)"
   ]
  },
  {
   "attachments": {},
   "cell_type": "markdown",
   "id": "586be9dd",
   "metadata": {},
   "source": [
    "![](ghtop_images/ic1.png)"
   ]
  },
  {
   "cell_type": "markdown",
   "id": "cdc7a945",
   "metadata": {},
   "source": [
    "create a dls for the learner\n",
    "\n",
    "- randomresizedcrop\n",
    "- default aug transforms\n"
   ]
  },
  {
   "cell_type": "code",
   "execution_count": null,
   "id": "f2a3ad64",
   "metadata": {
    "deletable": false,
    "editable": false,
    "run_control": {
     "frozen": true
    }
   },
   "outputs": [],
   "source": [
    "dests = dests.new(\n",
    "    item_tfms=RandomResizedCrop(224, min_scale=0.5),\n",
    "    batch_tfms=aug_transforms())\n",
    "dls = dests.dataloaders(path)"
   ]
  },
  {
   "cell_type": "markdown",
   "id": "9b635cf6",
   "metadata": {},
   "source": [
    "Do the learning over 4 epochs"
   ]
  },
  {
   "cell_type": "code",
   "execution_count": null,
   "id": "9e219c9d",
   "metadata": {
    "deletable": false,
    "editable": false,
    "run_control": {
     "frozen": true
    }
   },
   "outputs": [],
   "source": [
    "learn = cnn_learner(dls, resnet18, metrics=error_rate)\n",
    "learn.fine_tune(4)"
   ]
  },
  {
   "attachments": {},
   "cell_type": "markdown",
   "id": "e39e043e",
   "metadata": {},
   "source": [
    "![](ghtop_images/ic2.png)"
   ]
  },
  {
   "cell_type": "markdown",
   "id": "a21864db",
   "metadata": {},
   "source": [
    "Confusion matrix"
   ]
  },
  {
   "cell_type": "code",
   "execution_count": null,
   "id": "14a8f45a",
   "metadata": {
    "deletable": false,
    "editable": false,
    "run_control": {
     "frozen": true
    }
   },
   "outputs": [],
   "source": [
    "interp = ClassificationInterpretation.from_learner(learn)\n",
    "interp.plot_confusion_matrix()"
   ]
  },
  {
   "attachments": {},
   "cell_type": "markdown",
   "id": "f113be58",
   "metadata": {},
   "source": [
    "![](ghtop_images/ic3.png)"
   ]
  },
  {
   "cell_type": "markdown",
   "id": "7aa1cde7",
   "metadata": {},
   "source": [
    "Save the model\n",
    "(saves as export.pkl)"
   ]
  },
  {
   "cell_type": "code",
   "execution_count": null,
   "id": "06cca2f6",
   "metadata": {
    "deletable": false,
    "editable": false,
    "run_control": {
     "frozen": true
    }
   },
   "outputs": [],
   "source": [
    "learn.export()"
   ]
  },
  {
   "cell_type": "markdown",
   "id": "9757c85c",
   "metadata": {},
   "source": [
    "## 2) The App in python"
   ]
  },
  {
   "cell_type": "markdown",
   "id": "d8f5d0c2",
   "metadata": {},
   "source": [
    "Some imports"
   ]
  },
  {
   "cell_type": "code",
   "execution_count": null,
   "id": "5f2df8d9",
   "metadata": {
    "deletable": false,
    "editable": false,
    "run_control": {
     "frozen": true
    }
   },
   "outputs": [],
   "source": [
    "# Classifier App\n",
    "# THSimm\n",
    "\n",
    "from fastai.vision.all import *\n",
    "from fastai.vision.widgets import *\n",
    "import urllib.request"
   ]
  },
  {
   "cell_type": "markdown",
   "id": "0efe97ef",
   "metadata": {},
   "source": [
    "Create parts of the widget"
   ]
  },
  {
   "cell_type": "code",
   "execution_count": null,
   "id": "c28d9803",
   "metadata": {
    "deletable": false,
    "editable": false,
    "run_control": {
     "frozen": true
    }
   },
   "outputs": [],
   "source": [
    "learn_inf = load_learner('export.pkl')\n",
    "btn_upload = widgets.FileUpload()\n",
    "\n",
    "out_pl = widgets.Output()\n",
    "out_pl.clear_output()\n",
    "\n",
    "lbl_pred = widgets.Label()"
   ]
  },
  {
   "cell_type": "markdown",
   "id": "10d87f04",
   "metadata": {},
   "source": [
    "Function occurs on click upload"
   ]
  },
  {
   "cell_type": "code",
   "execution_count": null,
   "id": "05e0828f",
   "metadata": {
    "deletable": false,
    "editable": false,
    "run_control": {
     "frozen": true
    }
   },
   "outputs": [],
   "source": [
    "def on_click_classify(change):\n",
    "    img = PILImage.create(btn_upload.data[-1])\n",
    "    out_pl.clear_output()\n",
    "    with out_pl: display(img.to_thumb(500,500))\n",
    "    pred,pred_idx,probs = learn_inf.predict(img)\n",
    "    lbl_pred.value = f'Prediction: {pred}; Probability: {probs[pred_idx]:.04f}'"
   ]
  },
  {
   "cell_type": "code",
   "execution_count": null,
   "id": "93118ad2",
   "metadata": {
    "deletable": false,
    "editable": false,
    "run_control": {
     "frozen": true
    }
   },
   "outputs": [],
   "source": [
    "btn_upload.observe(on_click_classify,names=['data'])"
   ]
  },
  {
   "cell_type": "markdown",
   "id": "83d10b29",
   "metadata": {},
   "source": [
    "What is displayed"
   ]
  },
  {
   "cell_type": "code",
   "execution_count": null,
   "id": "9d13210f",
   "metadata": {
    "deletable": false,
    "editable": false,
    "run_control": {
     "frozen": true
    }
   },
   "outputs": [],
   "source": [
    "#hide_output\n",
    "text ='Select your plane'\n",
    "\n",
    "display(VBox([widgets.HTML(value = f\"<h1><font color='Black'>{text}</h1>\\\n",
    "                                     <ol text-align: center><font color='Black'>\\\n",
    "                                    <li>Beach</li>\\\n",
    "                                    <li>Snow</li>\\\n",
    "                                    <li>Countryside</li>\\\n",
    "                                    <li>City</li>\\\n",
    "                                    <li>Safari</li>\\\n",
    "                                    </ol>\"), \n",
    "      btn_upload,  out_pl, lbl_pred]) )"
   ]
  },
  {
   "cell_type": "markdown",
   "id": "09b99af8",
   "metadata": {},
   "source": [
    "## 3) The Binder Part"
   ]
  },
  {
   "cell_type": "markdown",
   "id": "8de5b7b7",
   "metadata": {},
   "source": [
    "\n",
    "### Binder\n",
    "<blockquote>mybinder.org is an online service for building and sharing reproducible and interactive computational environments from online repositories. Under the hood, it is a federation of BinderHub deployments that are maintained by the Binder community. It serves as both a public service and a demonstration of the BinderHub technology, though it is by no means the only BinderHub in existence. If you’re interested in deploying your own BinderHub for your own uses, please see the BinderHub documentation and don’t hesitate to reach out to the Binder community.</blockquote>\n",
    "\n",
    "https://mybinder.readthedocs.io/en/latest/introduction.html#preparing-a-repository-for-binder\n",
    "\n",
    "Basically allowing us to put code online\n",
    "\n",
    "### Voila\n",
    "The 2nd import part is Voila which allows us to hide the code and just display outputs\n",
    "\n",
    "https://voila.readthedocs.io/en/stable/using.html"
   ]
  },
  {
   "cell_type": "markdown",
   "id": "826e3356",
   "metadata": {},
   "source": [
    "#### Method:\n",
    "<ul>\n",
    "<li>Create repository on github that is public, containing the ipynb file and a requirements.txt file</li>\n",
    "\n",
    "<li>Then go to binder https://mybinder.org/</li>\n",
    "<li>Fill in form as shown below</li></ul>"
   ]
  },
  {
   "cell_type": "markdown",
   "id": "b929da60",
   "metadata": {},
   "source": [
    "In requirements.txt:\n",
    "\n",
    "voila\n",
    "fastai\n",
    "packaging\n",
    "ipywidgets"
   ]
  },
  {
   "attachments": {},
   "cell_type": "markdown",
   "id": "7713d98b",
   "metadata": {},
   "source": [
    "![](ghtop_images/ic4.png)"
   ]
  },
  {
   "cell_type": "markdown",
   "id": "9d1d71ea",
   "metadata": {},
   "source": [
    "## The result"
   ]
  },
  {
   "cell_type": "markdown",
   "id": "1c2bb836",
   "metadata": {},
   "source": [
    "https://mybinder.org/v2/gh/ThomasHSimm/LocationsClassifier/HEAD?urlpath=%2Fvoila%2Frender%2FAppForDestClass.ipynb\n",
    "\n",
    "https://tinyurl.com/LocClassAppThomasHSimm \n",
    "\n",
    "-------------------- -------------------- -------------------- ----------------"
   ]
  },
  {
   "attachments": {},
   "cell_type": "markdown",
   "id": "da1ce16a",
   "metadata": {},
   "source": [
    "![](ghtop_images/ic5.png)\n"
   ]
  }
 ],
 "metadata": {
  "kernelspec": {
   "display_name": "Python 3",
   "language": "python",
   "name": "python3"
  },
  "language_info": {
   "codemirror_mode": {
    "name": "ipython",
    "version": 3
   },
   "file_extension": ".py",
   "mimetype": "text/x-python",
   "name": "python",
   "nbconvert_exporter": "python",
   "pygments_lexer": "ipython3",
   "version": "3.8.8"
  },
  "varInspector": {
   "cols": {
    "lenName": 16,
    "lenType": 16,
    "lenVar": 40
   },
   "kernels_config": {
    "python": {
     "delete_cmd_postfix": "",
     "delete_cmd_prefix": "del ",
     "library": "var_list.py",
     "varRefreshCmd": "print(var_dic_list())"
    },
    "r": {
     "delete_cmd_postfix": ") ",
     "delete_cmd_prefix": "rm(",
     "library": "var_list.r",
     "varRefreshCmd": "cat(var_dic_list()) "
    }
   },
   "types_to_exclude": [
    "module",
    "function",
    "builtin_function_or_method",
    "instance",
    "_Feature"
   ],
   "window_display": false
  }
 },
 "nbformat": 4,
 "nbformat_minor": 5
}
