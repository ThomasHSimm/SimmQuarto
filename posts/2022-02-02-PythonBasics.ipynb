{
 "cells": [
  {
   "cell_type": "markdown",
   "metadata": {},
   "source": [
    "# Python Basics\n",
    "> Python\n",
    "\n",
    "- toc: true \n",
    "- badges: true\n",
    "- comments: true\n",
    "- categories: [Python, lists, strings, print]"
   ]
  },
  {
   "cell_type": "markdown",
   "metadata": {},
   "source": [
    "![](ghtop_images/header2.png)"
   ]
  },
  {
   "cell_type": "markdown",
   "metadata": {},
   "source": [
    "https://docs.python.org/3/tutorial/datastructures.html"
   ]
  },
  {
   "cell_type": "markdown",
   "metadata": {},
   "source": [
    "## Print"
   ]
  },
  {
   "cell_type": "code",
   "execution_count": 13,
   "metadata": {},
   "outputs": [
    {
     "name": "stdout",
     "output_type": "stream",
     "text": [
      "30.55579\n"
     ]
    }
   ],
   "source": [
    "# to so many decimal places\n",
    "\n",
    "x=30.5557889\n",
    "\n",
    "print('{:.5f}'.format(x))"
   ]
  },
  {
   "cell_type": "code",
   "execution_count": 14,
   "metadata": {},
   "outputs": [
    {
     "name": "stdout",
     "output_type": "stream",
     "text": [
      "HackerRank----------\n"
     ]
    }
   ],
   "source": [
    "# add additional characters to string\n",
    "\n",
    "width = 20\n",
    "print('HackerRank'.ljust(width,'-'))#or rjust"
   ]
  },
  {
   "cell_type": "code",
   "execution_count": 15,
   "metadata": {},
   "outputs": [
    {
     "name": "stdout",
     "output_type": "stream",
     "text": [
      "-----HackerRank-----\n"
     ]
    }
   ],
   "source": [
    "width = 20\n",
    "print('HackerRank'.center(width,'-'))"
   ]
  },
  {
   "cell_type": "markdown",
   "metadata": {},
   "source": [
    "https://docs.python.org/3/library/stdtypes.html#string-methods\n",
    "\n",
    "Conversion...........................      Meaning\n",
    "\n",
    "`d`..................................... Signed integer decimal.\n",
    "\t\n",
    "\n",
    "`i`.....................................                        Signed integer decimal.\n",
    "\t\n",
    "`o`.....................................                        Signed octal value.\n",
    "\t\n",
    "\n",
    "`u`.....................................                        Obsolete type – it is identical to 'd'.\n",
    "\t\n",
    "`x`.....................................                        Signed hexadecimal (lowercase).\n",
    "\t\n",
    "`X`.....................................                        Signed hexadecimal (uppercase).\n",
    "\t\n",
    "`e` .....................................                       Floating point exponential format (lowercase).\n",
    "\t\n",
    "\n",
    "`E`.....................................                        Floating point exponential format (uppercase).\n",
    "\t\n",
    "\n",
    "`f`..................................... Floating point decimal format.\n",
    "\t\n",
    "`F`..................................... Floating point decimal format.\n",
    "\n",
    "`g`..................................... Floating point format. Uses lowercase exponential format if exponent is less than -4 or not less than precision, decimal format otherwise.\n",
    "\n",
    "`G` ..................................... Floating point format. Uses uppercase exponential format if exponent is less than -4 or not less than precision, decimal format otherwise.\n",
    "\t\n",
    "`c`..................................... Single character (accepts integer or single character string).\n",
    "\t\n",
    "`r`..................................... String (converts any Python object using repr()).\n",
    "\t\n",
    "\n",
    "`s`..................................... String (converts any Python object using str()).\n",
    "\t\n",
    "`a`..................................... String (converts any Python object using ascii()).\n",
    "\t\n",
    "\n",
    "`%`..................................... No argument is converted, results in a '%' character in the result.\n",
    "\t"
   ]
  },
  {
   "cell_type": "markdown",
   "metadata": {},
   "source": [
    "## Lists"
   ]
  },
  {
   "cell_type": "markdown",
   "metadata": {},
   "source": [
    "### New List\n",
    "\n",
    "Create a list with `list(XX)`"
   ]
  },
  {
   "cell_type": "code",
   "execution_count": 32,
   "metadata": {},
   "outputs": [
    {
     "name": "stdout",
     "output_type": "stream",
     "text": [
      "['1', ' ', '2', ' ', '3', ' ', '4', ' ', '5', ' ', '6', ' ', '7']\n"
     ]
    }
   ],
   "source": [
    "a='1 2 3 4 5 6 7'\n",
    "lista = list(a)\n",
    "print(lista)"
   ]
  },
  {
   "cell_type": "markdown",
   "metadata": {},
   "source": [
    "### Copy\n",
    "\n",
    "`list.copy`"
   ]
  },
  {
   "cell_type": "code",
   "execution_count": 68,
   "metadata": {},
   "outputs": [
    {
     "name": "stdout",
     "output_type": "stream",
     "text": [
      "Original a=\n",
      " ['1', '2', '3']\n",
      "list b, where b=a and b[1] modified, b=\n",
      " ['1', 'po', '3'] \n",
      "Just using equals b=a after mods, a=\n",
      " ['1', 'po', '3'] \n",
      " Using a copy c=a.copy(), c=\n",
      " ['1', '2', '3'] \n",
      " Using d=a[:] to create a copy, d=\n",
      " ['1', '2', '3']\n"
     ]
    }
   ],
   "source": [
    "lista =a.split(' ')\n",
    "lista=lista[0:3]\n",
    "print('Original a=\\n',lista)\n",
    "listb=lista\n",
    "listc=lista.copy()\n",
    "listd=lista[:]\n",
    "\n",
    "listb[1]='po'\n",
    "\n",
    "print('list b, where b=a and b[1] modified, b=\\n',listb,\n",
    "    '\\nJust using equals b=a after mods, a=\\n',lista,\n",
    "      '\\n Using a copy c=a.copy(), c=\\n',listc,\n",
    "      '\\n Using d=a[:] to create a copy, d=\\n',listd)"
   ]
  },
  {
   "cell_type": "markdown",
   "metadata": {},
   "source": []
  },
  {
   "cell_type": "markdown",
   "metadata": {},
   "source": [
    "### Append\n",
    "\n",
    "`list.append(x)`, add x to end of a list"
   ]
  },
  {
   "cell_type": "code",
   "execution_count": 69,
   "metadata": {},
   "outputs": [
    {
     "name": "stdout",
     "output_type": "stream",
     "text": [
      "['1', 'po', '3']\n",
      "['1', 'po', '3', 'ok']\n"
     ]
    }
   ],
   "source": [
    "print(lista)\n",
    "lista.append('ok')\n",
    "print(lista)"
   ]
  },
  {
   "cell_type": "markdown",
   "metadata": {},
   "source": [
    "### Insert\n",
    "\n",
    "`lista.insert(i,x)` insert x at position i"
   ]
  },
  {
   "cell_type": "code",
   "execution_count": 70,
   "metadata": {},
   "outputs": [
    {
     "name": "stdout",
     "output_type": "stream",
     "text": [
      "['1', 'po', 'two', '3', 'ok']\n"
     ]
    }
   ],
   "source": [
    "lista.insert(2,'two')\n",
    "print(lista)"
   ]
  },
  {
   "cell_type": "markdown",
   "metadata": {},
   "source": [
    "### Remove\n",
    "\n",
    "`lista.remove(x)` Remove the first item from the list whose value is equal to x."
   ]
  },
  {
   "cell_type": "code",
   "execution_count": 71,
   "metadata": {},
   "outputs": [
    {
     "name": "stdout",
     "output_type": "stream",
     "text": [
      "['1', 'po', '3', 'ok']\n"
     ]
    }
   ],
   "source": [
    "lista.remove('two')\n",
    "print(lista)"
   ]
  },
  {
   "cell_type": "markdown",
   "metadata": {},
   "source": [
    "### Pop\n",
    "\n",
    "`lista.pop([i])` Remove the item at the given position in the list, and return it\n",
    "\n",
    "`list.popleft` at left"
   ]
  },
  {
   "cell_type": "code",
   "execution_count": 72,
   "metadata": {},
   "outputs": [
    {
     "name": "stdout",
     "output_type": "stream",
     "text": [
      "po\n"
     ]
    }
   ],
   "source": [
    "print(lista.pop(1))"
   ]
  },
  {
   "cell_type": "markdown",
   "metadata": {},
   "source": [
    "### Remove\n",
    "\n",
    "`list.clear()` Remove all items from the list. Equivalent to del a[:]."
   ]
  },
  {
   "cell_type": "code",
   "execution_count": 73,
   "metadata": {},
   "outputs": [
    {
     "name": "stdout",
     "output_type": "stream",
     "text": [
      "None\n",
      "[]\n"
     ]
    }
   ],
   "source": [
    "print(lista.clear())\n",
    "print(lista)"
   ]
  },
  {
   "cell_type": "markdown",
   "metadata": {},
   "source": [
    "### Index\n",
    "\n",
    "`list.index(x,i)` Return position of x within list starting at position i\n",
    "\n"
   ]
  },
  {
   "cell_type": "code",
   "execution_count": 81,
   "metadata": {},
   "outputs": [
    {
     "name": "stdout",
     "output_type": "stream",
     "text": [
      "['1', '2', '3', '1', '1', '1']\n",
      "0 2\n"
     ]
    }
   ],
   "source": [
    "listc.append('1')\n",
    "print(listc)\n",
    "print(listc.index('1'),2)"
   ]
  },
  {
   "cell_type": "markdown",
   "metadata": {},
   "source": [
    "### Count\n",
    "\n",
    "`lista.count(x)` Return the number of times x appears in the list."
   ]
  },
  {
   "cell_type": "code",
   "execution_count": 82,
   "metadata": {},
   "outputs": [
    {
     "name": "stdout",
     "output_type": "stream",
     "text": [
      "4\n"
     ]
    }
   ],
   "source": [
    "print(listc.count('1'))"
   ]
  },
  {
   "cell_type": "markdown",
   "metadata": {},
   "source": [
    "### Sort\n",
    "\n",
    "`lista.sort(*, key=None, reverse=False)`     Sort the items of the list in place (the arguments can be used for sort customization, see sorted() (https://docs.python.org/3/library/functions.html#sorted) for their explanation).\n"
   ]
  },
  {
   "cell_type": "code",
   "execution_count": 88,
   "metadata": {},
   "outputs": [
    {
     "name": "stdout",
     "output_type": "stream",
     "text": [
      "['1', '1', '1', '1', '2', '3']\n"
     ]
    }
   ],
   "source": [
    "listc.sort()\n",
    "print(listc)"
   ]
  },
  {
   "cell_type": "markdown",
   "metadata": {},
   "source": [
    "### Reverse\n",
    "\n",
    "`lista.reverse()` Reverse the elements of the list in place."
   ]
  },
  {
   "cell_type": "markdown",
   "metadata": {},
   "source": [
    "### Del\n",
    "\n",
    "`del lista[0]` remove an item from a list given its index instead of its value"
   ]
  },
  {
   "cell_type": "code",
   "execution_count": 97,
   "metadata": {},
   "outputs": [
    {
     "name": "stdout",
     "output_type": "stream",
     "text": [
      "['1', '1', '1', '1', '2', '3']\n",
      "['1', '1', '1', '2', '3']\n"
     ]
    }
   ],
   "source": [
    "print(listc)\n",
    "del listc[2]\n",
    "print(listc)"
   ]
  },
  {
   "cell_type": "markdown",
   "metadata": {},
   "source": [
    "### Comprehension\n",
    "\n",
    "List comprehensions provide a concise way to create lists. Common applications are to make new lists where each element is the result of some operations applied to each member of another sequence or iterable, or to create a subsequence of those elements that satisfy a certain condition."
   ]
  },
  {
   "cell_type": "code",
   "execution_count": 89,
   "metadata": {},
   "outputs": [
    {
     "name": "stdout",
     "output_type": "stream",
     "text": [
      "[0, 1, 4, 9, 16, 25, 36, 49, 64, 81]\n"
     ]
    }
   ],
   "source": [
    "squares=[]\n",
    "for x in range(10):\n",
    "    squares.append(x**2)\n",
    "print(squares)"
   ]
  },
  {
   "cell_type": "code",
   "execution_count": 91,
   "metadata": {},
   "outputs": [
    {
     "name": "stdout",
     "output_type": "stream",
     "text": [
      "[0, 1, 4, 9, 16, 25, 36, 49, 64, 81]\n"
     ]
    }
   ],
   "source": [
    "# the comprehension version\n",
    "\n",
    "print([x**2 for x in range(10)])"
   ]
  },
  {
   "cell_type": "markdown",
   "metadata": {},
   "source": [
    "A list comprehension consists of brackets containing an expression followed by a for clause, then zero or more for or if clauses. The result will be a new list resulting from evaluating the expression in the context of the for and if clauses which follow it. For example, this listcomp combines the elements of two lists if they are not equal:"
   ]
  },
  {
   "cell_type": "code",
   "execution_count": 92,
   "metadata": {},
   "outputs": [
    {
     "data": {
      "text/plain": [
       "[(1, 3), (1, 4), (2, 3), (2, 1), (2, 4), (3, 1), (3, 4)]"
      ]
     },
     "execution_count": 92,
     "metadata": {},
     "output_type": "execute_result"
    }
   ],
   "source": [
    "[(x,y) for x in [1,2,3] for y in [3, 1, 4] if x!=y]"
   ]
  },
  {
   "cell_type": "code",
   "execution_count": 93,
   "metadata": {},
   "outputs": [
    {
     "data": {
      "text/plain": [
       "[1, 2, 3, 4, 5, 6, 7, 8, 9]"
      ]
     },
     "execution_count": 93,
     "metadata": {},
     "output_type": "execute_result"
    }
   ],
   "source": [
    "vec = [[1,2,3], [4,5,6], [7,8,9]]\n",
    "[num for elem in vec for num in elem]"
   ]
  },
  {
   "cell_type": "code",
   "execution_count": 95,
   "metadata": {},
   "outputs": [
    {
     "data": {
      "text/plain": [
       "[[1, 5, 9], [2, 6, 19], [3, 7, 11], [4, 8, 12]]"
      ]
     },
     "execution_count": 95,
     "metadata": {},
     "output_type": "execute_result"
    }
   ],
   "source": [
    "matrix=[[1,2,3,4],\n",
    "       [5,6,7,8],\n",
    "       [9,19,11,12]]\n",
    "[[col[i] for col in matrix] for i in range(4)]"
   ]
  },
  {
   "cell_type": "markdown",
   "metadata": {},
   "source": [
    "### List to string\n",
    "\n",
    "Convert a list to a string with `\"\".join(lista)`"
   ]
  },
  {
   "cell_type": "code",
   "execution_count": 51,
   "metadata": {},
   "outputs": [
    {
     "name": "stdout",
     "output_type": "stream",
     "text": [
      "1po3 - \n"
     ]
    }
   ],
   "source": [
    "stra = \"\".join(lista)\n",
    "print(stra,'-',stra[4:])"
   ]
  },
  {
   "cell_type": "markdown",
   "metadata": {},
   "source": [
    "## Strings\n",
    "\n",
    "https://docs.python.org/3/library/stdtypes.html#string-methods"
   ]
  },
  {
   "cell_type": "markdown",
   "metadata": {},
   "source": [
    "### Split\n",
    "\n",
    "Return a list of the words in the string, using sep as the delimiter string. If maxsplit is given, at most maxsplit splits are done (thus, the list will have at most maxsplit+1 elements). If maxsplit is not specified or -1, then there is no limit on the number of splits (all possible splits are made)."
   ]
  },
  {
   "cell_type": "code",
   "execution_count": 105,
   "metadata": {},
   "outputs": [
    {
     "name": "stdout",
     "output_type": "stream",
     "text": [
      "['xsxhu', 'csjoaij', 'jsaijaio', 'j', 'dijoi']\n",
      "['xsxhu cs', 'oai', ' jsaijaio j dijoi']\n"
     ]
    }
   ],
   "source": [
    "stra='xsxhu csjoaij jsaijaio j dijoi'\n",
    "stra1=stra.split()\n",
    "print(stra1)\n",
    "stra1=stra.split('j',maxsplit=2)\n",
    "print(stra1)\n"
   ]
  },
  {
   "cell_type": "markdown",
   "metadata": {},
   "source": [
    "### Strip\n",
    "Return a copy of the string with the leading and trailing characters removed.\n"
   ]
  },
  {
   "cell_type": "code",
   "execution_count": 106,
   "metadata": {},
   "outputs": [
    {
     "data": {
      "text/plain": [
       "'spacious'"
      ]
     },
     "execution_count": 106,
     "metadata": {},
     "output_type": "execute_result"
    }
   ],
   "source": [
    "'   spacious   '.strip()"
   ]
  },
  {
   "cell_type": "markdown",
   "metadata": {},
   "source": [
    "`str.isalnum()`\n",
    "\n",
    "This method checks if all the characters of a string are alphanumeric (a-z, A-Z and 0-9)."
   ]
  },
  {
   "cell_type": "code",
   "execution_count": 4,
   "metadata": {},
   "outputs": [
    {
     "name": "stdout",
     "output_type": "stream",
     "text": [
      "abcD1 True\n",
      "abcD1# False\n"
     ]
    }
   ],
   "source": [
    "stra='abcD1'\n",
    "print(stra,stra.isalnum())\n",
    "stra='abcD1#'\n",
    "print(stra,stra.isalnum())"
   ]
  },
  {
   "cell_type": "markdown",
   "metadata": {},
   "source": [
    "`str.isalpha()`\n",
    "\n",
    "This method checks if all the characters of a string are alphabetical (a-z and A-Z)."
   ]
  },
  {
   "cell_type": "code",
   "execution_count": null,
   "metadata": {},
   "outputs": [],
   "source": [
    "stra='abcD1'\n",
    "print(stra,stra.isalpha())\n",
    "stra='abcD'\n",
    "print(stra,stra.isalpha())"
   ]
  },
  {
   "cell_type": "markdown",
   "metadata": {},
   "source": [
    "`str.isdigit()`\n",
    "\n",
    "This method checks if all the characters of a string are digits (0-9)"
   ]
  },
  {
   "cell_type": "code",
   "execution_count": null,
   "metadata": {},
   "outputs": [],
   "source": [
    "stra='abcD1'\n",
    "print(stra,stra.isdigit())\n",
    "stra='190'\n",
    "print(stra,stra.isdigit())"
   ]
  },
  {
   "cell_type": "markdown",
   "metadata": {},
   "source": [
    "`str.islower()`\n",
    "\n",
    "This method checks if all the characters of a string are lowercase characters (a-z)."
   ]
  },
  {
   "cell_type": "code",
   "execution_count": null,
   "metadata": {},
   "outputs": [],
   "source": [
    "stra='abcD1'\n",
    "print(stra,stra.islower())\n",
    "stra='190'\n",
    "print(stra,stra.islower())"
   ]
  },
  {
   "cell_type": "markdown",
   "metadata": {},
   "source": [
    "`str.lower` or `str.upper` change whether upper or lower case"
   ]
  },
  {
   "cell_type": "code",
   "execution_count": 11,
   "metadata": {},
   "outputs": [
    {
     "name": "stdout",
     "output_type": "stream",
     "text": [
      "abcD1 abcd1 ABCD1\n"
     ]
    }
   ],
   "source": [
    "stra='abcD1'\n",
    "print(stra,stra.lower(),stra.upper())"
   ]
  },
  {
   "cell_type": "markdown",
   "metadata": {},
   "source": [
    "captialize the first character "
   ]
  },
  {
   "cell_type": "code",
   "execution_count": 12,
   "metadata": {},
   "outputs": [
    {
     "name": "stdout",
     "output_type": "stream",
     "text": [
      "Abcd1\n"
     ]
    }
   ],
   "source": [
    "print(stra.capitalize())"
   ]
  },
  {
   "cell_type": "markdown",
   "metadata": {},
   "source": [
    "Find the position of a substring within a string\n",
    "\n",
    "`string.find(stringIN)` scan left to right\n",
    "\n",
    "`string.rfind(stringIN)` scan right to left\n"
   ]
  },
  {
   "cell_type": "code",
   "execution_count": 10,
   "metadata": {},
   "outputs": [
    {
     "data": {
      "text/plain": [
       "(2, 4)"
      ]
     },
     "execution_count": 10,
     "metadata": {},
     "output_type": "execute_result"
    }
   ],
   "source": [
    "stra='ABCDCDC'\n",
    "straa='BCD'\n",
    "stra.find('CD'),stra.rfind('CD')"
   ]
  }
 ],
 "metadata": {
  "hide_input": false,
  "kernelspec": {
   "display_name": "Python 3 (ipykernel)",
   "language": "python",
   "name": "python3"
  },
  "language_info": {
   "codemirror_mode": {
    "name": "ipython",
    "version": 3
   },
   "file_extension": ".py",
   "mimetype": "text/x-python",
   "name": "python",
   "nbconvert_exporter": "python",
   "pygments_lexer": "ipython3",
   "version": "3.8.8"
  },
  "varInspector": {
   "cols": {
    "lenName": 16,
    "lenType": 16,
    "lenVar": 40
   },
   "kernels_config": {
    "python": {
     "delete_cmd_postfix": "",
     "delete_cmd_prefix": "del ",
     "library": "var_list.py",
     "varRefreshCmd": "print(var_dic_list())"
    },
    "r": {
     "delete_cmd_postfix": ") ",
     "delete_cmd_prefix": "rm(",
     "library": "var_list.r",
     "varRefreshCmd": "cat(var_dic_list()) "
    }
   },
   "types_to_exclude": [
    "module",
    "function",
    "builtin_function_or_method",
    "instance",
    "_Feature"
   ],
   "window_display": false
  }
 },
 "nbformat": 4,
 "nbformat_minor": 2
}
