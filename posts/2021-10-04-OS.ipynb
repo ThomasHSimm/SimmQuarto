{
 "cells": [
  {
   "cell_type": "markdown",
   "metadata": {},
   "source": [
    "# The operating system"
   ]
  },
  {
   "cell_type": "markdown",
   "metadata": {},
   "source": [
    "![](ghtop_images/header2.png)"
   ]
  },
  {
   "cell_type": "code",
   "execution_count": 10,
   "id": "454af301",
   "metadata": {},
   "outputs": [],
   "source": [
    "import os\n",
    "import sys"
   ]
  },
  {
   "cell_type": "markdown",
   "id": "0b32b6e0",
   "metadata": {},
   "source": [
    "## name of operating system"
   ]
  },
  {
   "cell_type": "code",
   "execution_count": 56,
   "id": "60b486e8",
   "metadata": {},
   "outputs": [
    {
     "name": "stdout",
     "output_type": "stream",
     "text": [
      "os.name , nt \n",
      "\n"
     ]
    }
   ],
   "source": [
    "print('os.name',',',os.name,'\\n')"
   ]
  },
  {
   "cell_type": "markdown",
   "id": "bb884c83",
   "metadata": {},
   "source": [
    "## get current dir"
   ]
  },
  {
   "cell_type": "code",
   "execution_count": 57,
   "id": "77724289",
   "metadata": {},
   "outputs": [
    {
     "name": "stdout",
     "output_type": "stream",
     "text": [
      "os.getcwd() , C:\\Users\\44781\\pyproj\\_misc \n",
      "\n"
     ]
    }
   ],
   "source": [
    "print('os.getcwd()',',',os.getcwd(),'\\n')"
   ]
  },
  {
   "cell_type": "markdown",
   "id": "e2a03019",
   "metadata": {},
   "source": [
    "## list files in dir"
   ]
  },
  {
   "cell_type": "code",
   "execution_count": 58,
   "id": "8d8d7454",
   "metadata": {},
   "outputs": [
    {
     "name": "stdout",
     "output_type": "stream",
     "text": [
      "os.listdir() , ['.ipynb_checkpoints', 'adapic.jpg', 'awarhol.jpg', 'awarhol.webp', 'dog.jpg', 'draw.png', 'ebsd2.tif', 'ebsdmap.png', 'ebsdmap.tif', 'fastAI_C1_notes.ipynb', 'image_1000.jpg', 'image_5000(1).jpg', 'IndeedExtract-Copy1.ipynb', 'IndeedExtract-Copy2.ipynb', 'No_61_Mark_Rothko-thumbnail_webp-9999x9999.webp', 'os.ipynb', 'output', 'PF_500C R.png', 'PythonBook.ipynb', 're.ipynb', 'styleTransfer.ipynb', 'test2', 'Untitled.ipynb', 'vangogh.jpg', 'vgg19_weights_tf_dim_ordering_tf_kernels_notop.h5', 'water.webp'] \n",
      "\n"
     ]
    }
   ],
   "source": [
    "print('os.listdir()',',',os.listdir(),'\\n')"
   ]
  },
  {
   "cell_type": "markdown",
   "id": "ad4be25d",
   "metadata": {},
   "source": [
    "## make a directory"
   ]
  },
  {
   "cell_type": "code",
   "execution_count": 63,
   "id": "cc4dcda1",
   "metadata": {},
   "outputs": [],
   "source": [
    "this_dir=os.getcwd()\n",
    "directory='test'\n",
    "#this adds either / or \\ depending on os\n",
    "path = os.path.join(this_dir, directory)\n",
    "\n",
    "try:\n",
    "    os.mkdir(path)\n",
    "except:\n",
    "    pass\n",
    "\n",
    "#or \n",
    "try:\n",
    "    os.mkdir('test2')\n",
    "except:\n",
    "    pass"
   ]
  },
  {
   "cell_type": "markdown",
   "id": "534f616d",
   "metadata": {},
   "source": [
    "## list files in dir"
   ]
  },
  {
   "cell_type": "code",
   "execution_count": 64,
   "id": "adec5358",
   "metadata": {},
   "outputs": [
    {
     "name": "stdout",
     "output_type": "stream",
     "text": [
      "os.listdir() , ['.ipynb_checkpoints', 'adapic.jpg', 'awarhol.jpg', 'awarhol.webp', 'dog.jpg', 'draw.png', 'ebsd2.tif', 'ebsdmap.png', 'ebsdmap.tif', 'fastAI_C1_notes.ipynb', 'image_1000.jpg', 'image_5000(1).jpg', 'IndeedExtract-Copy1.ipynb', 'IndeedExtract-Copy2.ipynb', 'No_61_Mark_Rothko-thumbnail_webp-9999x9999.webp', 'os.ipynb', 'output', 'PF_500C R.png', 'PythonBook.ipynb', 're.ipynb', 'styleTransfer.ipynb', 'test', 'test2', 'Untitled.ipynb', 'vangogh.jpg', 'vgg19_weights_tf_dim_ordering_tf_kernels_notop.h5', 'water.webp'] \n",
      "\n"
     ]
    }
   ],
   "source": [
    "print('os.listdir()',',',os.listdir(),'\\n')"
   ]
  },
  {
   "cell_type": "markdown",
   "id": "a5eb610e",
   "metadata": {},
   "source": [
    "## Check file/dir exists "
   ]
  },
  {
   "cell_type": "code",
   "execution_count": 65,
   "id": "fff77815",
   "metadata": {},
   "outputs": [
    {
     "name": "stdout",
     "output_type": "stream",
     "text": [
      "True True\n"
     ]
    }
   ],
   "source": [
    "print(os.path.exists(\"test2\"),os.path.exists(\"test\"))"
   ]
  },
  {
   "cell_type": "markdown",
   "id": "e6282d16",
   "metadata": {},
   "source": [
    "## change directory"
   ]
  },
  {
   "cell_type": "code",
   "execution_count": 66,
   "id": "fa5c8682",
   "metadata": {},
   "outputs": [
    {
     "name": "stdout",
     "output_type": "stream",
     "text": [
      "os.getcwd() , C:\\Users\\44781\\pyproj\\_misc\\test \n",
      "\n"
     ]
    }
   ],
   "source": [
    "os.chdir(directory)\n",
    "print('os.getcwd()',',',os.getcwd(),'\\n')"
   ]
  },
  {
   "cell_type": "markdown",
   "id": "7ab0d945",
   "metadata": {},
   "source": [
    "## Create and Rename a file "
   ]
  },
  {
   "cell_type": "code",
   "execution_count": 79,
   "id": "9bd18103",
   "metadata": {},
   "outputs": [
    {
     "name": "stdout",
     "output_type": "stream",
     "text": [
      "old= True . new= False\n",
      "old= False . new= True\n"
     ]
    }
   ],
   "source": [
    "# create a file 'a' is append\n",
    "open('Old.txt','a').close()\n",
    "\n",
    "# check file exists \n",
    "print('old=',os.path.exists(\"Old.txt\"),'. new=',os.path.exists(\"New.txt\"))\n",
    "\n",
    "# rename a file\n",
    "fd = \"Old.txt\"\n",
    "os.rename(fd,'New.txt')\n",
    "\n",
    "# check file exists \n",
    "print('old=',os.path.exists(\"Old.txt\"),'. new=',os.path.exists(\"New.txt\"))\n"
   ]
  },
  {
   "cell_type": "markdown",
   "id": "dcffb7e5",
   "metadata": {},
   "source": [
    "## Copy a file-\n",
    "### can be done in os but easier in shutil\n",
    "\n",
    "https://stackabuse.com/how-to-copy-a-file-in-python/"
   ]
  },
  {
   "cell_type": "code",
   "execution_count": 80,
   "id": "bbe69e32",
   "metadata": {},
   "outputs": [
    {
     "name": "stdout",
     "output_type": "stream",
     "text": [
      "old= True . new= True\n"
     ]
    }
   ],
   "source": [
    "import shutil\n",
    "shutil.copyfile('New.txt', 'Old.txt')\n",
    "\n",
    "# check file exists \n",
    "print('old=',os.path.exists(\"Old.txt\"),'. new=',os.path.exists(\"New.txt\"))"
   ]
  },
  {
   "cell_type": "markdown",
   "id": "b7765ad9",
   "metadata": {},
   "source": [
    "## Remove a file"
   ]
  },
  {
   "cell_type": "code",
   "execution_count": 81,
   "id": "62edc607",
   "metadata": {},
   "outputs": [
    {
     "name": "stdout",
     "output_type": "stream",
     "text": [
      "old= True . new= False\n"
     ]
    }
   ],
   "source": [
    "# remove a file\n",
    "os.remove(\"New.txt\")\n",
    "# os.remove(\"Old.txt\")\n",
    "\n",
    "# check file exists \n",
    "print('old=',os.path.exists(\"Old.txt\"),'. new=',os.path.exists(\"New.txt\"))"
   ]
  },
  {
   "cell_type": "markdown",
   "id": "9ca7e628",
   "metadata": {},
   "source": [
    "## Go back up in directory"
   ]
  },
  {
   "cell_type": "code",
   "execution_count": 84,
   "id": "41756ee8",
   "metadata": {},
   "outputs": [
    {
     "data": {
      "text/plain": [
       "'C:\\\\Users\\\\44781\\\\pyproj'"
      ]
     },
     "execution_count": 84,
     "metadata": {},
     "output_type": "execute_result"
    }
   ],
   "source": [
    "\n",
    "os.path.dirname(os.path.dirname(   ))"
   ]
  },
  {
   "cell_type": "code",
   "execution_count": 42,
   "id": "8ba6df3b",
   "metadata": {},
   "outputs": [
    {
     "name": "stdout",
     "output_type": "stream",
     "text": [
      "os.listdir() , ['.ipynb_checkpoints', 'adapic.jpg', 'awarhol.jpg', 'awarhol.webp', 'dog.jpg', 'draw.png', 'ebsd2.tif', 'ebsdmap.png', 'ebsdmap.tif', 'fastAI_C1_notes.ipynb', 'image_1000.jpg', 'image_5000(1).jpg', 'IndeedExtract-Copy1.ipynb', 'IndeedExtract-Copy2.ipynb', 'No_61_Mark_Rothko-thumbnail_webp-9999x9999.webp', 'os.ipynb', 'output', 'PF_500C R.png', 'PythonBook.ipynb', 're.ipynb', 'styleTransfer.ipynb', 'test2', 'Untitled.ipynb', 'vangogh.jpg', 'vgg19_weights_tf_dim_ordering_tf_kernels_notop.h5', 'water.webp'] \n",
      "\n"
     ]
    }
   ],
   "source": [
    "#remove directory\n",
    "os.rmdir(path)\n",
    "#list files in dir\n",
    "print('os.listdir()',',',os.listdir(),'\\n')"
   ]
  },
  {
   "cell_type": "markdown",
   "metadata": {},
   "source": [
    "## Create new files"
   ]
  },
  {
   "cell_type": "code",
   "execution_count": null,
   "id": "f925e412",
   "metadata": {},
   "outputs": [],
   "source": [
    "#create new file and edit\n",
    "nano file.txt\n",
    "#create file\n",
    "touch file.txt\n"
   ]
  },
  {
   "cell_type": "code",
   "execution_count": 91,
   "id": "a706777f",
   "metadata": {},
   "outputs": [
    {
     "name": "stdout",
     "output_type": "stream",
     "text": [
      "C:\\Users\\44781\\pyproj\\_misc\\test\n"
     ]
    }
   ],
   "source": [
    "!cd\n"
   ]
  },
  {
   "cell_type": "markdown",
   "metadata": {},
   "source": [
    "# Subprocess module"
   ]
  },
  {
   "cell_type": "code",
   "execution_count": 2,
   "metadata": {},
   "outputs": [
    {
     "name": "stdout",
     "output_type": "stream",
     "text": [
      "CompletedProcess(args=['cmd', '/c', 'date'], returncode=1)\n"
     ]
    }
   ],
   "source": [
    "\n",
    "import subprocess\n",
    "\n",
    "# subprocess.run(\"date\",shell=True)\n",
    "print(subprocess.run(['cmd', '/c', 'date']))"
   ]
  },
  {
   "cell_type": "code",
   "execution_count": 6,
   "metadata": {},
   "outputs": [
    {
     "name": "stdout",
     "output_type": "stream",
     "text": [
      "Object `mv` not found.\n"
     ]
    }
   ],
   "source": [
    "import sys\n",
    "\n"
   ]
  },
  {
   "cell_type": "markdown",
   "metadata": {},
   "source": [
    "# Pointers for Getting Your Environment Setup\n",
    "\n",
    "### Learning more about operating systems\n",
    "\n",
    "We’ve talked briefly about what an operating system is and what we'll need to know about operating systems for this course. If you want to learn some additional operating system concepts, check out the videos on this subject in the Technical Support Fundamentals course (https://www.coursera.org/lecture/technical-support-fundamentals/module-introduction-I3n9l). If you want to dive deeper onto how to manage Windows and Linux, check out the Operating Systems and You: Becoming a Power User course (https://www.coursera.org/learn/os-power-user).\n",
    "\n",
    "If you want to discover more about the history of Unix, you can read all the details on the Unix Wikipedia page https://en.wikipedia.org/wiki/History_of_Unix.\n",
    "\n",
    "\n",
    "### Installing Python and additional modules\n",
    "\n",
    "If you don't have Python installed yet, we recommend that you visit the official Python website (http://www.python.org/) and download the installer that corresponds to your operating system.\n",
    "\n",
    "There’s a bunch of guides out there for installing Python and they all follow a similar process to the one we described in the videos. This guide from Real Python (https://realpython.com/installing-python/) includes instructions on how to install python on a range of different operating systems and distributions.\n",
    "\n",
    "Once you have Python installed on your operating system, it's a good idea to familiarize yourself with pip and the associated tools. You can find more info about these here https://packaging.python.org/guides/installing-using-pip-and-virtual-environments/.\n",
    "\n",
    "### Using package management systems\n",
    "\n",
    "Package management systems help you better manage the software installed on your machine. These management systems vary a lot from operating system to operating system. So, you need to pick the one that works for the OS you’re using. Check out these guides for help with this: \n",
    "\n",
    "*    Installing Python 3 on Windows 10 with Chocolatey\n",
    "https://www.digitalocean.com/community/tutorials/how-to-install-python-3-and-set-up-a-local-programming-environment-on-windows-10\n",
    "\n",
    "\n",
    "*    Installing Python 3 on MacOS with Homebrew\n",
    "http://www.pyladies.com/blog/Get-Your-Mac-Ready-for-Python-Programming/\n",
    "\n",
    "\n",
    "*    Package management basics on Linux\n",
    "https://www.digitalocean.com/community/tutorials/package-management-basics-apt-yum-dnf-pkg\n",
    "\n",
    "\n",
    "Other information\n",
    "\n",
    "*    Python in the Microsoft Store for Windows 10\n",
    "https://devblogs.microsoft.com/python/python-in-the-windows-10-may-2019-update/"
   ]
  },
  {
   "cell_type": "markdown",
   "metadata": {},
   "source": [
    "# Setting up Your Environment\n",
    "\n",
    "After you’ve installed Python and checked that it works, the next step to set up your developer environment is to choose your main code editor.\n",
    "\n",
    "These are some of the common editors for Python, available for all platforms:\n",
    "\n",
    "*    Atom https://atom.io/\n",
    "\n",
    "*    Eclipse https://www.eclipse.org/\n",
    "\n",
    "*    PyCharm https://www.jetbrains.com/pycharm/\n",
    "\n",
    "*    Sublime Text http://www.sublimetext.com/\n",
    "\n",
    "*    Visual Studio Code https://code.visualstudio.com/\n",
    "\n",
    "You can read more about these editors, and others, in these overview comparatives:\n",
    "\n",
    "*    Python IDEs and Code Editors (Guide) https://realpython.com/python-ides-code-editors-guide/#pycharm\n",
    "\n",
    "*    Best Python IDEs and Code Editors https://www.softwaretestinghelp.com/python-ide-code-editors/\n",
    "\n",
    "*    Top 5 Python IDEs for Data Science https://www.datacamp.com/community/tutorials/data-science-python-ide\n",
    "\n",
    "We encourage you to try out these editors and pick your favorite. Then, install it on your computer and experiment with writing and executing Python scripts locally."
   ]
  },
  {
   "cell_type": "markdown",
   "metadata": {},
   "source": [
    "# Reading and Writing Files Cheat-Sheet\n",
    "\n",
    "Check out the following link for more information:\n",
    "\n",
    "*    https://docs.python.org/3/library/functions.html#open"
   ]
  },
  {
   "cell_type": "markdown",
   "metadata": {},
   "source": [
    "# Files and Directories Cheat-Sheet\n",
    "\n",
    "Check out the following links for more information:\n",
    "\n",
    "*    https://docs.python.org/3/library/os.html\n",
    "\n",
    "*    https://docs.python.org/3/library/os.path.html\n",
    "\n",
    "*    https://en.wikipedia.org/wiki/Unix_time"
   ]
  },
  {
   "cell_type": "markdown",
   "metadata": {},
   "source": [
    "# CSV Files Cheat Sheet\n",
    "\n",
    "Check out the following links for more information:\n",
    "\n",
    "*    https://docs.python.org/3/library/csv.html\n",
    "\n",
    "*    https://realpython.com/python-csv/"
   ]
  },
  {
   "cell_type": "code",
   "execution_count": null,
   "metadata": {},
   "outputs": [],
   "source": []
  },
  {
   "cell_type": "markdown",
   "metadata": {},
   "source": [
    "## Shell Commands\n",
    "\n",
    "#### `echo`\n",
    "- `echo HELLO` print HELLO to screen\n",
    "- `echo $string1` print variable `string1`\n",
    "\n",
    "#### maths operations\n",
    "- `echo $(( 10 + 5 ))` add two numbers\n",
    "\n",
    "#### `cat`\n",
    "- `cat [file]` command allows us to create single or multiple files, view the contents of a file, concatenate files, and redirect output in terminal or other files.\n",
    "\n",
    "#### `grep`\n",
    "\n",
    "Grep command, which stands for \"global regular expression print\", processes text line-by-line and prints any lines that match a specified pattern.\n",
    "\n",
    "- `grep [pattern] [file-directory/location]` \n",
    "- e.g. `grep \"jane\" list.txt` find the occurances of \"jane\" in list.txt\n",
    "\n",
    "Here, [file-directory] is the path to the directory/folder where you want to perform a search operation. The grep command is also used to search text and match a string or pattern within a file.\n",
    "\n",
    "#### `cut`\n",
    "\n",
    "- `cut [options] [file]` The cut command extracts a given number of characters or columns from a file. A delimiter is a character or set of characters that separate text strings.\n",
    "- For delimiter separated fields, the - d option is used. The -f option specifies the field, a set of fields, or a range of fields to be extracted.\n",
    " `cut -d [delimiter] -f [field number]`\n",
    "\n",
    "#### `cat`\n",
    "\n",
    "- `cat > [file]`\n",
    " - Each stream uses redirection commands. A single greater than sign (>) or a double greater than sign (>>) can be used to redirect standard output. If the target file doesn't exist, a new file with the same name will be created.\n",
    "- `cat >> [file]`\n",
    " - Commands with a double greater than sign (>>) do not overwrite the existing file content, but it will append to it.\n",
    "\n",
    "- `>` can be used to create a file\n",
    " - e.g. `> test.txt`\n",
    " - creates the file test.txt\n",
    "- `echo \"I am appending text to this test file\" >> test.txt`\n",
    " - to append to the same file\n",
    " \n",
    "#### `test`\n",
    "\n",
    "tests an assertion can be replaced with []\n",
    "\n",
    "#### `nano`\n",
    "\n",
    "Edit a file / create a file and edit it\n",
    "\n",
    "for a shell script\n",
    "- `#!/bin/bash`\n",
    "\n",
    "And for a python script\n",
    "- `#!/usr/bin/env python3`\n",
    "\n",
    "#### `chmod`\n",
    "\n",
    "- `chmod +x findJane.sh`\n",
    "\n",
    "#### `for` statement\n",
    "\n",
    "- `for i in 1 2 3; do echo $i; done`\n",
    "- the key elements to note are `;` `do` and `done`"
   ]
  },
  {
   "cell_type": "markdown",
   "metadata": {},
   "source": [
    "Examples\n",
    "\n",
    "`cat list.txt`\n",
    "\n",
    "    001 jane /data/jane_profile_07272018.doc\n",
    "    002 kwood /data/kwood_profile_04022017.doc\n",
    "    003 pchow /data/pchow_profile_05152019.doc\n",
    "    004 janez /data/janez_profile_11042019.doc\n",
    "    005 jane /data/jane_pic_07282018.jpg\n",
    "    006 kwood /data/kwood_pic_04032017.jpg\n",
    "    007 pchow /data/pchow_pic_05162019.jpg\n",
    "    008 jane /data/jane_contact_07292018.csv\n",
    "    009 kwood /data/kwood_contact_04042017.csv\n",
    "    010 pchow /data/pchow_contact_05172019.csv\n",
    "\n",
    "`cat list.txt | cut -d ' ' -f 2`\n",
    "\n",
    "    jane\n",
    "    kwood\n",
    "    pchow\n",
    "    janez\n",
    "    jane\n",
    "    kwood\n",
    "    pchow\n",
    "    jane\n",
    "    kwood\n",
    "    pchow\n",
    "\n",
    "- here | is a pipe to connect commands\n",
    "- each line is `cut` by delimiter space ' ' then the 2nd term is outputted. IF we put 1 instead we get 001, 002 etc\n",
    "- or `f 1,3` would get 1st and 3rd parts after split by space \n",
    "\n",
    "\n",
    "`if test -e ~/data/jane_profile_07272018.doc; then echo \"File exists\"; else echo \"File doesn't exist\"; fi`\n",
    "\n",
    "- the use of `e` tests if a file exists\n"
   ]
  },
  {
   "cell_type": "code",
   "execution_count": null,
   "metadata": {
    "deletable": false,
    "editable": false,
    "run_control": {
     "frozen": true
    }
   },
   "outputs": [],
   "source": [
    "# For statement print numbers 1 to 99 in steps of 1\n",
    "for i in {1..99..1}\n",
    "do \n",
    "  echo $i\n",
    "done"
   ]
  },
  {
   "cell_type": "code",
   "execution_count": null,
   "metadata": {
    "deletable": false,
    "editable": false,
    "run_control": {
     "frozen": true
    }
   },
   "outputs": [],
   "source": [
    "# For and If statements with math operation\n",
    "for i in {1..99..1}\n",
    "do \n",
    "  if [ $(( i % 2 )) == 1 ]\n",
    "  then\n",
    "    echo $i\n",
    "  fi\n",
    "done"
   ]
  },
  {
   "cell_type": "code",
   "execution_count": null,
   "metadata": {
    "deletable": false,
    "editable": false,
    "run_control": {
     "frozen": true
    }
   },
   "outputs": [],
   "source": [
    "#!/bin/bash\n",
    "> oldFiles.txt\n",
    "\n",
    "files=\"$(grep \" jane \" ../data/list.txt | cut -d \" \" -f 3)\"\n",
    "\n",
    "for file in $files;\n",
    "  do\n",
    "   if test -e \"..\"$file;\n",
    "   then echo $file >> oldFiles.txt;\n",
    "   else echo \"no\" $file;\n",
    "   fi\n",
    "\n",
    "done"
   ]
  },
  {
   "cell_type": "markdown",
   "metadata": {},
   "source": [
    "Bash Scripting Resources\n",
    "\n",
    "Check out the following links for more information:\n",
    "\n",
    "- https://ryanstutorials.net/bash-scripting-tutorial/\n",
    "\n",
    "- https://linuxconfig.org/bash-scripting-tutorial-for-beginners\n",
    "\n",
    "- https://www.shellscript.sh"
   ]
  }
 ],
 "metadata": {
  "hide_input": false,
  "kernelspec": {
   "display_name": "Python 3 (ipykernel)",
   "language": "python",
   "name": "python3"
  },
  "language_info": {
   "codemirror_mode": {
    "name": "ipython",
    "version": 3
   },
   "file_extension": ".py",
   "mimetype": "text/x-python",
   "name": "python",
   "nbconvert_exporter": "python",
   "pygments_lexer": "ipython3",
   "version": "3.8.8"
  },
  "varInspector": {
   "cols": {
    "lenName": 16,
    "lenType": 16,
    "lenVar": 40
   },
   "kernels_config": {
    "python": {
     "delete_cmd_postfix": "",
     "delete_cmd_prefix": "del ",
     "library": "var_list.py",
     "varRefreshCmd": "print(var_dic_list())"
    },
    "r": {
     "delete_cmd_postfix": ") ",
     "delete_cmd_prefix": "rm(",
     "library": "var_list.r",
     "varRefreshCmd": "cat(var_dic_list()) "
    }
   },
   "types_to_exclude": [
    "module",
    "function",
    "builtin_function_or_method",
    "instance",
    "_Feature"
   ],
   "window_display": false
  }
 },
 "nbformat": 4,
 "nbformat_minor": 5
}
