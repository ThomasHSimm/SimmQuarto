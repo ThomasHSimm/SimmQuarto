{
 "cells": [
  {
   "cell_type": "markdown",
   "metadata": {},
   "source": [
    "# Decision Trees and Random Forests\n",
    "> Using Swansea property prices as a regression example of random forests\n",
    "\n",
    "- toc: true \n",
    "- badges: true\n",
    "- comments: true\n",
    "- categories: [RF, decision trees, random forests, python]"
   ]
  },
  {
   "cell_type": "markdown",
   "metadata": {},
   "source": [
    "![](ghtop_images/header2.png)\n",
    "\n"
   ]
  },
  {
   "cell_type": "markdown",
   "metadata": {},
   "source": [
    "## Decision Trees\n",
    "\n",
    "A decision tree asks a series of binary questions about the data, whereupon the data is split into two branches. For each of these branches another question can be asked, or a prediction made. The branches continue until a prediction is made.\n",
    "\n",
    "These are created using training data and can subsequently be used with test data.\n",
    "\n",
    "`DecisionTreeRegressor?`\n",
    "\n",
    "`DecisionTreeRegressor(\n",
    "    *,\n",
    "    criterion='squared_error',\n",
    "    splitter='best',\n",
    "    max_depth=None,\n",
    "    min_samples_split=2,\n",
    "    min_samples_leaf=1,\n",
    "    min_weight_fraction_leaf=0.0,\n",
    "    max_features=None,\n",
    "    random_state=None,\n",
    "    max_leaf_nodes=None,\n",
    "    min_impurity_decrease=0.0,\n",
    "    ccp_alpha=0.0,\n",
    ")`\n",
    "\n",
    "### Changing paramaters"
   ]
  },
  {
   "cell_type": "code",
   "execution_count": 15,
   "metadata": {
    "deletable": false,
    "editable": false,
    "run_control": {
     "frozen": true
    }
   },
   "outputs": [],
   "source": [
    "m = DecisionTreeRegressor(max_leaf_nodes=4)\n",
    "m.fit(xs, y);\n",
    "draw_tree(m, xs, size=10, leaves_parallel=True, precision=2)"
   ]
  },
  {
   "cell_type": "markdown",
   "metadata": {},
   "source": [
    "![](ghtop_images/draw_tree.png)"
   ]
  },
  {
   "cell_type": "code",
   "execution_count": 17,
   "metadata": {
    "deletable": false,
    "editable": false,
    "run_control": {
     "frozen": true
    }
   },
   "outputs": [],
   "source": [
    "m = DecisionTreeRegressor(max_leaf_nodes=7)\n",
    "m.fit(xs, y);\n",
    "draw_tree(m, xs, size=10, leaves_parallel=True, precision=2)"
   ]
  },
  {
   "cell_type": "markdown",
   "metadata": {},
   "source": [
    "![](ghtop_images/draw_tree2.png)"
   ]
  },
  {
   "cell_type": "code",
   "execution_count": null,
   "metadata": {
    "deletable": false,
    "editable": false,
    "run_control": {
     "frozen": true
    }
   },
   "outputs": [],
   "source": [
    "m = DecisionTreeRegressor(max_leaf_nodes=7,max_depth=2)\n",
    "m.fit(xs, y);\n",
    "draw_tree(m, xs, size=10, leaves_parallel=True, precision=2)"
   ]
  },
  {
   "cell_type": "markdown",
   "metadata": {},
   "source": [
    "![](ghtop_images/draw_tree_3.png)"
   ]
  },
  {
   "cell_type": "code",
   "execution_count": null,
   "metadata": {
    "deletable": false,
    "editable": false,
    "run_control": {
     "frozen": true
    }
   },
   "outputs": [],
   "source": [
    "m = DecisionTreeRegressor(max_leaf_nodes=7,min_samples_split=30_000)\n",
    "m.fit(xs, y);\n",
    "draw_tree(m, xs, size=10, leaves_parallel=True, precision=2)"
   ]
  },
  {
   "cell_type": "markdown",
   "metadata": {},
   "source": [
    "![](ghtop_images/draw_tree4.png)"
   ]
  },
  {
   "cell_type": "code",
   "execution_count": null,
   "metadata": {
    "deletable": false,
    "editable": false,
    "run_control": {
     "frozen": true
    }
   },
   "outputs": [],
   "source": [
    "m = DecisionTreeRegressor(max_leaf_nodes=7,min_samples_leaf=30_000)\n",
    "m.fit(xs, y);\n",
    "draw_tree(m, xs, size=10, leaves_parallel=True, precision=2)\n",
    "# DecisionTreeRegressor?"
   ]
  },
  {
   "cell_type": "markdown",
   "metadata": {},
   "source": [
    "![](ghtop_images/draw_tree5.png)"
   ]
  },
  {
   "cell_type": "code",
   "execution_count": null,
   "metadata": {
    "deletable": false,
    "editable": false,
    "run_control": {
     "frozen": true
    }
   },
   "outputs": [],
   "source": [
    "m = DecisionTreeRegressor(max_features=3,max_leaf_nodes=10)\n",
    "m.fit(xs, y);\n",
    "draw_tree(m, xs, size=10, leaves_parallel=True, precision=2)"
   ]
  },
  {
   "cell_type": "markdown",
   "metadata": {},
   "source": [
    "![](ghtop_images/draw_tree6.png)"
   ]
  },
  {
   "cell_type": "markdown",
   "metadata": {},
   "source": [
    "### Hyper Parameters\n",
    "\n",
    "|Parameter|Description|Default|\n",
    "|-----|-------------------|-------|\n",
    "| max_depth  | The maximum number of branches to get to the result. <br /> ie top to bottom length. |None|\n",
    "| max_leaf_nodes | The total number of branches | None |\n",
    "| min_samples_split | The minimum number of samples required to split an internal node | 2|\n",
    "| min_samples_leaf | The minimum number of samples required to be at a leaf node. | 1|\n",
    "| max_features | Maximum number of features (i.e. parameters using to fit or X) | None |\n",
    "\n"
   ]
  },
  {
   "cell_type": "markdown",
   "metadata": {},
   "source": [
    "## Random Forests\n",
    "\n",
    "Random forests use many decision trees using ensembling (combining multiple models). Today it is, perhaps, the most widely used and practically important machine learning method.\n",
    "\n",
    "Random forests uses **Bagging** as the ensemble method. The other main one being Boosting. \n",
    "\n",
    "In bagging many decision tree models are combined together by averaging them. \n",
    "Each decision tree is trained on a different data subset and can have different parameters to fit to the data.\n",
    "\n",
    "\n",
    "[\"Bagging Predictors\"](https://www.stat.berkeley.edu/~breiman/bagging.pdf)\n",
    "Leo Breiman\n",
    "> : Bagging predictors is a method for generating multiple versions of a predictor and using these to get an aggregated predictor. The aggregation averages over the versions... The multiple versions are formed by making bootstrap replicates of the learning set and using these as new learning sets. Tests… show that bagging can give substantial gains in accuracy. The vital element is the instability of the prediction method. If perturbing the learning set can cause significant changes in the predictor constructed, then bagging can improve accuracy.\n",
    "\n",
    "Here is the procedure that Breiman is proposing:\n",
    "\n",
    "1. Randomly choose a subset of the rows of your data (i.e., \"bootstrap replicates of your learning set\").\n",
    "1. Train a model using this subset.\n",
    "1. Save that model, and then return to step 1 a few times.\n",
    "1. This will give you a number of trained models. To make a prediction, predict using all of the models, and then take the average of each of those model's predictions.\n",
    "\n",
    "\n",
    "| Decision trees | Random Forests|\n",
    "|----------------------------|-------------------------|\n",
    "|Can suffer from overfitting. <br/> Care should be taken with the hyper parameters and use of validation data| Subsets of the data are used for each model and the results averaged <br/> So overfitting is mostly taken care of|\n",
    "|Faster computation | Slower |\n",
    "|Formulate a set of rules fore predictions | No rules|"
   ]
  },
  {
   "cell_type": "markdown",
   "metadata": {},
   "source": [
    "### Hyper Parameters\n",
    "\n",
    "|Parameter|Description|Default|\n",
    "|-----|-------------------|-------|\n",
    "| n_estimators  | number of trees the algorithm builds before averaging the predictions |100|\n",
    "| max_features | Maximum number of features (i.e. parameters using to fit or X) | 1.0 (regression or sqrt (classification) |\n",
    "| min_samples_leaf | The minimum number of samples required to be at a leaf node. | 1|\n",
    "| n_jobs | How many processors can be used <br/> =1 uses one processor, =-1 no limit on number | None |\n",
    "| oob_score | OOB=Out of the bag. In this one-third of the sample is not used to train the data instead used to evaluate its performance| False|\n",
    "\n",
    "> One of the most important properties of random forests is that they aren't very sensitive to the hyperparameter choices, such as max_features. You can set n_estimators to as high a number as you have time to train—the more trees you have, the more accurate the model will be. max_samples can often be left at its default, unless you have over 200,000 data points, in which case setting it to 200,000 will make it train faster with little impact on accuracy. max_features=0.5 and min_samples_leaf=4 both tend to work well, although sklearn's defaults work well too.\n",
    "\n",
    "FastAI\n",
    "\n",
    "\n",
    "![](https://scikit-learn.org/stable/_images/sphx_glr_plot_ensemble_oob_001.png)\n",
    "https://scikit-learn.org/stable/auto_examples/ensemble/plot_ensemble_oob.html\n",
    "> In the plot, the blue plot line uses the fewest features and the green line uses the most (it uses all the features). As you can see in <>, the models with the lowest error result from using a subset of features but with a larger number of trees.\n",
    "\n",
    "FastAI"
   ]
  },
  {
   "cell_type": "code",
   "execution_count": 21,
   "metadata": {},
   "outputs": [],
   "source": [
    "m = DecisionTreeRegressor(max_leaf_nodes=4)\n",
    "m.fit(xs, y); \n",
    "\n",
    "samp_idx = np.random.permutation(len(y))[:500]\n",
    "dtreeviz(m, xs.iloc[samp_idx], y.iloc[samp_idx], xs.columns, dep_var,\n",
    "        fontname='DejaVu Sans', scale=1.6, label_fontsize=10,\n",
    "        orientation='LR')"
   ]
  },
  {
   "cell_type": "markdown",
   "metadata": {},
   "source": [
    "![](ghtop_images/draw_treeB.png)"
   ]
  },
  {
   "cell_type": "markdown",
   "metadata": {},
   "source": [
    "## Implementaion\n",
    "\n",
    "https://www.kaggle.com/thomassimm/rf-swanseahouses"
   ]
  },
  {
   "cell_type": "markdown",
   "metadata": {},
   "source": [
    "## Bibliography\n",
    "\n",
    "1. Fast AI - 09- Tabular Data - https://github.com/fastai/fastbook/blob/master/09_tabular.ipynb\n",
    "1. Understanding Random Forest - https://www.analyticsvidhya.com/blog/2021/06/understanding-random-forest/\n",
    "1. Scikit learn - https://scikit-learn.org/stable/modules/generated/sklearn.ensemble.RandomForestClassifier.html & https://scikit-learn.org/stable/modules/generated/sklearn.ensemble.RandomForestRegressor.html"
   ]
  }
 ],
 "metadata": {
  "hide_input": false,
  "kernelspec": {
   "display_name": "Python 3 (ipykernel)",
   "language": "python",
   "name": "python3"
  },
  "language_info": {
   "codemirror_mode": {
    "name": "ipython",
    "version": 3
   },
   "file_extension": ".py",
   "mimetype": "text/x-python",
   "name": "python",
   "nbconvert_exporter": "python",
   "pygments_lexer": "ipython3",
   "version": "3.8.8"
  },
  "varInspector": {
   "cols": {
    "lenName": 16,
    "lenType": 16,
    "lenVar": 40
   },
   "kernels_config": {
    "python": {
     "delete_cmd_postfix": "",
     "delete_cmd_prefix": "del ",
     "library": "var_list.py",
     "varRefreshCmd": "print(var_dic_list())"
    },
    "r": {
     "delete_cmd_postfix": ") ",
     "delete_cmd_prefix": "rm(",
     "library": "var_list.r",
     "varRefreshCmd": "cat(var_dic_list()) "
    }
   },
   "types_to_exclude": [
    "module",
    "function",
    "builtin_function_or_method",
    "instance",
    "_Feature"
   ],
   "window_display": false
  }
 },
 "nbformat": 4,
 "nbformat_minor": 2
}
