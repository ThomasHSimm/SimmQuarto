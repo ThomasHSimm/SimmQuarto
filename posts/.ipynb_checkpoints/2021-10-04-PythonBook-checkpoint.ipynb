{
 "cells": [
  {
   "cell_type": "markdown",
   "id": "933b100d",
   "metadata": {},
   "source": [
    "# Some Python Basics\n",
    "> Python\n",
    "\n",
    "- toc: true \n",
    "- badges: true\n",
    "- comments: true\n",
    "- categories: [Python, lists, strings, print,maths,variables]"
   ]
  },
  {
   "cell_type": "markdown",
   "metadata": {},
   "source": [
    "![](ghtop_images/header2.png)"
   ]
  },
  {
   "cell_type": "markdown",
   "metadata": {},
   "source": []
  },
  {
   "cell_type": "markdown",
   "metadata": {},
   "source": [
    "## Some maths"
   ]
  },
  {
   "cell_type": "code",
   "execution_count": 13,
   "id": "90484fc2",
   "metadata": {},
   "outputs": [
    {
     "name": "stdout",
     "output_type": "stream",
     "text": [
      "3.141592653589793\n",
      "5.830951894845301\n"
     ]
    }
   ],
   "source": [
    "import math\n",
    "print(math.pi)\n",
    "print(math.sqrt(34))"
   ]
  },
  {
   "cell_type": "code",
   "execution_count": 12,
   "id": "4119b288",
   "metadata": {},
   "outputs": [
    {
     "name": "stdout",
     "output_type": "stream",
     "text": [
      "0.7617615023592539\n",
      "4\n",
      "2\n"
     ]
    }
   ],
   "source": [
    "import random\n",
    "print(random.random())\n",
    "\n",
    "print(random.choice([1,2,3,4]))\n",
    "print(random.choice([1,2,3,4]))"
   ]
  },
  {
   "cell_type": "markdown",
   "metadata": {},
   "source": [
    "## Indexing"
   ]
  },
  {
   "cell_type": "code",
   "execution_count": 14,
   "id": "21054f98",
   "metadata": {},
   "outputs": [
    {
     "name": "stdout",
     "output_type": "stream",
     "text": [
      "pa\n",
      "Spa\n",
      "pam\n",
      "Spam\n",
      "SpamSpamSpam\n"
     ]
    }
   ],
   "source": [
    "S='Spam'\n",
    "\n",
    "print(S[1:3])\n",
    "print(S[:-1])\n",
    "print(S[1:])\n",
    "print(S[:])\n",
    "print(S*3)"
   ]
  },
  {
   "cell_type": "markdown",
   "id": "4277d792",
   "metadata": {},
   "source": [
    "## Immutability"
   ]
  },
  {
   "cell_type": "code",
   "execution_count": 15,
   "id": "8673aeac",
   "metadata": {},
   "outputs": [
    {
     "ename": "TypeError",
     "evalue": "'str' object does not support item assignment",
     "output_type": "error",
     "traceback": [
      "\u001b[1;31m---------------------------------------------------------------------------\u001b[0m",
      "\u001b[1;31mTypeError\u001b[0m                                 Traceback (most recent call last)",
      "\u001b[1;32m~\\AppData\\Local\\Temp/ipykernel_16436/769787010.py\u001b[0m in \u001b[0;36m<module>\u001b[1;34m\u001b[0m\n\u001b[0;32m      1\u001b[0m \u001b[1;31m# strings are not immutable\u001b[0m\u001b[1;33m\u001b[0m\u001b[1;33m\u001b[0m\u001b[1;33m\u001b[0m\u001b[0m\n\u001b[1;32m----> 2\u001b[1;33m \u001b[0mS\u001b[0m\u001b[1;33m[\u001b[0m\u001b[1;36m0\u001b[0m\u001b[1;33m]\u001b[0m\u001b[1;33m=\u001b[0m\u001b[1;34m'p'\u001b[0m \u001b[1;31m##error\u001b[0m\u001b[1;33m\u001b[0m\u001b[1;33m\u001b[0m\u001b[0m\n\u001b[0m",
      "\u001b[1;31mTypeError\u001b[0m: 'str' object does not support item assignment"
     ]
    }
   ],
   "source": [
    "\n",
    "# strings are not immutable\n",
    "S[0]='p' ##error"
   ]
  },
  {
   "cell_type": "code",
   "execution_count": 16,
   "id": "df4a29b5",
   "metadata": {},
   "outputs": [
    {
     "name": "stdout",
     "output_type": "stream",
     "text": [
      "zpam\n"
     ]
    }
   ],
   "source": [
    "# but we can create a new string\n",
    "S = 'z' +S[1:]\n",
    "print(S)\n",
    "#or use replaces"
   ]
  },
  {
   "cell_type": "markdown",
   "id": "c0bc244a",
   "metadata": {},
   "source": [
    "## String specific methods\n",
    "https://docs.python.org/3/library/stdtypes.html#string-methods"
   ]
  },
  {
   "cell_type": "markdown",
   "metadata": {},
   "source": [
    "### Split\n",
    "\n",
    "Return a list of the words in the string, using sep as the delimiter string. If maxsplit is given, at most maxsplit splits are done (thus, the list will have at most maxsplit+1 elements). If maxsplit is not specified or -1, then there is no limit on the number of splits (all possible splits are made)."
   ]
  },
  {
   "cell_type": "code",
   "execution_count": 1,
   "metadata": {},
   "outputs": [
    {
     "name": "stdout",
     "output_type": "stream",
     "text": [
      "['xsxhu', 'csjoaij', 'jsaijaio', 'j', 'dijoi']\n",
      "['xsxhu cs', 'oai', ' jsaijaio j dijoi']\n"
     ]
    }
   ],
   "source": [
    "stra='xsxhu csjoaij jsaijaio j dijoi'\n",
    "stra1=stra.split()\n",
    "print(stra1)\n",
    "stra1=stra.split('j',maxsplit=2)\n",
    "print(stra1)\n"
   ]
  },
  {
   "cell_type": "code",
   "execution_count": null,
   "metadata": {},
   "outputs": [],
   "source": [
    "line='aaa,bbb,cccc,dd d\\n'\n",
    "\n",
    "#split based on something\n",
    "print(line.split(','))\n",
    "#creates a list\n",
    "print(type(line.split(',')))\n",
    "\n",
    "# strip out whitespace on rhs\n",
    "print(line.rstrip())\n"
   ]
  },
  {
   "cell_type": "markdown",
   "metadata": {},
   "source": [
    "### Strip\n",
    "Return a copy of the string with the leading and trailing characters removed.\n"
   ]
  },
  {
   "cell_type": "code",
   "execution_count": 2,
   "metadata": {},
   "outputs": [
    {
     "data": {
      "text/plain": [
       "'spacious'"
      ]
     },
     "execution_count": 2,
     "metadata": {},
     "output_type": "execute_result"
    }
   ],
   "source": [
    "'   spacious   '.strip()"
   ]
  },
  {
   "cell_type": "markdown",
   "metadata": {},
   "source": [
    "### Check nature of string\n",
    "\n",
    "`str.isalnum()`\n",
    "\n",
    "This method checks if all the characters of a string are alphanumeric (a-z, A-Z and 0-9)."
   ]
  },
  {
   "cell_type": "code",
   "execution_count": 3,
   "metadata": {},
   "outputs": [
    {
     "name": "stdout",
     "output_type": "stream",
     "text": [
      "abcD1 True\n",
      "abcD1# False\n"
     ]
    }
   ],
   "source": [
    "stra='abcD1'\n",
    "print(stra,stra.isalnum())\n",
    "stra='abcD1#'\n",
    "print(stra,stra.isalnum())"
   ]
  },
  {
   "cell_type": "markdown",
   "metadata": {},
   "source": [
    "`str.isalpha()`\n",
    "\n",
    "This method checks if all the characters of a string are alphabetical (a-z and A-Z)."
   ]
  },
  {
   "cell_type": "code",
   "execution_count": 4,
   "metadata": {},
   "outputs": [
    {
     "name": "stdout",
     "output_type": "stream",
     "text": [
      "abcD1 False\n",
      "abcD True\n"
     ]
    }
   ],
   "source": [
    "stra='abcD1'\n",
    "print(stra,stra.isalpha())\n",
    "stra='abcD'\n",
    "print(stra,stra.isalpha())"
   ]
  },
  {
   "cell_type": "markdown",
   "metadata": {},
   "source": [
    "`str.isdigit()`\n",
    "\n",
    "This method checks if all the characters of a string are digits (0-9)"
   ]
  },
  {
   "cell_type": "markdown",
   "metadata": {},
   "source": [
    "stra='abcD1'\n",
    "print(stra,stra.isdigit())\n",
    "stra='190'\n",
    "print(stra,stra.isdigit())"
   ]
  },
  {
   "cell_type": "markdown",
   "metadata": {},
   "source": [
    "`str.islower()`\n",
    "\n",
    "This method checks if all the characters of a string are lowercase characters (a-z)."
   ]
  },
  {
   "cell_type": "code",
   "execution_count": 6,
   "metadata": {},
   "outputs": [
    {
     "name": "stdout",
     "output_type": "stream",
     "text": [
      "abcD1 False\n",
      "190 False\n"
     ]
    }
   ],
   "source": [
    "stra='abcD1'\n",
    "print(stra,stra.islower())\n",
    "stra='190'\n",
    "print(stra,stra.islower())"
   ]
  },
  {
   "cell_type": "markdown",
   "metadata": {},
   "source": [
    "`str.lower` or `str.upper` change whether upper or lower case"
   ]
  },
  {
   "cell_type": "code",
   "execution_count": 7,
   "metadata": {},
   "outputs": [
    {
     "name": "stdout",
     "output_type": "stream",
     "text": [
      "abcD1 abcd1 ABCD1\n"
     ]
    }
   ],
   "source": [
    "stra='abcD1'\n",
    "print(stra,stra.lower(),stra.upper())"
   ]
  },
  {
   "cell_type": "markdown",
   "metadata": {},
   "source": [
    "captialize the first character "
   ]
  },
  {
   "cell_type": "code",
   "execution_count": 8,
   "metadata": {},
   "outputs": [
    {
     "name": "stdout",
     "output_type": "stream",
     "text": [
      "Abcd1\n"
     ]
    }
   ],
   "source": [
    "print(stra.capitalize())"
   ]
  },
  {
   "cell_type": "markdown",
   "metadata": {},
   "source": [
    "### Find\n",
    "\n",
    "Find the position of a substring within a string\n",
    "\n",
    "`string.find(stringIN)` scan left to right\n",
    "\n",
    "`string.rfind(stringIN)` scan right to left\n"
   ]
  },
  {
   "cell_type": "code",
   "execution_count": 9,
   "metadata": {},
   "outputs": [
    {
     "data": {
      "text/plain": [
       "(2, 4)"
      ]
     },
     "execution_count": 9,
     "metadata": {},
     "output_type": "execute_result"
    }
   ],
   "source": [
    "stra='ABCDCDC'\n",
    "straa='BCD'\n",
    "stra.find('CD'),stra.rfind('CD')"
   ]
  },
  {
   "cell_type": "markdown",
   "metadata": {},
   "source": [
    "### Replace\n",
    "\n",
    "`string.replace(sub_string,string)` replace parts of a string"
   ]
  },
  {
   "cell_type": "code",
   "execution_count": 10,
   "id": "2c121a90",
   "metadata": {},
   "outputs": [
    {
     "name": "stdout",
     "output_type": "stream",
     "text": [
      "oke doke karaoke\n",
      "oke doke noke\n"
     ]
    }
   ],
   "source": [
    "S='oke doke karaoke'\n",
    "\n",
    "#replace parts of a string\n",
    "print(S)\n",
    "print(S.replace('karaoke','noke'))\n",
    "\n"
   ]
  },
  {
   "cell_type": "code",
   "execution_count": null,
   "id": "466b571b",
   "metadata": {},
   "outputs": [],
   "source": []
  },
  {
   "cell_type": "markdown",
   "id": "63766a0c",
   "metadata": {},
   "source": [
    "## Formatting"
   ]
  },
  {
   "cell_type": "code",
   "execution_count": null,
   "id": "46db5b94",
   "metadata": {},
   "outputs": [],
   "source": [
    "\n",
    "print('%s, eggs, and %s' % ('spam', 'SPAM!'))\n",
    "\n",
    "print('{0}, eggs, and {1}'.format('spam', 'SPAM!'))"
   ]
  },
  {
   "cell_type": "markdown",
   "id": "06eb0d14",
   "metadata": {},
   "source": [
    "## Help\n",
    "\n",
    "Put into help( ) to get help on it"
   ]
  },
  {
   "cell_type": "code",
   "execution_count": null,
   "id": "0db5dcdc",
   "metadata": {},
   "outputs": [],
   "source": [
    "help(S.format)"
   ]
  },
  {
   "cell_type": "markdown",
   "id": "92411301",
   "metadata": {},
   "source": [
    "## Lists\n",
    "\n",
    "https://docs.python.org/3/tutorial/datastructures.html?highlight=tuple"
   ]
  },
  {
   "cell_type": "markdown",
   "id": "923a267e",
   "metadata": {},
   "source": [
    "The Python list object is the most general sequence provided by the language. \n",
    "Lists are positionally ordered collections of arbitrarily typed objects, and they have no fixed size.\n",
    "They are also mutable—unlike strings, lists can be modified in-place by assignment to offsets as well as a variety of list method calls"
   ]
  },
  {
   "cell_type": "markdown",
   "metadata": {},
   "source": [
    "### New List\n",
    "\n",
    "Create a list with `list(XX)`"
   ]
  },
  {
   "cell_type": "code",
   "execution_count": 17,
   "metadata": {},
   "outputs": [
    {
     "name": "stdout",
     "output_type": "stream",
     "text": [
      "['1', ' ', '2', ' ', '3', ' ', '4', ' ', '5', ' ', '6', ' ', '7']\n"
     ]
    }
   ],
   "source": [
    "a='1 2 3 4 5 6 7'\n",
    "lista = list(a)\n",
    "print(lista)"
   ]
  },
  {
   "cell_type": "markdown",
   "metadata": {},
   "source": [
    "### Copy\n",
    "\n",
    "`list.copy`"
   ]
  },
  {
   "cell_type": "code",
   "execution_count": 18,
   "metadata": {},
   "outputs": [
    {
     "name": "stdout",
     "output_type": "stream",
     "text": [
      "Original a=\n",
      " ['1', '2', '3']\n",
      "list b, where b=a and b[1] modified, b=\n",
      " ['1', 'po', '3'] \n",
      "Just using equals b=a after mods, a=\n",
      " ['1', 'po', '3'] \n",
      " Using a copy c=a.copy(), c=\n",
      " ['1', '2', '3'] \n",
      " Using d=a[:] to create a copy, d=\n",
      " ['1', '2', '3']\n"
     ]
    }
   ],
   "source": [
    "lista =a.split(' ')\n",
    "lista=lista[0:3]\n",
    "print('Original a=\\n',lista)\n",
    "listb=lista\n",
    "listc=lista.copy()\n",
    "listd=lista[:]\n",
    "\n",
    "listb[1]='po'\n",
    "\n",
    "print('list b, where b=a and b[1] modified, b=\\n',listb,\n",
    "    '\\nJust using equals b=a after mods, a=\\n',lista,\n",
    "      '\\n Using a copy c=a.copy(), c=\\n',listc,\n",
    "      '\\n Using d=a[:] to create a copy, d=\\n',listd)"
   ]
  },
  {
   "cell_type": "markdown",
   "metadata": {},
   "source": [
    "### Append\n",
    "\n",
    "`list.append(x)`, add x to end of a list"
   ]
  },
  {
   "cell_type": "code",
   "execution_count": 19,
   "metadata": {},
   "outputs": [
    {
     "name": "stdout",
     "output_type": "stream",
     "text": [
      "['1', 'po', '3']\n",
      "['1', 'po', '3', 'ok']\n"
     ]
    }
   ],
   "source": [
    "print(lista)\n",
    "lista.append('ok')\n",
    "print(lista)"
   ]
  },
  {
   "cell_type": "markdown",
   "metadata": {},
   "source": [
    "### Insert\n",
    "\n",
    "`lista.insert(i,x)` insert x at position i"
   ]
  },
  {
   "cell_type": "code",
   "execution_count": 21,
   "metadata": {},
   "outputs": [
    {
     "name": "stdout",
     "output_type": "stream",
     "text": [
      "['1', 'po', 'two', '3', 'ok']\n"
     ]
    }
   ],
   "source": [
    "lista.insert(2,'two')\n",
    "print(lista)"
   ]
  },
  {
   "cell_type": "markdown",
   "metadata": {},
   "source": [
    "### Remove\n",
    "\n",
    "`lista.remove(x)` Remove the first item from the list whose value is equal to x."
   ]
  },
  {
   "cell_type": "code",
   "execution_count": 22,
   "metadata": {},
   "outputs": [
    {
     "name": "stdout",
     "output_type": "stream",
     "text": [
      "['1', 'po', '3', 'ok']\n"
     ]
    }
   ],
   "source": [
    "lista.remove('two')\n",
    "print(lista)"
   ]
  },
  {
   "cell_type": "markdown",
   "metadata": {},
   "source": [
    "### Pop\n",
    "\n",
    "`lista.pop([i])` Remove the item at the given position in the list, and return it\n",
    "\n",
    "`list.popleft` at left"
   ]
  },
  {
   "cell_type": "code",
   "execution_count": 23,
   "metadata": {},
   "outputs": [
    {
     "name": "stdout",
     "output_type": "stream",
     "text": [
      "po\n"
     ]
    }
   ],
   "source": [
    "print(lista.pop(1))"
   ]
  },
  {
   "cell_type": "markdown",
   "metadata": {},
   "source": [
    "### Remove\n",
    "\n",
    "`list.clear()` Remove all items from the list. Equivalent to del a[:]."
   ]
  },
  {
   "cell_type": "code",
   "execution_count": 24,
   "metadata": {},
   "outputs": [
    {
     "name": "stdout",
     "output_type": "stream",
     "text": [
      "None\n",
      "[]\n"
     ]
    }
   ],
   "source": [
    "print(lista.clear())\n",
    "print(lista)"
   ]
  },
  {
   "cell_type": "markdown",
   "metadata": {},
   "source": [
    "### Index\n",
    "\n",
    "`list.index(x,i)` Return position of x within list starting at position i\n",
    "\n"
   ]
  },
  {
   "cell_type": "code",
   "execution_count": 25,
   "metadata": {},
   "outputs": [
    {
     "name": "stdout",
     "output_type": "stream",
     "text": [
      "['1', '2', '3', '1']\n",
      "0 2\n"
     ]
    }
   ],
   "source": [
    "listc.append('1')\n",
    "print(listc)\n",
    "print(listc.index('1'),2)"
   ]
  },
  {
   "cell_type": "markdown",
   "metadata": {},
   "source": [
    "### Count\n",
    "\n",
    "`lista.count(x)` Return the number of times x appears in the list."
   ]
  },
  {
   "cell_type": "code",
   "execution_count": 26,
   "metadata": {},
   "outputs": [
    {
     "name": "stdout",
     "output_type": "stream",
     "text": [
      "2\n"
     ]
    }
   ],
   "source": [
    "print(listc.count('1'))"
   ]
  },
  {
   "cell_type": "markdown",
   "metadata": {},
   "source": [
    "### Sort\n",
    "\n",
    "`lista.sort(*, key=None, reverse=False)`     Sort the items of the list in place (the arguments can be used for sort customization, see sorted() (https://docs.python.org/3/library/functions.html#sorted) for their explanation).\n"
   ]
  },
  {
   "cell_type": "code",
   "execution_count": 27,
   "metadata": {},
   "outputs": [
    {
     "name": "stdout",
     "output_type": "stream",
     "text": [
      "['1', '1', '2', '3']\n"
     ]
    }
   ],
   "source": [
    "listc.sort()\n",
    "print(listc)"
   ]
  },
  {
   "cell_type": "markdown",
   "metadata": {},
   "source": [
    "### Reverse\n",
    "\n",
    "`lista.reverse()` Reverse the elements of the list in place."
   ]
  },
  {
   "cell_type": "markdown",
   "metadata": {},
   "source": [
    "### Del\n",
    "\n",
    "`del lista[0]` remove an item from a list given its index instead of its value"
   ]
  },
  {
   "cell_type": "code",
   "execution_count": 28,
   "metadata": {},
   "outputs": [
    {
     "name": "stdout",
     "output_type": "stream",
     "text": [
      "['1', '1', '2', '3']\n",
      "['1', '1', '3']\n"
     ]
    }
   ],
   "source": [
    "print(listc)\n",
    "del listc[2]\n",
    "print(listc)"
   ]
  },
  {
   "cell_type": "code",
   "execution_count": 29,
   "id": "8522abe2",
   "metadata": {},
   "outputs": [
    {
     "name": "stdout",
     "output_type": "stream",
     "text": [
      "[123, 'spam', 1.23]\n",
      "1.23\n",
      "[123, 'spam', 1.23, 'NI']\n",
      "['spam', 1.23, 'NI']\n",
      "['aa', 'boio', 'ccc', 'gsss', 'jeji', 'popo', 'zulu']\n",
      "['zulu', 'popo', 'jeji', 'gsss', 'ccc', 'boio', 'aa']\n"
     ]
    }
   ],
   "source": [
    "\n",
    "#list of different types\n",
    "L =[123, 'spam',1.23]\n",
    "print(L)\n",
    "\n",
    "#access\n",
    "print(L[2])\n",
    "\n",
    "#append\n",
    "L.append('NI')\n",
    "print(L)\n",
    "\n",
    "#get rid of one pop!\n",
    "L.pop(0)\n",
    "print(L)\n",
    "\n",
    "M=['aa','jeji','boio','popo','gsss','zulu','ccc']\n",
    "#sort\n",
    "M.sort()\n",
    "print(M)\n",
    "M.reverse()\n",
    "print(M)"
   ]
  },
  {
   "cell_type": "markdown",
   "id": "275edff9",
   "metadata": {},
   "source": [
    "## Comprehensions\n",
    "List comprehensions provide a concise way to create lists. Common applications are to make new lists where each element is the result of some operations applied to each member of another sequence or iterable, or to create a subsequence of those elements that satisfy a certain condition.\n",
    "\n",
    " "
   ]
  },
  {
   "cell_type": "code",
   "execution_count": 31,
   "id": "94b0f3d8",
   "metadata": {},
   "outputs": [
    {
     "name": "stdout",
     "output_type": "stream",
     "text": [
      "[0, 1, 4, 9, 16, 25, 36, 49, 64, 81]\n"
     ]
    }
   ],
   "source": [
    "squares=[]\n",
    "for x in range(10):\n",
    "    squares.append(x**2)\n",
    "print(squares)"
   ]
  },
  {
   "cell_type": "code",
   "execution_count": 30,
   "id": "e817db97",
   "metadata": {},
   "outputs": [
    {
     "name": "stdout",
     "output_type": "stream",
     "text": [
      "[0, 1, 4, 9, 16, 25, 36, 49, 64, 81]\n"
     ]
    }
   ],
   "source": [
    "# the comprehension version\n",
    "\n",
    "print([x**2 for x in range(10)])"
   ]
  },
  {
   "cell_type": "markdown",
   "metadata": {},
   "source": [
    "A list comprehension consists of brackets containing an expression followed by a for clause, then zero or more for or if clauses. The result will be a new list resulting from evaluating the expression in the context of the for and if clauses which follow it. For example, this listcomp combines the elements of two lists if they are not equal:"
   ]
  },
  {
   "cell_type": "code",
   "execution_count": 32,
   "metadata": {},
   "outputs": [
    {
     "data": {
      "text/plain": [
       "[(1, 3), (1, 4), (2, 3), (2, 1), (2, 4), (3, 1), (3, 4)]"
      ]
     },
     "execution_count": 32,
     "metadata": {},
     "output_type": "execute_result"
    }
   ],
   "source": [
    "[(x,y) for x in [1,2,3] for y in [3, 1, 4] if x!=y]"
   ]
  },
  {
   "cell_type": "code",
   "execution_count": 33,
   "metadata": {},
   "outputs": [
    {
     "data": {
      "text/plain": [
       "[1, 2, 3, 4, 5, 6, 7, 8, 9]"
      ]
     },
     "execution_count": 33,
     "metadata": {},
     "output_type": "execute_result"
    }
   ],
   "source": [
    "vec = [[1,2,3], [4,5,6], [7,8,9]]\n",
    "[num for elem in vec for num in elem]"
   ]
  },
  {
   "cell_type": "code",
   "execution_count": 34,
   "metadata": {},
   "outputs": [
    {
     "data": {
      "text/plain": [
       "[[1, 5, 9], [2, 6, 19], [3, 7, 11], [4, 8, 12]]"
      ]
     },
     "execution_count": 34,
     "metadata": {},
     "output_type": "execute_result"
    }
   ],
   "source": [
    "matrix=[[1,2,3,4],\n",
    "       [5,6,7,8],\n",
    "       [9,19,11,12]]\n",
    "[[col[i] for col in matrix] for i in range(4)]"
   ]
  },
  {
   "cell_type": "markdown",
   "metadata": {},
   "source": [
    "### List to string\n",
    "\n",
    "Convert a list to a string with `\"\".join(lista)`"
   ]
  },
  {
   "cell_type": "code",
   "execution_count": 38,
   "metadata": {},
   "outputs": [
    {
     "name": "stdout",
     "output_type": "stream",
     "text": [
      "123 - 23\n"
     ]
    }
   ],
   "source": [
    "stra = \"\".join(listd)\n",
    "print(stra,'-',stra[1:])"
   ]
  },
  {
   "cell_type": "markdown",
   "id": "5c398166",
   "metadata": {},
   "source": [
    "## Dictionaries\n",
    "Python dictionaries are something completely different (Monty Python reference intended)—they are not sequences at all, but are instead known as mappings. Mappings are also collections of other objects, but they store objects by key instead of by relative position. \n",
    "In fact, mappings don’t maintain any reliable left-to-right order; they simply map keys to associated values. Dictionaries, the only mapping type in Python’s core objects set, are also mutable: they may be changed in-place and can grow and shrink on demand, like lists."
   ]
  },
  {
   "cell_type": "code",
   "execution_count": null,
   "id": "6589dbf5",
   "metadata": {},
   "outputs": [],
   "source": [
    "#create dict\n",
    "\n",
    "D = {'food':'Spam','quality':4, 'color':'pink'}\n",
    "print(D)\n",
    "\n",
    "#or create by key assignment \n",
    "D={}\n",
    "D['food']='Spam'\n",
    "D['quality']=4\n",
    "D['color']='pink'\n",
    "print(D)\n",
    "\n",
    "#index it\n",
    "print(D['food'])\n"
   ]
  },
  {
   "cell_type": "code",
   "execution_count": null,
   "id": "51abd0e9",
   "metadata": {},
   "outputs": [],
   "source": [
    "# Nesting\n",
    "#what if the info is more complex? Nest\n",
    "\n",
    "rec = {'name':{'first':'Bob','last':'Smith'},\n",
    "        'job':['dev','mgr'],\n",
    "        'age':40.5}\n",
    "\n",
    "#index them\n",
    "print(rec['name'])\n",
    "\n",
    "print(rec['name']['last'])\n",
    "\n",
    "print(rec['job'][0])\n",
    "\n",
    "#or add more NB job is a list\n",
    "rec['job'].append('janitor')\n",
    "\n",
    "print(rec)\n",
    "\n",
    "#keys are 1st bit\n",
    "print(rec.keys())"
   ]
  },
  {
   "cell_type": "markdown",
   "id": "f2de4df2",
   "metadata": {},
   "source": [
    "## Tuples\n",
    "roughly like a list that cannot be changed—tuples are sequences, like lists, but they are immutable, like strings. Syntactically, they are coded in parentheses instead of square brackets, and they support arbitrary types, arbitrary nesting, and the usual sequence\n",
    "operations:"
   ]
  },
  {
   "cell_type": "code",
   "execution_count": null,
   "id": "b7f0df2e",
   "metadata": {},
   "outputs": [],
   "source": [
    "T=(1,2,3,4)\n",
    "print(len(T))\n",
    "\n",
    "#concatenation\n",
    "print(T+(5,6))\n",
    "\n",
    "#indexing\n",
    "print(T[0])\n",
    "\n",
    "## or\n",
    "T = ('spam', 3.0, [11, 22, 33])\n",
    "print(T)"
   ]
  },
  {
   "cell_type": "markdown",
   "id": "88b3ef30",
   "metadata": {},
   "source": [
    "# Numeric Types\n",
    "Based on Chapter 5 of \"Learning Python\", 4th Edition, Mark Lutz, O'Reilly"
   ]
  },
  {
   "cell_type": "code",
   "execution_count": null,
   "id": "2008b07d",
   "metadata": {},
   "outputs": [],
   "source": [
    "print(type(3))\n",
    "print(type(3.0))"
   ]
  },
  {
   "cell_type": "code",
   "execution_count": null,
   "id": "1ff0d483",
   "metadata": {},
   "outputs": [],
   "source": [
    "# integer division or floor\n",
    "print(102.2//3.2)\n",
    "#normal division\n",
    "print(102.2/3.2)\n",
    "\n",
    "#to the power\n",
    "print(3**2)\n",
    "\n",
    "#remainder\n",
    "print(100%3)\n",
    "\n",
    "#complex numbers j or J\n",
    "print((1j +2)*3J)"
   ]
  },
  {
   "cell_type": "code",
   "execution_count": null,
   "id": "e229fb58",
   "metadata": {},
   "outputs": [],
   "source": [
    "(52-6)*5*7.5*10*.89\n",
    "10*.89*5*7.5"
   ]
  },
  {
   "cell_type": "markdown",
   "metadata": {},
   "source": [
    "# Class Methods"
   ]
  },
  {
   "cell_type": "markdown",
   "metadata": {},
   "source": [
    "### Classes and Instances\n",
    "\n",
    "- Classes define the behavior of all instances of a specific class.\n",
    "\n",
    "- Each variable of a specific class is an instance or object.\n",
    "\n",
    "- Objects can have attributes, which store information about the object.\n",
    "\n",
    "- You can make objects do work by calling their methods.\n",
    "\n",
    "- The first parameter of the methods (self) represents the current instance.\n",
    "\n",
    "- Methods are just like functions, but they can only be used through a class.\n",
    "\n",
    "### Special methods\n",
    "\n",
    "- Special methods start and end with __. (two underscores)\n",
    "\n",
    "- Special methods have specific names, like __init__ for the constructor or __str__ for the conversion to string."
   ]
  },
  {
   "cell_type": "markdown",
   "metadata": {},
   "source": [
    "Defining a class"
   ]
  },
  {
   "cell_type": "code",
   "execution_count": 3,
   "metadata": {},
   "outputs": [],
   "source": [
    "class ClassName:\n",
    "    def method_name(self, other_parameters):\n",
    "        body_of_method"
   ]
  },
  {
   "cell_type": "markdown",
   "metadata": {},
   "source": [
    "Defining a class with a method"
   ]
  },
  {
   "cell_type": "code",
   "execution_count": 2,
   "metadata": {},
   "outputs": [],
   "source": [
    "class ClassName:\n",
    "    \"\"\"Documentation for the class.\"\"\"\n",
    "    def method_name(self, other_parameters):\n",
    "        \"\"\"Documentation for the method.\"\"\"\n",
    "        body_of_method"
   ]
  },
  {
   "cell_type": "markdown",
   "metadata": {},
   "source": [
    "### Object Composition\n",
    "\n",
    "You can have a situation where two different classes are related, but there is no inheritance going on. This is referred to as composition -- where one class makes use of code contained in another class. For example, imagine we have a Package class which represents a software package. It contains attributes about the software package, like name, version, and size. We also have a Repository class which represents all the packages available for installation. While there’s no inheritance relationship between the two classes, they are related. The Repository class will contain a dictionary or list of Packages that are contained in the repository. Let's take a look at an example Repository class definition:"
   ]
  },
  {
   "cell_type": "code",
   "execution_count": 4,
   "metadata": {},
   "outputs": [],
   "source": [
    "class Repository:\n",
    "...      def __init__(self):\n",
    "...          self.packages = {}\n",
    "...      def add_package(self, package):\n",
    "...          self.packages[package.name] = package\n",
    "...      def total_size(self):\n",
    "...          result = 0\n",
    "...          for package in self.packages.values():\n",
    "...              result += package.size\n",
    "...          return result"
   ]
  },
  {
   "cell_type": "markdown",
   "metadata": {},
   "source": [
    "In the constructor method, we initialize the packages dictionary, which will contain the package objects available in this repository instance. We initialize the dictionary in the constructor to ensure that every instance of the Repository class has its own dictionary.\n",
    "\n",
    "We then define the add_package method, which takes a Package object as a parameter, and then adds it to our dictionary, using the package name attribute as the key.\n",
    "\n",
    "Finally, we define a total_size method which computes the total size of all packages contained in our repository. This method iterates through the values in our repository dictionary and adds together the size attributes from each package object contained in the dictionary, returning the total at the end. In this example, we’re making use of Package attributes within our Repository class. We’re also calling the values() method on our packages dictionary instance. Composition allows us to use objects as attributes, as well as access all their attributes and methods."
   ]
  },
  {
   "cell_type": "markdown",
   "metadata": {},
   "source": [
    "## Print"
   ]
  },
  {
   "cell_type": "code",
   "execution_count": 39,
   "metadata": {},
   "outputs": [
    {
     "name": "stdout",
     "output_type": "stream",
     "text": [
      "30.55579\n"
     ]
    }
   ],
   "source": [
    "# to so many decimal places\n",
    "\n",
    "x=30.5557889\n",
    "\n",
    "print('{:.5f}'.format(x))"
   ]
  },
  {
   "cell_type": "code",
   "execution_count": 40,
   "metadata": {},
   "outputs": [
    {
     "name": "stdout",
     "output_type": "stream",
     "text": [
      "HackerRank----------\n"
     ]
    }
   ],
   "source": [
    "# add additional characters to string\n",
    "\n",
    "width = 20\n",
    "print('HackerRank'.ljust(width,'-'))#or rjust"
   ]
  },
  {
   "cell_type": "code",
   "execution_count": 41,
   "metadata": {},
   "outputs": [
    {
     "name": "stdout",
     "output_type": "stream",
     "text": [
      "-----HackerRank-----\n"
     ]
    }
   ],
   "source": [
    "width = 20\n",
    "print('HackerRank'.center(width,'-'))"
   ]
  },
  {
   "cell_type": "markdown",
   "metadata": {},
   "source": [
    "https://docs.python.org/3/library/stdtypes.html#string-methods\n",
    "\n",
    "Conversion...........................      Meaning\n",
    "\n",
    "`d`..................................... Signed integer decimal.\n",
    "\t\n",
    "\n",
    "`i`.....................................                        Signed integer decimal.\n",
    "\t\n",
    "`o`.....................................                        Signed octal value.\n",
    "\t\n",
    "\n",
    "`u`.....................................                        Obsolete type – it is identical to 'd'.\n",
    "\t\n",
    "`x`.....................................                        Signed hexadecimal (lowercase).\n",
    "\t\n",
    "`X`.....................................                        Signed hexadecimal (uppercase).\n",
    "\t\n",
    "`e` .....................................                       Floating point exponential format (lowercase).\n",
    "\t\n",
    "\n",
    "`E`.....................................                        Floating point exponential format (uppercase).\n",
    "\t\n",
    "\n",
    "`f`..................................... Floating point decimal format.\n",
    "\t\n",
    "`F`..................................... Floating point decimal format.\n",
    "\n",
    "`g`..................................... Floating point format. Uses lowercase exponential format if exponent is less than -4 or not less than precision, decimal format otherwise.\n",
    "\n",
    "`G` ..................................... Floating point format. Uses uppercase exponential format if exponent is less than -4 or not less than precision, decimal format otherwise.\n",
    "\t\n",
    "`c`..................................... Single character (accepts integer or single character string).\n",
    "\t\n",
    "`r`..................................... String (converts any Python object using repr()).\n",
    "\t\n",
    "\n",
    "`s`..................................... String (converts any Python object using str()).\n",
    "\t\n",
    "`a`..................................... String (converts any Python object using ascii()).\n",
    "\t\n",
    "\n",
    "`%`..................................... No argument is converted, results in a '%' character in the result.\n",
    "\t"
   ]
  }
 ],
 "metadata": {
  "hide_input": false,
  "kernelspec": {
   "display_name": "Python 3 (ipykernel)",
   "language": "python",
   "name": "python3"
  },
  "language_info": {
   "codemirror_mode": {
    "name": "ipython",
    "version": 3
   },
   "file_extension": ".py",
   "mimetype": "text/x-python",
   "name": "python",
   "nbconvert_exporter": "python",
   "pygments_lexer": "ipython3",
   "version": "3.8.8"
  },
  "varInspector": {
   "cols": {
    "lenName": 16,
    "lenType": 16,
    "lenVar": 40
   },
   "kernels_config": {
    "python": {
     "delete_cmd_postfix": "",
     "delete_cmd_prefix": "del ",
     "library": "var_list.py",
     "varRefreshCmd": "print(var_dic_list())"
    },
    "r": {
     "delete_cmd_postfix": ") ",
     "delete_cmd_prefix": "rm(",
     "library": "var_list.r",
     "varRefreshCmd": "cat(var_dic_list()) "
    }
   },
   "types_to_exclude": [
    "module",
    "function",
    "builtin_function_or_method",
    "instance",
    "_Feature"
   ],
   "window_display": false
  }
 },
 "nbformat": 4,
 "nbformat_minor": 5
}
