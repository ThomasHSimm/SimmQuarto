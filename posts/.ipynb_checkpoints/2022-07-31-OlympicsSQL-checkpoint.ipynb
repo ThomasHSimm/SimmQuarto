{
 "cells": [
  {
   "cell_type": "markdown",
   "metadata": {},
   "source": [
    "# Olympics data with SQL and pandas\n",
    "> Using SQL and Pandas to understad Olympic data\n",
    "\n",
    "- toc: true \n",
    "- badges: true\n",
    "- categories: [SQL, Pandas, python, Olympics]"
   ]
  },
  {
   "cell_type": "markdown",
   "metadata": {},
   "source": [
    "![](ghtop_images/header2.png)"
   ]
  },
  {
   "cell_type": "markdown",
   "metadata": {},
   "source": [
    "## Introduction\n",
    "\n",
    "This project looks to understand the changing nature of the Olympics and how it reflects changes in athletes, sporting activities, and global politics. The Olympic Games are considered the world's foremost sports competition with more than 200 nations participating [1,2], and in Tokyo in 2020 there was a broadcast audience of more than 3 billion with estimates of 3 out of 4 people following the Olympics [3].\n",
    "\n",
    "Since it's inception over 100 years ago many changes have occured. In global politics countries have split and unified, populations have changed and the power distribution across nations fluctuated. In society there have been changes in the rights and roles of women. Finally, in sport there has been a move from amateur atheletes to professionalism and a change in the popularity of different sports.\n",
    "\n",
    "Due to it's global importance, the question this work looks to answer is if data on the Olympics reflect the changes that have occured in the world.\n",
    "\n",
    "\n",
    "1.[\"Overview of Olympic Games\". Encyclopaedia Britannica. Retrieved 4 June 2008](https://www.britannica.com/EBchecked/topic/428005/Olympic-Games)\n",
    "\n",
    "2.[Olympic Games- Wikipedia](https://en.wikipedia.org/wiki/Olympic_Games)\n",
    "\n",
    "3.[Tokyo 2020 audience & insights report December 2021](https://stillmed.olympics.com/media/Documents/International-Olympic-Committee/IOC-Marketing-And-Broadcasting/Tokyo-2020-External-Communications.pdf)\n",
    "\n",
    "\n",
    "## The Data\n",
    "\n",
    "The most important part of any analysis is the data. In [Olympics data with SQL and pandas- create the tables](https://thomashsimm.com/sql/pandas/python/olympics/2022/07/29/OlympicsSQL_createDFs.html) I present the data to be analysed and do some initial processing. \n",
    "\n",
    "The main thing here is to seperate the data into useable tables for analysis, as summarised in the entity relationship diagram (ERD) below.\n",
    "\n",
    "![](ghtop_images/SportTree.png)\n",
    "\n",
    "## Analysis\n",
    "\n",
    "Based on a brief analysis of the data three broad questions to be investigated were posed:\n",
    "\n",
    "1. What are the characteristics of athletes? How does this change with time, and can it be linked with societal or global changes?\n",
    "1. What countries do better at the Olympics? Is there a way to quantify this?\n",
    "1. What is the influence of a games being a home event?\n",
    "\n",
    "In the following parts these are explore in more detail.\n",
    "\n",
    "### Athlete Analysis\n",
    "\n",
    "I did some initial plots on the changes in the characteristics of athletes given in the data, `height`, `weight` and `age`, of athletes attending the Olympics by year (see below). \n",
    "\n",
    "From these plots I was really intrigued as to what may be the cause of these changes. \n",
    "\n",
    "Mainly what was happening between 1960 and 1980 were there seemed to be changes in each of the parameters?\n",
    "\n",
    "My initial thought was this could be related to some combination of \n",
    "- a switch from amateurs to professionals \n",
    "- the Cold War between USA and USSR\n",
    "- an after effect of WWII\n",
    "\n",
    "[Olympics data with SQL and pandas- height weight and age](https://thomashsimm.com/sql/athletes/pandas/python/olympics/2022/07/20/OlympicsSQL-HeightWeightAge.html)\n",
    "\n",
    "\n",
    "### Nation Analysis\n",
    "\n",
    "Due to the global importance of the Olympics, in 2020 there was a broadcast audience of more than 3 billion, I was interested to explore whether countries with the most medals will reflect global politics. And to see if the countries with most influence get more medals.\n",
    "\n",
    "[Olympics data with SQL and pandas- GDP and population](https://thomashsimm.com/sql/pandas/python/olympics/2022/07/29/OlympicsSQL_GDPpopulation.html)\n",
    "\n",
    "\n",
    "### Games Analysis\n",
    "\n",
    "In this part the hypothesis considered is:\n",
    "\n",
    "    At a home Olympic games a nation will on average obtain more medals than at other games\n",
    "    \n",
    "- But can we quantify this effect? \n",
    "- Are there any residual effects before and after the games?\n",
    "- What about a home continent games?\n",
    "\n",
    "[Olympics data with SQL and pandas- home games](https://thomashsimm.com/sql/pandas/python/olympics/2022/07/29/Olympics_HomeEvent.html)\n",
    "\n",
    "## Presentation\n",
    "\n",
    "To present this data in a unified form the following presentation was produced.\n",
    "\n",
    "This is a hypothetical presentation:\n",
    "\n",
    "#### Who\n",
    "The audience is a fictional research group at Swansea University (UK) called the Sports History Group. \n",
    "\n",
    "This group is a cross-departmental, working across the History and Sports Science department. The group consists of two lecturers (one in each department), three post doctoral researchers, five PhD students and three Masters students. \n",
    "\n",
    "### Why\n",
    "\n",
    "The work I am presenting has overlap with several of the reserachers/students. \n",
    "\n",
    "The main goal is a scoping exercise with one of the post doctoral researchers and the two lecturers who have identified a grant proposal. The Olympics commitee have put out a grant application. The aim of this is to produce a report on the influence the Olympics has had on Geo-Politics and on Athletes and Sport in general. With guidance on what the Olympics can do in the future to maintain and enhance its globally importance, and how it can positively impact Olympic athletes.\n",
    "\n",
    "### What / How\n",
    "\n",
    "More details are in the [presentation](https://thomashsimm.com/presentation/sql/pandas/python/olympics/2022/07/31/OlympicsSQL-Presentation.html) \n"
   ]
  },
  {
   "cell_type": "markdown",
   "metadata": {},
   "source": []
  },
  {
   "cell_type": "markdown",
   "metadata": {},
   "source": []
  }
 ],
 "metadata": {
  "hide_input": false,
  "kernelspec": {
   "display_name": "Python 3 (ipykernel)",
   "language": "python",
   "name": "python3"
  },
  "language_info": {
   "codemirror_mode": {
    "name": "ipython",
    "version": 3
   },
   "file_extension": ".py",
   "mimetype": "text/x-python",
   "name": "python",
   "nbconvert_exporter": "python",
   "pygments_lexer": "ipython3",
   "version": "3.8.8"
  },
  "varInspector": {
   "cols": {
    "lenName": 16,
    "lenType": 16,
    "lenVar": 40
   },
   "kernels_config": {
    "python": {
     "delete_cmd_postfix": "",
     "delete_cmd_prefix": "del ",
     "library": "var_list.py",
     "varRefreshCmd": "print(var_dic_list())"
    },
    "r": {
     "delete_cmd_postfix": ") ",
     "delete_cmd_prefix": "rm(",
     "library": "var_list.r",
     "varRefreshCmd": "cat(var_dic_list()) "
    }
   },
   "types_to_exclude": [
    "module",
    "function",
    "builtin_function_or_method",
    "instance",
    "_Feature"
   ],
   "window_display": false
  }
 },
 "nbformat": 4,
 "nbformat_minor": 2
}
