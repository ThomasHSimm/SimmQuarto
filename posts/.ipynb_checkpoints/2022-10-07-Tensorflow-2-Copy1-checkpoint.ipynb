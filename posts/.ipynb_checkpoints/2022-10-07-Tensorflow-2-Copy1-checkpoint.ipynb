{
 "cells": [
  {
   "cell_type": "markdown",
   "metadata": {},
   "source": [
    "# TensorFlow cheat sheet 2\n",
    "> Some tips for tensorflow and keras\n",
    "\n",
    "- toc: true \n",
    "- badges: true\n",
    "- comments: true\n",
    "- categories: [tensorflow]"
   ]
  },
  {
   "cell_type": "markdown",
   "metadata": {},
   "source": [
    "![](ghtop_images/header2.png)"
   ]
  },
  {
   "cell_type": "markdown",
   "metadata": {},
   "source": [
    "# Classes\n",
    "\n",
    "[Classes](https://docs.python.org/3/tutorial/classes.html) \n",
    "> Classes provide a means of bundling data and functionality together. Creating a new class creates a new type of object, allowing new instances of that type to be made. Each class instance can have attributes attached to it for maintaining its state. Class instances can also have methods (defined by its class) for modifying its state.\n",
    "- `init` When a class defines an `__init__()` method, class instantiation automatically invokes `__init__()` for the newly created class instance. \n",
    "- `def` Define functions for the class\n",
    "- `super()` returns a temporary object of the superclass (proxy object) that allows us to acces methods of the base class\n",
    "- Python classes have an attribute called `__dict__` which gives a Python dictionary containing the object's instance variables and values as key value pairs\n",
    "- You can also get the dictionary by calling `vars` on an instance of the class\n",
    "- You can add a new variable to a class object\n",
    "    - e.g. `my_class_obj.var_new = 2`\n",
    "    - or `vars(my_class_obj)[var_new2 = 3`\n"
   ]
  },
  {
   "cell_type": "code",
   "execution_count": 199,
   "metadata": {},
   "outputs": [
    {
     "name": "stdout",
     "output_type": "stream",
     "text": [
      "my_class_obj.__dict__ = {'var1': 1}      \n",
      "vars(my_class_obj) = {'var1': 1}\n",
      "\n",
      "{'var1': 1, 'var2': 2, 'var3': 3}\n"
     ]
    }
   ],
   "source": [
    "class MyClass:\n",
    "    def __init__(self):\n",
    "        self.var1 = 1\n",
    "my_class_obj = MyClass()\n",
    "\n",
    "print(f\"my_class_obj.__dict__ = {my_class_obj.__dict__}\\\n",
    "      \\nvars(my_class_obj) = {vars(my_class_obj)}\")\n",
    "print()\n",
    "\n",
    "my_class_obj.var2 = 2\n",
    "vars(my_class_obj)['var3'] = 3\n",
    "\n",
    "print(vars(my_class_obj))"
   ]
  },
  {
   "cell_type": "markdown",
   "metadata": {},
   "source": [
    "# Model subclassing\n",
    "\n",
    "In call the format is the same as for the [functional API](https://thomashsimm.com/tensorflow/2022/09/28/Tensorflow.html#Functional-API), where the previous layer is added at the end of the next layer.\n",
    "\n",
    "Note that `Layer` is given as input to the layers class\n",
    "\n",
    "`__init__` creates the layers and `call` puts them together for the model\n",
    "\n",
    "In `__init__` note how unit sizes are added"
   ]
  },
  {
   "cell_type": "code",
   "execution_count": null,
   "metadata": {},
   "outputs": [],
   "source": [
    "from tensorflow.keras.models import Model\n",
    "from tensorflow.keras.layers import Dense, Dropout, Softmax, concatenate, Layer\n",
    "\n",
    "class MyModel(Model):\n",
    "    \n",
    "    def __init__(self):\n",
    "        super(MyModel,self).__init__()\n",
    "        self.Dense_1 = Dense(64,activation='relu')\n",
    "        self.Dense_2 = Dense(10,activation='relu')\n",
    "    def call(self,inputs):\n",
    "        x = self.Dense_1(inputs)\n",
    "        return self.Dense_2(x)"
   ]
  },
  {
   "cell_type": "markdown",
   "metadata": {},
   "source": [
    "## Modifications\n",
    "\n",
    "Say we want to run differently on training and predicting by adding a dropout layer in init then call it if Training = True\n",
    "\n",
    "`def call(self,inputs,training=True):`\n",
    "\n",
    "`,    x = self.Dense_1(inputs)`\n",
    "    \n",
    "`,    if training:`    \n",
    "\n",
    "`,         x = self.Dropout_1(x)`\n",
    "\n",
    "`,    return self.Dense_2(x)`"
   ]
  },
  {
   "cell_type": "markdown",
   "metadata": {},
   "source": [
    "https://www.tensorflow.org/guide/keras/custom_layers_and_models#best_practice_deferring_weight_creation_until_the_shape_of_the_inputs_is_known"
   ]
  },
  {
   "cell_type": "markdown",
   "metadata": {},
   "source": [
    "# Custom Layers Class\n",
    "\n",
    "\n",
    "\n",
    "### Standard dense layer\n",
    "\n",
    "- self.w are the weights\n",
    "- self.b are the biases\n",
    "- both are initialized with values\n",
    "\n",
    "creates layer as y = w*x + b\n",
    "\n",
    "Note that `Layer` is given as input to the layers class"
   ]
  },
  {
   "cell_type": "code",
   "execution_count": 194,
   "metadata": {},
   "outputs": [
    {
     "name": "stdout",
     "output_type": "stream",
     "text": [
      "tf.Tensor(\n",
      "[[-0.00796256  0.05831495 -0.00300906  0.04439464  0.01879046  0.07508276\n",
      "   0.03777922  0.0735352  -0.02905384 -0.02518708 -0.02423255 -0.02473113\n",
      "  -0.00455697  0.01294913  0.05680227 -0.01427526  0.04952488 -0.10006206\n",
      "  -0.01683045  0.02113631 -0.02803414  0.01535907 -0.07223836 -0.01957527\n",
      "  -0.02640614 -0.07920882 -0.03078735 -0.0072176  -0.09545477  0.04990829\n",
      "   0.04987451  0.01131598]], shape=(1, 32), dtype=float32)\n",
      "\n",
      "Weights = [[-0.00796256  0.05831495 -0.00300906  0.04439464  0.01879046  0.07508276\n",
      "   0.03777922  0.0735352  -0.02905384 -0.02518708 -0.02423255 -0.02473113\n",
      "  -0.00455697  0.01294913  0.05680227 -0.01427526  0.04952488 -0.10006206\n",
      "  -0.01683045  0.02113631 -0.02803414  0.01535907 -0.07223836 -0.01957527\n",
      "  -0.02640614 -0.07920882 -0.03078735 -0.0072176  -0.09545477  0.04990829\n",
      "   0.04987451  0.01131598]] \n",
      "\n",
      "and biases [0. 0. 0. 0. 0. 0. 0. 0. 0. 0. 0. 0. 0. 0. 0. 0. 0. 0. 0. 0. 0. 0. 0. 0.\n",
      " 0. 0. 0. 0. 0. 0. 0. 0.]\n"
     ]
    }
   ],
   "source": [
    "# Create a custom layer\n",
    "from tensorflow.keras.layers import Layer\n",
    "import tensorflow as tf\n",
    "\n",
    "class SimpleDense(Layer):\n",
    "    \n",
    "    def __init__(self,units=32):\n",
    "        super(SimpleDense, self).__init__()\n",
    "        self.units = units\n",
    "        \n",
    "    def build(self, input_shape):\n",
    "        w_init = tf.random_normal_initializer()\n",
    "        self.w = tf.Variable(\n",
    "                initial_value=w_init(shape=(input_shape[-1], self.units), dtype='float32'),\n",
    "                trainable=True,name='kernel',\n",
    "                                )\n",
    "        b_init = tf.zeros_initializer()\n",
    "        self.b = tf.Variable(\n",
    "                initial_value=b_init(shape=(self.units), dtype='float32'),\n",
    "                trainable=True, name='bias',\n",
    "                                )\n",
    "    def call(self, inputs):\n",
    "        return tf.matmul(inputs, self.w)+self.b\n",
    "    \n",
    "dense_layer = SimpleDense(units=32)\n",
    "\n",
    "x = tf.ones((1,1))\n",
    "\n",
    "print(dense_layer(x) )\n",
    "print()\n",
    "print(f\"Weights = {dense_layer.weights[0].numpy()} \\n\\nand biases {dense_layer.weights[1].numpy()}\")\n"
   ]
  },
  {
   "cell_type": "markdown",
   "metadata": {},
   "source": [
    "Or equivalently..."
   ]
  },
  {
   "cell_type": "code",
   "execution_count": 22,
   "metadata": {},
   "outputs": [
    {
     "name": "stdout",
     "output_type": "stream",
     "text": [
      "<__main__.MyLayer object at 0x000001F6C28A4B20>\n",
      "\n",
      "tf.Tensor([[-0.00561558 -0.22868529 -0.02974611]], shape=(1, 3), dtype=float32)\n",
      "\n",
      "Weights = [[ 0.04089291 -0.06954639 -0.01105437]\n",
      " [-0.02098138 -0.06875699 -0.00736261]\n",
      " [-0.02153204 -0.14160022 -0.03822825]\n",
      " [-0.02502588 -0.01817141  0.03236837]\n",
      " [ 0.0210308   0.0693897  -0.00546925]] \n",
      "\n",
      "and biases [0. 0. 0.]\n"
     ]
    }
   ],
   "source": [
    "# Create a custom layer\n",
    "from tensorflow.keras.layers import Layer\n",
    "import tensorflow as tf\n",
    "\n",
    "class MyLayer(Layer):\n",
    "    \n",
    "    def __init__(self,units,input_dim):\n",
    "        super(MyLayer, self).__init__()\n",
    "        self.w = self.add_weight(shape=(input_dim,units),\n",
    "                                initializer='random_normal',\n",
    "                                trainable=True)\n",
    "        self.b = self.add_weight(shape=(units,),\n",
    "                                 initializer='zeros',\n",
    "                                trainable=True)\n",
    "    def call(self, inputs):\n",
    "        return tf.matmul(inputs, self.w)+self.b\n",
    "    \n",
    "dense_layer = MyLayer(3,5)\n",
    "\n",
    "x = tf.ones((1,5))\n",
    "\n",
    "print(dense_layer(x) )\n",
    "print()\n",
    "print(f\"Weights = {dense_layer.weights[0].numpy()} \\n\\nand biases {dense_layer.weights[1].numpy()}\")\n"
   ]
  },
  {
   "cell_type": "markdown",
   "metadata": {},
   "source": [
    "### Create a Dropout layer as a custom layer\n",
    "\n",
    "N.B. uses [`tf.nn`](https://www.tensorflow.org/api_docs/python/tf/nn) primitive Neural Net (NN) Operations."
   ]
  },
  {
   "cell_type": "code",
   "execution_count": 24,
   "metadata": {},
   "outputs": [],
   "source": [
    "class MyDropout(Layer):\n",
    "\n",
    "    def __init__(self, rate):\n",
    "        super(MyDropout, self).__init__()\n",
    "        self.rate = rate\n",
    "        \n",
    "    def call(self, inputs):\n",
    "        # Define forward pass for dropout layer\n",
    "        return tf.nn.dropout(inputs, rate=self.rate)"
   ]
  },
  {
   "cell_type": "markdown",
   "metadata": {},
   "source": [
    "## Create the custom model\n",
    "\n",
    "Same as above but using the custom layers instead"
   ]
  },
  {
   "cell_type": "code",
   "execution_count": 26,
   "metadata": {},
   "outputs": [],
   "source": [
    "# Build the model using custom layers with the model subclassing API\n",
    "from tensorflow.keras.models import Model\n",
    "from tensorflow.keras.layers import Layer, Softmax\n",
    "\n",
    "class MyModel(Model):\n",
    "\n",
    "    def __init__(self, units_1, input_dim_1, units_2, units_3):\n",
    "        super(MyModel, self).__init__()\n",
    "        # Define layers\n",
    "        self.layer_1 = MyLayer(units_1, input_dim_1)  \n",
    "        self.dropout_1 = MyDropout(0.5)\n",
    "        self.layer_2 = MyLayer(units_2, units_1)\n",
    "        self.dropout_2 = MyDropout(0.5)\n",
    "        self.layer_3 = MyLayer(units_3, units_2)\n",
    "        self.softmax = Softmax()\n",
    "        \n",
    "    def call(self, inputs):\n",
    "        # Define forward pass\n",
    "        x = self.layer_1(inputs)\n",
    "        x = tf.nn.relu(x)\n",
    "        x = self.dropout_1(x)\n",
    "        x = self.layer_2(x)\n",
    "        x = tf.nn.relu(x)\n",
    "        x = self.dropout_2(x)\n",
    "        x = self.layer_3(x)\n",
    "        \n",
    "        return self.softmax(x)"
   ]
  },
  {
   "cell_type": "code",
   "execution_count": 30,
   "metadata": {},
   "outputs": [
    {
     "name": "stdout",
     "output_type": "stream",
     "text": [
      "tf.Tensor(\n",
      "[[0.00593624 0.00634939 0.05267304 0.00782295 0.01955794 0.0013299\n",
      "  0.00763652 0.22506231 0.04023628 0.00110034 0.02134436 0.01490009\n",
      "  0.00174251 0.01910679 0.05380287 0.00071206 0.0641818  0.00902538\n",
      "  0.00163135 0.00276065 0.00214337 0.00366833 0.11546794 0.00362498\n",
      "  0.03105447 0.00112369 0.0003199  0.02285093 0.00455131 0.00351223\n",
      "  0.01460814 0.03380786 0.01641758 0.05988773 0.05288981 0.00567744\n",
      "  0.01013041 0.02062218 0.01893481 0.00864016 0.00199537 0.00243362\n",
      "  0.00046626 0.00392747 0.00084952 0.00348179]], shape=(1, 46), dtype=float32)\n",
      "\n",
      "Model: \"my_model_3\"\n",
      "_________________________________________________________________\n",
      "Layer (type)                 Output Shape              Param #   \n",
      "=================================================================\n",
      "my_layer_28 (MyLayer)        multiple                  640064    \n",
      "_________________________________________________________________\n",
      "my_dropout_6 (MyDropout)     multiple                  0         \n",
      "_________________________________________________________________\n",
      "my_layer_29 (MyLayer)        multiple                  4160      \n",
      "_________________________________________________________________\n",
      "my_dropout_7 (MyDropout)     multiple                  0         \n",
      "_________________________________________________________________\n",
      "my_layer_30 (MyLayer)        multiple                  2990      \n",
      "_________________________________________________________________\n",
      "softmax_3 (Softmax)          multiple                  0         \n",
      "=================================================================\n",
      "Total params: 647,214\n",
      "Trainable params: 647,214\n",
      "Non-trainable params: 0\n",
      "_________________________________________________________________\n"
     ]
    }
   ],
   "source": [
    "# Instantiate a model object\n",
    "\n",
    "model = MyModel(64,10000,64,46)\n",
    "print(model(tf.ones((1, 10000))))\n",
    "print()\n",
    "model.summary()"
   ]
  },
  {
   "cell_type": "markdown",
   "metadata": {},
   "source": [
    "# Create Regression model with Differentiation\n",
    "\n",
    "The main step is to get the gradient (differentiation) of the loss function, as below\n",
    "\n",
    "The gradients are then used to \n",
    "\n",
    "`with tf.GradientTape() as tape:`\n",
    "\n",
    "`.        predictions = linear_regression(x_train)`\n",
    "\n",
    "`.        loss = SquaredError(predictions, y_train)`\n",
    "    \n",
    "`gradients = tape.gradient(loss, linear_regression.trainable_variables)`\n",
    "    \n",
    "`linear_regression.m.assign_sub(learning_rate * gradients[0])`\n",
    "    \n",
    "`linear_regression.b.assign_sub(learning_rate * gradients[1])`\n",
    "\n",
    "Calculating the loss is the *forward pass* and calculating the gardients is the *backward pass*"
   ]
  },
  {
   "cell_type": "code",
   "execution_count": 2,
   "metadata": {},
   "outputs": [],
   "source": [
    "import numpy as np\n",
    "import matplotlib.pyplot as plt\n",
    "import tensorflow as tf"
   ]
  },
  {
   "cell_type": "code",
   "execution_count": 10,
   "metadata": {},
   "outputs": [
    {
     "data": {
      "text/plain": [
       "[<matplotlib.lines.Line2D at 0x2a9074add90>]"
      ]
     },
     "execution_count": 10,
     "metadata": {},
     "output_type": "execute_result"
    },
    {
     "data": {
      "image/png": "[encoded data removed]",
      "text/plain": [
       "<Figure size 432x288 with 1 Axes>"
      ]
     },
     "metadata": {
      "needs_background": "light"
     },
     "output_type": "display_data"
    }
   ],
   "source": [
    "# Create data from a noise contaminated linear model\n",
    "\n",
    "def MakeNoisyData(m, b, n=20):\n",
    "    x = tf.random.uniform(shape=(n,))\n",
    "    noise = tf.random.normal(shape=(len(x),), stddev=0.1)\n",
    "    y = m * x + b + noise\n",
    "    return x, y\n",
    "\n",
    "m=1.5\n",
    "b=2\n",
    "x_train, y_train = MakeNoisyData(m,b)\n",
    "plt.plot(x_train, y_train, 'b.')"
   ]
  },
  {
   "cell_type": "code",
   "execution_count": 37,
   "metadata": {},
   "outputs": [],
   "source": [
    "from tensorflow.keras.layers import Layer\n",
    "\n",
    "# Build a custom layer for the linear regression model\n",
    "\n",
    "class LinearLayer(Layer):\n",
    "    \n",
    "    def __init__(self):\n",
    "        super(LinearLayer, self).__init__()\n",
    "        self.m = self.add_weight(shape=(1,),\n",
    "                                 initializer='random_normal')\n",
    "        self.b = self.add_weight(shape=(1,),\n",
    "                                 initializer='zeros')\n",
    "    \n",
    "    def call(self,inputs):\n",
    "        return self.m*inputs + self.b\n",
    "\n",
    "    \n",
    "linear_regression = LinearLayer()"
   ]
  },
  {
   "cell_type": "code",
   "execution_count": 38,
   "metadata": {},
   "outputs": [
    {
     "name": "stdout",
     "output_type": "stream",
     "text": [
      "Starting loss 8.915239\n"
     ]
    }
   ],
   "source": [
    "# Define the mean squared error loss function\n",
    "\n",
    "def SquaredError(y_pred, y_true):\n",
    "    return tf.reduce_mean(tf.square(y_pred - y_true)) \n",
    "\n",
    "starting_loss = SquaredError(linear_regression(x_train), y_train)\n",
    "print(\"Starting loss\", starting_loss.numpy())"
   ]
  },
  {
   "cell_type": "code",
   "execution_count": 39,
   "metadata": {},
   "outputs": [
    {
     "name": "stdout",
     "output_type": "stream",
     "text": [
      "Function y = mx + b\n",
      "\n",
      "(m) = -0.02          (b) = 0.00\n",
      "(dm/dloss) = -3.90          (db/dloss) = -5.92\n",
      "         Step 0, Loss 8.915239\n",
      "\n",
      "(m) = 0.17          (b) = 0.30\n",
      "(dm/dloss) = -3.35          (db/dloss) = -5.08\n",
      "         Step 1, Loss 6.579444\n",
      "\n",
      "(m) = 0.34          (b) = 0.55\n",
      "(dm/dloss) = -2.88          (db/dloss) = -4.36\n",
      "         Step 2, Loss 4.856421\n",
      "\n",
      "(m) = 0.49          (b) = 0.77\n",
      "(dm/dloss) = -2.48          (db/dloss) = -3.75\n",
      "         Step 3, Loss 3.585418\n",
      "\n",
      "(m) = 0.61          (b) = 0.96\n",
      "(dm/dloss) = -2.13          (db/dloss) = -3.22\n",
      "         Step 4, Loss 2.647849\n",
      "\n",
      "(m) = 0.72          (b) = 1.12\n",
      "(dm/dloss) = -1.83          (db/dloss) = -2.76\n",
      "         Step 5, Loss 1.956242\n",
      "\n",
      "(m) = 0.81          (b) = 1.25\n",
      "(dm/dloss) = -1.57          (db/dloss) = -2.37\n",
      "         Step 6, Loss 1.446071\n",
      "\n",
      "(m) = 0.89          (b) = 1.37\n",
      "(dm/dloss) = -1.35          (db/dloss) = -2.04\n",
      "         Step 7, Loss 1.069737\n",
      "\n",
      "(m) = 0.95          (b) = 1.48\n",
      "(dm/dloss) = -1.16          (db/dloss) = -1.75\n",
      "         Step 8, Loss 0.792131\n",
      "\n",
      "(m) = 1.01          (b) = 1.56\n",
      "(dm/dloss) = -1.00          (db/dloss) = -1.50\n",
      "         Step 9, Loss 0.587350\n",
      "\n",
      "(m) = 1.06          (b) = 1.64\n",
      "(dm/dloss) = -0.86          (db/dloss) = -1.29\n",
      "         Step 10, Loss 0.436292\n",
      "\n",
      "(m) = 1.10          (b) = 1.70\n",
      "(dm/dloss) = -0.74          (db/dloss) = -1.11\n",
      "         Step 11, Loss 0.324861\n",
      "\n",
      "(m) = 1.14          (b) = 1.76\n",
      "(dm/dloss) = -0.63          (db/dloss) = -0.95\n",
      "         Step 12, Loss 0.242662\n",
      "\n",
      "(m) = 1.17          (b) = 1.80\n",
      "(dm/dloss) = -0.55          (db/dloss) = -0.81\n",
      "         Step 13, Loss 0.182026\n",
      "\n",
      "(m) = 1.20          (b) = 1.85\n",
      "(dm/dloss) = -0.47          (db/dloss) = -0.70\n",
      "         Step 14, Loss 0.137297\n",
      "\n",
      "(m) = 1.22          (b) = 1.88\n",
      "(dm/dloss) = -0.40          (db/dloss) = -0.60\n",
      "         Step 15, Loss 0.104301\n",
      "\n",
      "(m) = 1.24          (b) = 1.91\n",
      "(dm/dloss) = -0.35          (db/dloss) = -0.51\n",
      "         Step 16, Loss 0.079960\n",
      "\n",
      "(m) = 1.26          (b) = 1.94\n",
      "(dm/dloss) = -0.30          (db/dloss) = -0.44\n",
      "         Step 17, Loss 0.062004\n",
      "\n",
      "(m) = 1.28          (b) = 1.96\n",
      "(dm/dloss) = -0.26          (db/dloss) = -0.38\n",
      "         Step 18, Loss 0.048758\n",
      "\n",
      "(m) = 1.29          (b) = 1.98\n",
      "(dm/dloss) = -0.22          (db/dloss) = -0.32\n",
      "         Step 19, Loss 0.038986\n",
      "\n",
      "(m) = 1.30          (b) = 1.99\n",
      "(dm/dloss) = -0.19          (db/dloss) = -0.28\n",
      "         Step 20, Loss 0.031776\n",
      "\n",
      "(m) = 1.31          (b) = 2.01\n",
      "(dm/dloss) = -0.17          (db/dloss) = -0.24\n",
      "         Step 21, Loss 0.026457\n",
      "\n",
      "(m) = 1.32          (b) = 2.02\n",
      "(dm/dloss) = -0.14          (db/dloss) = -0.20\n",
      "         Step 22, Loss 0.022533\n",
      "\n",
      "(m) = 1.33          (b) = 2.03\n",
      "(dm/dloss) = -0.12          (db/dloss) = -0.17\n",
      "         Step 23, Loss 0.019637\n",
      "\n",
      "(m) = 1.33          (b) = 2.04\n",
      "(dm/dloss) = -0.11          (db/dloss) = -0.15\n",
      "         Step 24, Loss 0.017501\n",
      "\n"
     ]
    }
   ],
   "source": [
    "#collapse-output\n",
    "# Implement a gradient descent training loop for the linear regression model\n",
    "\n",
    "learning_rate = 0.05\n",
    "steps = 25\n",
    "print(\"Function y = mx + b\\n\")\n",
    "for i in range(steps):\n",
    "    \n",
    "    with tf.GradientTape() as tape:\n",
    "        predictions = linear_regression(x_train)\n",
    "        loss = SquaredError(predictions, y_train)\n",
    "    \n",
    "    gradients = tape.gradient(loss, linear_regression.trainable_variables)\n",
    "    \n",
    "    print(f\"(m) = {linear_regression.m.numpy()[0]:.2f}\\\n",
    "          (b) = {linear_regression.b.numpy()[0]:.2f}\")\n",
    "    print(f\"(dm/dloss) = {gradients[0].numpy()[0]:.2f}\\\n",
    "          (db/dloss) = {gradients[1].numpy()[0]:.2f}\")\n",
    "    \n",
    "    linear_regression.m.assign_sub(learning_rate * gradients[0])\n",
    "    linear_regression.b.assign_sub(learning_rate * gradients[1])\n",
    "    \n",
    "    print(\"         Step %d, Loss %f\\n\" % (i, loss.numpy()))"
   ]
  },
  {
   "cell_type": "code",
   "execution_count": 40,
   "metadata": {},
   "outputs": [
    {
     "name": "stdout",
     "output_type": "stream",
     "text": [
      "m:1.5,  trained m:[1.3375876]\n",
      "b:2,  trained b:[2.0458574]\n"
     ]
    },
    {
     "data": {
      "text/plain": [
       "[<matplotlib.lines.Line2D at 0x2a9076ed250>]"
      ]
     },
     "execution_count": 40,
     "metadata": {},
     "output_type": "execute_result"
    },
    {
     "data": {
      "image/png": "[encoded data removed]",
      "text/plain": [
       "<Figure size 432x288 with 1 Axes>"
      ]
     },
     "metadata": {
      "needs_background": "light"
     },
     "output_type": "display_data"
    }
   ],
   "source": [
    "# Plot the learned regression model\n",
    "\n",
    "print(\"m:{},  trained m:{}\".format(m,linear_regression.m.numpy()))\n",
    "print(\"b:{},  trained b:{}\".format(b,linear_regression.b.numpy()))\n",
    "\n",
    "plt.plot(x_train, y_train, 'b.')\n",
    "\n",
    "x_linear_regression=np.linspace(min(x_train), max(x_train),50)\n",
    "plt.plot(x_linear_regression, linear_regression.m*x_linear_regression+linear_regression.b, 'r.')"
   ]
  },
  {
   "cell_type": "markdown",
   "metadata": {},
   "source": [
    "# Multiple layer model\n",
    "\n",
    "For multiple layers it is the same but we need to iterate over the layers too.\n",
    "\n",
    "If we put the gradients part within it's own function, putting `@tf.function` before that unction to speed things up.\n"
   ]
  },
  {
   "cell_type": "code",
   "execution_count": 136,
   "metadata": {},
   "outputs": [
    {
     "data": {
      "image/png": "[encoded data removed]",
      "text/plain": [
       "<Figure size 432x288 with 1 Axes>"
      ]
     },
     "metadata": {
      "needs_background": "light"
     },
     "output_type": "display_data"
    }
   ],
   "source": [
    "# Create data from a noise contaminated mixed model\n",
    "\n",
    "def MakeNoisyData2(m, b, n=60):\n",
    "    x = tf.random.uniform(shape=(n,))*2 -1\n",
    "    noise = tf.random.normal(shape=(len(x),), stddev=0.01)\n",
    "    y = m * x**2 -  np.exp(x/2) + b + noise\n",
    "    return x, y\n",
    "\n",
    "m=1.5\n",
    "b=2\n",
    "x_train, y_train = MakeNoisyData2(m,b)\n",
    "plt.plot(x_train, y_train, 'b.')\n",
    "\n",
    "\n",
    "x_train = tf.reshape(x_train,(len(x_train),1))\n",
    "y_train = tf.reshape(y_train,(len(x_train),1))"
   ]
  },
  {
   "cell_type": "code",
   "execution_count": 150,
   "metadata": {},
   "outputs": [],
   "source": [
    "# Define the custom layers and model\n",
    "from tensorflow.keras.models import Model\n",
    "from tensorflow.keras.layers import Layer, Softmax\n",
    "class MyLayer(Layer):\n",
    "    \n",
    "    def __init__(self,units):\n",
    "        super(MyLayer, self).__init__()\n",
    "        self.units = units     \n",
    "    def build(self,input_shape):\n",
    "        self.w = self.add_weight(shape=(input_shape[-1],self.units),\n",
    "                                initializer='random_normal',\n",
    "                                trainable=True,\n",
    "                                name ='kernel')\n",
    "        self.b = self.add_weight(shape=(self.units,),\n",
    "                                 initializer='zeros',\n",
    "                                trainable=True,\n",
    "                                name = 'bias')       \n",
    "    def call(self, inputs):\n",
    "        return tf.matmul(inputs, self.w)+self.b\n",
    "    \n",
    "    \n",
    "class MyDropout(Layer):\n",
    "\n",
    "    def __init__(self, rate):\n",
    "        super(MyDropout, self).__init__()\n",
    "        self.rate = rate\n",
    "    def call(self, inputs):\n",
    "        # Define forward pass for dropout layer\n",
    "        return tf.nn.dropout(inputs, rate=self.rate)\n",
    "    \n",
    "    \n",
    "class MyModel(Model):\n",
    "\n",
    "    def __init__(self, units_1, units_2, units_3):\n",
    "        super(MyModel, self).__init__()\n",
    "        # Define layers\n",
    "        self.layer_1 = MyLayer(units_1)  \n",
    "        self.dropout_1 = MyDropout(0.)\n",
    "        self.layer_2 = MyLayer(units_2)\n",
    "        self.dropout_2 = MyDropout(0.)\n",
    "        self.layer_3 = MyLayer(units_3)\n",
    "#         self.softmax = Softmax()\n",
    "        \n",
    "    def call(self, inputs):\n",
    "        # Define forward pass\n",
    "        x = self.layer_1(inputs)\n",
    "        x = tf.nn.relu(x)\n",
    "        x = self.dropout_1(x)\n",
    "        x = self.layer_2(x)\n",
    "        x = tf.nn.relu(x)\n",
    "        x = self.dropout_2(x)\n",
    "        x = self.layer_3(x)\n",
    "        \n",
    "        return x"
   ]
  },
  {
   "cell_type": "code",
   "execution_count": 190,
   "metadata": {},
   "outputs": [
    {
     "name": "stdout",
     "output_type": "stream",
     "text": [
      "Model: \"my_model_18\"\n",
      "_________________________________________________________________\n",
      "Layer (type)                 Output Shape              Param #   \n",
      "=================================================================\n",
      "my_layer_54 (MyLayer)        multiple                  20        \n",
      "_________________________________________________________________\n",
      "my_dropout_36 (MyDropout)    multiple                  0         \n",
      "_________________________________________________________________\n",
      "my_layer_55 (MyLayer)        multiple                  110       \n",
      "_________________________________________________________________\n",
      "my_dropout_37 (MyDropout)    multiple                  0         \n",
      "_________________________________________________________________\n",
      "my_layer_56 (MyLayer)        multiple                  11        \n",
      "=================================================================\n",
      "Total params: 141\n",
      "Trainable params: 141\n",
      "Non-trainable params: 0\n",
      "_________________________________________________________________\n"
     ]
    }
   ],
   "source": [
    "model = MyModel(10, 10, 1)\n",
    "model(x_train)\n",
    "model.summary()\n"
   ]
  },
  {
   "cell_type": "markdown",
   "metadata": {},
   "source": [
    "#### Define the loss function and optimizer\n",
    "\n"
   ]
  },
  {
   "cell_type": "code",
   "execution_count": 191,
   "metadata": {},
   "outputs": [],
   "source": [
    "# Define the categorical cross entropy loss and SGD optimizer\n",
    "\n",
    "loss_object = tf.keras.losses.MeanAbsoluteError()\n",
    "\n",
    "def loss(model, x, y, wd):\n",
    "    kernel_variables = []\n",
    "    for l in model.layers:\n",
    "        for w in l.weights:\n",
    "            if 'kernel' in w.name:\n",
    "                kernel_variables.append(w)\n",
    "    wd_penalty = wd * tf.reduce_sum([tf.reduce_sum(tf.square(k)) for k in kernel_variables])\n",
    "    y_ = model(x)\n",
    "    print(y_)\n",
    "    return loss_object(y_true=y, y_pred=y_) + wd_penalty\n",
    "\n",
    "optimizer = tf.keras.optimizers.SGD(learning_rate=0.05)\n",
    "\n"
   ]
  },
  {
   "cell_type": "markdown",
   "metadata": {},
   "source": [
    "#### Define the function to do forward and backward passes\n",
    "\n"
   ]
  },
  {
   "cell_type": "code",
   "execution_count": 173,
   "metadata": {},
   "outputs": [],
   "source": [
    "# Define a function to compute the forward and backward pass\n",
    "@tf.function\n",
    "def grad(model, inputs, targets, wd):\n",
    "    with tf.GradientTape() as tape:\n",
    "        # forward pass\n",
    "        loss_value = loss(model, inputs, targets, wd)\n",
    "        # backward pass\n",
    "        grads = tape.gradient(loss_value, model.trainable_variables)\n",
    "    return loss_value, grads"
   ]
  },
  {
   "cell_type": "markdown",
   "metadata": {},
   "source": [
    "#### Do the training"
   ]
  },
  {
   "cell_type": "code",
   "execution_count": 192,
   "metadata": {},
   "outputs": [
    {
     "name": "stdout",
     "output_type": "stream",
     "text": [
      "Tensor(\"my_model_18/my_layer_56/add:0\", shape=(32, 1), dtype=float32)\n",
      "Tensor(\"my_model_18/my_layer_56/add:0\", shape=(28, 1), dtype=float32)\n",
      "Epoch 000 : Loss 1.526: MAE 147.14\n",
      "Epoch 100 : Loss 0.403: MAE 39.83\n",
      "Epoch 200 : Loss 0.402: MAE 39.76\n",
      "Epoch 300 : Loss 0.400: MAE 39.52\n",
      "Epoch 400 : Loss 0.382: MAE 37.52\n",
      "Epoch 500 : Loss 0.187: MAE 16.35\n",
      "Epoch 600 : Loss 0.164: MAE 14.40\n",
      "Epoch 700 : Loss 0.157: MAE 11.87\n",
      "Epoch 800 : Loss 0.120: MAE 10.77\n",
      "Epoch 900 : Loss 0.108: MAE 8.77\n",
      "Epoch 1000 : Loss 0.095: MAE 9.43\n",
      "Epoch 1100 : Loss 0.107: MAE 6.95\n",
      "Duration :19.749\n"
     ]
    }
   ],
   "source": [
    "# Implement the training loop\n",
    "\n",
    "from tensorflow.keras.utils import to_categorical\n",
    "import time\n",
    "\n",
    "start_time = time.time()\n",
    "\n",
    "train_dataset = tf.data.Dataset.from_tensor_slices((x_train,y_train))\n",
    "train_dataset = train_dataset.batch(32)\n",
    "\n",
    "train_loss_results = []\n",
    "train_accuracy_results =[]\n",
    "\n",
    "num_epochs=1200\n",
    "weight_decay =0.005\n",
    "\n",
    "for epoch in range(num_epochs):\n",
    "    \n",
    "    epoch_loss_avg = tf.keras.metrics.Mean()\n",
    "    epoch_accuracy = tf.keras.metrics.MeanAbsoluteError()\n",
    "    \n",
    "    # Training loop\n",
    "    for x, y in train_dataset:\n",
    "        # Optimise the model\n",
    "        # do forward and backward pass\n",
    "        loss_value, grads = grad(model, x, y, weight_decay)\n",
    "        # update parameters with optimizer\n",
    "        optimizer.apply_gradients(zip(grads, model.trainable_variables))\n",
    "\n",
    "        # Compute current loss\n",
    "        epoch_loss_avg(loss_value)\n",
    "        # Compile predicted label to actual label\n",
    "        epoch_accuracy(y, model(x))\n",
    "        \n",
    "    # End epoch\n",
    "    train_loss_results.append(epoch_loss_avg.result())\n",
    "    train_accuracy_results.append(epoch_accuracy.result())\n",
    "    if epoch%100==0:\n",
    "        print(f\"Epoch {epoch:03d} : Loss {epoch_loss_avg.result():.3f}: MAE {100*epoch_accuracy.result():.2f}\")\n",
    "        \n",
    "print(\"Duration :{:.3f}\".format(time.time() - start_time))"
   ]
  },
  {
   "cell_type": "code",
   "execution_count": 193,
   "metadata": {
    "scrolled": true
   },
   "outputs": [
    {
     "data": {
      "text/plain": [
       "[<matplotlib.lines.Line2D at 0x2a9114a8640>]"
      ]
     },
     "execution_count": 193,
     "metadata": {},
     "output_type": "execute_result"
    },
    {
     "data": {
      "image/png": "[encoded data removed]",
      "text/plain": [
       "<Figure size 432x288 with 1 Axes>"
      ]
     },
     "metadata": {
      "needs_background": "light"
     },
     "output_type": "display_data"
    }
   ],
   "source": [
    "y_pred = model.predict(x_train)\n",
    "plt.plot(x_train, y_train, 'b.')\n",
    "plt.plot(x_train, y_pred, 'kx')\n"
   ]
  }
 ],
 "metadata": {
  "kernelspec": {
   "display_name": "Python 3 (ipykernel)",
   "language": "python",
   "name": "python3"
  },
  "language_info": {
   "codemirror_mode": {
    "name": "ipython",
    "version": 3
   },
   "file_extension": ".py",
   "mimetype": "text/x-python",
   "name": "python",
   "nbconvert_exporter": "python",
   "pygments_lexer": "ipython3",
   "version": "3.8.8"
  },
  "varInspector": {
   "cols": {
    "lenName": 16,
    "lenType": 16,
    "lenVar": 40
   },
   "kernels_config": {
    "python": {
     "delete_cmd_postfix": "",
     "delete_cmd_prefix": "del ",
     "library": "var_list.py",
     "varRefreshCmd": "print(var_dic_list())"
    },
    "r": {
     "delete_cmd_postfix": ") ",
     "delete_cmd_prefix": "rm(",
     "library": "var_list.r",
     "varRefreshCmd": "cat(var_dic_list()) "
    }
   },
   "types_to_exclude": [
    "module",
    "function",
    "builtin_function_or_method",
    "instance",
    "_Feature"
   ],
   "window_display": false
  }
 },
 "nbformat": 4,
 "nbformat_minor": 2
}
