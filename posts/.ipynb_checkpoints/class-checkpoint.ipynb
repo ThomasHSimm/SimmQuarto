{
 "cells": [
  {
   "cell_type": "code",
   "execution_count": 14,
   "metadata": {},
   "outputs": [
    {
     "name": "stdout",
     "output_type": "stream",
     "text": [
      "90\n"
     ]
    }
   ],
   "source": [
    "class FirstClass: # Define a class object\n",
    "    def setdata(self, value): # Define class methods\n",
    "        self.data = value # self is the instance\n",
    "    def display(self):\n",
    "        print(self.data)\n",
    "        \n",
    "xx = FirstClass()\n",
    "xx.setdata(90)\n",
    "xx.display()"
   ]
  },
  {
   "cell_type": "code",
   "execution_count": 73,
   "metadata": {},
   "outputs": [
    {
     "name": "stdout",
     "output_type": "stream",
     "text": [
      "9090\n",
      "Current value ='9090'\n",
      "9099\n"
     ]
    },
    {
     "data": {
      "text/plain": [
       "('ts', 'ts')"
      ]
     },
     "execution_count": 73,
     "metadata": {},
     "output_type": "execute_result"
    }
   ],
   "source": [
    "class SecondClass(FirstClass):\n",
    "    def __init__(self,value):\n",
    "        self.data = value\n",
    "    def __str__(self):# overwrites print\n",
    "        return \"Current value ='%s'\" % self.data\n",
    "    def __mul__(self, other):\n",
    "        self.data *= other\n",
    "    def __add__(self,other):# overwrites + N.B. uses __init__ value\n",
    "        return SecondClass(self.data + other)\n",
    "        \n",
    "we = SecondClass(909)\n",
    "we.name='opop'\n",
    "we.setdata(9090)\n",
    "we.display()\n",
    "print(we)\n",
    "wewe = we+9\n",
    "wewe.display()\n",
    "\n",
    "# attach attributes outside class call\n",
    "SecondClass.ts ='ts'\n",
    "\n",
    "you = SecondClass(909)\n",
    "you.ts, we.ts"
   ]
  },
  {
   "cell_type": "code",
   "execution_count": 79,
   "metadata": {},
   "outputs": [
    {
     "name": "stdout",
     "output_type": "stream",
     "text": [
      "dict_keys(['__module__', '__init__', '__str__', '__mul__', '__add__', '__doc__', 'ts'])\n",
      "dict_keys(['data', 'name'])\n"
     ]
    },
    {
     "data": {
      "text/plain": [
       "__main__.SecondClass"
      ]
     },
     "execution_count": 79,
     "metadata": {},
     "output_type": "execute_result"
    }
   ],
   "source": [
    "## get the attributes of a class\n",
    "print(SecondClass.__dict__.keys())\n",
    "\n",
    "## get the attributes of a class instance note only ones assigned are listed not just inherited\n",
    "print(we.__dict__.keys())\n",
    "\n",
    "we.__class__"
   ]
  },
  {
   "cell_type": "code",
   "execution_count": 85,
   "metadata": {},
   "outputs": [
    {
     "name": "stdout",
     "output_type": "stream",
     "text": [
      "OPOP\n",
      "opop OPOP\n"
     ]
    }
   ],
   "source": [
    "def upperName(self):\n",
    "    return self.name.upper()\n",
    "\n",
    "print( upperName(we) )\n",
    "\n",
    "## Attach the function to the class SecondClass\n",
    "SecondClass.upsy = upperName\n",
    "\n",
    "print( we.name, we.upsy() )"
   ]
  },
  {
   "cell_type": "code",
   "execution_count": 26,
   "metadata": {},
   "outputs": [
    {
     "name": "stdout",
     "output_type": "stream",
     "text": [
      "val a is 1\n",
      "no value b\n",
      "no value c\n",
      "val d is 4\n"
     ]
    }
   ],
   "source": [
    "from data.mod3 import * #data.mod == ./data/mod.py\n",
    "\n",
    "try:\n",
    "    print(f\"val a is {a}\")\n",
    "except:\n",
    "    print(f\"no value a\")\n",
    "try:\n",
    "    print(f\"val b is {b}\")\n",
    "except:\n",
    "    print(f\"no value b\")\n",
    "try:\n",
    "    print(f\"val c is {c}\")\n",
    "except:\n",
    "    print(f\"no value c\")\n",
    "try:\n",
    "    print(f\"val d is {d}\")\n",
    "except:\n",
    "    print(f\"no value d\")\n",
    "\n",
    "# wayne(b)"
   ]
  }
 ],
 "metadata": {
  "kernelspec": {
   "display_name": "Python 3 (ipykernel)",
   "language": "python",
   "name": "python3"
  },
  "language_info": {
   "codemirror_mode": {
    "name": "ipython",
    "version": 3
   },
   "file_extension": ".py",
   "mimetype": "text/x-python",
   "name": "python",
   "nbconvert_exporter": "python",
   "pygments_lexer": "ipython3",
   "version": "3.8.8"
  }
 },
 "nbformat": 4,
 "nbformat_minor": 2
}
