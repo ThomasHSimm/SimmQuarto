{
 "cells": [
  {
   "cell_type": "markdown",
   "metadata": {},
   "source": [
    "# Git and Github \n",
    "\n",
    "## Introduction to Git and GitHub\n",
    "From the Coursera course within **Google IT Automation with Python Professional Certificate** \n",
    "https://www.coursera.org/learn/introduction-git-github/home/welcome\n",
    "\n",
    "## Check out the following links for more information:\n",
    "\n",
    "https://git-scm.com/doc\n",
    "\n",
    "https://en.wikipedia.org/wiki/Version_control\n",
    "\n",
    "The Linux kernel documentation itself (https://git.kernel.org/pub/scm/linux/kernel/git/torvalds/linux.git/tree/Documentation/process/submitting-patches.rst?id=HEAD), as well as impassioned opinions from other developers. (http://stopwritingramblingcommitmessages.com/ https://robots.thoughtbot.com/5-useful-tips-for-a-better-commit-message)\n",
    "\n",
    "You can check out \"Setting your email in Git\" (https://help.github.com/articles/setting-your-email-in-git/) and \"Keeping your email address private\" on the GitHub help site for how to do this. (https://docs.github.com/en/account-and-profile/setting-up-and-managing-your-github-user-account/managing-email-preferences/setting-your-commit-email-address)\n",
    "\n",
    "\n",
    "Run in github bash"
   ]
  },
  {
   "cell_type": "code",
   "execution_count": null,
   "metadata": {
    "deletable": false,
    "editable": false,
    "run_control": {
     "frozen": true
    }
   },
   "outputs": [],
   "source": [
    "#create new file and edit\n",
    "nano file.txt\n",
    "#create file\n",
    "touch file.txt\n"
   ]
  },
  {
   "attachments": {},
   "cell_type": "markdown",
   "metadata": {},
   "source": [
    "![](ghtop_images/GithubIMG.png)"
   ]
  },
  {
   "cell_type": "markdown",
   "metadata": {},
   "source": [
    "## *diff* find the difference between two files"
   ]
  },
  {
   "cell_type": "markdown",
   "metadata": {},
   "source": [
    "diff\n",
    "\n",
    "https://man7.org/linux/man-pages/man1/diff.1.html\n",
    "\n",
    "diff is used to find differences between two files. On its own, it’s a bit hard to use; instead, use it with diff -u to find lines which differ in two files:\n",
    "diff -u\n",
    "\n",
    "diff -u is used to compare two files, line by line, and have the differing lines compared side-by-side in the same output. See below:"
   ]
  },
  {
   "cell_type": "code",
   "execution_count": 5,
   "metadata": {
    "deletable": false,
    "editable": false,
    "run_control": {
     "frozen": true
    }
   },
   "outputs": [],
   "source": [
    ">>diff test.py test2.py\n",
    "\n"
   ]
  },
  {
   "cell_type": "markdown",
   "metadata": {},
   "source": [
    "output\n"
   ]
  },
  {
   "cell_type": "code",
   "execution_count": null,
   "metadata": {
    "deletable": false,
    "editable": false,
    "run_control": {
     "frozen": true
    }
   },
   "outputs": [],
   "source": [
    "3c3\n",
    "< c=a**b\n",
    "---\n",
    "> c=a**b+a\n",
    "4a5\n",
    "> d=c**c\n"
   ]
  },
  {
   "cell_type": "markdown",
   "metadata": {},
   "source": [
    "3c3\n",
    "\n",
    "line in file 1 - c=change - line in file 2\n",
    "                 a=added"
   ]
  },
  {
   "cell_type": "code",
   "execution_count": null,
   "metadata": {
    "deletable": false,
    "editable": false,
    "run_control": {
     "frozen": true
    }
   },
   "outputs": [],
   "source": [
    ">>diff -u test.py test2.py\n",
    "\n",
    "#output\n",
    "\n",
    "--- test.py     2021-10-17 11:14:24.880950400 +0100\n",
    "+++ test2.py    2021-10-17 11:14:21.155278200 +0100\n",
    "@@ -1,4 +1,5 @@\n",
    " a=3\n",
    " b=2\n",
    "-c=a**b\n",
    "+c=a**b+a\n",
    " print(c)\n",
    "+d=c**c"
   ]
  },
  {
   "cell_type": "markdown",
   "metadata": {},
   "source": [
    "adding -u gives extra context to changes"
   ]
  },
  {
   "cell_type": "markdown",
   "metadata": {},
   "source": [
    "## applying changes"
   ]
  },
  {
   "cell_type": "markdown",
   "metadata": {},
   "source": [
    "#### Create a file with the changes in"
   ]
  },
  {
   "cell_type": "code",
   "execution_count": null,
   "metadata": {
    "deletable": false,
    "editable": false,
    "run_control": {
     "frozen": true
    }
   },
   "outputs": [],
   "source": [
    ">>diff -u test.py test2.py >change.diff"
   ]
  },
  {
   "cell_type": "markdown",
   "metadata": {},
   "source": [
    "### patch\n",
    "\n",
    "http://man7.org/linux/man-pages/man1/patch.1.html"
   ]
  },
  {
   "cell_type": "code",
   "execution_count": null,
   "metadata": {
    "deletable": false,
    "editable": false,
    "run_control": {
     "frozen": true
    }
   },
   "outputs": [],
   "source": [
    ">>patch test-Copy1.py < change.diff"
   ]
  },
  {
   "cell_type": "markdown",
   "metadata": {},
   "source": [
    "this applies changes in change.diff to test-Copy1.diff"
   ]
  },
  {
   "cell_type": "markdown",
   "metadata": {},
   "source": [
    "## VCS version control system\n",
    " By keeping track of the changes that we make to our files, a VCS lets us know when a file changed, who changed it, and also lets us easily roll back those changes."
   ]
  },
  {
   "cell_type": "markdown",
   "metadata": {},
   "source": [
    "## git config"
   ]
  },
  {
   "cell_type": "code",
   "execution_count": null,
   "metadata": {
    "deletable": false,
    "editable": false,
    "run_control": {
     "frozen": true
    }
   },
   "outputs": [],
   "source": [
    ">>git config --global user.email \"me@example.com\" \n",
    ">>git config --global user.name \"My name\" "
   ]
  },
  {
   "cell_type": "markdown",
   "metadata": {},
   "source": [
    "set email and name \n",
    "\n",
    "--global means for all repositories"
   ]
  },
  {
   "cell_type": "code",
   "execution_count": null,
   "metadata": {
    "deletable": false,
    "editable": false,
    "run_control": {
     "frozen": true
    }
   },
   "outputs": [],
   "source": [
    "# Find details of configuration\n",
    ">>git config -l"
   ]
  },
  {
   "cell_type": "markdown",
   "metadata": {},
   "source": [
    "## create a new repository"
   ]
  },
  {
   "cell_type": "code",
   "execution_count": null,
   "metadata": {
    "deletable": false,
    "editable": false,
    "run_control": {
     "frozen": true
    }
   },
   "outputs": [],
   "source": [
    ">>mkdir testa\n",
    ">>cd testa\n",
    ">>git init "
   ]
  },
  {
   "cell_type": "markdown",
   "metadata": {},
   "source": [
    "detals of the created directory"
   ]
  },
  {
   "cell_type": "code",
   "execution_count": null,
   "metadata": {
    "deletable": false,
    "editable": false,
    "run_control": {
     "frozen": true
    }
   },
   "outputs": [],
   "source": [
    ">>ls -l .git\n",
    "\n",
    "#output->>\n",
    "-rw-r--r-- 1 44781 197609  23 Oct 17 12:06 HEAD\n",
    "-rw-r--r-- 1 44781 197609 130 Oct 17 12:06 config\n",
    "-rw-r--r-- 1 44781 197609  73 Oct 17 12:06 description\n",
    "drwxr-xr-x 1 44781 197609   0 Oct 17 12:06 hooks/\n",
    "drwxr-xr-x 1 44781 197609   0 Oct 17 12:06 info/\n",
    "drwxr-xr-x 1 44781 197609   0 Oct 17 12:06 objects/\n",
    "drwxr-xr-x 1 44781 197609   0 Oct 17 12:06 refs/\n"
   ]
  },
  {
   "cell_type": "markdown",
   "metadata": {},
   "source": [
    "The git directory acts as a database for all the changes tracked in Git and the working tree acts as a sandbox where we can edit the current versions of the files."
   ]
  },
  {
   "cell_type": "markdown",
   "metadata": {},
   "source": [
    "## add a file to the directory and get it tracked"
   ]
  },
  {
   "cell_type": "code",
   "execution_count": null,
   "metadata": {
    "deletable": false,
    "editable": false,
    "run_control": {
     "frozen": true
    }
   },
   "outputs": [],
   "source": [
    ">>cp ../test.py . \n",
    "#note the dot at end to say copy to this directory\n",
    ">>git add test.py\n"
   ]
  },
  {
   "cell_type": "markdown",
   "metadata": {},
   "source": [
    "The file is now in the **staging area** or **index**\n",
    "\n",
    "contains all info about what files and changes are in the next commit"
   ]
  },
  {
   "cell_type": "code",
   "execution_count": null,
   "metadata": {
    "deletable": false,
    "editable": false,
    "run_control": {
     "frozen": true
    }
   },
   "outputs": [],
   "source": [
    ">>git add -p"
   ]
  },
  {
   "cell_type": "markdown",
   "metadata": {},
   "source": [
    "this would all tracked and shows differences and asks if want to make the add"
   ]
  },
  {
   "cell_type": "markdown",
   "metadata": {},
   "source": [
    "## get the status"
   ]
  },
  {
   "cell_type": "code",
   "execution_count": null,
   "metadata": {
    "deletable": false,
    "editable": false,
    "run_control": {
     "frozen": true
    }
   },
   "outputs": [],
   "source": [
    ">>git status\n",
    "\n",
    "On branch master\n",
    "\n",
    "No commits yet\n",
    "\n",
    "Changes to be committed:\n",
    "  (use \"git rm --cached <file>...\" to unstage)\n",
    "        new file:   test.py\n"
   ]
  },
  {
   "cell_type": "markdown",
   "metadata": {},
   "source": [
    "test.py ready to be committed"
   ]
  },
  {
   "cell_type": "markdown",
   "metadata": {},
   "source": [
    "## Make a commit"
   ]
  },
  {
   "cell_type": "code",
   "execution_count": null,
   "metadata": {
    "deletable": false,
    "editable": false,
    "run_control": {
     "frozen": true
    }
   },
   "outputs": [],
   "source": [
    ">>git commit\n",
    "\n",
    "# Please enter the commit message for your changes. Lines starting\n",
    "# with '#' will be ignored, and an empty message aborts the commit.\n",
    "#\n",
    "# On branch master\n",
    "#\n",
    "# Initial commit\n",
    "#\n",
    "# Changes to be committed:\n",
    "#       new file:   test.py\n",
    "#\n",
    "~\n",
    "~\n",
    "~\n",
    "~\n",
    "~\n",
    "~\n",
    "~\n",
    "~\n",
    "~\n",
    "~\n",
    "~"
   ]
  },
  {
   "cell_type": "markdown",
   "metadata": {},
   "source": [
    "this opens up an editor with text as shown\n",
    "\n",
    "Enter details of the commit\n",
    "\n",
    "To exit and save:\n",
    " Type the description at the very top, press esc to exit insert mode, then type :x! (now the cursor is at the bottom) and hit enter to save and exit"
   ]
  },
  {
   "cell_type": "markdown",
   "metadata": {},
   "source": [
    "Alternatively add -m command with details of commit\n",
    "\n",
    "<code>git commit -m 'Changed print to include some text'</code>"
   ]
  },
  {
   "cell_type": "markdown",
   "metadata": {},
   "source": [
    "#### Tracked files\n",
    "- Modified\n",
    "    - made changes but not committed yet\n",
    "- Staged\n",
    "    - in staging area\n",
    "    - <code>git add</code>\n",
    "- Committed\n",
    "    - in git directory\n",
    "    - <code>git commit</code>"
   ]
  },
  {
   "cell_type": "markdown",
   "metadata": {},
   "source": [
    "### Commit messages\n",
    "\n",
    "Brief description\n",
    "\n",
    "More indepth details\n",
    "\n",
    "More indepth \n",
    "\n",
    "(remember to add new lines)"
   ]
  },
  {
   "cell_type": "markdown",
   "metadata": {},
   "source": [
    "## Git log"
   ]
  },
  {
   "cell_type": "code",
   "execution_count": null,
   "metadata": {
    "deletable": false,
    "editable": false,
    "run_control": {
     "frozen": true
    }
   },
   "outputs": [],
   "source": [
    ">>git log\n",
    "commit 05958854b7ad68f8b1a178f260dccd844aec0e16 (HEAD -> master)\n",
    "Author: thomashsimm <thomas @gmail.com>\n",
    "Date:   Sun Oct 17 13:04:10 2021 +0100\n",
    "\n",
    "    added python start line\n",
    "\n",
    "commit 917a027f6282ce1c2c01e00a48bb72995e3984a6\n",
    "Author: thomashsimm <thomas @gmail.com>\n",
    "Date:   Sun Oct 17 12:56:41 2021 +0100\n",
    "\n",
    "    Changed print to include some text\n",
    "\n",
    "commit 7e32e328db17594fd0a507b4a23f489b68c09543\n",
    "Author: thomashsimm <thomas  @gmail.com>\n",
    "Date:   Sun Oct 17 12:38:02 2021 +0100\n",
    "\n",
    "    Add new file test.py\n"
   ]
  },
  {
   "cell_type": "markdown",
   "metadata": {},
   "source": [
    "## Skipping the Staging Area"
   ]
  },
  {
   "cell_type": "code",
   "execution_count": null,
   "metadata": {
    "deletable": false,
    "editable": false,
    "run_control": {
     "frozen": true
    }
   },
   "outputs": [],
   "source": [
    ">>git commit -a\n",
    "\n",
    "or\n",
    ">>git commit -a -m \"Added a new output\""
   ]
  },
  {
   "cell_type": "markdown",
   "metadata": {},
   "source": [
    "a shortcut to stage any changes to **tracked files** and commit them in one step"
   ]
  },
  {
   "cell_type": "markdown",
   "metadata": {},
   "source": [
    "## Getting more information about our changes"
   ]
  },
  {
   "cell_type": "code",
   "execution_count": null,
   "metadata": {
    "deletable": false,
    "editable": false,
    "run_control": {
     "frozen": true
    }
   },
   "outputs": [],
   "source": [
    ">>git log -p"
   ]
  },
  {
   "cell_type": "markdown",
   "metadata": {},
   "source": [
    "Equivalent to diff -u (describe above)"
   ]
  },
  {
   "cell_type": "markdown",
   "metadata": {},
   "source": [
    "to get more info on a particular commit"
   ]
  },
  {
   "cell_type": "code",
   "execution_count": null,
   "metadata": {
    "deletable": false,
    "editable": false,
    "run_control": {
     "frozen": true
    }
   },
   "outputs": [],
   "source": [
    ">>git show 7e32e328db17594fd0a507b4a23f489b68c09543"
   ]
  },
  {
   "cell_type": "markdown",
   "metadata": {},
   "source": [
    "Some stats of repo"
   ]
  },
  {
   "cell_type": "code",
   "execution_count": null,
   "metadata": {
    "deletable": false,
    "editable": false,
    "run_control": {
     "frozen": true
    }
   },
   "outputs": [],
   "source": [
    ">>git log --stat"
   ]
  },
  {
   "cell_type": "markdown",
   "metadata": {},
   "source": [
    "changes in file, relative to repo/staging area"
   ]
  },
  {
   "cell_type": "code",
   "execution_count": 16,
   "metadata": {
    "deletable": false,
    "editable": false,
    "run_control": {
     "frozen": true
    }
   },
   "outputs": [],
   "source": [
    ">>git diff"
   ]
  },
  {
   "cell_type": "markdown",
   "metadata": {},
   "source": [
    "## Deleting and Renaming Files"
   ]
  },
  {
   "cell_type": "code",
   "execution_count": null,
   "metadata": {
    "deletable": false,
    "editable": false,
    "run_control": {
     "frozen": true
    }
   },
   "outputs": [],
   "source": [
    ">>git rm test.py"
   ]
  },
  {
   "cell_type": "markdown",
   "metadata": {},
   "source": [
    "removes the file test.py"
   ]
  },
  {
   "cell_type": "code",
   "execution_count": null,
   "metadata": {
    "deletable": false,
    "editable": false,
    "run_control": {
     "frozen": true
    }
   },
   "outputs": [],
   "source": [
    ">>git commit -m \"Deleted test.py\""
   ]
  },
  {
   "cell_type": "markdown",
   "metadata": {},
   "source": [
    "commit the change/deletion of the file"
   ]
  },
  {
   "cell_type": "code",
   "execution_count": null,
   "metadata": {
    "deletable": false,
    "editable": false,
    "run_control": {
     "frozen": true
    }
   },
   "outputs": [],
   "source": [
    ">>git mv test2.py test.py "
   ]
  },
  {
   "cell_type": "markdown",
   "metadata": {},
   "source": [
    "rename a file\n",
    "\n",
    "N.B. <code>git mv</code> can also be used for moving files"
   ]
  },
  {
   "cell_type": "code",
   "execution_count": null,
   "metadata": {
    "deletable": false,
    "editable": false,
    "run_control": {
     "frozen": true
    }
   },
   "outputs": [],
   "source": [
    ">>echo .DS_STORE > .gitignore\n",
    "#create .gitignore file to ignore .DS_STORE files (OS sys)\n",
    ">>ls -la\n",
    "#view hidden files\n",
    ">>git add .gitignore\n",
    "#add file\n",
    ">>git commit -m \"added a gitignore file\"\n",
    "#commit changes"
   ]
  },
  {
   "cell_type": "markdown",
   "metadata": {},
   "source": [
    "# Overview git cheat sheet\n",
    "\n",
    "<code>git commit -a </code> &nbsp;&nbsp;&nbsp; Stages files automatically\n",
    "\n",
    "<code>git log -p</code> &nbsp;&nbsp;&nbsp; Produces patch text\n",
    "\n",
    "<code>git show</code>&nbsp;&nbsp;&nbsp;Shows various objects\n",
    "\n",
    "<code>git diff</code>&nbsp;&nbsp;&nbsp;Is similar to the Linux `diff` command, and can show the differences in various commits\n",
    "\n",
    "<code>git diff --staged</code>&nbsp;&nbsp;&nbsp;An alias to --cached, this will show all staged files compared to the named commit\n",
    "\n",
    "<code>git add -p</code> &nbsp;&nbsp;&nbsp;Allows a user to interactively review patches to add to the current commit\n",
    "\n",
    "<code>git mv</code>&nbsp;&nbsp;&nbsp;Similar to the Linux `mv` command, this moves a file\n",
    "\n",
    "<code>git rm</code>Similar to the Linux `rm` command, this deletes, or removes a file\n",
    "\n",
    "\n",
    "There are many useful git cheatsheets online as well. Please take some time to research and study a few, such as this one. https://github.github.com/training-kit/downloads/github-git-cheat-sheet.pdf\n",
    "\n",
    "## .gitignore files\n",
    "\n",
    ".gitignore files are used to tell the git tool to intentionally ignore some files in a given Git repository. For example, this can be useful for configuration files or metadata files that a user may not want to check into the master branch. Check out more at: https://git-scm.com/docs/gitignore.\n",
    "\n",
    "A few common examples of file patterns to exclude can be found here https://gist.github.com/octocat/9257657."
   ]
  },
  {
   "cell_type": "markdown",
   "metadata": {},
   "source": [
    "## Undoing changes"
   ]
  },
  {
   "cell_type": "markdown",
   "metadata": {},
   "source": [
    "### Undoing unstaged changes"
   ]
  },
  {
   "cell_type": "code",
   "execution_count": null,
   "metadata": {
    "deletable": false,
    "editable": false,
    "run_control": {
     "frozen": true
    }
   },
   "outputs": [],
   "source": [
    ">>git restore test.py"
   ]
  },
  {
   "cell_type": "markdown",
   "metadata": {},
   "source": [
    "\"git restore <file>...\" to discard changes in working directory\n",
    "    \n",
    "This comes up as an option to do when go <code>git status</code>\n",
    "    \n",
    "Same as <code>git checkout</code>\n",
    "    \n",
    "This takes the file from the directory and changes the one in the working tree to match this"
   ]
  },
  {
   "cell_type": "markdown",
   "metadata": {},
   "source": [
    "### Undoing staged changes"
   ]
  },
  {
   "cell_type": "markdown",
   "metadata": {},
   "source": [
    "Say we've added all files in a directory\n",
    "\n",
    "<code>git add *</code>\n",
    "\n",
    "When we run \n",
    "<code>git status</code> we reaslise it includes a file we don't want to add\n",
    "\n",
    "To remove the add we do:"
   ]
  },
  {
   "cell_type": "code",
   "execution_count": null,
   "metadata": {
    "deletable": false,
    "editable": false,
    "run_control": {
     "frozen": true
    }
   },
   "outputs": [],
   "source": [
    ">>git restore --staged newfile.txt\n",
    "\n",
    "or\n",
    ">>git reset HEAD newfile.txt"
   ]
  },
  {
   "cell_type": "markdown",
   "metadata": {},
   "source": [
    "## Amending commits"
   ]
  },
  {
   "cell_type": "code",
   "execution_count": null,
   "metadata": {
    "deletable": false,
    "editable": false,
    "run_control": {
     "frozen": true
    }
   },
   "outputs": [],
   "source": [
    ">git commit --amend"
   ]
  },
  {
   "cell_type": "markdown",
   "metadata": {},
   "source": [
    "This allows us to ammend the last commit\n",
    "\n",
    "So for example we could add some more files to it and then modify the comments on the commit\n",
    "\n",
    "Then **overwrites** the previous commit"
   ]
  },
  {
   "cell_type": "markdown",
   "metadata": {},
   "source": [
    "<h3>Only use for: local changes</h3>\n",
    "\n",
    "<h3>Amend Commits are not for commits that have been made public</h3>"
   ]
  },
  {
   "cell_type": "markdown",
   "metadata": {},
   "source": [
    "## Rollbacks"
   ]
  }
 ],
 "metadata": {
  "kernelspec": {
   "display_name": "Python 3",
   "language": "python",
   "name": "python3"
  },
  "language_info": {
   "codemirror_mode": {
    "name": "ipython",
    "version": 3
   },
   "file_extension": ".py",
   "mimetype": "text/x-python",
   "name": "python",
   "nbconvert_exporter": "python",
   "pygments_lexer": "ipython3",
   "version": "3.8.8"
  },
  "varInspector": {
   "cols": {
    "lenName": 16,
    "lenType": 16,
    "lenVar": 40
   },
   "kernels_config": {
    "python": {
     "delete_cmd_postfix": "",
     "delete_cmd_prefix": "del ",
     "library": "var_list.py",
     "varRefreshCmd": "print(var_dic_list())"
    },
    "r": {
     "delete_cmd_postfix": ") ",
     "delete_cmd_prefix": "rm(",
     "library": "var_list.r",
     "varRefreshCmd": "cat(var_dic_list()) "
    }
   },
   "types_to_exclude": [
    "module",
    "function",
    "builtin_function_or_method",
    "instance",
    "_Feature"
   ],
   "window_display": false
  }
 },
 "nbformat": 4,
 "nbformat_minor": 2
}
