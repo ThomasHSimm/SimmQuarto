{
 "cells": [
  {
   "cell_type": "markdown",
   "metadata": {},
   "source": [
    "# TensorFlow Low-Level cheat sheet\n",
    "> Some tips for tensorflow and keras custom layers and models\n",
    "\n",
    "- toc: true \n",
    "- badges: true\n",
    "- comments: true\n",
    "- categories: [tensorflow, low-level]"
   ]
  },
  {
   "cell_type": "markdown",
   "metadata": {},
   "source": [
    "![](ghtop_images/header2.png)"
   ]
  },
  {
   "cell_type": "code",
   "execution_count": 4,
   "metadata": {},
   "outputs": [],
   "source": [
    "#hide\n",
    "import numpy as np\n",
    "import tensorflow as tf"
   ]
  },
  {
   "cell_type": "markdown",
   "metadata": {},
   "source": [
    "# Overview\n",
    "\n",
    "Custom Models and custom Layers share similar features. Both build on the implementation in the higher level code and both use `class` objects.\n",
    "\n",
    "Hence, the first part of this looks at Classes. Then custom layers and custom models are considered.\n",
    "\n",
    "Custom layers and models give us greater control over the nature of the models. They can be useful when using the higher level methods either make coding a complicated implementation either difficult or impossible."
   ]
  },
  {
   "cell_type": "markdown",
   "metadata": {},
   "source": [
    "# Classes\n",
    "\n",
    "[Classes](https://docs.python.org/3/tutorial/classes.html) \n",
    "> Classes provide a means of bundling data and functionality together. Creating a new class creates a new type of object, allowing new instances of that type to be made. Each class instance can have attributes attached to it for maintaining its state. Class instances can also have methods (defined by its class) for modifying its state.\n",
    "\n",
    "\n",
    "- `init` When a class defines an `__init__()` method, class instantiation automatically invokes `__init__()` for the newly created class instance. \n",
    "- `def` Define functions for the class\n",
    "- `super()` returns a temporary object of the superclass (proxy object) that allows us to acces methods of the base class\n",
    "- Python classes have an attribute called `__dict__` which gives a Python dictionary containing the object's instance variables and values as key value pairs\n",
    "- You can also get the dictionary by calling `vars` on an instance of the class\n",
    "- You can add a new variable to a class object\n",
    "    - e.g. `my_class_obj.var_new = 2`\n",
    "    - or `vars(my_class_obj)[var_new2 = 3`\n"
   ]
  },
  {
   "cell_type": "code",
   "execution_count": 1,
   "metadata": {},
   "outputs": [],
   "source": [
    "#hide\n",
    "import matplotlib.pyplot as plt\n",
    "import numpy as np"
   ]
  },
  {
   "cell_type": "code",
   "execution_count": 2,
   "metadata": {},
   "outputs": [
    {
     "name": "stdout",
     "output_type": "stream",
     "text": [
      "my_class_obj.__dict__ = {'var1': 1}      \n",
      "vars(my_class_obj) = {'var1': 1}\n",
      "\n",
      "{'var1': 1, 'var2': 2, 'var3': 3}\n"
     ]
    }
   ],
   "source": [
    "class MyClass:\n",
    "    def __init__(self):\n",
    "        self.var1 = 1\n",
    "my_class_obj = MyClass()\n",
    "\n",
    "print(f\"my_class_obj.__dict__ = {my_class_obj.__dict__}\\\n",
    "      \\nvars(my_class_obj) = {vars(my_class_obj)}\")\n",
    "print()\n",
    "\n",
    "my_class_obj.var2 = 2\n",
    "vars(my_class_obj)['var3'] = 3\n",
    "\n",
    "print(vars(my_class_obj))"
   ]
  },
  {
   "cell_type": "markdown",
   "metadata": {},
   "source": [
    "# Custom Layers\n",
    "\n",
    "What is a layer? A layer is defined by:\n",
    "1. State\n",
    "    - variables such as weights that can be trainable\n",
    "1. Computation\n",
    "    - transoform batch of inputs to outputs\n",
    "    - typically called *forward pass*\n",
    "    \n",
    "For example, for a Dense Layer\n",
    "1. State => weights w (often called the kernel) and bias c\n",
    "2. Computation => output = (w*inputs + c)\n",
    "\n",
    "## Coding custom layer\n",
    "\n",
    "A layer class is inherited from Kera's `Layer` class. Hence, `MyLayer(Layer):`\n",
    "\n",
    "1. `def __init__(self, units=32):`\n",
    "\n",
    "Initializes the class, accepts parameters and sets up internal variables.\n",
    "\n",
    "`super().__init__()` returns a temporary object of the superclass (proxy object) the `Layer` class. This allows us to acces methods of the base class.\n",
    "- make sure to pass class name and self in super()\n",
    "- or `**kwargs`\n",
    "\n",
    "Then `build` and `call` functions can be added to create the layer and when it is called. N.B. build can often be moved to `__init__`.\n",
    "\n",
    "2. `def build(self, input_shape):`\n",
    "    - runs when instance is created \n",
    "    - creates state of layers (weights)\n",
    "3. `def call(self, inputs):`\n",
    "    - call does the computation\n",
    "    \n",
    "The values for the parameters can be explicitly set using functions like `tf.random_normal_initializer()` and sepcifying a shape.\n",
    "\n",
    "The key to `call` is defining how the parts in `build` and `__init__` are put together to create the computation of the layer.\n",
    "\n",
    "Also note that in the call the format is the same as for the [functional API](https://thomashsimm.com/tensorflow/2022/09/28/Tensorflow.html#Functional-API), where the previous layer is added at the end of the next layer.\n",
    "\n",
    "All the variables (weights and biases) can also be accesed with `layer_class.variables`."
   ]
  },
  {
   "cell_type": "code",
   "execution_count": 3,
   "metadata": {},
   "outputs": [
    {
     "name": "stdout",
     "output_type": "stream",
     "text": [
      "tf.Tensor(\n",
      "[[-0.07436698 -0.02011585  0.05582675  0.05404044  0.02519816  0.02855827\n",
      "   0.00046192  0.01360966  0.04663334  0.04556176  0.04592257  0.04647708\n",
      "  -0.03950281 -0.00014847 -0.03248019  0.08354251  0.07218082 -0.01156685\n",
      "   0.04577427 -0.06801199 -0.02725383 -0.02071865  0.08600459 -0.00035707\n",
      "  -0.03410981  0.00493511 -0.05133317 -0.12937713 -0.13792662 -0.01709494\n",
      "  -0.05110807 -0.01718794]], shape=(1, 32), dtype=float32)\n",
      "\n",
      "Weights = [[-0.07436698 -0.02011585  0.05582675  0.05404044  0.02519816  0.02855827\n",
      "   0.00046192  0.01360966  0.04663334  0.04556176  0.04592257  0.04647708\n",
      "  -0.03950281 -0.00014847 -0.03248019  0.08354251  0.07218082 -0.01156685\n",
      "   0.04577427 -0.06801199 -0.02725383 -0.02071865  0.08600459 -0.00035707\n",
      "  -0.03410981  0.00493511 -0.05133317 -0.12937713 -0.13792662 -0.01709494\n",
      "  -0.05110807 -0.01718794]] \n",
      "\n",
      "and biases [0. 0. 0. 0. 0. 0. 0. 0. 0. 0. 0. 0. 0. 0. 0. 0. 0. 0. 0. 0. 0. 0. 0. 0.\n",
      " 0. 0. 0. 0. 0. 0. 0. 0.]\n",
      "\n",
      "[array([[-0.07436698, -0.02011585,  0.05582675,  0.05404044,  0.02519816,\n",
      "         0.02855827,  0.00046192,  0.01360966,  0.04663334,  0.04556176,\n",
      "         0.04592257,  0.04647708, -0.03950281, -0.00014847, -0.03248019,\n",
      "         0.08354251,  0.07218082, -0.01156685,  0.04577427, -0.06801199,\n",
      "        -0.02725383, -0.02071865,  0.08600459, -0.00035707, -0.03410981,\n",
      "         0.00493511, -0.05133317, -0.12937713, -0.13792662, -0.01709494,\n",
      "        -0.05110807, -0.01718794]], dtype=float32), array([0., 0., 0., 0., 0., 0., 0., 0., 0., 0., 0., 0., 0., 0., 0., 0., 0.,\n",
      "       0., 0., 0., 0., 0., 0., 0., 0., 0., 0., 0., 0., 0., 0., 0.],\n",
      "      dtype=float32)]\n"
     ]
    }
   ],
   "source": [
    "# Create a custom layer\n",
    "from tensorflow.keras.layers import Layer\n",
    "import tensorflow as tf\n",
    "\n",
    "class SimpleDense(Layer):\n",
    "    \n",
    "    def __init__(self,units=32):\n",
    "        super(SimpleDense, self).__init__()\n",
    "        self.units = units\n",
    "        \n",
    "    def build(self, input_shape):\n",
    "        w_init = tf.random_normal_initializer()\n",
    "        self.w = tf.Variable(\n",
    "                initial_value=w_init(shape=(input_shape[-1], self.units), dtype='float32'),\n",
    "                trainable=True,name='kernel',\n",
    "                                )\n",
    "        b_init = tf.zeros_initializer()\n",
    "        self.b = tf.Variable(\n",
    "                initial_value=b_init(shape=(self.units), dtype='float32'),\n",
    "                trainable=True, name='bias',\n",
    "                                )\n",
    "    def call(self, inputs):\n",
    "        return tf.matmul(inputs, self.w)+self.b\n",
    "    \n",
    "dense_layer = SimpleDense(units=32)\n",
    "\n",
    "x = tf.ones((1,1))\n",
    "\n",
    "print(dense_layer(x) )\n",
    "print()\n",
    "print(f\"Weights = {dense_layer.weights[0].numpy()} \\n\\nand biases {dense_layer.weights[1].numpy()}\")\n",
    "print()\n",
    "print([ var.numpy() for var in dense_layer.variables])"
   ]
  },
  {
   "cell_type": "code",
   "execution_count": null,
   "metadata": {},
   "outputs": [],
   "source": []
  },
  {
   "cell_type": "markdown",
   "metadata": {},
   "source": [
    "Or equivalently..."
   ]
  },
  {
   "cell_type": "code",
   "execution_count": null,
   "metadata": {
    "deletable": false,
    "editable": false,
    "run_control": {
     "frozen": true
    }
   },
   "outputs": [],
   "source": [
    "# Create a custom layer\n",
    "from tensorflow.keras.layers import Layer\n",
    "import tensorflow as tf\n",
    "\n",
    "class MyLayer(Layer):\n",
    "    \n",
    "    def __init__(self,units,input_dim):\n",
    "        super(MyLayer, self).__init__()\n",
    "        self.w = self.add_weight(shape=(input_dim,units),\n",
    "                                initializer='random_normal',\n",
    "                                trainable=True)\n",
    "        self.b = self.add_weight(shape=(units,),\n",
    "                                 initializer='zeros',\n",
    "                                trainable=True)\n",
    "    def call(self, inputs):\n",
    "        return tf.matmul(inputs, self.w)+self.b\n",
    "    \n",
    "dense_layer = MyLayer(3,5)\n",
    "\n",
    "x = tf.ones((1,5))\n",
    "\n",
    "print(dense_layer(x) )\n",
    "print()\n",
    "print(f\"Weights = {dense_layer.weights[0].numpy()} \\n\\nand biases {dense_layer.weights[1].numpy()}\")\n"
   ]
  },
  {
   "cell_type": "markdown",
   "metadata": {},
   "source": [
    "## Create a Dropout layer as a custom layer\n",
    "\n",
    "N.B. uses [`tf.nn`](https://www.tensorflow.org/api_docs/python/tf/nn) primitive Neural Net (NN) Operations."
   ]
  },
  {
   "cell_type": "code",
   "execution_count": null,
   "metadata": {
    "deletable": false,
    "editable": false,
    "run_control": {
     "frozen": true
    }
   },
   "outputs": [],
   "source": [
    "class MyDropout(Layer):\n",
    "\n",
    "    def __init__(self, rate):\n",
    "        super(MyDropout, self).__init__()\n",
    "        self.rate = rate\n",
    "        \n",
    "    def call(self, inputs):\n",
    "        # Define forward pass for dropout layer\n",
    "        return tf.nn.dropout(inputs, rate=self.rate)"
   ]
  },
  {
   "cell_type": "markdown",
   "metadata": {},
   "source": [
    "## Add activation functions\n",
    "\n",
    "To add activation functions in the layer\n",
    "\n",
    "- add `activation=None` to the `__init__` inputs so it accepts an activation but defaults to None if doesn't recieve one\n",
    "- add the activation to the `self` variable\n",
    "    - use `self.activation = tf.keras.activations.get(activation)`\n",
    "    - i.e. so we can pass a string or a function\n",
    "- call the activation function within the `call`\n",
    "    - i.e. `return  self.activation(tf.matmul(inputs, self.w)+self.b)`"
   ]
  },
  {
   "cell_type": "markdown",
   "metadata": {},
   "source": [
    "## Custom layers in a model\n",
    "\n",
    "Can create the model by passing the layer into `keras.Sequential` as a list. In the same way as done with other layer elements."
   ]
  },
  {
   "cell_type": "code",
   "execution_count": 4,
   "metadata": {},
   "outputs": [
    {
     "name": "stdout",
     "output_type": "stream",
     "text": [
      "[[18.981386]]\n"
     ]
    }
   ],
   "source": [
    "xs = np.arange(-1,5,dtype=float)\n",
    "ys = xs*2 -1\n",
    "\n",
    "model = tf.keras.Sequential([SimpleDense(units=1)])\n",
    "\n",
    "model.compile(optimizer='sgd',loss='mse')\n",
    "model.fit(xs,ys,epochs=500,verbose=0)\n",
    "print(model.predict([10.]))"
   ]
  },
  {
   "cell_type": "markdown",
   "metadata": {},
   "source": [
    "# Custom Models\n",
    "\n",
    "Similar to custom layers, but using the class `Model` passed to the class\n",
    "\n",
    "Can use existing model functions like `model.fit`, `model.save` etc\n",
    "\n",
    "Custom Models are useful when models have more exotic architectures - such as when recursion (where the solution depends on solutions to smaller instances of the same problem) or architexture can change on the fly are used. \n",
    "\n",
    "Similar to custom layers, but using the class `Model` passed to the class.\n",
    "\n",
    "Benefits of Custom Models:\n",
    "- Extends existing models and similar framework used\n",
    "    - e.g. model functions like `model.fit`, `model.save` etc\n",
    "- USe same code used in functional and sequential code\n",
    "- Modular architecture, allows to swap things around without repacing the entirety\n",
    "- Try experiments quickly, e.g. quickly see the effect of the number of Conv2D layers on the results\n",
    "- Can use branches and loops"
   ]
  },
  {
   "cell_type": "code",
   "execution_count": null,
   "metadata": {
    "deletable": false,
    "editable": false,
    "run_control": {
     "frozen": true
    }
   },
   "outputs": [],
   "source": [
    "from tensorflow.keras.models import Model\n",
    "from tensorflow.keras.layers import Dense, Dropout, Softmax, concatenate, Layer\n",
    "\n",
    "class MyModel(Model):\n",
    "    \n",
    "    def __init__(self):\n",
    "        super(MyModel,self).__init__()\n",
    "        self.Dense_1 = Dense(64,activation='relu')\n",
    "        self.Dense_2 = Dense(10,activation='relu')\n",
    "    def call(self,inputs):\n",
    "        x = self.Dense_1(inputs)\n",
    "        return self.Dense_2(x)"
   ]
  },
  {
   "cell_type": "markdown",
   "metadata": {},
   "source": [
    "## Model example Residual Networks\n",
    "\n",
    "![](ghtop_images/resnet__.png)"
   ]
  },
  {
   "cell_type": "code",
   "execution_count": 4,
   "metadata": {
    "deletable": false,
    "editable": false,
    "run_control": {
     "frozen": true
    }
   },
   "outputs": [],
   "source": [
    "from tensorflow.keras.layers import Conv2D, Dense, Layer\n",
    "import tensorflow as tf\n",
    "from tensorflow.keras.models import Model\n",
    "\n",
    "class CNNResidual(Layer):\n",
    "    def __init__(self, layers, filters, **kwargs):\n",
    "        super(**kwargs).__init__()\n",
    "        self.hidden = [Conv2D(filters, (3,3), activation='relu') for _ in range(layers)]\n",
    "    def call(self, inputs):\n",
    "        x = inputs\n",
    "        for layer in self.hidden:\n",
    "            x = layer(x)\n",
    "        return inputs + x\n",
    "    \n",
    "class DNNResidual(Layer):\n",
    "    def __init__(self, layers, neurons, **kwargs):\n",
    "        super(**kwargs).__init__()\n",
    "        self.hidden = [Dense(neurons, activation='relu') for _ in range(layers)]\n",
    "    def call(self, inputs):\n",
    "        x = inputs\n",
    "        for layer in self.hidden:\n",
    "            x = layer(x)\n",
    "        return inputs + x\n",
    "\n",
    "class MyResidual(Model):\n",
    "    def __init(self, **kwargs):\n",
    "        self.hidden1 = Dense(30, activation='relu')\n",
    "        self.block1 = CNNResidual(2, 32)\n",
    "        self.block2 = DNNResidual(2, 64)\n",
    "        self.out = Dense(1)\n",
    "    def call(self, inputs):\n",
    "        x = self.hidden1(inputs)\n",
    "        x = self.block1(x)\n",
    "        for _ in range(1,4):\n",
    "            x = self.block2(x)\n",
    "        return self.out(x)\n",
    "           \n"
   ]
  },
  {
   "cell_type": "markdown",
   "metadata": {},
   "source": [
    "# Multiple layer model Optimization\n",
    "\n",
    "For multiple layers it is the same but we need to iterate over the layers too.\n",
    "\n",
    "If we put the gradients part within it's own function, putting `@tf.function` before that unction to speed things up.\n"
   ]
  },
  {
   "cell_type": "code",
   "execution_count": 5,
   "metadata": {},
   "outputs": [
    {
     "data": {
      "image/png": "[encoded data removed]",
      "text/plain": [
       "<Figure size 432x288 with 1 Axes>"
      ]
     },
     "metadata": {
      "needs_background": "light"
     },
     "output_type": "display_data"
    }
   ],
   "source": [
    "# Create data from a noise contaminated mixed model\n",
    "\n",
    "def MakeNoisyData2(m, b, n=60):\n",
    "    x = tf.random.uniform(shape=(n,))*2 -1\n",
    "    noise = tf.random.normal(shape=(len(x),), stddev=0.09)\n",
    "    y = m * x**2 -  np.exp(x/2) + b + noise\n",
    "    return x, y\n",
    "\n",
    "m=1.5\n",
    "b=2\n",
    "x_train, y_train = MakeNoisyData2(m,b)\n",
    "plt.plot(x_train, y_train, 'b.')\n",
    "\n",
    "\n",
    "x_train = tf.reshape(x_train,(len(x_train),1))\n",
    "y_train = tf.reshape(y_train,(len(x_train),1))"
   ]
  },
  {
   "cell_type": "markdown",
   "metadata": {},
   "source": [
    "Define the model class (see also [TensorFlow Low-Level cheat sheet](https://thomashsimm.com/tensorflow/low-level/2022/10/10/Tensorflow-CustomLayersModels.html))"
   ]
  },
  {
   "cell_type": "code",
   "execution_count": 6,
   "metadata": {},
   "outputs": [],
   "source": [
    "#collapse-hide\n",
    "# Define the custom layers and model\n",
    "from tensorflow.keras.models import Model\n",
    "from tensorflow.keras.layers import Layer, Softmax\n",
    "class MyLayer(Layer):\n",
    "    \n",
    "    def __init__(self,units):\n",
    "        super(MyLayer, self).__init__()\n",
    "        self.units = units     \n",
    "    def build(self,input_shape):\n",
    "        self.w = self.add_weight(shape=(input_shape[-1],self.units),\n",
    "                                initializer='random_normal',\n",
    "                                trainable=True,\n",
    "                                name ='kernel')\n",
    "        self.b = self.add_weight(shape=(self.units,),\n",
    "                                 initializer='zeros',\n",
    "                                trainable=True,\n",
    "                                name = 'bias')       \n",
    "    def call(self, inputs):\n",
    "        return tf.matmul(inputs, self.w)+self.b\n",
    "    \n",
    "    \n",
    "class MyDropout(Layer):\n",
    "\n",
    "    def __init__(self, rate):\n",
    "        super(MyDropout, self).__init__()\n",
    "        self.rate = rate\n",
    "    def call(self, inputs):\n",
    "        # Define forward pass for dropout layer\n",
    "        return tf.nn.dropout(inputs, rate=self.rate)\n",
    "    \n",
    "    \n",
    "class MyModel(Model):\n",
    "\n",
    "    def __init__(self, units_1, units_2, units_3):\n",
    "        super(MyModel, self).__init__()\n",
    "        # Define layers\n",
    "        self.layer_1 = MyLayer(units_1)  \n",
    "        self.dropout_1 = MyDropout(0.)\n",
    "        self.layer_2 = MyLayer(units_2)\n",
    "        self.dropout_2 = MyDropout(0.)\n",
    "        self.layer_3 = MyLayer(units_3)\n",
    "#         self.softmax = Softmax()\n",
    "        \n",
    "    def call(self, inputs):\n",
    "        # Define forward pass\n",
    "        x = self.layer_1(inputs)\n",
    "        x = tf.nn.relu(x)\n",
    "        x = self.dropout_1(x)\n",
    "        x = self.layer_2(x)\n",
    "        x = tf.nn.relu(x)\n",
    "        x = self.dropout_2(x)\n",
    "        x = self.layer_3(x)\n",
    "        \n",
    "        return x"
   ]
  },
  {
   "cell_type": "code",
   "execution_count": 7,
   "metadata": {},
   "outputs": [
    {
     "name": "stdout",
     "output_type": "stream",
     "text": [
      "Model: \"my_model\"\n",
      "_________________________________________________________________\n",
      "Layer (type)                 Output Shape              Param #   \n",
      "=================================================================\n",
      "my_layer (MyLayer)           multiple                  20        \n",
      "_________________________________________________________________\n",
      "my_dropout (MyDropout)       multiple                  0         \n",
      "_________________________________________________________________\n",
      "my_layer_1 (MyLayer)         multiple                  110       \n",
      "_________________________________________________________________\n",
      "my_dropout_1 (MyDropout)     multiple                  0         \n",
      "_________________________________________________________________\n",
      "my_layer_2 (MyLayer)         multiple                  11        \n",
      "=================================================================\n",
      "Total params: 141\n",
      "Trainable params: 141\n",
      "Non-trainable params: 0\n",
      "_________________________________________________________________\n"
     ]
    }
   ],
   "source": [
    "model = MyModel(10, 10, 1)\n",
    "model(x_train)\n",
    "model.summary()"
   ]
  },
  {
   "cell_type": "markdown",
   "metadata": {},
   "source": [
    "#### Define the loss function and optimizer\n"
   ]
  },
  {
   "cell_type": "code",
   "execution_count": 8,
   "metadata": {},
   "outputs": [],
   "source": [
    "# Define the loss and SGD optimizer\n",
    "\n",
    "loss_object = tf.keras.losses.MeanAbsoluteError()\n",
    "\n",
    "def loss(model, x, y, wd):\n",
    "    kernel_variables = []\n",
    "    for l in model.layers:\n",
    "        for w in l.weights:\n",
    "            if 'kernel' in w.name:\n",
    "                kernel_variables.append(w)\n",
    "    wd_penalty = wd * tf.reduce_sum([tf.reduce_sum(tf.square(k)) for k in kernel_variables])\n",
    "    y_ = model(x)\n",
    "    print(y_)\n",
    "    return loss_object(y_true=y, y_pred=y_) + wd_penalty\n",
    "\n",
    "optimizer = tf.keras.optimizers.SGD(learning_rate=0.07)\n",
    "\n"
   ]
  },
  {
   "cell_type": "markdown",
   "metadata": {},
   "source": [
    "#### Define the function to do forward and backward passes"
   ]
  },
  {
   "cell_type": "code",
   "execution_count": 9,
   "metadata": {},
   "outputs": [],
   "source": [
    "# Define a function to compute the forward and backward pass\n",
    "@tf.function\n",
    "def grad(model, inputs, targets, wd):\n",
    "    with tf.GradientTape() as tape:\n",
    "        # forward pass\n",
    "        loss_value = loss(model, inputs, targets, wd)\n",
    "        # backward pass\n",
    "        grads = tape.gradient(loss_value, model.trainable_variables)\n",
    "    return loss_value, grads"
   ]
  },
  {
   "cell_type": "markdown",
   "metadata": {},
   "source": [
    "#### Do the training\n",
    "\n",
    "Update parameters with optimizer\n",
    "\n",
    "`optimizer.apply_gradients(zip(grads, model.trainable_variables))`\n",
    "\n",
    "Almost equivalent with what used before\n",
    "\n",
    "`w.assign_sub(w_gradient * LEARNING_RATE)`"
   ]
  },
  {
   "cell_type": "code",
   "execution_count": 10,
   "metadata": {},
   "outputs": [
    {
     "name": "stdout",
     "output_type": "stream",
     "text": [
      "Tensor(\"my_model/my_layer_2/add:0\", shape=(32, 1), dtype=float32)\n",
      "Tensor(\"my_model/my_layer_2/add:0\", shape=(28, 1), dtype=float32)\n",
      "Epoch 000 : Loss 1.380: MAE 130.79\n",
      "Epoch 200 : Loss 0.362: MAE 35.93\n",
      "Epoch 400 : Loss 0.360: MAE 35.68\n",
      "Epoch 600 : Loss 0.177: MAE 14.99\n",
      "Epoch 800 : Loss 0.120: MAE 8.39\n",
      "Epoch 1000 : Loss 0.124: MAE 8.36\n",
      "Epoch 1200 : Loss 0.117: MAE 8.54\n",
      "Epoch 1400 : Loss 0.147: MAE 10.81\n",
      "Epoch 1600 : Loss 0.131: MAE 10.22\n",
      "Epoch 1800 : Loss 0.126: MAE 8.36\n",
      "Duration :37.492\n"
     ]
    }
   ],
   "source": [
    "# Implement the training loop\n",
    "\n",
    "from tensorflow.keras.utils import to_categorical\n",
    "import time\n",
    "\n",
    "start_time = time.time()\n",
    "\n",
    "train_dataset = tf.data.Dataset.from_tensor_slices((x_train,y_train))\n",
    "train_dataset = train_dataset.batch(32)\n",
    "\n",
    "train_loss_results = []\n",
    "train_mae_results =[]\n",
    "\n",
    "num_epochs=2000\n",
    "weight_decay =0.005\n",
    "\n",
    "for epoch in range(num_epochs):\n",
    "    \n",
    "    epoch_loss_avg = tf.keras.metrics.Mean()\n",
    "    epoch_mae = tf.keras.metrics.MeanAbsoluteError()\n",
    "    \n",
    "    # Training loop\n",
    "    for x, y in train_dataset:\n",
    "        # Optimise the model\n",
    "        # do forward and backward pass\n",
    "        loss_value, grads = grad(model, x, y, weight_decay)\n",
    "        # update parameters with optimizer\n",
    "        optimizer.apply_gradients(zip(grads, model.trainable_variables))\n",
    "\n",
    "        # Compute current loss\n",
    "        epoch_loss_avg(loss_value)\n",
    "        # Compile predicted label to actual label\n",
    "        epoch_mae(y, model(x))\n",
    "        \n",
    "    # End epoch\n",
    "    train_loss_results.append(epoch_loss_avg.result())\n",
    "    train_mae_results.append(epoch_mae.result())\n",
    "    if epoch%200==0:\n",
    "        print(f\"Epoch {epoch:03d} : Loss {epoch_loss_avg.result():.3f}: MAE {100*epoch_mae.result():.2f}\")\n",
    "        \n",
    "print(\"Duration :{:.3f}\".format(time.time() - start_time))"
   ]
  },
  {
   "cell_type": "code",
   "execution_count": 11,
   "metadata": {},
   "outputs": [
    {
     "data": {
      "image/png": "[encoded data removed]",
      "text/plain": [
       "<Figure size 432x288 with 1 Axes>"
      ]
     },
     "metadata": {
      "needs_background": "light"
     },
     "output_type": "display_data"
    }
   ],
   "source": [
    "plt.semilogy(train_loss_results)\n",
    "plt.ylabel('Loss')\n",
    "plt.xlabel('Epochs');"
   ]
  },
  {
   "cell_type": "code",
   "execution_count": 12,
   "metadata": {},
   "outputs": [
    {
     "data": {
      "image/png": "[encoded data removed]",
      "text/plain": [
       "<Figure size 432x288 with 1 Axes>"
      ]
     },
     "metadata": {
      "needs_background": "light"
     },
     "output_type": "display_data"
    }
   ],
   "source": [
    "x_pred = np.arange(-1,1,.001)\n",
    "y_pred = model.predict(x_pred)\n",
    "plt.plot(x_train, y_train, 'b.')\n",
    "plt.plot(x_pred, y_pred, 'k-');\n"
   ]
  },
  {
   "cell_type": "markdown",
   "metadata": {},
   "source": [
    "# Custom Loss Function"
   ]
  },
  {
   "cell_type": "code",
   "execution_count": 2,
   "metadata": {},
   "outputs": [],
   "source": [
    "import tensorflow.keras.backend as K\n",
    "def my_rmse(y_true, y_pred):\n",
    "    mse = K.mean(K.square(y_true - y_pred))\n",
    "    return K.sqrt( mse )"
   ]
  },
  {
   "cell_type": "markdown",
   "metadata": {},
   "source": [
    "The loss function expects two parameters, `y_true` and `y_pred`, so it is not possible to pass a 3rd parameter (threshold) to the loss function itself. \n",
    "\n",
    "This can be achieved by \n",
    "- creating a wrapper function around the original loss function\n",
    "- with custome loss class where the parameter is passed on initilization\n",
    "\n",
    "A loss function that applies a lower loss to values above a threshold value\n"
   ]
  },
  {
   "cell_type": "code",
   "execution_count": 5,
   "metadata": {},
   "outputs": [
    {
     "data": {
      "image/png": "[encoded data removed]",
      "text/plain": [
       "<Figure size 432x288 with 1 Axes>"
      ]
     },
     "metadata": {
      "needs_background": "light"
     },
     "output_type": "display_data"
    }
   ],
   "source": [
    "import tensorflow as tf\n",
    "\n",
    "def my_rmse_with_threshold(threshold):\n",
    "    def my_rmse(y_true, y_pred):\n",
    "        error = K.abs( y_true - y_pred )\n",
    "        bool_small = tf.abs(y_true) <= threshold\n",
    "        error_big = error / 2\n",
    "        \n",
    "        return tf.where(bool_small, error, error_big)\n",
    "    return my_rmse\n",
    "    \n",
    "from tensorflow.keras.losses import Loss\n",
    "\n",
    "class My_rmseLoss(Loss):\n",
    "    threshold=1\n",
    "    \n",
    "    def __init__(self, threshold):\n",
    "        super().__init__()\n",
    "        self.threshold = threshold\n",
    "    def call(self, y_true, y_pred):\n",
    "        threshold = self.threshold\n",
    "        error = K.abs( y_true - y_pred )\n",
    "        bool_small = tf.abs(y_true) <= threshold\n",
    "        error_big = rmse / 2\n",
    "        \n",
    "        return tf.where(bool_small, error, error_big)\n",
    "\n",
    "import matplotlib.pyplot as plt\n",
    "x = K.arange(0,1.5,.1)\n",
    "y = np.square( x+.1 )\n",
    "y_pred = x\n",
    "plt.plot(x,y,'o-')\n",
    "plt.plot(x,y_pred,'o-')\n",
    "\n",
    "loss_1 = my_rmse_with_threshold(1.5)\n",
    "plt.plot(x,loss_1(y, y_pred))\n",
    "\n",
    "loss_2 = My_rmseLoss(1.5)\n",
    "plt.plot(x,loss_1(y, y_pred),'rv')\n",
    "plt.legend(['y','y_pred','Loss def','Loss class'])\n",
    "plt.grid(True)"
   ]
  }
 ],
 "metadata": {
  "kernelspec": {
   "display_name": "Python 3 (ipykernel)",
   "language": "python",
   "name": "python3"
  },
  "language_info": {
   "codemirror_mode": {
    "name": "ipython",
    "version": 3
   },
   "file_extension": ".py",
   "mimetype": "text/x-python",
   "name": "python",
   "nbconvert_exporter": "python",
   "pygments_lexer": "ipython3",
   "version": "3.8.8"
  },
  "varInspector": {
   "cols": {
    "lenName": 16,
    "lenType": 16,
    "lenVar": 40
   },
   "kernels_config": {
    "python": {
     "delete_cmd_postfix": "",
     "delete_cmd_prefix": "del ",
     "library": "var_list.py",
     "varRefreshCmd": "print(var_dic_list())"
    },
    "r": {
     "delete_cmd_postfix": ") ",
     "delete_cmd_prefix": "rm(",
     "library": "var_list.r",
     "varRefreshCmd": "cat(var_dic_list()) "
    }
   },
   "types_to_exclude": [
    "module",
    "function",
    "builtin_function_or_method",
    "instance",
    "_Feature"
   ],
   "window_display": false
  }
 },
 "nbformat": 4,
 "nbformat_minor": 2
}
