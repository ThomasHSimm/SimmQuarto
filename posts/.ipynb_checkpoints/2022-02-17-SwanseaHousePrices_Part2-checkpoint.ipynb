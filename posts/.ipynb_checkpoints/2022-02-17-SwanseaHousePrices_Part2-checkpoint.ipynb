{
 "cells": [
  {
   "cell_type": "markdown",
   "id": "fe64f698",
   "metadata": {},
   "source": [
    "# Swansea House Prices- Part 2\n",
    "> Using machine learning to predict property prices- using property sales\n",
    "\n",
    "- toc: true \n",
    "- badges: true\n",
    "- categories: [jupyter, python, randomforests, tabulardata, sklearn]"
   ]
  },
  {
   "cell_type": "markdown",
   "metadata": {},
   "source": [
    "![](ghtop_images/header2.png)"
   ]
  },
  {
   "cell_type": "markdown",
   "metadata": {},
   "source": [
    "## Overview \n",
    "\n",
    "In part 1 (https://thomashsimm.com/2021/08/04/Swansea-House-Price-Report.html) house price predictions were done using Census regions and information about the locations. \n",
    "\n",
    "Whereas, in this part the main focus is on using property sales data to obtain price predictions.\n",
    "\n"
   ]
  },
  {
   "cell_type": "markdown",
   "id": "05d86822",
   "metadata": {},
   "source": [
    "## Import modules and prepare the data"
   ]
  },
  {
   "cell_type": "markdown",
   "metadata": {},
   "source": [
    "### Some imports"
   ]
  },
  {
   "cell_type": "code",
   "execution_count": 37,
   "id": "ed7dde47",
   "metadata": {
    "deletable": false,
    "editable": false,
    "run_control": {
     "frozen": true
    }
   },
   "outputs": [],
   "source": [
    "import os\n",
    "import requests\n",
    "import wget\n",
    "import pandas as pd\n",
    "\n",
    "from fastbook import *\n",
    "from kaggle import api\n",
    "from pandas.api.types import is_string_dtype, is_numeric_dtype, is_categorical_dtype\n",
    "from fastai.tabular.all import *\n",
    "from sklearn.ensemble import RandomForestRegressor\n",
    "from sklearn.tree import DecisionTreeRegressor\n",
    "from dtreeviz.trees import *\n",
    "from IPython.display import Image, display_svg, SVG\n",
    "\n",
    "pd.options.display.max_rows = 20\n",
    "pd.options.display.max_columns = 8\n"
   ]
  },
  {
   "cell_type": "markdown",
   "metadata": {},
   "source": [
    "Create a local path "
   ]
  },
  {
   "cell_type": "code",
   "execution_count": 3,
   "id": "b3b984a3",
   "metadata": {
    "deletable": false,
    "editable": false,
    "run_control": {
     "frozen": true
    }
   },
   "outputs": [
    {
     "data": {
      "text/plain": [
       "Path('.')"
      ]
     },
     "execution_count": 3,
     "metadata": {},
     "output_type": "execute_result"
    }
   ],
   "source": [
    "path = URLs.path('SwansProp')\n",
    "Path.BASE_PATH = path\n",
    "path"
   ]
  },
  {
   "cell_type": "markdown",
   "id": "819ee6b4",
   "metadata": {},
   "source": []
  },
  {
   "cell_type": "code",
   "execution_count": 4,
   "metadata": {
    "deletable": false,
    "editable": false,
    "run_control": {
     "frozen": true
    }
   },
   "outputs": [],
   "source": [
    "if not path.exists():\n",
    "    path.mkdir(parents=true)"
   ]
  },
  {
   "cell_type": "markdown",
   "metadata": {},
   "source": [
    "### Download the data \n",
    "\n",
    "A) Get the property sales from https://www.doogal.co.uk/PropertySalesCSV.ashx?area=\n",
    "\n",
    "B) And then the postcode details from https://www.doogal.co.uk/UKPostcodesCSV.ashx?Search=SA for \n",
    " - lattitude and longitude \n",
    " - Census data and related data\n",
    "     - Avg income\n",
    "     - Deprivation index\n",
    "     - etc"
   ]
  },
  {
   "cell_type": "markdown",
   "id": "63a2323c",
   "metadata": {},
   "source": [
    "Unique postcode starts\n",
    "SA1 \n",
    "SA2 \n",
    "SA3 \n",
    "SA4 \n",
    "SA5 \n",
    "SA6 \n",
    "SA7 \n",
    "SA8 \n",
    "SA9 \n",
    "SA10\n",
    "SA11\n",
    "SA12\n",
    "SA13\n",
    "SA80\n",
    "SA99"
   ]
  },
  {
   "cell_type": "code",
   "execution_count": 3,
   "metadata": {
    "deletable": false,
    "editable": false,
    "run_control": {
     "frozen": true
    }
   },
   "outputs": [],
   "source": [
    "try:\n",
    "    os.mkdir('data')\n",
    "except:\n",
    "    pass\n",
    "\n",
    "pcodesSA=['SA1', 'SA2', 'SA3', 'SA4', 'SA5', 'SA6', 'SA7', 'SA8',\n",
    "          'SA9', 'SA10' ,'SA11', 'SA12', 'SA13', 'SA14','SA15','SA18']"
   ]
  },
  {
   "cell_type": "markdown",
   "metadata": {},
   "source": [
    "#### 'A' Property Sales Data\n",
    "\n",
    "Download the data"
   ]
  },
  {
   "cell_type": "code",
   "execution_count": 6,
   "id": "84f578f2",
   "metadata": {
    "deletable": false,
    "editable": false,
    "run_control": {
     "frozen": true
    }
   },
   "outputs": [
    {
     "name": "stdout",
     "output_type": "stream",
     "text": [
      "100% [............................................................................] 935424 / 935424"
     ]
    }
   ],
   "source": [
    "\n",
    "url='https://www.doogal.co.uk/PropertySalesCSV.ashx?area='\n",
    "\n",
    "\n",
    "for pc in pcodesSA:\n",
    "    patha=path/'{}.csv'.format(pc)\n",
    "    wget.download(url+pc, str(patha))"
   ]
  },
  {
   "cell_type": "markdown",
   "metadata": {},
   "source": [
    "Create a dataframe from the downloaded csv files"
   ]
  },
  {
   "cell_type": "code",
   "execution_count": 128,
   "metadata": {
    "deletable": false,
    "editable": false,
    "run_control": {
     "frozen": true
    }
   },
   "outputs": [
    {
     "name": "stdout",
     "output_type": "stream",
     "text": [
      "0\n",
      "19432\n",
      "35015\n",
      "47639\n",
      "67896\n",
      "79210\n",
      "92148\n",
      "99680\n",
      "104480\n",
      "109669\n",
      "122570\n",
      "136404\n",
      "147937\n",
      "155697\n",
      "169021\n",
      "183674\n",
      "195094\n"
     ]
    }
   ],
   "source": [
    "for i,pc in enumerate(pcodesSA):\n",
    "    patha=path/'{}.csv'.format(pc)\n",
    "    dfTemp=pd.read_csv(str(patha))\n",
    "    \n",
    "    if i==0:\n",
    "        df=dfTemp\n",
    "        print(i)\n",
    "    else:\n",
    "        df=df.append(dfTemp)\n",
    "    print(df.shape[0])\n",
    "\n",
    "df.reset_index(drop=True, inplace=True)"
   ]
  },
  {
   "cell_type": "code",
   "execution_count": 129,
   "metadata": {
    "deletable": false,
    "editable": false,
    "run_control": {
     "frozen": true
    }
   },
   "outputs": [
    {
     "data": {
      "text/html": [
       "<div>\n",
       "<style scoped>\n",
       "    .dataframe tbody tr th:only-of-type {\n",
       "        vertical-align: middle;\n",
       "    }\n",
       "\n",
       "    .dataframe tbody tr th {\n",
       "        vertical-align: top;\n",
       "    }\n",
       "\n",
       "    .dataframe thead th {\n",
       "        text-align: right;\n",
       "    }\n",
       "</style>\n",
       "<table border=\"1\" class=\"dataframe\">\n",
       "  <thead>\n",
       "    <tr style=\"text-align: right;\">\n",
       "      <th></th>\n",
       "      <th>Date</th>\n",
       "      <th>Address</th>\n",
       "      <th>Postcode</th>\n",
       "      <th>Price</th>\n",
       "      <th>Type</th>\n",
       "      <th>Ownership</th>\n",
       "      <th>NewBuild</th>\n",
       "    </tr>\n",
       "  </thead>\n",
       "  <tbody>\n",
       "    <tr>\n",
       "      <th>0</th>\n",
       "      <td>2021-10-22</td>\n",
       "      <td>60 Danygraig Road, Port Tennant</td>\n",
       "      <td>SA1 8LZ</td>\n",
       "      <td>192000</td>\n",
       "      <td>Terraced</td>\n",
       "      <td>Freehold</td>\n",
       "      <td>No</td>\n",
       "    </tr>\n",
       "    <tr>\n",
       "      <th>1</th>\n",
       "      <td>2021-10-01</td>\n",
       "      <td>2 Camona Drive, Maritime Quarter</td>\n",
       "      <td>SA1 1YJ</td>\n",
       "      <td>179950</td>\n",
       "      <td>Flat</td>\n",
       "      <td>Leasehold</td>\n",
       "      <td>No</td>\n",
       "    </tr>\n",
       "    <tr>\n",
       "      <th>2</th>\n",
       "      <td>2021-09-24</td>\n",
       "      <td>36 Balaclava Street, St Thomas</td>\n",
       "      <td>SA1 8BR</td>\n",
       "      <td>140000</td>\n",
       "      <td>Terraced</td>\n",
       "      <td>Freehold</td>\n",
       "      <td>No</td>\n",
       "    </tr>\n",
       "    <tr>\n",
       "      <th>3</th>\n",
       "      <td>2021-09-21</td>\n",
       "      <td>7 Abernethy Square, Maritime Quarter</td>\n",
       "      <td>SA1 1UH</td>\n",
       "      <td>133000</td>\n",
       "      <td>Flat</td>\n",
       "      <td>Leasehold</td>\n",
       "      <td>No</td>\n",
       "    </tr>\n",
       "    <tr>\n",
       "      <th>4</th>\n",
       "      <td>2021-09-17</td>\n",
       "      <td>6 Brynffordd, Townhill</td>\n",
       "      <td>SA1 6RA</td>\n",
       "      <td>176000</td>\n",
       "      <td>Semi-detached</td>\n",
       "      <td>Freehold</td>\n",
       "      <td>No</td>\n",
       "    </tr>\n",
       "  </tbody>\n",
       "</table>\n",
       "</div>"
      ],
      "text/plain": [
       "         Date                               Address Postcode   Price  \\\n",
       "0  2021-10-22       60 Danygraig Road, Port Tennant  SA1 8LZ  192000   \n",
       "1  2021-10-01      2 Camona Drive, Maritime Quarter  SA1 1YJ  179950   \n",
       "2  2021-09-24        36 Balaclava Street, St Thomas  SA1 8BR  140000   \n",
       "3  2021-09-21  7 Abernethy Square, Maritime Quarter  SA1 1UH  133000   \n",
       "4  2021-09-17                6 Brynffordd, Townhill  SA1 6RA  176000   \n",
       "\n",
       "            Type  Ownership NewBuild  \n",
       "0       Terraced   Freehold       No  \n",
       "1           Flat  Leasehold       No  \n",
       "2       Terraced   Freehold       No  \n",
       "3           Flat  Leasehold       No  \n",
       "4  Semi-detached   Freehold       No  "
      ]
     },
     "execution_count": 129,
     "metadata": {},
     "output_type": "execute_result"
    }
   ],
   "source": [
    "df.head()"
   ]
  },
  {
   "cell_type": "code",
   "execution_count": 130,
   "metadata": {
    "deletable": false,
    "editable": false,
    "run_control": {
     "frozen": true
    }
   },
   "outputs": [],
   "source": [
    "import copy\n",
    "dfOrig = copy.copy(df)"
   ]
  },
  {
   "cell_type": "markdown",
   "metadata": {},
   "source": [
    "#### 'B' The PostCode data \n",
    "\n",
    "Dwonload the data"
   ]
  },
  {
   "cell_type": "code",
   "execution_count": 132,
   "id": "a9f2ac69",
   "metadata": {
    "deletable": false,
    "editable": false,
    "run_control": {
     "frozen": true
    }
   },
   "outputs": [
    {
     "name": "stdout",
     "output_type": "stream",
     "text": [
      "-1 / unknown"
     ]
    },
    {
     "data": {
      "text/plain": [
       "'C:\\\\Users\\\\44781\\\\.fastai\\\\archive\\\\SwansProp\\\\SA (1).csv'"
      ]
     },
     "execution_count": 132,
     "metadata": {},
     "output_type": "execute_result"
    }
   ],
   "source": [
    "url=\"https://www.doogal.co.uk/UKPostcodesCSV.ashx?Search=SA\"\n",
    "patha = path/'SA.csv'\n",
    "wget.download(url, str(patha))"
   ]
  },
  {
   "cell_type": "markdown",
   "metadata": {},
   "source": [
    "https://www.doogal.co.uk/PostcodeCsvFields.php\n",
    "\n",
    "1. Latitude\n",
    "1. Longitude\n",
    "1. Introduced\n",
    "1. Rural/urban\n",
    "1. Altitude\n",
    "1. Index of Multiple Deprivation\n",
    "1. Average income\n",
    "\n",
    "['Latitude','Longitude','Introduced','Rural/urban',''Altitude','Index of Multiple Deprivation','Average income']\n",
    "\n",
    "\n",
    "\n",
    "Create a dataFrame from the data"
   ]
  },
  {
   "cell_type": "code",
   "execution_count": 133,
   "id": "33314292",
   "metadata": {
    "deletable": false,
    "editable": false,
    "run_control": {
     "frozen": true
    }
   },
   "outputs": [
    {
     "data": {
      "text/html": [
       "<div>\n",
       "<style scoped>\n",
       "    .dataframe tbody tr th:only-of-type {\n",
       "        vertical-align: middle;\n",
       "    }\n",
       "\n",
       "    .dataframe tbody tr th {\n",
       "        vertical-align: top;\n",
       "    }\n",
       "\n",
       "    .dataframe thead th {\n",
       "        text-align: right;\n",
       "    }\n",
       "</style>\n",
       "<table border=\"1\" class=\"dataframe\">\n",
       "  <thead>\n",
       "    <tr style=\"text-align: right;\">\n",
       "      <th></th>\n",
       "      <th>Postcode</th>\n",
       "      <th>Latitude</th>\n",
       "      <th>Longitude</th>\n",
       "      <th>District Code</th>\n",
       "      <th>...</th>\n",
       "      <th>Rural/urban</th>\n",
       "      <th>Altitude</th>\n",
       "      <th>Index of Multiple Deprivation</th>\n",
       "      <th>Average Income</th>\n",
       "    </tr>\n",
       "  </thead>\n",
       "  <tbody>\n",
       "    <tr>\n",
       "      <th>0</th>\n",
       "      <td>SA1 1AA</td>\n",
       "      <td>51.647984</td>\n",
       "      <td>-3.923586</td>\n",
       "      <td>W06000011</td>\n",
       "      <td>...</td>\n",
       "      <td>Urban city and town</td>\n",
       "      <td>16.0</td>\n",
       "      <td>355</td>\n",
       "      <td>29200.0</td>\n",
       "    </tr>\n",
       "    <tr>\n",
       "      <th>1</th>\n",
       "      <td>SA1 1AB</td>\n",
       "      <td>51.618878</td>\n",
       "      <td>-3.939834</td>\n",
       "      <td>W06000011</td>\n",
       "      <td>...</td>\n",
       "      <td>Urban city and town</td>\n",
       "      <td>10.0</td>\n",
       "      <td>1105</td>\n",
       "      <td>28600.0</td>\n",
       "    </tr>\n",
       "    <tr>\n",
       "      <th>2</th>\n",
       "      <td>SA1 1AD</td>\n",
       "      <td>51.618878</td>\n",
       "      <td>-3.939834</td>\n",
       "      <td>W06000011</td>\n",
       "      <td>...</td>\n",
       "      <td>Urban city and town</td>\n",
       "      <td>10.0</td>\n",
       "      <td>1105</td>\n",
       "      <td>28600.0</td>\n",
       "    </tr>\n",
       "    <tr>\n",
       "      <th>3</th>\n",
       "      <td>SA1 1AE</td>\n",
       "      <td>51.618878</td>\n",
       "      <td>-3.939834</td>\n",
       "      <td>W06000011</td>\n",
       "      <td>...</td>\n",
       "      <td>Urban city and town</td>\n",
       "      <td>10.0</td>\n",
       "      <td>1105</td>\n",
       "      <td>28600.0</td>\n",
       "    </tr>\n",
       "    <tr>\n",
       "      <th>4</th>\n",
       "      <td>SA1 1AF</td>\n",
       "      <td>51.619766</td>\n",
       "      <td>-3.939424</td>\n",
       "      <td>W06000011</td>\n",
       "      <td>...</td>\n",
       "      <td>Urban city and town</td>\n",
       "      <td>13.0</td>\n",
       "      <td>36</td>\n",
       "      <td>28600.0</td>\n",
       "    </tr>\n",
       "    <tr>\n",
       "      <th>...</th>\n",
       "      <td>...</td>\n",
       "      <td>...</td>\n",
       "      <td>...</td>\n",
       "      <td>...</td>\n",
       "      <td>...</td>\n",
       "      <td>...</td>\n",
       "      <td>...</td>\n",
       "      <td>...</td>\n",
       "      <td>...</td>\n",
       "    </tr>\n",
       "    <tr>\n",
       "      <th>29399</th>\n",
       "      <td>SA99 1ZU</td>\n",
       "      <td>51.669997</td>\n",
       "      <td>-3.945445</td>\n",
       "      <td>W06000011</td>\n",
       "      <td>...</td>\n",
       "      <td>Urban city and town</td>\n",
       "      <td>132.0</td>\n",
       "      <td>1230</td>\n",
       "      <td>30500.0</td>\n",
       "    </tr>\n",
       "    <tr>\n",
       "      <th>29400</th>\n",
       "      <td>SA99 1ZW</td>\n",
       "      <td>51.669997</td>\n",
       "      <td>-3.945445</td>\n",
       "      <td>W06000011</td>\n",
       "      <td>...</td>\n",
       "      <td>Urban city and town</td>\n",
       "      <td>132.0</td>\n",
       "      <td>1230</td>\n",
       "      <td>30500.0</td>\n",
       "    </tr>\n",
       "    <tr>\n",
       "      <th>29401</th>\n",
       "      <td>SA99 1ZX</td>\n",
       "      <td>51.669997</td>\n",
       "      <td>-3.945445</td>\n",
       "      <td>W06000011</td>\n",
       "      <td>...</td>\n",
       "      <td>Urban city and town</td>\n",
       "      <td>132.0</td>\n",
       "      <td>1230</td>\n",
       "      <td>30500.0</td>\n",
       "    </tr>\n",
       "    <tr>\n",
       "      <th>29402</th>\n",
       "      <td>SA99 1ZY</td>\n",
       "      <td>51.669997</td>\n",
       "      <td>-3.945445</td>\n",
       "      <td>W06000011</td>\n",
       "      <td>...</td>\n",
       "      <td>Urban city and town</td>\n",
       "      <td>132.0</td>\n",
       "      <td>1230</td>\n",
       "      <td>30500.0</td>\n",
       "    </tr>\n",
       "    <tr>\n",
       "      <th>29403</th>\n",
       "      <td>SA99 1ZZ</td>\n",
       "      <td>51.669997</td>\n",
       "      <td>-3.945445</td>\n",
       "      <td>W06000011</td>\n",
       "      <td>...</td>\n",
       "      <td>Urban city and town</td>\n",
       "      <td>132.0</td>\n",
       "      <td>1230</td>\n",
       "      <td>30500.0</td>\n",
       "    </tr>\n",
       "  </tbody>\n",
       "</table>\n",
       "<p>29404 rows × 10 columns</p>\n",
       "</div>"
      ],
      "text/plain": [
       "       Postcode   Latitude  Longitude District Code  ...          Rural/urban  \\\n",
       "0       SA1 1AA  51.647984  -3.923586     W06000011  ...  Urban city and town   \n",
       "1       SA1 1AB  51.618878  -3.939834     W06000011  ...  Urban city and town   \n",
       "2       SA1 1AD  51.618878  -3.939834     W06000011  ...  Urban city and town   \n",
       "3       SA1 1AE  51.618878  -3.939834     W06000011  ...  Urban city and town   \n",
       "4       SA1 1AF  51.619766  -3.939424     W06000011  ...  Urban city and town   \n",
       "...         ...        ...        ...           ...  ...                  ...   \n",
       "29399  SA99 1ZU  51.669997  -3.945445     W06000011  ...  Urban city and town   \n",
       "29400  SA99 1ZW  51.669997  -3.945445     W06000011  ...  Urban city and town   \n",
       "29401  SA99 1ZX  51.669997  -3.945445     W06000011  ...  Urban city and town   \n",
       "29402  SA99 1ZY  51.669997  -3.945445     W06000011  ...  Urban city and town   \n",
       "29403  SA99 1ZZ  51.669997  -3.945445     W06000011  ...  Urban city and town   \n",
       "\n",
       "      Altitude Index of Multiple Deprivation  Average Income  \n",
       "0         16.0                           355         29200.0  \n",
       "1         10.0                          1105         28600.0  \n",
       "2         10.0                          1105         28600.0  \n",
       "3         10.0                          1105         28600.0  \n",
       "4         13.0                            36         28600.0  \n",
       "...        ...                           ...             ...  \n",
       "29399    132.0                          1230         30500.0  \n",
       "29400    132.0                          1230         30500.0  \n",
       "29401    132.0                          1230         30500.0  \n",
       "29402    132.0                          1230         30500.0  \n",
       "29403    132.0                          1230         30500.0  \n",
       "\n",
       "[29404 rows x 10 columns]"
      ]
     },
     "execution_count": 133,
     "metadata": {},
     "output_type": "execute_result"
    }
   ],
   "source": [
    "dfCensus=pd.read_csv(str(patha),usecols=[\"Postcode\",\"Ward Code\",\"District Code\",'Latitude','Longitude','Introduced','Rural/urban','Altitude','Index of Multiple Deprivation','Average Income'])\n",
    "dfCensus"
   ]
  },
  {
   "cell_type": "markdown",
   "metadata": {},
   "source": [
    "### Merge the two data frames"
   ]
  },
  {
   "cell_type": "code",
   "execution_count": 134,
   "id": "e6f7c8bb",
   "metadata": {
    "deletable": false,
    "editable": false,
    "run_control": {
     "frozen": true
    }
   },
   "outputs": [
    {
     "data": {
      "text/plain": [
       "Index(['Date', 'Address', 'Postcode', 'Price', 'Type', 'Ownership', 'NewBuild',\n",
       "       'Latitude', 'Longitude', 'District Code', 'Ward Code', 'Introduced',\n",
       "       'Rural/urban', 'Altitude', 'Index of Multiple Deprivation',\n",
       "       'Average Income'],\n",
       "      dtype='object')"
      ]
     },
     "execution_count": 134,
     "metadata": {},
     "output_type": "execute_result"
    }
   ],
   "source": [
    "df=pd.merge(df,dfCensus)\n",
    "df.columns"
   ]
  },
  {
   "cell_type": "code",
   "execution_count": 135,
   "metadata": {
    "deletable": false,
    "editable": false,
    "run_control": {
     "frozen": true
    }
   },
   "outputs": [
    {
     "data": {
      "text/plain": [
       "Date                              object\n",
       "Address                           object\n",
       "Postcode                          object\n",
       "Price                              int64\n",
       "Type                              object\n",
       "Ownership                         object\n",
       "NewBuild                          object\n",
       "Latitude                         float64\n",
       "Longitude                        float64\n",
       "District Code                     object\n",
       "Ward Code                         object\n",
       "Introduced                        object\n",
       "Rural/urban                       object\n",
       "Altitude                         float64\n",
       "Index of Multiple Deprivation      int64\n",
       "Average Income                   float64\n",
       "dtype: object"
      ]
     },
     "execution_count": 135,
     "metadata": {},
     "output_type": "execute_result"
    }
   ],
   "source": [
    "df.dtypes"
   ]
  },
  {
   "cell_type": "code",
   "execution_count": 137,
   "id": "484885ee",
   "metadata": {
    "deletable": false,
    "editable": false,
    "run_control": {
     "frozen": true
    }
   },
   "outputs": [],
   "source": [
    "dfOrig=dfOrig.iloc[df.index]"
   ]
  },
  {
   "cell_type": "markdown",
   "id": "ed0bdf86",
   "metadata": {},
   "source": [
    "## Modify data ready for model"
   ]
  },
  {
   "cell_type": "markdown",
   "metadata": {},
   "source": [
    "### Add date details\n",
    "\n",
    "From date get Year, Month, Week etc"
   ]
  },
  {
   "cell_type": "code",
   "execution_count": 138,
   "id": "4aea9f15",
   "metadata": {
    "deletable": false,
    "editable": false,
    "run_control": {
     "frozen": true
    }
   },
   "outputs": [
    {
     "data": {
      "text/plain": [
       "Index(['Address', 'Postcode', 'Price', 'Type', 'Ownership', 'NewBuild',\n",
       "       'Latitude', 'Longitude', 'District Code', 'Ward Code', 'Introduced',\n",
       "       'Rural/urban', 'Altitude', 'Index of Multiple Deprivation',\n",
       "       'Average Income', 'Year', 'Month', 'Week', 'Day', 'Dayofweek',\n",
       "       'Dayofyear', 'Is_month_end', 'Is_month_start', 'Is_quarter_end',\n",
       "       'Is_quarter_start', 'Is_year_end', 'Is_year_start', 'Elapsed'],\n",
       "      dtype='object')"
      ]
     },
     "execution_count": 138,
     "metadata": {},
     "output_type": "execute_result"
    }
   ],
   "source": [
    "df = add_datepart(df, 'Date')\n",
    "df.columns"
   ]
  },
  {
   "cell_type": "markdown",
   "metadata": {},
   "source": [
    "### Seperate details of address out\n",
    "\n",
    "Want to sepaerate details of address so that\n",
    "\n",
    "`chx='Flat 30, Henllys, Wind Street, Swansea'`\n",
    "\n",
    "gives `modAdd(chx)=('Swansea', 900, 'Henllys')`\n",
    "\n",
    "Or\n",
    "\n",
    "`chx='15A Bethania Road, Upper Tumble'`\n",
    "\n",
    "gives `modAdd(chx)=('Upper Tumble', 15, 'Bethania Road')`\n"
   ]
  },
  {
   "cell_type": "code",
   "execution_count": null,
   "metadata": {
    "deletable": false,
    "editable": false,
    "run_control": {
     "frozen": true
    }
   },
   "outputs": [],
   "source": [
    "def modAdd(address):\n",
    "    import re\n",
    "\n",
    "    split1 = address.split(',')\n",
    "    if len(split1)<2:\n",
    "        split1 = address.split(' ')\n",
    "        print('####',split1 ) \n",
    "    \n",
    "    FirstLine=split1[0]\n",
    "    Region = split1[-1]\n",
    "    \n",
    "    try:\n",
    "        Region=re.search(\"[A-Za-z][A-Za-z\\s]*\",Region)[0]\n",
    "    except:\n",
    "        Region=Region\n",
    "    \n",
    "    \n",
    "    try:\n",
    "        HouseNo=re.search(\"[0-9]*\",FirstLine)\n",
    "#         print(HouseNo)\n",
    "        HouseNo =int(HouseNo[0])\n",
    "        \n",
    "    except:\n",
    "        FirstLine=split1[1]\n",
    "        HouseNo=re.search(\"[\\s0-9]*\",FirstLine)\n",
    "        try:\n",
    "            HouseNo =int(HouseNo[0])\n",
    "        except:\n",
    "            HouseNo=900\n",
    "        \n",
    "    try:    \n",
    "        Street=re.search(\"\\s[A-Za-z][A-Za-z\\s]*\",FirstLine)\n",
    "        Street=Street[0]\n",
    "        Street=Street[1:]\n",
    "    except:\n",
    "        try:\n",
    "            Street=split1[1]\n",
    "            Street=re.search(\"\\s[A-Za-z][A-Za-z\\s]*\",Street)[0]\n",
    "            Street=Street[1:]\n",
    "        except:\n",
    "            Street='NA'\n",
    "#         print(FirstLine)\n",
    "        \n",
    "#     print('Region {}\\n Number {} \\n Street {} '.format(Region,HouseNo,Street))\n",
    "\n",
    "    return Region,HouseNo,Street\n",
    "    \n",
    "def addAdddets_df(df):\n",
    "    Street,HouseNo,Region=[],[],[]\n",
    "    for ita,oo in enumerate(df.index):\n",
    "        \n",
    "        addTemp=df.iloc[ita].Address\n",
    "        RegionTemp,HouseNoTemp,StreetTemp=modAdd(addTemp)\n",
    "        Region.append(RegionTemp)\n",
    "        HouseNo.append(HouseNoTemp)\n",
    "        Street.append(StreetTemp)\n",
    "    df.insert(1,'Street',Street)\n",
    "    df.insert(1,'HouseNo',HouseNo)    \n",
    "    df.insert(1,'Region',Region)\n",
    "    return df\n"
   ]
  },
  {
   "cell_type": "code",
   "execution_count": null,
   "metadata": {
    "deletable": false,
    "editable": false,
    "run_control": {
     "frozen": true
    }
   },
   "outputs": [],
   "source": [
    "try:\n",
    "    df.drop(columns=['Street','HouseNo','Region'],inplace=True)\n",
    "except:\n",
    "    pass\n",
    "df=addAdddets_df(df)"
   ]
  },
  {
   "cell_type": "markdown",
   "metadata": {},
   "source": [
    "### Create train and validation sets\n",
    "\n",
    "Do this randomly in this case 97:3 split"
   ]
  },
  {
   "cell_type": "code",
   "execution_count": 6,
   "id": "23bb9ce8",
   "metadata": {
    "deletable": false,
    "editable": false,
    "run_control": {
     "frozen": true
    }
   },
   "outputs": [],
   "source": [
    "sza=np.shape(df)[0]\n",
    "\n",
    "randAr=np.random.randint(0,100, size=sza)\n",
    "cond = randAr>=3\n",
    "\n",
    "train_idx = np.where( cond)[0]\n",
    "valid_idx = np.where(~cond)[0]\n",
    "\n",
    "splits = (list(train_idx),list(valid_idx))\n",
    "\n",
    "valid_idx.shape[0]/train_idx.shape[0]"
   ]
  },
  {
   "cell_type": "markdown",
   "metadata": {},
   "source": [
    "Specify which column we are fitting to \n"
   ]
  },
  {
   "cell_type": "code",
   "execution_count": 140,
   "metadata": {
    "deletable": false,
    "editable": false,
    "run_control": {
     "frozen": true
    }
   },
   "outputs": [],
   "source": [
    "dep_var = 'Price'\n",
    "\n",
    "# for this fit to the log of it\n",
    "df[dep_var] = np.log(df[dep_var])"
   ]
  },
  {
   "cell_type": "markdown",
   "metadata": {},
   "source": [
    "Split into test and validation and convert to TabularPandas"
   ]
  },
  {
   "cell_type": "code",
   "execution_count": 141,
   "id": "37d81c55",
   "metadata": {
    "deletable": false,
    "editable": false,
    "run_control": {
     "frozen": true
    }
   },
   "outputs": [],
   "source": [
    "\n",
    "cont,cat = cont_cat_split(df, 1, dep_var=dep_var)\n",
    "\n",
    "procs = [Categorify, FillMissing]\n",
    "to = TabularPandas(df, procs, cat, cont, y_names=dep_var, splits=splits)\n",
    "\n",
    "xs,y = to.train.xs,to.train.y\n",
    "valid_xs,valid_y = to.valid.xs,to.valid.y"
   ]
  },
  {
   "cell_type": "markdown",
   "metadata": {},
   "source": [
    "What are the columns?"
   ]
  },
  {
   "cell_type": "code",
   "execution_count": 15,
   "metadata": {},
   "outputs": [],
   "source": [
    "#hide\n",
    "import os\n",
    "import pickle\n",
    "\n",
    "cda = 'C:\\\\Users\\\\44781\\\\Documents\\\\GitHub\\\\SwanseaProperty'\n",
    "cda = cda + '\\\\pickles\\\\'\n",
    "with open(cda+'RFrand_to.pkl', 'rb')as f: \n",
    "    to = pickle.load(f)\n",
    "    \n",
    "with open(cda+'RFrand_xs_final.pkl', 'rb')as f: \n",
    "    xs = pickle.load(f)\n",
    "    \n",
    "with open(cda+'RFrand_y.pkl', 'rb')as f: \n",
    "    y = pickle.load(f)"
   ]
  },
  {
   "cell_type": "code",
   "execution_count": 12,
   "metadata": {
    "deletable": false,
    "editable": false,
    "run_control": {
     "frozen": true
    }
   },
   "outputs": [
    {
     "data": {
      "text/plain": [
       "['Address',\n",
       " 'Region',\n",
       " 'Street',\n",
       " 'Postcode',\n",
       " 'Type',\n",
       " 'Ownership',\n",
       " 'NewBuild',\n",
       " 'District Code',\n",
       " 'Ward Code',\n",
       " 'Introduced',\n",
       " 'Rural/urban',\n",
       " 'Is_month_end',\n",
       " 'Is_month_start',\n",
       " 'Is_quarter_end',\n",
       " 'Is_quarter_start',\n",
       " 'Is_year_end',\n",
       " 'Is_year_start',\n",
       " 'HouseNo',\n",
       " 'Latitude',\n",
       " 'Longitude',\n",
       " 'Altitude',\n",
       " 'Index of Multiple Deprivation',\n",
       " 'Average Income',\n",
       " 'Year',\n",
       " 'Month',\n",
       " 'Week',\n",
       " 'Day',\n",
       " 'Dayofweek',\n",
       " 'Dayofyear',\n",
       " 'Elapsed',\n",
       " 'Price']"
      ]
     },
     "execution_count": 12,
     "metadata": {},
     "output_type": "execute_result"
    }
   ],
   "source": [
    "[ii for ii in to.all_col_names]\n"
   ]
  },
  {
   "cell_type": "markdown",
   "metadata": {},
   "source": [
    "### Some functions to fit or get results of fit"
   ]
  },
  {
   "cell_type": "code",
   "execution_count": 21,
   "metadata": {
    "deletable": false,
    "editable": false,
    "run_control": {
     "frozen": true
    }
   },
   "outputs": [],
   "source": [
    "def r_mse(pred,y): return round(math.sqrt(((pred-y)**2).mean()), 6)\n",
    "def m_rmse(m, xs, y): return r_mse(m.predict(xs), y)\n",
    "\n",
    "def r_abs(pred,y): return round( (np.abs( np.exp(pred)-np.exp(y) ).mean()), 0)\n",
    "def m_abs(m, xs, y): return r_abs(m.predict(xs), y)/1000\n",
    "\n",
    "def rf(xs, y, n_estimators=400, max_samples=100_000,\n",
    "       max_features=0.5, min_samples_leaf=5, **kwargs):\n",
    "    return RandomForestRegressor(n_jobs=-1, n_estimators=n_estimators,\n",
    "        max_samples=max_samples, max_features=max_features,\n",
    "        min_samples_leaf=min_samples_leaf, oob_score=True).fit(xs, y)"
   ]
  },
  {
   "cell_type": "markdown",
   "metadata": {},
   "source": [
    "## Fit the model and optimise"
   ]
  },
  {
   "cell_type": "markdown",
   "metadata": {},
   "source": [
    "Basic model with 4 nodes"
   ]
  },
  {
   "cell_type": "code",
   "execution_count": 25,
   "id": "475f87cd",
   "metadata": {
    "deletable": false,
    "editable": false,
    "run_control": {
     "frozen": true
    }
   },
   "outputs": [],
   "source": [
    "m = DecisionTreeRegressor(max_leaf_nodes=4)\n",
    "m.fit(xs, y);\n"
   ]
  },
  {
   "cell_type": "code",
   "execution_count": 3,
   "id": "cfed3419",
   "metadata": {
    "deletable": false,
    "editable": false,
    "run_control": {
     "frozen": true
    }
   },
   "outputs": [
    {
     "data": {
      "text/plain": [
       "(0.511491, 0.503983)"
      ]
     },
     "execution_count": 3,
     "metadata": {},
     "output_type": "execute_result"
    }
   ],
   "source": [
    "m_rmse(m, xs, y),m_rmse(m, valid_xs, valid_y)\n"
   ]
  },
  {
   "cell_type": "markdown",
   "metadata": {},
   "source": [
    "Increase the number of leafs, reduces the errors"
   ]
  },
  {
   "cell_type": "code",
   "execution_count": 4,
   "metadata": {
    "deletable": false,
    "editable": false,
    "run_control": {
     "frozen": true
    }
   },
   "outputs": [
    {
     "data": {
      "text/plain": [
       "(0.338283, 0.370846)"
      ]
     },
     "execution_count": 4,
     "metadata": {},
     "output_type": "execute_result"
    }
   ],
   "source": [
    "m = DecisionTreeRegressor(min_samples_leaf=25)\n",
    "m.fit(to.train.xs, to.train.y)\n",
    "m_rmse(m, xs, y), m_rmse(m, valid_xs, valid_y)\n"
   ]
  },
  {
   "cell_type": "markdown",
   "metadata": {},
   "source": [
    "Using the modified function above"
   ]
  },
  {
   "cell_type": "code",
   "execution_count": 5,
   "metadata": {
    "deletable": false,
    "editable": false,
    "run_control": {
     "frozen": true
    }
   },
   "outputs": [
    {
     "data": {
      "text/plain": [
       "(0.287589, 0.335017)"
      ]
     },
     "execution_count": 5,
     "metadata": {},
     "output_type": "execute_result"
    }
   ],
   "source": [
    "m = rf(xs, y)\n",
    "m_rmse(m, xs_imp, y), m_rmse(m, valid_xs_imp, valid_y)"
   ]
  },
  {
   "cell_type": "markdown",
   "metadata": {},
   "source": [
    "### Look at which columns are important"
   ]
  },
  {
   "cell_type": "code",
   "execution_count": null,
   "metadata": {
    "deletable": false,
    "editable": false,
    "run_control": {
     "frozen": true
    }
   },
   "outputs": [],
   "source": [
    "cluster_columns(xs)"
   ]
  },
  {
   "cell_type": "markdown",
   "metadata": {},
   "source": [
    "![](ghtop_images/cluster_columns.png)"
   ]
  },
  {
   "cell_type": "code",
   "execution_count": null,
   "metadata": {
    "deletable": false,
    "editable": false,
    "run_control": {
     "frozen": true
    }
   },
   "outputs": [],
   "source": [
    "def rf_feat_importance(m, df):\n",
    "    return pd.DataFrame({'cols':df.columns, 'imp':m.feature_importances_}\n",
    "                       ).sort_values('imp', ascending=False)"
   ]
  },
  {
   "cell_type": "code",
   "execution_count": 31,
   "metadata": {
    "deletable": false,
    "editable": false,
    "run_control": {
     "frozen": true
    }
   },
   "outputs": [],
   "source": [
    "fi = rf_feat_importance(m, xs)\n",
    "\n",
    "def plot_fi(fi):\n",
    "    return fi.plot('cols', 'imp', 'barh', figsize=(12,7), legend=False)\n",
    "\n",
    "plot_fi(fi[:30]);"
   ]
  },
  {
   "cell_type": "markdown",
   "metadata": {},
   "source": [
    "![](ghtop_images/rf_feat_importance.png)"
   ]
  },
  {
   "cell_type": "markdown",
   "metadata": {},
   "source": [
    "#### Keep ones with most importance\n",
    "\n",
    "Reduces columns to use from 30 to 17"
   ]
  },
  {
   "cell_type": "code",
   "execution_count": 23,
   "metadata": {
    "deletable": false,
    "editable": false,
    "run_control": {
     "frozen": true
    }
   },
   "outputs": [
    {
     "data": {
      "text/plain": [
       "(13, 30)"
      ]
     },
     "execution_count": 23,
     "metadata": {},
     "output_type": "execute_result"
    }
   ],
   "source": [
    "to_keep = fi[fi.imp>0.01].cols\n",
    "len(to_keep),len(fi.cols)"
   ]
  },
  {
   "cell_type": "code",
   "execution_count": null,
   "metadata": {
    "deletable": false,
    "editable": false,
    "run_control": {
     "frozen": true
    }
   },
   "outputs": [],
   "source": [
    "# Get rid of the address one- is a number for each address\n",
    "to_keep=to_keep[to_keep!='Address']"
   ]
  },
  {
   "cell_type": "code",
   "execution_count": 25,
   "metadata": {
    "deletable": false,
    "editable": false,
    "run_control": {
     "frozen": true
    }
   },
   "outputs": [
    {
     "data": {
      "text/plain": [
       "(0.296979, 0.335829)"
      ]
     },
     "execution_count": 25,
     "metadata": {},
     "output_type": "execute_result"
    }
   ],
   "source": [
    "xs_imp = xs[to_keep]\n",
    "valid_xs_imp = valid_xs[to_keep]\n",
    "m_imp = rf(xs_imp, y)\n",
    "m_rmse(m_imp, xs_imp, y), m_rmse(m_imp, valid_xs_imp, valid_y)"
   ]
  },
  {
   "cell_type": "code",
   "execution_count": null,
   "metadata": {
    "deletable": false,
    "editable": false,
    "run_control": {
     "frozen": true
    }
   },
   "outputs": [],
   "source": [
    "fi2 = rf_feat_importance(m_imp, xs_imp)\n",
    "\n",
    "def plot_fi(fi2):\n",
    "    return fi2.plot('cols', 'imp', 'barh', figsize=(10,6), legend=False)\n",
    "\n",
    "plot_fi(fi2[:30]);"
   ]
  },
  {
   "cell_type": "markdown",
   "metadata": {},
   "source": [
    "![](ghtop_images/rf_feat_importance2.png)"
   ]
  },
  {
   "cell_type": "code",
   "execution_count": null,
   "metadata": {},
   "outputs": [],
   "source": []
  },
  {
   "cell_type": "markdown",
   "metadata": {},
   "source": [
    "## Save the results"
   ]
  },
  {
   "cell_type": "markdown",
   "metadata": {},
   "source": [
    "Combine the test and valid datasets"
   ]
  },
  {
   "cell_type": "code",
   "execution_count": null,
   "metadata": {
    "deletable": false,
    "editable": false,
    "run_control": {
     "frozen": true
    }
   },
   "outputs": [],
   "source": [
    "xsAll=pd.concat([xs_imp,valid_xs_imp])\n",
    "yAll = pd.concat([y, valid_y])"
   ]
  },
  {
   "cell_type": "code",
   "execution_count": null,
   "metadata": {
    "deletable": false,
    "editable": false,
    "run_control": {
     "frozen": true
    }
   },
   "outputs": [],
   "source": [
    "import os\n",
    "import pickle\n",
    "\n",
    "cda = os.getcwd()\n",
    "cda = cda + '\\\\pickles\\\\'\n",
    "\n",
    "# Saving the objects:\n",
    "with open(cda+'RFrand_New4varB.pkl', 'wb') as f:\n",
    "    pickle.dump([m_imp, to, xsAll, yAll], f)"
   ]
  },
  {
   "cell_type": "code",
   "execution_count": 39,
   "metadata": {},
   "outputs": [
    {
     "data": {
      "text/plain": [
       "1.3990997582955578"
      ]
     },
     "execution_count": 39,
     "metadata": {},
     "output_type": "execute_result"
    }
   ],
   "source": [
    "np.exp(0.335829)"
   ]
  },
  {
   "cell_type": "markdown",
   "metadata": {},
   "source": [
    "## Get the Predictions"
   ]
  },
  {
   "cell_type": "markdown",
   "metadata": {},
   "source": [
    "Reload the data saved"
   ]
  },
  {
   "cell_type": "code",
   "execution_count": 26,
   "metadata": {
    "deletable": false,
    "editable": false,
    "run_control": {
     "frozen": true
    }
   },
   "outputs": [],
   "source": []
  },
  {
   "cell_type": "code",
   "execution_count": 29,
   "metadata": {
    "deletable": false,
    "editable": false,
    "run_control": {
     "frozen": true
    }
   },
   "outputs": [],
   "source": [
    "import os\n",
    "import pickle\n",
    "\n",
    "with open(cda+'RFrand_New4varB.pkl', 'rb')as f: \n",
    "        m2, to2, xsAll2, yAll2 = pickle.load(f)"
   ]
  },
  {
   "cell_type": "markdown",
   "metadata": {},
   "source": [
    "### First need a way to convert sale date to today's date\n",
    "\n",
    "Function takes the dataFrame and changes 'Date' features to today's date \n",
    "Taken from fastai functions"
   ]
  },
  {
   "cell_type": "code",
   "execution_count": 33,
   "metadata": {
    "deletable": false,
    "editable": false,
    "run_control": {
     "frozen": true
    }
   },
   "outputs": [],
   "source": [
    "def add_datepart(df, field_name, prefix=None, drop=True, time=False):\n",
    "    \"Helper function that adds columns relevant to a date in the column `field_name` of `df`.\"\n",
    "    import re\n",
    "    import pandas as pd\n",
    "    import numpy as np\n",
    "    \n",
    "    def ifnone(a, b):\n",
    "        \"`b` if `a` is None else `a`\"\n",
    "        return b if a is None else a\n",
    "    \n",
    "    def make_date(df, date_field):\n",
    "        \"Make sure `df[date_field]` is of the right date type.\"\n",
    "        \n",
    "        field_dtype = df[date_field].dtype\n",
    "        if isinstance(field_dtype, pd.core.dtypes.dtypes.DatetimeTZDtype):\n",
    "            field_dtype = np.datetime64\n",
    "        if not np.issubdtype(field_dtype, np.datetime64):\n",
    "            df[date_field] = pd.to_datetime(df[date_field], infer_datetime_format=True)\n",
    "            \n",
    "    make_date(df, field_name)\n",
    "    field = df[field_name]\n",
    "    prefix = ifnone(prefix, re.sub('[Dd]ate$', '', field_name))\n",
    "    attr = ['Year', 'Month', 'Week', 'Day', 'Dayofweek', 'Dayofyear', 'Is_month_end', 'Is_month_start',\n",
    "            'Is_quarter_end', 'Is_quarter_start', 'Is_year_end', 'Is_year_start']\n",
    "    if time: attr = attr + ['Hour', 'Minute', 'Second']\n",
    "    # Pandas removed `dt.week` in v1.1.10\n",
    "    week = field.dt.isocalendar().week.astype(field.dt.day.dtype) if hasattr(field.dt, 'isocalendar') else field.dt.week\n",
    "    for n in attr: df[prefix + n] = getattr(field.dt, n.lower()) if n != 'Week' else week\n",
    "    mask = ~field.isna()\n",
    "    df[prefix + 'Elapsed'] = np.where(mask,field.values.astype(np.int64) // 10 ** 9,np.nan)\n",
    "    if drop: df.drop(field_name, axis=1, inplace=True)\n",
    "    return df"
   ]
  },
  {
   "cell_type": "markdown",
   "metadata": {},
   "source": [
    "The next function uses the above function to update the date details.\n",
    "\n",
    "Then looks up the address given so that predictions can be made. This is because address are not in xsAll2 dataFrame"
   ]
  },
  {
   "cell_type": "code",
   "execution_count": 30,
   "metadata": {
    "deletable": false,
    "editable": false,
    "run_control": {
     "frozen": true
    }
   },
   "outputs": [
    {
     "data": {
      "text/plain": [
       "Index(['Elapsed', 'Type', 'Year', 'Index of Multiple Deprivation', 'Latitude',\n",
       "       'Average Income', 'Longitude', 'Introduced', 'Postcode', 'Altitude',\n",
       "       'HouseNo', 'Street'],\n",
       "      dtype='object')"
      ]
     },
     "execution_count": 30,
     "metadata": {},
     "output_type": "execute_result"
    }
   ],
   "source": [
    "xsAll2.columns"
   ]
  },
  {
   "cell_type": "code",
   "execution_count": null,
   "metadata": {
    "deletable": false,
    "editable": false,
    "run_control": {
     "frozen": true
    }
   },
   "outputs": [],
   "source": [
    "# seperate columns into those related to date and those not\n",
    "colsNoDate=[ 'Type',  'Index of Multiple Deprivation', 'Latitude',\n",
    "       'Average Income', 'Longitude', 'Introduced', 'Postcode', 'Altitude',\n",
    "       'HouseNo', 'Street']\n",
    "colsDate=['Elapsed','Year']\n",
    "    "
   ]
  },
  {
   "cell_type": "code",
   "execution_count": 32,
   "metadata": {
    "deletable": false,
    "editable": false,
    "run_control": {
     "frozen": true
    }
   },
   "outputs": [],
   "source": [
    "def get_predTodayNotExact(m,address,toTEMP,xs_final,y):\n",
    "    \"\"\"\n",
    "    Given model m, address, initial pd of houses to, and adjusted pd xs_final\n",
    "    output is house price prediction\n",
    "    \"\"\"\n",
    "    import copy\n",
    "\n",
    "    colsAll=xs_final.columns\n",
    "\n",
    "    #columns with dates need to remove\n",
    "    colsDate=['Elapsed','Year']\n",
    "    xsNoDate=copy.copy(xs_final.drop(columns=colsDate))\n",
    "    \n",
    "    # add date part to dataframe\n",
    "    xsNoDate['Date'] = pd.to_datetime(\"today\")\n",
    "    xsNoDate = add_datepart(xsNoDate, 'Date')\n",
    "    xs_finalTEMP=xsNoDate.loc[:,colsAll]\n",
    "\n",
    "    # each address has a unique number\n",
    "    aa=toTEMP.classes['Address']\n",
    "    # findwhich number is address give (take 1st if more than 1)\n",
    "    try:\n",
    "        ii=[ii for ii,aa1 in enumerate(aa) if aa1== address][0]\n",
    "        # 1 address can have multiple sales so we need index in dataframes\n",
    "        ii=toTEMP[toTEMP['Address']==ii].index[0]\n",
    "\n",
    "        preda = np.round( np.exp( m.predict(xs_finalTEMP.loc[ii:ii]) )/1000 ,1)\n",
    "        prev = np.round( np.exp(y.loc[ii])/1000 ,1)\n",
    "        \n",
    "        typeAll=toTEMP.classes['Type']\n",
    "        typa=typeAll[xs_finalTEMP.loc[ii:ii,'Type']][0]\n",
    "    \n",
    "    except:\n",
    "        aa=toTEMP.classes['Address']\n",
    "        aaStreet=toTEMP.classes['Street']\n",
    "        ii=[ii for ii,aa1 in enumerate(aaStreet) if aa1== Street][0]\n",
    "        xsTemp=copy.copy( xs_finalTEMP[xs_finalTEMP['Street']==ii] )\n",
    "        xsTemp.reset_index(inplace=True,drop=True)\n",
    "        # find nearest house by houseno\n",
    "        No=np.array(xsTemp['HouseNo'])\n",
    "\n",
    "        yo=(np.abs(No-HouseNo))\n",
    "        yo1=np.min(yo)\n",
    "        # get index of the nearest house\n",
    "        yo=No[yo==yo1][0]  \n",
    "\n",
    "        ii=[ii for ii,aa1 in enumerate(xsTemp.HouseNo) if aa1== yo][0]\n",
    "        xsTemp.loc[ii:ii,'HouseNo']=HouseNo\n",
    "        \n",
    "        # If want to change house type\n",
    "        \n",
    "#         xsTemp.loc[ii:ii,'Type']=2\n",
    "#         print(xsTemp.loc[ii:ii,'Type'])\n",
    "#         print(xsTemp.loc[ii:ii])\n",
    "        \n",
    "        preda = np.round( np.exp( m.predict(xsTemp.loc[ii:ii]) )/1000 ,1)[0]\n",
    "        prev=0\n",
    "        \n",
    "        typeAll=toTEMP.classes['Type']\n",
    "        typa=typeAll[xsTemp.loc[ii:ii,'Type']][0]\n",
    "        \n",
    "        \n",
    "    return preda, prev, typa"
   ]
  },
  {
   "cell_type": "code",
   "execution_count": 38,
   "metadata": {
    "deletable": false,
    "editable": false,
    "run_control": {
     "frozen": true
    }
   },
   "outputs": [
    {
     "data": {
      "text/plain": [
       "(array([180.1]), 54.5, 'Terraced')"
      ]
     },
     "execution_count": 38,
     "metadata": {},
     "output_type": "execute_result"
    }
   ],
   "source": [
    "address='20 Malvern Terrace, Brynmill'\n",
    "get_predTodayNotExact(m2,address,to2,xsAll2,yAll2)"
   ]
  },
  {
   "cell_type": "markdown",
   "metadata": {},
   "source": [
    "## Summary"
   ]
  },
  {
   "cell_type": "code",
   "execution_count": 41,
   "metadata": {
    "deletable": false,
    "editable": false,
    "run_control": {
     "frozen": true
    }
   },
   "outputs": [
    {
     "data": {
      "text/plain": [
       "23.159"
      ]
     },
     "execution_count": 41,
     "metadata": {},
     "output_type": "execute_result"
    }
   ],
   "source": [
    "def r_abs(pred,y): return round( (np.abs( np.exp(pred)-np.exp(y) ).mean()), 0)\n",
    "def m_abs(m, xs, y): return r_abs(m.predict(xs), y)/1000\n",
    "\n",
    "m_abs(m2, xsAll2, yAll2)#, m_abs(m, valid_xs_final, valid_y)"
   ]
  },
  {
   "cell_type": "markdown",
   "metadata": {},
   "source": [
    "The average error in price predictions is £23,000\n",
    "\n",
    "Which is comparable to values seen with regions and fairly good given the details of the houses used in the model are limited\n",
    "\n",
    "This model is put into an app here https://thomashsimm.com/streamlit/randomforrests/houseprices/python/2022/02/23/SwanseaHousePriceApp.html\n",
    "\n",
    "\n",
    "> youtube: https://youtu.be/IGykZUeZqRA"
   ]
  }
 ],
 "metadata": {
  "hide_input": false,
  "kernelspec": {
   "display_name": "Python 3 (ipykernel)",
   "language": "python",
   "name": "python3"
  },
  "language_info": {
   "codemirror_mode": {
    "name": "ipython",
    "version": 3
   },
   "file_extension": ".py",
   "mimetype": "text/x-python",
   "name": "python",
   "nbconvert_exporter": "python",
   "pygments_lexer": "ipython3",
   "version": "3.8.8"
  },
  "varInspector": {
   "cols": {
    "lenName": 16,
    "lenType": 16,
    "lenVar": 40
   },
   "kernels_config": {
    "python": {
     "delete_cmd_postfix": "",
     "delete_cmd_prefix": "del ",
     "library": "var_list.py",
     "varRefreshCmd": "print(var_dic_list())"
    },
    "r": {
     "delete_cmd_postfix": ") ",
     "delete_cmd_prefix": "rm(",
     "library": "var_list.r",
     "varRefreshCmd": "cat(var_dic_list()) "
    }
   },
   "position": {
    "height": "647.85px",
    "left": "1550px",
    "right": "20px",
    "top": "120px",
    "width": "350px"
   },
   "types_to_exclude": [
    "module",
    "function",
    "builtin_function_or_method",
    "instance",
    "_Feature"
   ],
   "window_display": true
  }
 },
 "nbformat": 4,
 "nbformat_minor": 5
}
