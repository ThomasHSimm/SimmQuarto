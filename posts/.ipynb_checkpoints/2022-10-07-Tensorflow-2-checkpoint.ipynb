{
 "cells": [
  {
   "cell_type": "markdown",
   "metadata": {},
   "source": [
    "# TensorFlow cheat sheet 2\n",
    "> Some tips for tensorflow and keras\n",
    "\n",
    "- toc: true \n",
    "- badges: true\n",
    "- comments: true\n",
    "- categories: [tensorflow]"
   ]
  },
  {
   "cell_type": "markdown",
   "metadata": {},
   "source": [
    "![](ghtop_images/header2.png)"
   ]
  },
  {
   "cell_type": "code",
   "execution_count": 2,
   "metadata": {},
   "outputs": [],
   "source": [
    "#hide\n",
    "import numpy as np\n",
    "import tensorflow as tf"
   ]
  },
  {
   "cell_type": "markdown",
   "metadata": {},
   "source": [
    "# Datsets\n",
    "\n",
    "[Keras datasets](https://www.tensorflow.org/api_docs/python/tf/keras/datasets)\n",
    "- boston_housing module: Boston housing price regression dataset.\n",
    "- cifar10 module: CIFAR10 small images classification dataset.\n",
    "- cifar100 module: CIFAR100 small images classification dataset.\n",
    "- fashion_mnist module: Fashion-MNIST dataset.\n",
    "- imdb module: IMDB sentiment classification dataset.\n",
    "- mnist module: MNIST handwritten digits dataset.\n",
    "- reuters module: Reuters topic classification dataset.\n",
    "\n",
    "Load like this:\n",
    "\n",
    "`from tensorflow.keras.datasets import imdb`\n",
    "\n",
    "`(x_train,y_train),(x_test,y_test) = imdb.load_data(num_words=1000,max_len=100)`"
   ]
  },
  {
   "cell_type": "markdown",
   "metadata": {},
   "source": [
    "## Dataset generators\n",
    "\n",
    "    Have you ever had to work with a dataset so large that it overwhelmed your machine’s memory? Or maybe you have a complex function that needs to maintain an internal state every time it’s called, but the function is too small to justify creating its own class. In these cases and more, generators and the Python yield statement are here to help\n",
    "https://realpython.com/introduction-to-python-generators/\n",
    "    \n",
    "    \n",
    "How `yield` works:"
   ]
  },
  {
   "cell_type": "code",
   "execution_count": null,
   "metadata": {},
   "outputs": [],
   "source": [
    "def do_yield():\n",
    "    for i in range(20):\n",
    "        yield i\n",
    "        \n",
    "got_yield =  do_yield()\n",
    "\n",
    "print(got_yield)\n",
    "print(next(got_yield))\n",
    "print(next(got_yield))\n",
    "\n",
    "next(got_yield)\n",
    "\n",
    "print(next(got_yield))\n",
    "got_yield\n",
    "print(next(got_yield))\n"
   ]
  },
  {
   "cell_type": "markdown",
   "metadata": {},
   "source": [
    "When datasets are large and won't fit into memory, a way to handle this is to use **detaset generators**. Where data is fed into the model without loading it into memory at once.Each time we iterate the generator, it yields the next value in the series.\n",
    "\n",
    "An example is below. The function takes a path to a file but returns a yield statement, or a data generator, and not a line of the data.\n",
    "\n",
    "As above `x,y = next(text_datagen)` gets the next line of the text.\n",
    "\n",
    "This can be used when fitting to the model using `model.fit_generator(text_datagen)`\n",
    "\n",
    "\n",
    "See also [load images](https://thomashsimm.com/tensorflow/2022/09/28/Tensorflow.html#Load-images)."
   ]
  },
  {
   "cell_type": "code",
   "execution_count": null,
   "metadata": {
    "deletable": false,
    "editable": false,
    "run_control": {
     "frozen": true
    }
   },
   "outputs": [],
   "source": [
    "def get_data(filepath):\n",
    "    with open(filepath,'r') as f:\n",
    "        for row in f:\n",
    "            x=row[0]\n",
    "            y=row[1]\n",
    "            yield (x,y)\n",
    "            \n",
    "text_datagen = get_data('file.txt')\n",
    "\n",
    "model.fit_generator(text_datagen, steps_per_epoch=1000, epochs=5)\n",
    "\n",
    "\n",
    "# or something more practical:\n",
    "def get_generator(features, labels, batch_size=1):\n",
    "    for n in range(int(len(features)/batch_size)):\n",
    "        x = features[n*batch_size: (n+1)*batch_size]\n",
    "        y = labels[n*batch_size: (n+1)*batch_size]\n",
    "        yield (x,y)"
   ]
  },
  {
   "cell_type": "markdown",
   "metadata": {},
   "source": [
    "## The dataset Class"
   ]
  },
  {
   "cell_type": "code",
   "execution_count": 3,
   "metadata": {},
   "outputs": [
    {
     "name": "stdout",
     "output_type": "stream",
     "text": [
      ">> TensorSpec(shape=(20, 2, 2), dtype=tf.int32, name=None)\n",
      ">> N.B. first dimension inetrpreted as batch size\n",
      ">> TensorSpec(shape=(1,), dtype=tf.int32, name=None)\n",
      ">> (TensorSpec(shape=(20, 2, 2), dtype=tf.int32, name=None), TensorSpec(shape=(1,), dtype=tf.int32, name=None))\n",
      ">> (TensorSpec(shape=(20, 2, 2), dtype=tf.int32, name=None), TensorSpec(shape=(1,), dtype=tf.int32, name=None))\n"
     ]
    }
   ],
   "source": [
    "x=np.random.randint(0,255,(100,20,2,2))\n",
    "y=np.random.randint(0,4,size=(100,1))\n",
    "\n",
    "dataset_1 = tf.data.Dataset.from_tensor_slices(x)\n",
    "\n",
    "print(\">>\",dataset_1.element_spec)\n",
    "print('>> N.B. first dimension inetrpreted as batch size')\n",
    "\n",
    "dataset_2 = tf.data.Dataset.from_tensor_slices(y)\n",
    "print(\">>\",dataset_2.element_spec)\n",
    "\n",
    "dataset_zipped = tf.data.Dataset.zip((dataset_1,dataset_2))\n",
    "print(\">>\",dataset_zipped.element_spec)\n",
    "\n",
    "dataset_comb = tf.data.Dataset.from_tensor_slices((x,y))\n",
    "print(\">>\",dataset_comb.element_spec)\n"
   ]
  },
  {
   "cell_type": "markdown",
   "metadata": {},
   "source": [
    "Can access the values by iterating"
   ]
  },
  {
   "cell_type": "code",
   "execution_count": 4,
   "metadata": {},
   "outputs": [
    {
     "name": "stdout",
     "output_type": "stream",
     "text": [
      "Has 3s\n"
     ]
    }
   ],
   "source": [
    "def check3s(dataset_comb):\n",
    "    dataset_iter = iter(dataset_comb)\n",
    "    for i,x in enumerate(dataset_iter):\n",
    "        if tf.squeeze(x[1])==3:\n",
    "            print('Has 3s')\n",
    "            return\n",
    "    return 'no 3s'\n",
    "check3s(dataset_comb)"
   ]
  },
  {
   "cell_type": "markdown",
   "metadata": {},
   "source": [
    "#### Filter\n",
    "\n",
    "Filter certain values"
   ]
  },
  {
   "cell_type": "code",
   "execution_count": 5,
   "metadata": {},
   "outputs": [
    {
     "data": {
      "text/plain": [
       "'no 3s'"
      ]
     },
     "execution_count": 5,
     "metadata": {},
     "output_type": "execute_result"
    }
   ],
   "source": [
    "def label_func(image,label):\n",
    "    return tf.squeeze(label) != 3\n",
    "\n",
    "dataset_comb = dataset_comb.filter(label_func)\n",
    "\n",
    "check3s(dataset_comb)"
   ]
  },
  {
   "cell_type": "markdown",
   "metadata": {},
   "source": [
    "#### Map\n",
    "\n",
    "Modify values. Below creates one-hot encoding"
   ]
  },
  {
   "cell_type": "code",
   "execution_count": 6,
   "metadata": {},
   "outputs": [
    {
     "name": "stdout",
     "output_type": "stream",
     "text": [
      "0 [0]\n",
      "1 [1]\n",
      "2 [2]\n",
      "3 [2]\n",
      "4 [2]\n",
      "0 [[1. 0. 0.]]\n",
      "1 [[0. 1. 0.]]\n",
      "2 [[0. 0. 1.]]\n",
      "3 [[0. 0. 1.]]\n",
      "4 [[0. 0. 1.]]\n"
     ]
    }
   ],
   "source": [
    "def map_func(image, x):\n",
    "    return (image,tf.one_hot(x,depth=3) )\n",
    "dataset_comb_2=dataset_comb.map(map_func)\n",
    "\n",
    "for i,x in enumerate(dataset_comb):\n",
    "    if i<5:\n",
    "        print(i,x[1].numpy())    \n",
    "    else:\n",
    "        break\n",
    "        \n",
    "for i,x in enumerate(dataset_comb_2):\n",
    "    if i<5:\n",
    "        print(i,x[1].numpy())    \n",
    "    else:\n",
    "        break"
   ]
  },
  {
   "cell_type": "markdown",
   "metadata": {},
   "source": [
    "- `dataset.batch(20), drop_remainder=True` set batch size to 16 and remove any remaining samples if not divisible\n",
    "- `dataset.repeat(10)` set the number of epochs. No value inside is indefinitely\n",
    "- `dataset.shuffle(100)` shuffle the data, no of sample in the buffer\n",
    "- `dataset.filter(function_name)` filter the values use lambda or a function that returns a boolean\n",
    "- `dataset.map(func_name)` transform the values\n",
    "    - e.g. `dataset.map(lambda x:x*2)` doubles all values\n",
    "- `dataset.take(1)` take a value from the dataset\n"
   ]
  },
  {
   "cell_type": "markdown",
   "metadata": {},
   "source": [
    "# Tensors\n",
    "\n",
    "- `tf.Variable()` to create a tensor\n",
    "    - `initial_value=` set the value\n",
    "    - `dtype=` set the variable type e.g. tf.float32\n",
    "    - `shape=` set the shape but won't reshape can give a less specific shape e.g. None\n",
    "            - i.e. - `tf.Variable([1, 2, 3, 4], shape=(2,2))` is NOT allowed\n",
    "- `tf.constant()` to create a constant tensor- can't modify values\n",
    "    - `tf.constant([1, 2, 3, 4], shape=(2,2))` is allowed\n",
    "    - Can use a single scalar value `tf.constant(-1,shape=[2,3])`\n",
    "    \n",
    "Some other useful functions\n",
    "- `tf.reshape(x,new_shape)` change shape of a tensor\n",
    "- `tf.cast(x,tf.float32)` change data-type of a tensor\n"
   ]
  },
  {
   "cell_type": "code",
   "execution_count": 7,
   "metadata": {},
   "outputs": [
    {
     "name": "stdout",
     "output_type": "stream",
     "text": [
      ">>tf.Variable(initial_value=[1,2] = <tf.Variable 'Variable:0' shape=(2,) dtype=int32, numpy=array([1, 2])>\n",
      "\n",
      ">>tf.Variable(initial_value=[[1,2]]) = <tf.Variable 'Variable:0' shape=(1, 2) dtype=int32, numpy=array([[1, 2]])>\n",
      "\n",
      ">>tf.Variable(initial_value=[1,2.]) = <tf.Variable 'Variable:0' shape=(2,) dtype=float32, numpy=array([1., 2.], dtype=float32)>\n",
      "\n",
      ">>tf.Variable([1 + 1j, 2 + 2j]) = <tf.Variable 'Variable:0' shape=(2,) dtype=complex128, numpy=array([1.+1.j, 2.+2.j])>\n",
      "\n",
      ">>tf.constant([1,2,3,4],shape=(2,2)) = [[1 2]\n",
      " [3 4]]\n",
      "\n",
      "tf.constant(1,shape=(2,2)) =  [[1 1]\n",
      " [1 1]]\n",
      "\n",
      "x = tf.Variable([[1,2],[3,4]]) = <tf.Variable 'Variable:0' shape=(2, 2) dtype=int32, numpy=\n",
      "array([[1, 2],\n",
      "       [3, 4]])>\n",
      "\n",
      "tf.reshape(x,shape=(4,1)) =  [[1]\n",
      " [2]\n",
      " [3]\n",
      " [4]]\n",
      "\n"
     ]
    }
   ],
   "source": [
    "# hide-input\n",
    "print(f\">>tf.Variable(initial_value=[1,2] = {tf.Variable(initial_value=[1,2])}\\n\")\n",
    "\n",
    "print(f\">>tf.Variable(initial_value=[[1,2]]) = {tf.Variable(initial_value=[[1,2]])}\\n\")\n",
    "\n",
    "print(f\">>tf.Variable(initial_value=[1,2.]) = {tf.Variable(initial_value=[1,2.])}\\n\")\n",
    "\n",
    "print(f\">>tf.Variable([1 + 1j, 2 + 2j]) = {tf.Variable([1 + 1j, 2 + 2j])}\\n\")\n",
    "\n",
    "print(f\">>tf.constant([1,2,3,4],shape=(2,2)) = {tf.constant([1,2,3,4],shape=(2,2))}\\n\" )\n",
    "\n",
    "print(f\"tf.constant(1,shape=(2,2)) =  {tf.constant(1,shape=(2,2))}\\n\")\n",
    "\n",
    "x = tf.Variable([[1,2],[3,4]])\n",
    "\n",
    "print(f\"x = tf.Variable([[1,2],[3,4]]) = {x}\\n\")\n",
    "\n",
    "print(f\"tf.reshape(x,shape=(4,1)) =  {tf.reshape(x,shape=(4,1))}\\n\")\n"
   ]
  },
  {
   "cell_type": "markdown",
   "metadata": {},
   "source": [
    "## Tensor Math\n"
   ]
  },
  {
   "cell_type": "code",
   "execution_count": 9,
   "metadata": {},
   "outputs": [
    {
     "name": "stdout",
     "output_type": "stream",
     "text": [
      "x = [0 1 2 3 4 5 6 7 8 9],\n",
      "y = [ 0  1  4  9 16 25 36 49 64 81],\n",
      "y_mean = 28\n"
     ]
    }
   ],
   "source": [
    "import tensorflow.keras.backend as K\n",
    "\n",
    "x = K.arange(0,10)\n",
    "y = K.square(x)\n",
    "y_mean = K.mean(y)\n",
    "\n",
    "print(f\"x = {x},\\ny = {y},\\ny_mean = {y_mean}\")"
   ]
  },
  {
   "cell_type": "code",
   "execution_count": 8,
   "metadata": {},
   "outputs": [
    {
     "name": "stdout",
     "output_type": "stream",
     "text": [
      "tf.add([1,2],[3,4]) = [4 6]\n",
      "\n",
      "Or with operator overloading\n",
      "tf.Variable([1,2])+tf.Variable([3,4]) = [4 6]\n",
      "\n",
      "x = tf.Variable([[1,2],[3,4]])\n",
      "\n",
      "tf.square(x) = [[ 1  4]\n",
      " [ 9 16]]\n",
      "\n",
      "Reduces dimension by adding up components\n",
      "tf.reduce_sum(x) = 10\n",
      "\n"
     ]
    }
   ],
   "source": [
    "#hide-input\n",
    "print(f\"tf.add([1,2],[3,4]) = {tf.add([1,2],[3,4])}\\n\")\n",
    "print(\"Or with operator overloading\")\n",
    "print(f\"tf.Variable([1,2])+tf.Variable([3,4]) = {tf.Variable([1,2])+tf.Variable([3,4])}\\n\")\n",
    "print(f\"x = tf.Variable([[1,2],[3,4]])\\n\")\n",
    "x=tf.Variable([[1,2],[3,4]])\n",
    "print(f\"tf.square(x) = {tf.square(x)}\\n\")\n",
    "print(\"Reduces dimension by adding up components\")\n",
    "print(f\"tf.reduce_sum(x) = {tf.reduce_sum(x)}\\n\")\n",
    "      "
   ]
  },
  {
   "cell_type": "markdown",
   "metadata": {},
   "source": [
    "## Tensor Operations\n",
    "\n",
    "#### Evaluated immediately\n",
    "TensorFlow supports two types of code execution, graph-based where all of the data and ops are loaded into a graph before evaluating them within a session, or eager based where all of the code is executed line by line.\n",
    "\n",
    "If eager mode was off, tensor would not be evaluated so\n",
    "\n",
    "`x_sq = tf.square(2)`\n",
    "\n",
    "`print(x_sq)`\n",
    "\n",
    "the print statement would just show details of the tensor object, such as its name, shape, data type and all that but it would not yet store the number 4 as a value. \n",
    "\n",
    "Otherwise values are *evaluated immediately* in custom eager mode = On\n",
    "\n",
    "#### Broadcasting\n",
    "\n",
    "Broadcasting is where adding or subtracting two tensors of different dimensions is handled in a way where the tensor with fewer dimensions is replicated to match the dimensions of the tensor with more dimensions. \n",
    "\n",
    "`a = tf.constant([[1,2],[3,4]])`\n",
    "\n",
    "`>>tf.add(a,1)`\n",
    "\n",
    "`=tf.Tensor([[2,3],[4,5]])`\n",
    "\n",
    "Or overloading can utilise Python syntax such as\n",
    "\n",
    "`>>a ** 2`\n",
    "\n",
    "`=tf.Tensor([[1,4],[9,16]])`\n",
    "\n",
    "Or using numpy math operations. TensorFlow will convert the tensor objects a and b into ndarrays, and then pass those ndarrays to the np.cos function. \n",
    "\n",
    "`>>np.cos(a)`\n",
    "\n",
    "`=array([[ 0.54030231, -0.41614684],\n",
    "       [-0.9899925 , -0.65364362]])`\n",
    "       \n",
    "Don't need to preconvert from the ndarray data type into a tensor data type.\n",
    "TensorFlow handles this automatically.\n",
    "\n",
    "`ndarray = np.ones([3,3])`\n",
    "\n",
    "`=[[1. 1. 1.]\n",
    "[1. 1. 1.]\n",
    "[1. 1. 1.]]`\n",
    "\n",
    "`tf.multiply(ndarray,3)`\n",
    "\n",
    "`=tf.Tensor(\n",
    "[[1. 1. 1.]\n",
    "[1. 1. 1.]\n",
    "[1. 1. 1.]],\n",
    "shape=(3,3),\n",
    "dtype=float64)`\n",
    "\n",
    "Tensors can be easily converted back to numpy arrays using `tensor.numpy()`"
   ]
  },
  {
   "cell_type": "markdown",
   "metadata": {},
   "source": [
    "# Gradient Tape\n",
    "\n",
    "In neural networks intensive flow optimizers are implemented using TensorFlow's automatic differentiation API call Gradient Tape.\n",
    "\n",
    "This API lets you compute and track the gradient of every differentiable TensorFlow operation.\n",
    "\n",
    "\n",
    "### Example use of gradient tape\n",
    "\n",
    "For the example see below.\n",
    "\n",
    "To use Gradient Tape use the with statement like this:\n",
    "\n",
    "`with tf.GradientTape(persistent = True) as tape:`\n",
    "\n",
    "`persistent = True` allows is to use the tape multiple times, otherwise after the 1st call the gradient is disposed of.\n",
    "\n",
    "Inside the with loop the repdictions and loss is calculated\n",
    "\n",
    "Then outside the with block can still use the `tape` variable. This time it is used to get the gradients of `w` and `b` with respect to the loss by passing in loss and w/b to `tape.gradient`.\n",
    "\n",
    "`w_gradient = tape.gradient(reg_loss, w)`\n",
    "\n",
    "The variables are then updated with `assign_sub` note it is assigning the value as the current value minus the value inputted.\n",
    "\n",
    "`w.assign_sub(w_gradient * LEARNING_RATE)`\n",
    "\n"
   ]
  },
  {
   "cell_type": "code",
   "execution_count": 10,
   "metadata": {},
   "outputs": [],
   "source": [
    "#hide\n",
    "import numpy as np\n",
    "import matplotlib.pyplot as plt\n",
    "import tensorflow as tf\n",
    "from tensorflow.keras.layers import Layer"
   ]
  },
  {
   "cell_type": "code",
   "execution_count": 12,
   "metadata": {},
   "outputs": [
    {
     "data": {
      "image/png": "[encoded data removed]",
      "text/plain": [
       "<Figure size 432x288 with 1 Axes>"
      ]
     },
     "metadata": {
      "needs_background": "light"
     },
     "output_type": "display_data"
    }
   ],
   "source": [
    "# Create data from a noise contaminated linear model\n",
    "\n",
    "def MakeNoisyData(m, b, n=20):\n",
    "    x = tf.random.uniform(shape=(n,))\n",
    "    noise = tf.random.normal(shape=(len(x),), stddev=0.1)\n",
    "    y = m * x + b + noise\n",
    "    return x, y\n",
    "\n",
    "m=1.5\n",
    "b=2\n",
    "x_train, y_train = MakeNoisyData(m,b)\n",
    "plt.plot(x_train, y_train, 'b.');"
   ]
  },
  {
   "cell_type": "code",
   "execution_count": 14,
   "metadata": {},
   "outputs": [],
   "source": [
    "# Trainable variables\n",
    "w = tf.Variable(np.random.random(), trainable=True)\n",
    "b = tf.Variable(np.random.random(), trainable=True)\n",
    "\n",
    "# Loss function \n",
    "def simple_loss(real_y, pred_y):\n",
    "    return tf.abs(real_y - pred_y)\n",
    "\n",
    "LEARNING_RATE = 0.001\n",
    "\n",
    "# Fit function\n",
    "def fit_data(real_x, real_y):\n",
    "    with tf.GradientTape(persistent=True) as tape:\n",
    "        # Make prediction\n",
    "        pred_y = w * real_x + b\n",
    "        # Calculate the loss\n",
    "        reg_loss = simple_loss(real_y, pred_y)\n",
    "        \n",
    "    # Calculate gradients\n",
    "    w_gradient = tape.gradient(reg_loss, w)\n",
    "    b_gradient = tape.gradient(reg_loss, b)\n",
    "    \n",
    "    # Update variables\n",
    "    w.assign_sub(w_gradient * LEARNING_RATE)\n",
    "    b.assign_sub(b_gradient * LEARNING_RATE)\n",
    "    "
   ]
  },
  {
   "cell_type": "code",
   "execution_count": 15,
   "metadata": {},
   "outputs": [],
   "source": [
    "# do the fitting\n",
    "for _ in range(500):\n",
    "    fit_data(x_train, y_train)"
   ]
  },
  {
   "cell_type": "code",
   "execution_count": 16,
   "metadata": {},
   "outputs": [
    {
     "name": "stdout",
     "output_type": "stream",
     "text": [
      "m:<tf.Variable 'Variable:0' shape=() dtype=float32, numpy=1.4711065>,  trained m:1.4711065292358398\n",
      "b:<tf.Variable 'Variable:0' shape=() dtype=float32, numpy=1.9893987>,  trained b:1.989398717880249\n"
     ]
    },
    {
     "data": {
      "image/png": "[encoded data removed]",
      "text/plain": [
       "<Figure size 432x288 with 1 Axes>"
      ]
     },
     "metadata": {
      "needs_background": "light"
     },
     "output_type": "display_data"
    }
   ],
   "source": [
    "# Plot the learned regression model\n",
    "\n",
    "print(\"m:{},  trained m:{}\".format(w, w.numpy()))\n",
    "print(\"b:{},  trained b:{}\".format(b, b.numpy()))\n",
    "\n",
    "plt.plot(x_train, y_train, 'b.')\n",
    "\n",
    "x_linear_regression=np.linspace(min(x_train), max(x_train),50)\n",
    "plt.plot(x_linear_regression, w*x_linear_regression + b, 'r.');\n"
   ]
  },
  {
   "cell_type": "markdown",
   "metadata": {},
   "source": [
    "## Simple example of using gradient tape to calculate gradient of a function"
   ]
  },
  {
   "cell_type": "code",
   "execution_count": 17,
   "metadata": {},
   "outputs": [
    {
     "data": {
      "image/png": "[encoded data removed]",
      "text/plain": [
       "<Figure size 432x288 with 1 Axes>"
      ]
     },
     "metadata": {
      "needs_background": "light"
     },
     "output_type": "display_data"
    }
   ],
   "source": [
    "def myfunc(x):\n",
    "    return tf.math.sin(x) + tf.math.exp(x/3)\n",
    "\n",
    "w = tf.Variable(np.arange(0, np.pi*2,.2))\n",
    "with tf.GradientTape() as tape:\n",
    "    loss = myfunc(w)\n",
    "gradient = tape.gradient(loss, w).numpy()\n",
    "\n",
    "plt.plot(w.numpy(), loss,'.-')\n",
    "plt.grid(True)\n",
    "plt.plot(w.numpy(), gradient,'x--');\n",
    "plt.legend(['Loss','Gradient of Loss']);"
   ]
  },
  {
   "cell_type": "markdown",
   "metadata": {},
   "source": [
    "## Using watch\n",
    "\n",
    "If use `watch` on a variable the following variables referencing that variable are also watched\n",
    "\n",
    "But the calls to new functions need to be within the `with` statement, but the gradient getting doesn't"
   ]
  },
  {
   "cell_type": "code",
   "execution_count": 18,
   "metadata": {},
   "outputs": [
    {
     "data": {
      "image/png": "[encoded data removed]",
      "text/plain": [
       "<Figure size 432x288 with 1 Axes>"
      ]
     },
     "metadata": {
      "needs_background": "light"
     },
     "output_type": "display_data"
    }
   ],
   "source": [
    "x = tf.Variable(np.arange(0, np.pi*2,.2))\n",
    "\n",
    "with tf.GradientTape() as t:\n",
    "    t.watch(x)\n",
    "    \n",
    "    y = tf.sin(x)\n",
    "    z = tf.exp(y)\n",
    "dz_dx = t.gradient(z,x)\n",
    "\n",
    "plt.plot(x.numpy(),z.numpy())\n",
    "plt.plot(x.numpy(),dz_dx.numpy(),'--')\n",
    "plt.legend(['z','dz/dx'])\n",
    "plt.grid(True)"
   ]
  },
  {
   "cell_type": "markdown",
   "metadata": {},
   "source": [
    "# Multiple layer model Optimization\n",
    "\n",
    "For multiple layers it is the same but we need to iterate over the layers too.\n",
    "\n",
    "If we put the gradients part within it's own function, putting `@tf.function` before that unction to speed things up.\n",
    "\n",
    "#### Get the data"
   ]
  },
  {
   "cell_type": "code",
   "execution_count": 19,
   "metadata": {},
   "outputs": [],
   "source": [
    "import tensorflow_datasets as tfds\n",
    "train_data = tfds.load('fashion_mnist',split='train')\n",
    "test_data = tfds.load('fashion_mnist',split='test')\n",
    "\n",
    "\n",
    "def format_image(data):\n",
    "    image = data['image']\n",
    "    image = tf.reshape(image,[-1])#flatten out\n",
    "    image = tf.cast(image,'float32')/255.\n",
    "\n",
    "    return image,data['label']\n",
    "\n",
    "train_data = train_data.map(format_image)\n",
    "test_data = test_data.map(format_image)\n",
    "\n",
    "# starts with a buffer of the first 1024 examples from the training dataset and hold them in memory,\n",
    "# and then randomly sample from that buffer\n",
    "batch_size = 64\n",
    "train = train_data.shuffle(buffer_size=1024).batch(batch_size)\n",
    "test = test_data.batch(batch_size)\n"
   ]
  },
  {
   "cell_type": "markdown",
   "metadata": {},
   "source": [
    "#### Define the loss function and optimizer and metrics\n"
   ]
  },
  {
   "cell_type": "code",
   "execution_count": 20,
   "metadata": {},
   "outputs": [],
   "source": [
    "loss_object = tf.keras.losses.SparseCategoricalCrossentropy()\n",
    "\n",
    "optimizer = tf.keras.optimizers.Adam()\n",
    "\n",
    "train_acc_metric = tf.keras.metrics.SparseCategoricalAccuracy()\n",
    "val_acc_metric = tf.keras.metrics.SparseCategoricalAccuracy()\n"
   ]
  },
  {
   "cell_type": "markdown",
   "metadata": {},
   "source": [
    "#### Define the model\n"
   ]
  },
  {
   "cell_type": "code",
   "execution_count": 21,
   "metadata": {},
   "outputs": [],
   "source": [
    "def base_model():\n",
    "    inputs = tf.keras.Input(shape=(784,), name='clothing')\n",
    "    x = tf.keras.layers.Dense(64, activation='relu', name='dense_1')(inputs)\n",
    "    x = tf.keras.layers.Dense(64, activation='relu', name='dense_2')(x)\n",
    "    outputs = tf.keras.layers.Dense(10, activation='softmax', name='predictions')(x)\n",
    "    model = tf.keras.Model(inputs=inputs, outputs=outputs)\n",
    "    return model"
   ]
  },
  {
   "cell_type": "markdown",
   "metadata": {},
   "source": [
    "#### Create a validation loss function"
   ]
  },
  {
   "cell_type": "code",
   "execution_count": 23,
   "metadata": {},
   "outputs": [],
   "source": [
    "def perform_validation():\n",
    "    losses = []\n",
    "    #run through the validation batches\n",
    "    for x_val, y_val in test:\n",
    "        val_logits = model(x_val)\n",
    "        val_loss = loss_object(y_true=y_val, y_pred=val_logits)\n",
    "        losses.append(val_loss)\n",
    "    return losses"
   ]
  },
  {
   "cell_type": "markdown",
   "metadata": {},
   "source": [
    "#### Define the function to do forward and backward passes\n",
    "\n",
    "Update parameters with optimizer\n",
    "\n",
    "`optimizer.apply_gradients(zip(grads, model.trainable_variables))`\n",
    "\n",
    "Almost equivalent with what used before\n",
    "\n",
    "`w.assign_sub(w_gradient * LEARNING_RATE)`"
   ]
  },
  {
   "cell_type": "code",
   "execution_count": 24,
   "metadata": {},
   "outputs": [],
   "source": [
    "# Define a function to compute the forward and backward pass\n",
    "@tf.function\n",
    "def apply_gradient(optimizer, model, x, y):\n",
    "    with tf.GradientTape() as tape:\n",
    "        # forward pass\n",
    "        logits = model(x)\n",
    "        loss_value = loss_object(y_true=y, y_pred=logits)\n",
    "    # backward pass\n",
    "    gradients = tape.gradient(loss_value, model.trainable_variables)\n",
    "    # update values\n",
    "    optimizer.apply_gradients(zip(gradients, model.trainable_weights))\n",
    "    \n",
    "    return logits, loss_value"
   ]
  },
  {
   "cell_type": "code",
   "execution_count": 25,
   "metadata": {},
   "outputs": [],
   "source": [
    "#hide\n",
    "from tqdm import tqdm"
   ]
  },
  {
   "cell_type": "code",
   "execution_count": 26,
   "metadata": {},
   "outputs": [],
   "source": [
    "def train_data_for_1_epoch():\n",
    "    losses=[]\n",
    "    pbar = tqdm(total=len(list(enumerate(train))), position=0, leave=True, bar_format='{l_bar}{bar}| {n_fmt}/{total_fmt} ')\n",
    "    \n",
    "    for step, (x_batch_train, y_batch_train) in enumerate(train):\n",
    "        logits, loss_value = apply_gradient(optimizer, model, x_batch_train, y_batch_train)\n",
    "        losses.append(loss_value)\n",
    "        \n",
    "        train_acc_metric(y_batch_train, logits)\n",
    "        \n",
    "        pbar.set_description('Training loss for step %s: %.4f' % (int(step), float(loss_value)))\n",
    "        pbar.update()\n",
    "    return losses"
   ]
  },
  {
   "cell_type": "markdown",
   "metadata": {},
   "source": [
    "#### Do the training"
   ]
  },
  {
   "cell_type": "code",
   "execution_count": 27,
   "metadata": {},
   "outputs": [
    {
     "name": "stderr",
     "output_type": "stream",
     "text": [
      "Training loss for step 937: 0.3226: 100%|████████████████████████████████████████████████████████████████████| 938/938 \n",
      "Training loss for step 937: 0.5714: 100%|████████████████████████████████████████████████████████████████████| 938/938 \n",
      "Training loss for step 937: 0.4961: 100%|████████████████████████████████████████████████████████████████████| 938/938 \n",
      "Training loss for step 937: 0.4239: 100%|████████████████████████████████████████████████████████████████████| 938/938 \n",
      "Training loss for step 937: 0.0952: 100%|████████████████████████████████████████████████████████████████████| 938/938 \n",
      "Training loss for step 937: 0.1274: 100%|████████████████████████████████████████████████████████████████████| 938/938 \n",
      "Training loss for step 937: 0.2766: 100%|████████████████████████████████████████████████████████████████████| 938/938 \n",
      "Training loss for step 937: 0.1167: 100%|████████████████████████████████████████████████████████████████████| 938/938 \n",
      "Training loss for step 937: 0.1965: 100%|████████████████████████████████████████████████████████████████████| 938/938 \n",
      "Training loss for step 937: 0.0506: 100%|████████████████████████████████████████████████████████████████████| 938/938 \n",
      "Training loss for step 937: 0.2255: 100%|████████████████████████████████████████████████████████████████████| 938/938 \n",
      "Training loss for step 937: 0.1036: 100%|████████████████████████████████████████████████████████████████████| 938/938 \n",
      "Training loss for step 937: 0.1932: 100%|████████████████████████████████████████████████████████████████████| 938/938 \n",
      "Training loss for step 937: 0.1259: 100%|████████████████████████████████████████████████████████████████████| 938/938 \n",
      "Training loss for step 937: 0.1721: 100%|████████████████████████████████████████████████████████████████████| 938/938 \n",
      "Training loss for step 937: 0.0618: 100%|████████████████████████████████████████████████████████████████████| 938/938 \n",
      "Training loss for step 937: 0.3011: 100%|████████████████████████████████████████████████████████████████████| 938/938 \n",
      "Training loss for step 937: 0.2168: 100%|████████████████████████████████████████████████████████████████████| 938/938 \n",
      "Training loss for step 937: 0.0546: 100%|████████████████████████████████████████████████████████████████████| 938/938 \n",
      "Training loss for step 937: 0.2180: 100%|████████████████████████████████████████████████████████████████████| 938/938 \n"
     ]
    },
    {
     "name": "stdout",
     "output_type": "stream",
     "text": [
      "Duration :145.818\n"
     ]
    }
   ],
   "source": [
    "# Implement the training loop\n",
    "\n",
    "from tensorflow.keras.utils import to_categorical\n",
    "import time\n",
    "\n",
    "model = base_model()\n",
    "\n",
    "start_time = time.time()\n",
    "\n",
    "train_loss_results = []\n",
    "val_loss_results =[]\n",
    "\n",
    "train_acc_results = []\n",
    "val_acc_results =[]\n",
    "\n",
    "num_epochs=20\n",
    "\n",
    "for epoch in range(num_epochs):\n",
    "    \n",
    "    # run through training batch\n",
    "    losses_train = train_data_for_1_epoch()\n",
    "    \n",
    "    #calc validation\n",
    "    losses_val = perform_validation()\n",
    "    \n",
    "    losses_train_mean = np.mean(losses_train) \n",
    "    losses_val_mean = np.mean(losses_val)\n",
    "    \n",
    "    train_loss_results.append(losses_train_mean)\n",
    "    val_loss_results.append(losses_val_mean)\n",
    "    \n",
    "    train_acc_metric.reset_states()\n",
    "    val_acc_metric.reset_states()\n",
    "\n",
    "print(\"Duration :{:.3f}\".format(time.time() - start_time))"
   ]
  },
  {
   "cell_type": "code",
   "execution_count": 28,
   "metadata": {},
   "outputs": [
    {
     "data": {
      "image/png": "[encoded data removed]",
      "text/plain": [
       "<Figure size 432x288 with 1 Axes>"
      ]
     },
     "metadata": {
      "needs_background": "light"
     },
     "output_type": "display_data"
    }
   ],
   "source": [
    "plt.plot(train_loss_results)\n",
    "plt.plot(val_loss_results)\n",
    "plt.ylabel('Loss')\n",
    "plt.xlabel('Epochs');"
   ]
  },
  {
   "cell_type": "markdown",
   "metadata": {},
   "source": [
    "# Graph based models\n",
    "\n",
    "\n",
    "Eager mode can make it easier for you to write code that gives immediate results.\n",
    "But TensorFlow was originally designed for programming being done in graph mode, where you had to define a graph with all of your operations before you executed it. This adds more performance.\n",
    "\n",
    "In tensorflow the AutoGraph technology is the part that makes graph-based code a little easier.\n",
    "\n",
    "- Parallelism / Distribute on different machines\n",
    "- Compilation\n",
    "- Different coding required \n",
    "    - if statements replaced with tf.cond and def statements\n",
    "- Maybe switch to graph mode after eager mode when moving to production\n",
    "\n",
    "Add `@tf.function` above the function to utilise graph mode. \n",
    "- Will also convert functions called within that function.\n",
    "- It means don't have to convert code to form useable for graph mode.\n",
    "- The most improvement is on functions with more operations.\n",
    "- Make sure order of execution is what is intended.\n",
    "- Print not designed to work with graph mode for multiple calls in a loop.\n",
    "- Declare variables outside functions.\n"
   ]
  },
  {
   "cell_type": "code",
   "execution_count": 29,
   "metadata": {},
   "outputs": [
    {
     "name": "stdout",
     "output_type": "stream",
     "text": [
      "tf.Tensor([ 0  0  2  6 12 20 30 42 56 72], shape=(10,), dtype=int32)\n",
      "\n",
      "The converted code:\n",
      "\n",
      "def tf__multiply(a, b):\n",
      "    with ag__.FunctionScope('multiply', 'fscope', ag__.ConversionOptions(recursive=True, user_requested=True, optional_features=(), internal_convert_user_code=True)) as fscope:\n",
      "        do_return = False\n",
      "        retval_ = ag__.UndefinedReturnValue()\n",
      "        try:\n",
      "            do_return = True\n",
      "            retval_ = (ag__.ld(a) * ag__.ld(b))\n",
      "        except:\n",
      "            do_return = False\n",
      "            raise\n",
      "        return fscope.ret(retval_, do_return)\n",
      "\n"
     ]
    }
   ],
   "source": [
    "@tf.function\n",
    "def multiply(a,b):\n",
    "    return a*b\n",
    "a=tf.Variable(np.arange(0,10,1))\n",
    "b=a-1\n",
    "\n",
    "print(tf.multiply(a,b))\n",
    "print(\"\\nThe converted code:\\n\")\n",
    "\n",
    "print(tf.autograph.to_code(multiply.python_function))\n"
   ]
  },
  {
   "cell_type": "code",
   "execution_count": 30,
   "metadata": {},
   "outputs": [
    {
     "name": "stdout",
     "output_type": "stream",
     "text": [
      "def tf__fizzbuzz():\n",
      "    with ag__.FunctionScope('fizzbuzz', 'fscope', ag__.ConversionOptions(recursive=True, user_requested=True, optional_features=(), internal_convert_user_code=True)) as fscope:\n",
      "\n",
      "        def get_state_3():\n",
      "            return ()\n",
      "\n",
      "        def set_state_3(block_vars):\n",
      "            pass\n",
      "\n",
      "        def loop_body(itr):\n",
      "            i = itr\n",
      "\n",
      "            def get_state_2():\n",
      "                return ()\n",
      "\n",
      "            def set_state_2(block_vars):\n",
      "                pass\n",
      "\n",
      "            def if_body_2():\n",
      "                ag__.ld(print)(ag__.ld(i), 'FizzBuzz')\n",
      "\n",
      "            def else_body_2():\n",
      "\n",
      "                def get_state_1():\n",
      "                    return ()\n",
      "\n",
      "                def set_state_1(block_vars):\n",
      "                    pass\n",
      "\n",
      "                def if_body_1():\n",
      "                    ag__.ld(print)(ag__.ld(i), 'Fizz')\n",
      "\n",
      "                def else_body_1():\n",
      "\n",
      "                    def get_state():\n",
      "                        return ()\n",
      "\n",
      "                    def set_state(block_vars):\n",
      "                        pass\n",
      "\n",
      "                    def if_body():\n",
      "                        ag__.ld(print)(ag__.ld(i), 'Buzz')\n",
      "\n",
      "                    def else_body():\n",
      "                        pass\n",
      "                    ag__.if_stmt(((ag__.ld(i) % 5) == 0), if_body, else_body, get_state, set_state, (), 0)\n",
      "                ag__.if_stmt(((ag__.ld(i) % 3) == 0), if_body_1, else_body_1, get_state_1, set_state_1, (), 0)\n",
      "            ag__.if_stmt(ag__.and_((lambda : ((ag__.ld(i) % 3) == 0)), (lambda : ((ag__.ld(i) % 5) == 0))), if_body_2, else_body_2, get_state_2, set_state_2, (), 0)\n",
      "        i = ag__.Undefined('i')\n",
      "        ag__.for_stmt(ag__.converted_call(ag__.ld(range), (1, 100), None, fscope), None, loop_body, get_state_3, set_state_3, (), {'iterate_names': 'i'})\n",
      "\n"
     ]
    }
   ],
   "source": [
    "#collapse-output\n",
    "@tf.function\n",
    "def fizzbuzz():\n",
    "    for i in range(1,100):\n",
    "        if i%3==0 and i%5==0:\n",
    "            print(i,'FizzBuzz')\n",
    "        elif i%3==0:\n",
    "            print(i,'Fizz')\n",
    "        elif i%5==0:\n",
    "            print(i,'Buzz')\n",
    "print(tf.autograph.to_code(fizzbuzz.python_function))"
   ]
  }
 ],
 "metadata": {
  "kernelspec": {
   "display_name": "Python 3 (ipykernel)",
   "language": "python",
   "name": "python3"
  },
  "language_info": {
   "codemirror_mode": {
    "name": "ipython",
    "version": 3
   },
   "file_extension": ".py",
   "mimetype": "text/x-python",
   "name": "python",
   "nbconvert_exporter": "python",
   "pygments_lexer": "ipython3",
   "version": "3.8.8"
  },
  "varInspector": {
   "cols": {
    "lenName": 16,
    "lenType": 16,
    "lenVar": 40
   },
   "kernels_config": {
    "python": {
     "delete_cmd_postfix": "",
     "delete_cmd_prefix": "del ",
     "library": "var_list.py",
     "varRefreshCmd": "print(var_dic_list())"
    },
    "r": {
     "delete_cmd_postfix": ") ",
     "delete_cmd_prefix": "rm(",
     "library": "var_list.r",
     "varRefreshCmd": "cat(var_dic_list()) "
    }
   },
   "types_to_exclude": [
    "module",
    "function",
    "builtin_function_or_method",
    "instance",
    "_Feature"
   ],
   "window_display": false
  }
 },
 "nbformat": 4,
 "nbformat_minor": 2
}
