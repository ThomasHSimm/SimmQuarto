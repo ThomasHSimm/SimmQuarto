{
 "cells": [
  {
   "cell_type": "markdown",
   "id": "f690ba59",
   "metadata": {},
   "source": [
    "# Building a Classifier App with weblink\n",
    "> Creating an image classifier app that is on the net! Using Jupyter notebooks, FastAi, Binder and Voila\n",
    "\n",
    "- toc:true\n",
    "- branch: master\n",
    "- badges: true\n",
    "- comments: true\n",
    "- author: Thomas H. Simm\n",
    "- categories: [fastai, jupyter, Binder, Voila, myBinder, ThomasHSimm]"
   ]
  },
  {
   "cell_type": "markdown",
   "id": "8c5b1bee",
   "metadata": {},
   "source": [
    "1) The Model Part\n",
    "\n",
    "2) The Python Part Of the App\n",
    "\n",
    "3) The Binder Part"
   ]
  },
  {
   "cell_type": "markdown",
   "id": "ea75b956",
   "metadata": {},
   "source": [
    "## 1) The model Part"
   ]
  },
  {
   "cell_type": "markdown",
   "id": "0cb2aa90",
   "metadata": {},
   "source": [
    "The model was run on https://colab.research.google.com with a GPU\n",
    "\n",
    "Necessary to have a GPU for time"
   ]
  },
  {
   "cell_type": "markdown",
   "id": "57d4ebbe",
   "metadata": {},
   "source": [
    "Some imports and installs"
   ]
  },
  {
   "cell_type": "code",
   "execution_count": 1,
   "id": "50c2b04b",
   "metadata": {},
   "outputs": [
    {
     "name": "stderr",
     "output_type": "stream",
     "text": [
      "ERROR: pip's dependency resolver does not currently take into account all the packages that are installed. This behaviour is the source of the following dependency conflicts.\n",
      "spyder 4.2.5 requires pyqt5<5.13, which is not installed.\n",
      "spyder 4.2.5 requires pyqtwebengine<5.13, which is not installed.\n",
      "voila 0.2.16 requires nbconvert<7,>=6.0.0, but you have nbconvert 5.6.1 which is incompatible.\n",
      "C:\\Users\\44781\\anaconda3\\lib\\site-packages\\fastbook\\__init__.py:19: UserWarning: Missing `graphviz` - please run `conda install fastbook`\n",
      "  except ModuleNotFoundError: warn(\"Missing `graphviz` - please run `conda install fastbook`\")\n"
     ]
    }
   ],
   "source": [
    "!pip install -Uqq fastbook\n",
    "import fastbook\n",
    "fastbook.setup_book()"
   ]
  },
  {
   "cell_type": "code",
   "execution_count": 2,
   "id": "cd869735",
   "metadata": {},
   "outputs": [],
   "source": [
    "from fastbook import *\n",
    "from fastai.vision.widgets import *"
   ]
  },
  {
   "cell_type": "markdown",
   "id": "52940054",
   "metadata": {},
   "source": [
    "Gets Azure search key to use Bing search API"
   ]
  },
  {
   "cell_type": "code",
   "execution_count": null,
   "id": "0cb86301",
   "metadata": {},
   "outputs": [],
   "source": [
    "\n",
    "key = os.environ.get('AZURE_SEARCH_KEY', 'keygoeshere')"
   ]
  },
  {
   "cell_type": "markdown",
   "id": "1c4ef2bc",
   "metadata": {},
   "source": [
    "I'm going to do a classifier for holiday types"
   ]
  },
  {
   "cell_type": "code",
   "execution_count": 3,
   "id": "74e4748d",
   "metadata": {},
   "outputs": [],
   "source": [
    "destas={'beach':{'beach','tropical','sea','beach holidays'},\n",
    "        'snow':{'ski','snowboard','snow','ski holidays'},\n",
    "        'countryside':{'lakes mountains','countryside','forest','fields'},\n",
    "        'city':{'city','cities','bars','buildings'},\n",
    "        'safari':{'safari','safari holidays','safari park','safari africa'}}"
   ]
  },
  {
   "cell_type": "markdown",
   "id": "d7c0ea9e",
   "metadata": {},
   "source": [
    "Creates a folder containing images for each type\n",
    "\n",
    "Need to add to dir with different searches not delete and add new stuff each time\n",
    "\n",
    "For eaach holiday type- go through the search topics and add the results together before downloading images to the holiday type folder\n",
    "\n",
    "This gives 600 pics per holiday type"
   ]
  }
 ],
 "metadata": {
  "kernelspec": {
   "display_name": "Python 3",
   "language": "python",
   "name": "python3"
  },
  "language_info": {
   "codemirror_mode": {
    "name": "ipython",
    "version": 3
   },
   "file_extension": ".py",
   "mimetype": "text/x-python",
   "name": "python",
   "nbconvert_exporter": "python",
   "pygments_lexer": "ipython3",
   "version": "3.8.8"
  },
  "varInspector": {
   "cols": {
    "lenName": 16,
    "lenType": 16,
    "lenVar": 40
   },
   "kernels_config": {
    "python": {
     "delete_cmd_postfix": "",
     "delete_cmd_prefix": "del ",
     "library": "var_list.py",
     "varRefreshCmd": "print(var_dic_list())"
    },
    "r": {
     "delete_cmd_postfix": ") ",
     "delete_cmd_prefix": "rm(",
     "library": "var_list.r",
     "varRefreshCmd": "cat(var_dic_list()) "
    }
   },
   "types_to_exclude": [
    "module",
    "function",
    "builtin_function_or_method",
    "instance",
    "_Feature"
   ],
   "window_display": false
  }
 },
 "nbformat": 4,
 "nbformat_minor": 5
}
