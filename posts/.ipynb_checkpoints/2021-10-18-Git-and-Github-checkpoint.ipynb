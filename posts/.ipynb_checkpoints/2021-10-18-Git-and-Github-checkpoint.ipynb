{
 "cells": [
  {
   "cell_type": "markdown",
   "metadata": {},
   "source": [
    "# Git and Github \n"
   ]
  },
  {
   "cell_type": "markdown",
   "metadata": {},
   "source": [
    "![](ghtop_images/header2.png)"
   ]
  },
  {
   "cell_type": "markdown",
   "metadata": {},
   "source": [
    "## Introduction to Git and GitHub\n",
    "From the Coursera course within **Google IT Automation with Python Professional Certificate** \n",
    "https://www.coursera.org/learn/introduction-git-github/home/welcome\n",
    "\n",
    "## Check out the following links for more information:\n",
    "\n",
    "https://git-scm.com/doc\n",
    "\n",
    "https://en.wikipedia.org/wiki/Version_control\n",
    "\n",
    "The Linux kernel documentation itself (https://git.kernel.org/pub/scm/linux/kernel/git/torvalds/linux.git/tree/Documentation/process/submitting-patches.rst?id=HEAD), as well as impassioned opinions from other developers. (http://stopwritingramblingcommitmessages.com/ https://robots.thoughtbot.com/5-useful-tips-for-a-better-commit-message)\n",
    "\n",
    "You can check out \"Setting your email in Git\" (https://help.github.com/articles/setting-your-email-in-git/) and \"Keeping your email address private\" on the GitHub help site for how to do this. (https://docs.github.com/en/account-and-profile/setting-up-and-managing-your-github-user-account/managing-email-preferences/setting-your-commit-email-address)\n",
    "\n",
    "\n",
    "Run in github bash"
   ]
  },
  {
   "cell_type": "markdown",
   "metadata": {},
   "source": [
    "\n",
    "Git is a distributed version control system.\n",
    "\n",
    "Distributed means that each developer has a copy of the whole repository\n",
    "on their local machine. \n"
   ]
  },
  {
   "cell_type": "markdown",
   "metadata": {},
   "source": [
    "![](ghtop_images/GithubIMG.png)"
   ]
  },
  {
   "cell_type": "markdown",
   "metadata": {},
   "source": [
    "## *diff* find the difference between two files"
   ]
  },
  {
   "cell_type": "markdown",
   "metadata": {},
   "source": [
    "diff\n",
    "\n",
    "https://man7.org/linux/man-pages/man1/diff.1.html\n",
    "\n",
    "diff is used to find differences between two files. On its own, it’s a bit hard to use; instead, use it with diff -u to find lines which differ in two files:\n",
    "diff -u\n",
    "\n",
    "diff -u is used to compare two files, line by line, and have the differing lines compared side-by-side in the same output. See below:"
   ]
  },
  {
   "cell_type": "code",
   "execution_count": 5,
   "metadata": {
    "deletable": false,
    "editable": false,
    "run_control": {
     "frozen": true
    }
   },
   "outputs": [],
   "source": [
    ">>diff test.py test2.py\n",
    "\n"
   ]
  },
  {
   "cell_type": "markdown",
   "metadata": {},
   "source": [
    "output\n"
   ]
  },
  {
   "cell_type": "code",
   "execution_count": null,
   "metadata": {
    "deletable": false,
    "editable": false,
    "run_control": {
     "frozen": true
    }
   },
   "outputs": [],
   "source": [
    "3c3\n",
    "< c=a**b\n",
    "---\n",
    "> c=a**b+a\n",
    "4a5\n",
    "> d=c**c\n"
   ]
  },
  {
   "cell_type": "markdown",
   "metadata": {},
   "source": [
    "3c3\n",
    "\n",
    "line in file 1 - c=change - line in file 2\n",
    "                 a=added"
   ]
  },
  {
   "cell_type": "code",
   "execution_count": null,
   "metadata": {
    "deletable": false,
    "editable": false,
    "run_control": {
     "frozen": true
    }
   },
   "outputs": [],
   "source": [
    ">>diff -u test.py test2.py\n",
    "\n",
    "#output\n",
    "\n",
    "--- test.py     2021-10-17 11:14:24.880950400 +0100\n",
    "+++ test2.py    2021-10-17 11:14:21.155278200 +0100\n",
    "@@ -1,4 +1,5 @@\n",
    " a=3\n",
    " b=2\n",
    "-c=a**b\n",
    "+c=a**b+a\n",
    " print(c)\n",
    "+d=c**c"
   ]
  },
  {
   "cell_type": "markdown",
   "metadata": {},
   "source": [
    "adding -u gives extra context to changes"
   ]
  },
  {
   "cell_type": "markdown",
   "metadata": {},
   "source": [
    "## applying changes"
   ]
  },
  {
   "cell_type": "markdown",
   "metadata": {},
   "source": [
    "#### Create a file with the changes in"
   ]
  },
  {
   "cell_type": "code",
   "execution_count": null,
   "metadata": {
    "deletable": false,
    "editable": false,
    "run_control": {
     "frozen": true
    }
   },
   "outputs": [],
   "source": [
    ">>diff -u test.py test2.py >change.diff"
   ]
  },
  {
   "cell_type": "markdown",
   "metadata": {},
   "source": [
    "### patch\n",
    "\n",
    "http://man7.org/linux/man-pages/man1/patch.1.html"
   ]
  },
  {
   "cell_type": "code",
   "execution_count": null,
   "metadata": {
    "deletable": false,
    "editable": false,
    "run_control": {
     "frozen": true
    }
   },
   "outputs": [],
   "source": [
    ">>patch test-Copy1.py < change.diff"
   ]
  },
  {
   "cell_type": "markdown",
   "metadata": {},
   "source": [
    "this applies changes in change.diff to test-Copy1.diff"
   ]
  },
  {
   "cell_type": "markdown",
   "metadata": {},
   "source": [
    "## VCS version control system\n",
    " By keeping track of the changes that we make to our files, a VCS lets us know when a file changed, who changed it, and also lets us easily roll back those changes."
   ]
  },
  {
   "cell_type": "markdown",
   "metadata": {},
   "source": [
    "## git config"
   ]
  },
  {
   "cell_type": "code",
   "execution_count": null,
   "metadata": {
    "deletable": false,
    "editable": false,
    "run_control": {
     "frozen": true
    }
   },
   "outputs": [],
   "source": [
    ">>git config --global user.email \"me@example.com\" \n",
    ">>git config --global user.name \"My name\" "
   ]
  },
  {
   "cell_type": "markdown",
   "metadata": {},
   "source": [
    "set email and name \n",
    "\n",
    "--global means for all repositories"
   ]
  },
  {
   "cell_type": "code",
   "execution_count": null,
   "metadata": {
    "deletable": false,
    "editable": false,
    "run_control": {
     "frozen": true
    }
   },
   "outputs": [],
   "source": [
    "# Find details of configuration\n",
    ">>git config -l"
   ]
  },
  {
   "cell_type": "markdown",
   "metadata": {},
   "source": [
    "## create a new repository"
   ]
  },
  {
   "cell_type": "code",
   "execution_count": null,
   "metadata": {
    "deletable": false,
    "editable": false,
    "run_control": {
     "frozen": true
    }
   },
   "outputs": [],
   "source": [
    ">>mkdir testa\n",
    ">>cd testa\n",
    ">>git init "
   ]
  },
  {
   "cell_type": "markdown",
   "metadata": {},
   "source": [
    "detals of the created directory"
   ]
  },
  {
   "cell_type": "code",
   "execution_count": null,
   "metadata": {
    "deletable": false,
    "editable": false,
    "run_control": {
     "frozen": true
    }
   },
   "outputs": [],
   "source": [
    ">>ls -l .git\n",
    "\n",
    "#output->>\n",
    "-rw-r--r-- 1 44781 197609  23 Oct 17 12:06 HEAD\n",
    "-rw-r--r-- 1 44781 197609 130 Oct 17 12:06 config\n",
    "-rw-r--r-- 1 44781 197609  73 Oct 17 12:06 description\n",
    "drwxr-xr-x 1 44781 197609   0 Oct 17 12:06 hooks/\n",
    "drwxr-xr-x 1 44781 197609   0 Oct 17 12:06 info/\n",
    "drwxr-xr-x 1 44781 197609   0 Oct 17 12:06 objects/\n",
    "drwxr-xr-x 1 44781 197609   0 Oct 17 12:06 refs/\n"
   ]
  },
  {
   "cell_type": "markdown",
   "metadata": {},
   "source": [
    "The git directory acts as a database for all the changes tracked in Git and the working tree acts as a sandbox where we can edit the current versions of the files."
   ]
  },
  {
   "cell_type": "markdown",
   "metadata": {},
   "source": [
    "## add a file to the directory and get it tracked"
   ]
  },
  {
   "cell_type": "code",
   "execution_count": null,
   "metadata": {
    "deletable": false,
    "editable": false,
    "run_control": {
     "frozen": true
    }
   },
   "outputs": [],
   "source": [
    ">>cp ../test.py . \n",
    "#note the dot at end to say copy to this directory\n",
    ">>git add test.py\n"
   ]
  },
  {
   "cell_type": "markdown",
   "metadata": {},
   "source": [
    "The file is now in the **staging area** or **index**\n",
    "\n",
    "contains all info about what files and changes are in the next commit"
   ]
  },
  {
   "cell_type": "code",
   "execution_count": null,
   "metadata": {
    "deletable": false,
    "editable": false,
    "run_control": {
     "frozen": true
    }
   },
   "outputs": [],
   "source": [
    ">>git add -p"
   ]
  },
  {
   "cell_type": "markdown",
   "metadata": {},
   "source": [
    "this would all tracked and shows differences and asks if want to make the add"
   ]
  },
  {
   "cell_type": "markdown",
   "metadata": {},
   "source": [
    "## get the status"
   ]
  },
  {
   "cell_type": "code",
   "execution_count": null,
   "metadata": {
    "deletable": false,
    "editable": false,
    "run_control": {
     "frozen": true
    }
   },
   "outputs": [],
   "source": [
    ">>git status\n",
    "\n",
    "On branch master\n",
    "\n",
    "No commits yet\n",
    "\n",
    "Changes to be committed:\n",
    "  (use \"git rm --cached <file>...\" to unstage)\n",
    "        new file:   test.py\n"
   ]
  },
  {
   "cell_type": "markdown",
   "metadata": {},
   "source": [
    "test.py ready to be committed"
   ]
  },
  {
   "cell_type": "markdown",
   "metadata": {},
   "source": [
    "## Make a commit"
   ]
  },
  {
   "cell_type": "code",
   "execution_count": null,
   "metadata": {
    "deletable": false,
    "editable": false,
    "run_control": {
     "frozen": true
    }
   },
   "outputs": [],
   "source": [
    ">>git commit\n",
    "\n",
    "# Please enter the commit message for your changes. Lines starting\n",
    "# with '#' will be ignored, and an empty message aborts the commit.\n",
    "#\n",
    "# On branch master\n",
    "#\n",
    "# Initial commit\n",
    "#\n",
    "# Changes to be committed:\n",
    "#       new file:   test.py\n",
    "#\n",
    "~\n",
    "~\n",
    "~\n",
    "~\n",
    "~\n",
    "~\n",
    "~\n",
    "~\n",
    "~\n",
    "~\n",
    "~"
   ]
  },
  {
   "cell_type": "markdown",
   "metadata": {},
   "source": [
    "this opens up an editor with text as shown\n",
    "\n",
    "Enter details of the commit\n",
    "\n",
    "To exit and save:\n",
    " Type the description at the very top, press esc to exit insert mode, then type :x! (now the cursor is at the bottom) and hit enter to save and exit"
   ]
  },
  {
   "cell_type": "markdown",
   "metadata": {},
   "source": [
    "Alternatively add -m command with details of commit\n",
    "\n",
    "<code>git commit -m 'Changed print to include some text'</code>"
   ]
  },
  {
   "cell_type": "markdown",
   "metadata": {},
   "source": [
    "#### Tracked files\n",
    "- Modified\n",
    "    - made changes but not committed yet\n",
    "- Staged\n",
    "    - in staging area\n",
    "    - <code>git add</code>\n",
    "- Committed\n",
    "    - in git directory\n",
    "    - <code>git commit</code>"
   ]
  },
  {
   "cell_type": "markdown",
   "metadata": {},
   "source": [
    "### Commit messages\n",
    "\n",
    "Brief description\n",
    "\n",
    "More indepth details\n",
    "\n",
    "More indepth \n",
    "\n",
    "(remember to add new lines)"
   ]
  },
  {
   "cell_type": "markdown",
   "metadata": {},
   "source": [
    "## Git log"
   ]
  },
  {
   "cell_type": "code",
   "execution_count": null,
   "metadata": {
    "deletable": false,
    "editable": false,
    "run_control": {
     "frozen": true
    }
   },
   "outputs": [],
   "source": [
    ">>git log\n",
    "commit 05958854b7ad68f8b1a178f260dccd844aec0e16 (HEAD -> master)\n",
    "Author: thomashsimm <thomas @gmail.com>\n",
    "Date:   Sun Oct 17 13:04:10 2021 +0100\n",
    "\n",
    "    added python start line\n",
    "\n",
    "commit 917a027f6282ce1c2c01e00a48bb72995e3984a6\n",
    "Author: thomashsimm <thomas @gmail.com>\n",
    "Date:   Sun Oct 17 12:56:41 2021 +0100\n",
    "\n",
    "    Changed print to include some text\n",
    "\n",
    "commit 7e32e328db17594fd0a507b4a23f489b68c09543\n",
    "Author: thomashsimm <thomas  @gmail.com>\n",
    "Date:   Sun Oct 17 12:38:02 2021 +0100\n",
    "\n",
    "    Add new file test.py\n"
   ]
  },
  {
   "cell_type": "markdown",
   "metadata": {},
   "source": [
    "## Skipping the Staging Area"
   ]
  },
  {
   "cell_type": "code",
   "execution_count": null,
   "metadata": {
    "deletable": false,
    "editable": false,
    "run_control": {
     "frozen": true
    }
   },
   "outputs": [],
   "source": [
    ">>git commit -a\n",
    "\n",
    "or\n",
    ">>git commit -a -m \"Added a new output\""
   ]
  },
  {
   "cell_type": "markdown",
   "metadata": {},
   "source": [
    "a shortcut to stage any changes to **tracked files** and commit them in one step"
   ]
  },
  {
   "cell_type": "markdown",
   "metadata": {},
   "source": [
    "## Getting more information about our changes"
   ]
  },
  {
   "cell_type": "code",
   "execution_count": null,
   "metadata": {
    "deletable": false,
    "editable": false,
    "run_control": {
     "frozen": true
    }
   },
   "outputs": [],
   "source": [
    ">>git log -p"
   ]
  },
  {
   "cell_type": "markdown",
   "metadata": {},
   "source": [
    "Equivalent to diff -u (describe above)"
   ]
  },
  {
   "cell_type": "markdown",
   "metadata": {},
   "source": [
    "to get more info on a particular commit"
   ]
  },
  {
   "cell_type": "code",
   "execution_count": null,
   "metadata": {
    "deletable": false,
    "editable": false,
    "run_control": {
     "frozen": true
    }
   },
   "outputs": [],
   "source": [
    ">>git show 7e32e328db17594fd0a507b4a23f489b68c09543"
   ]
  },
  {
   "cell_type": "markdown",
   "metadata": {},
   "source": [
    "Some stats of repo"
   ]
  },
  {
   "cell_type": "code",
   "execution_count": null,
   "metadata": {
    "deletable": false,
    "editable": false,
    "run_control": {
     "frozen": true
    }
   },
   "outputs": [],
   "source": [
    ">>git log --stat"
   ]
  },
  {
   "cell_type": "markdown",
   "metadata": {},
   "source": [
    "changes in file, relative to repo/staging area"
   ]
  },
  {
   "cell_type": "code",
   "execution_count": 16,
   "metadata": {
    "deletable": false,
    "editable": false,
    "run_control": {
     "frozen": true
    }
   },
   "outputs": [],
   "source": [
    ">>git diff"
   ]
  },
  {
   "cell_type": "markdown",
   "metadata": {},
   "source": [
    "## Deleting and Renaming Files"
   ]
  },
  {
   "cell_type": "code",
   "execution_count": null,
   "metadata": {
    "deletable": false,
    "editable": false,
    "run_control": {
     "frozen": true
    }
   },
   "outputs": [],
   "source": [
    ">>git rm test.py"
   ]
  },
  {
   "cell_type": "markdown",
   "metadata": {},
   "source": [
    "removes the file test.py"
   ]
  },
  {
   "cell_type": "code",
   "execution_count": null,
   "metadata": {
    "deletable": false,
    "editable": false,
    "run_control": {
     "frozen": true
    }
   },
   "outputs": [],
   "source": [
    ">>git commit -m \"Deleted test.py\""
   ]
  },
  {
   "cell_type": "markdown",
   "metadata": {},
   "source": [
    "commit the change/deletion of the file"
   ]
  },
  {
   "cell_type": "code",
   "execution_count": null,
   "metadata": {
    "deletable": false,
    "editable": false,
    "run_control": {
     "frozen": true
    }
   },
   "outputs": [],
   "source": [
    ">>git mv test2.py test.py "
   ]
  },
  {
   "cell_type": "markdown",
   "metadata": {},
   "source": [
    "rename a file\n",
    "\n",
    "N.B. <code>git mv</code> can also be used for moving files"
   ]
  },
  {
   "cell_type": "code",
   "execution_count": null,
   "metadata": {
    "deletable": false,
    "editable": false,
    "run_control": {
     "frozen": true
    }
   },
   "outputs": [],
   "source": [
    ">>echo .DS_STORE > .gitignore\n",
    "#create .gitignore file to ignore .DS_STORE files (OS sys)\n",
    ">>ls -la\n",
    "#view hidden files\n",
    ">>git add .gitignore\n",
    "#add file\n",
    ">>git commit -m \"added a gitignore file\"\n",
    "#commit changes"
   ]
  },
  {
   "cell_type": "markdown",
   "metadata": {},
   "source": [
    "# Overview git cheat sheet\n",
    "\n",
    "<code>git commit -a </code> &nbsp;&nbsp;&nbsp; Stages files automatically\n",
    "\n",
    "<code>git log -p</code> &nbsp;&nbsp;&nbsp; Produces patch text\n",
    "\n",
    "<code>git show</code>&nbsp;&nbsp;&nbsp;Shows various objects\n",
    "\n",
    "<code>git diff</code>&nbsp;&nbsp;&nbsp;Is similar to the Linux `diff` command, and can show the differences in various commits\n",
    "\n",
    "<code>git diff --staged</code>&nbsp;&nbsp;&nbsp;An alias to --cached, this will show all staged files compared to the named commit\n",
    "\n",
    "<code>git add -p</code> &nbsp;&nbsp;&nbsp;Allows a user to interactively review patches to add to the current commit\n",
    "\n",
    "<code>git mv</code>&nbsp;&nbsp;&nbsp;Similar to the Linux `mv` command, this moves a file\n",
    "\n",
    "<code>git rm</code>Similar to the Linux `rm` command, this deletes, or removes a file\n",
    "\n",
    "\n",
    "There are many useful git cheatsheets online as well. Please take some time to research and study a few, such as this one. https://github.github.com/training-kit/downloads/github-git-cheat-sheet.pdf\n",
    "\n",
    "## .gitignore files\n",
    "\n",
    ".gitignore files are used to tell the git tool to intentionally ignore some files in a given Git repository. For example, this can be useful for configuration files or metadata files that a user may not want to check into the master branch. Check out more at: https://git-scm.com/docs/gitignore.\n",
    "\n",
    "A few common examples of file patterns to exclude can be found here https://gist.github.com/octocat/9257657."
   ]
  },
  {
   "cell_type": "markdown",
   "metadata": {},
   "source": [
    "## Undoing changes"
   ]
  },
  {
   "cell_type": "markdown",
   "metadata": {},
   "source": [
    "### Undoing unstaged changes"
   ]
  },
  {
   "cell_type": "code",
   "execution_count": null,
   "metadata": {
    "deletable": false,
    "editable": false,
    "run_control": {
     "frozen": true
    }
   },
   "outputs": [],
   "source": [
    ">>git restore test.py"
   ]
  },
  {
   "cell_type": "markdown",
   "metadata": {},
   "source": [
    "\"git restore <file>...\" to discard changes in working directory\n",
    "    \n",
    "This comes up as an option to do when go <code>git status</code>\n",
    "    \n",
    "Same as <code>git checkout</code>\n",
    "    \n",
    "This takes the file from the directory and changes the one in the working tree to match this"
   ]
  },
  {
   "cell_type": "markdown",
   "metadata": {},
   "source": [
    "### Undoing staged changes"
   ]
  },
  {
   "cell_type": "markdown",
   "metadata": {},
   "source": [
    "Say we've added all files in a directory\n",
    "\n",
    "<code>git add *</code>\n",
    "\n",
    "When we run \n",
    "<code>git status</code> we reaslise it includes a file we don't want to add\n",
    "\n",
    "To remove the add we do:"
   ]
  },
  {
   "cell_type": "code",
   "execution_count": null,
   "metadata": {
    "deletable": false,
    "editable": false,
    "run_control": {
     "frozen": true
    }
   },
   "outputs": [],
   "source": [
    ">>git restore --staged newfile.txt\n",
    "\n",
    "or\n",
    ">>git reset HEAD newfile.txt"
   ]
  },
  {
   "cell_type": "markdown",
   "metadata": {},
   "source": [
    "## Amending commits"
   ]
  },
  {
   "cell_type": "code",
   "execution_count": null,
   "metadata": {
    "deletable": false,
    "editable": false,
    "run_control": {
     "frozen": true
    }
   },
   "outputs": [],
   "source": [
    ">git commit --amend"
   ]
  },
  {
   "cell_type": "markdown",
   "metadata": {},
   "source": [
    "This allows us to ammend the last commit\n",
    "\n",
    "So for example we could add some more files to it and then modify the comments on the commit\n",
    "\n",
    "Then **overwrites** the previous commit"
   ]
  },
  {
   "cell_type": "markdown",
   "metadata": {},
   "source": [
    "<h3>Only use for: local changes</h3>\n",
    "\n",
    "<h3>Amend Commits are not for commits that have been made public</h3>"
   ]
  },
  {
   "cell_type": "markdown",
   "metadata": {
    "deletable": false,
    "editable": false,
    "run_control": {
     "frozen": true
    }
   },
   "source": [
    "## Rollbacks"
   ]
  },
  {
   "cell_type": "markdown",
   "metadata": {},
   "source": [
    "Revert to an earlier commit\n",
    "\n",
    "With git revert, a new commit is created with inverse changes. This cancels previous changes instead of making it as though the original commit never happened."
   ]
  },
  {
   "cell_type": "code",
   "execution_count": null,
   "metadata": {
    "deletable": false,
    "editable": false,
    "run_control": {
     "frozen": true
    }
   },
   "outputs": [],
   "source": [
    ">>git revert HEAD"
   ]
  },
  {
   "cell_type": "markdown",
   "metadata": {},
   "source": [
    "Add description of why doing rollback\n",
    "\n",
    "Recall *press esc to exit insert mode, then type :x! (now the cursor is at the bottom) and hit enter to save and exit*"
   ]
  },
  {
   "cell_type": "markdown",
   "metadata": {},
   "source": [
    "## Identifying a commit"
   ]
  },
  {
   "cell_type": "markdown",
   "metadata": {},
   "source": [
    "SHA1 hash numbers that Git uses to identify commits\n",
    "- They provide the consistency that is critical for distributed systems such as Git.\n",
    "\n",
    "- They are created using the commit message, date, author, and the snapshot taken of the working tree.\n",
    "\n",
    "- They are composed of 40 characters.\n"
   ]
  },
  {
   "cell_type": "code",
   "execution_count": null,
   "metadata": {
    "deletable": false,
    "editable": false,
    "run_control": {
     "frozen": true
    }
   },
   "outputs": [],
   "source": [
    ">>git show\n",
    "\n",
    "# pick one of the commits\n",
    "\n",
    ">>git show 34051fe65ab25ae011b0473fd1707e6e84f89b71\n",
    "\n",
    "# And if we wanted to revert to this\n",
    "\n",
    ">>git revert 34051fe65ab25ae011b0473fd1707e6e84f89b71\n",
    "\n",
    "# this would also work if id is unique in repo\n",
    ">> git revert 34051f"
   ]
  },
  {
   "cell_type": "markdown",
   "metadata": {},
   "source": [
    "## Git Revert Cheat Sheet\n",
    "\n",
    "- git checkout is effectively used to switch branches.\n",
    "    https://git-scm.com/docs/git-checkout\n",
    "\n",
    "\n",
    "- git reset basically resets the repo, throwing away some changes. It’s somewhat difficult to understand, so reading the examples in the documentation may be a bit more useful.\n",
    "https://git-scm.com/docs/git-reset#_examples\n",
    "\n",
    "\n",
    "- There are some other useful articles online, which discuss more aggressive approaches to resetting the repo.\n",
    "https://jwiegley.github.io/git-from-the-bottom-up/3-Reset/4-doing-a-hard-reset.html\n",
    "\n",
    "\n",
    "- git commit --amend is used to make changes to commits after-the-fact, which can be useful for making notes about a given commit.\n",
    "https://git-scm.com/docs/git-commit#Documentation/git-commit.txt---amend\n",
    "\n",
    "\n",
    "- git revert makes a new commit which effectively rolls back a previous commit. It’s a bit like an undo command.\n",
    "https://git-scm.com/docs/git-revert\n",
    "\n",
    "\n",
    "- There are a few ways you can rollback commits in Git.\n",
    "https://git-scm.com/book/en/v2/Git-Basics-Undoing-Things\n",
    "\n",
    "\n",
    "- There are some interesting considerations about how git object data is stored, such as the usage of sha-1. \n",
    "\n",
    "\n",
    "\n",
    "Feel free to read more here:\n",
    "\n",
    "\n",
    "   A) https://en.wikipedia.org/wiki/SHA-1\n",
    "   \n",
    "\n",
    "   B) https://github.blog/2017-03-20-sha-1-collision-detection-on-github-com/"
   ]
  },
  {
   "cell_type": "markdown",
   "metadata": {},
   "source": [
    "## Git Branch"
   ]
  },
  {
   "cell_type": "markdown",
   "metadata": {},
   "source": [
    "- a pointer to a particular commit\n",
    "\n",
    "\n",
    "- it represents an independent line of development in a project\n",
    "\n",
    "\n",
    "- the default branch that git creates for you when initialised is called master (sometimes main)\n",
    "\n",
    "\n",
    "- To do something new or experimenting try **adding a new branch**\n",
    "\n",
    "\n",
    "- New branches enable changes to be worked on without disrupting the most current working state"
   ]
  },
  {
   "cell_type": "markdown",
   "metadata": {},
   "source": [
    "### List all branches in a repo"
   ]
  },
  {
   "cell_type": "code",
   "execution_count": null,
   "metadata": {
    "deletable": false,
    "editable": false,
    "run_control": {
     "frozen": true
    }
   },
   "outputs": [],
   "source": [
    ">>git branch\n",
    "* master"
   ]
  },
  {
   "cell_type": "markdown",
   "metadata": {},
   "source": [
    "just the one at the moment the master"
   ]
  },
  {
   "cell_type": "markdown",
   "metadata": {},
   "source": [
    "### Add a new branch"
   ]
  },
  {
   "cell_type": "code",
   "execution_count": null,
   "metadata": {
    "deletable": false,
    "editable": false,
    "run_control": {
     "frozen": true
    }
   },
   "outputs": [],
   "source": [
    ">>git branch tryThis\n",
    ">>git branch\n",
    "* master\n",
    "  tryThis"
   ]
  },
  {
   "cell_type": "markdown",
   "metadata": {},
   "source": [
    "the * indicates the branch we are in"
   ]
  },
  {
   "cell_type": "markdown",
   "metadata": {},
   "source": [
    "### Switch to different branch\n",
    "\n",
    "we use git checkout to check out the latest snapshot for both files and for branches."
   ]
  },
  {
   "cell_type": "code",
   "execution_count": null,
   "metadata": {
    "deletable": false,
    "editable": false,
    "run_control": {
     "frozen": true
    }
   },
   "outputs": [],
   "source": [
    ">>git checkout tryThis\n",
    "Switched to branch 'tryThis'\n",
    ">>git branch\n",
    "  master\n",
    "* tryThis"
   ]
  },
  {
   "cell_type": "markdown",
   "metadata": {},
   "source": [
    "### Add and switch branches"
   ]
  },
  {
   "cell_type": "code",
   "execution_count": null,
   "metadata": {
    "deletable": false,
    "editable": false,
    "run_control": {
     "frozen": true
    }
   },
   "outputs": [],
   "source": [
    ">>git checkout -b orThis\n",
    "Switched to a new branch 'orThis'\n",
    ">>git branch\n",
    "  master\n",
    "* orThis\n",
    "  tryThis"
   ]
  },
  {
   "cell_type": "code",
   "execution_count": null,
   "metadata": {
    "deletable": false,
    "editable": false,
    "run_control": {
     "frozen": true
    }
   },
   "outputs": [],
   "source": [
    "# look at last two commits\n",
    ">> git log -2\n",
    "commit 9204f0f890143d81c8fc3fa5db839be5f65e63e9 (HEAD -> orThis)\n",
    "Author: thomashsimm <thomas @gmail.com>\n",
    "Date:   Sun Oct 17 18:25:06 2021 +0100\n",
    "\n",
    "    add an empty file\n",
    "\n",
    "commit 34051fe65ab25ae011b0473fd1707e6e84f89b71 (tryThis, master)\n",
    "Author: thomashsimm <thomas @gmail.com>\n",
    "Date:   Sun Oct 17 15:36:19 2021 +0100\n",
    "\n",
    "    Revert \"Revert \"added a gitignore file\"\"\n",
    "\n",
    "    This reverts commit dc28347e0177c298e9b527ab8140973fb3a567ba.\n"
   ]
  },
  {
   "cell_type": "markdown",
   "metadata": {},
   "source": [
    "We see the last two commits in this branch. Notice how next to the latest commit ID, git shows that this is where head is pointing to and that the branch is called orThis.\n",
    "\n",
    "Next to the previous commit,git shows that both the master and the trThis branches are pointing to that snapshot of the project. \n",
    "\n",
    "In this way, we can see that the orThis branch is ahead of the master branch. "
   ]
  },
  {
   "cell_type": "code",
   "execution_count": null,
   "metadata": {
    "deletable": false,
    "editable": false,
    "run_control": {
     "frozen": true
    }
   },
   "outputs": [],
   "source": [
    ">>nano gogo2.py\n",
    "#creates file gogo2.py\n",
    ">>git add *\n",
    ">>git commit -m \"gogo2.py file added to orThis\"\n",
    ">>ls -l\n",
    "total 2\n",
    "-rw-r--r-- 1 44781 197609  9 Oct 17 18:56 gogo2.py\n",
    "-rw-r--r-- 1 44781 197609 38 Oct 17 14:51 test.py\n",
    "\n",
    "#go back to master\n",
    ">>git checkout master\n",
    "total 3\n",
    "-rw-r--r-- 1 44781 197609  7 Oct 17 18:59 go.py\n",
    "-rw-r--r-- 1 44781 197609 16 Oct 17 18:59 gogo.py\n",
    "-rw-r--r-- 1 44781 197609 38 Oct 17 14:51 test.py\n",
    "\n",
    "#gogo2.py is not here!"
   ]
  },
  {
   "cell_type": "markdown",
   "metadata": {},
   "source": [
    "### Delete branch"
   ]
  },
  {
   "cell_type": "code",
   "execution_count": null,
   "metadata": {
    "deletable": false,
    "editable": false,
    "run_control": {
     "frozen": true
    }
   },
   "outputs": [],
   "source": [
    ">>git branch -d tryThis\n",
    "error: The branch 'tryThis' is not fully merged.\n",
    "If you are sure you want to delete it, run 'git branch -D tryThis'.\n",
    "\n",
    ">>git branch -D tryThis\n",
    "Deleted branch tryThis (was 59ec266).\n",
    "\n",
    ">>git branch\n",
    "* master\n",
    "  orThis"
   ]
  },
  {
   "cell_type": "markdown",
   "metadata": {},
   "source": [
    "## Merging branches\n",
    "\n",
    "Merging is the term that Git uses for combining branch data and history together."
   ]
  },
  {
   "cell_type": "code",
   "execution_count": null,
   "metadata": {
    "deletable": false,
    "editable": false,
    "run_control": {
     "frozen": true
    }
   },
   "outputs": [],
   "source": [
    "#make sure in master\n",
    ">>git branch\n",
    "* master\n",
    "  orThis\n",
    "#then merge orThis\n",
    ">>git merge orThis\n",
    "Updating da04c1c..4eb59cb\n",
    "Fast-forward\n",
    " go2.py | 4 ++++\n",
    " 1 file changed, 4 insertions(+)\n",
    " create mode 100644 go2.py\n"
   ]
  },
  {
   "cell_type": "code",
   "execution_count": null,
   "metadata": {
    "deletable": false,
    "editable": false,
    "run_control": {
     "frozen": true
    }
   },
   "outputs": [],
   "source": [
    ">>git log\n",
    "commit 4eb59cb2dca6a09fb59477fcdf4595551ff9f85f (HEAD -> master, branch2)\n",
    "Author: thomashsimm <thomas @gmail.com>\n",
    "Date:   Sun Oct 17 19:17:28 2021 +0100\n"
   ]
  },
  {
   "cell_type": "markdown",
   "metadata": {},
   "source": [
    "Both branches are pointed at the same commit -> (HEAD -> master, branch2)"
   ]
  },
  {
   "cell_type": "markdown",
   "metadata": {},
   "source": [
    "### Merge conflict\n",
    "From time to time, we might find that both the branches we're trying to merge have edits to the same part of the same file.\n",
    "\n",
    "This will result in something called a merge conflict.\n",
    "\n",
    "Normally, Git can automatically merge files for us. But when we have a merge conflict, it will need a little help to figure out what to do. "
   ]
  },
  {
   "cell_type": "code",
   "execution_count": null,
   "metadata": {},
   "outputs": [],
   "source": []
  },
  {
   "cell_type": "code",
   "execution_count": null,
   "metadata": {
    "deletable": false,
    "editable": false,
    "run_control": {
     "frozen": true
    }
   },
   "outputs": [],
   "source": [
    "#amend same file in master and a new branch- branch2\n",
    ">>git merge branch2\n",
    "Auto-merging go.py\n",
    "CONFLICT (content): Merge conflict in go.py\n",
    "Automatic merge failed; fix conflicts and then commit the result.\n",
    "\n",
    "#error message produced"
   ]
  },
  {
   "cell_type": "code",
   "execution_count": null,
   "metadata": {
    "deletable": false,
    "editable": false,
    "run_control": {
     "frozen": true
    }
   },
   "outputs": [],
   "source": [
    ">>git status\n",
    "On branch master\n",
    "You have unmerged paths.\n",
    "  (fix conflicts and run \"git commit\")\n",
    "  (use \"git merge --abort\" to abort the merge)\n",
    "\n",
    "Unmerged paths:\n",
    "  (use \"git add <file>...\" to mark resolution)\n",
    "        both modified:   go.py\n",
    "\n",
    "Untracked files:\n",
    "  (use \"git add <file>...\" to include in what will be committed)\n",
    "        .gogo.py.swp\n",
    "\n",
    "no changes added to commit (use \"git add\" and/or \"git commit -a\")\n"
   ]
  },
  {
   "cell_type": "markdown",
   "metadata": {},
   "source": [
    "To try to resolve this we open up the file in editor"
   ]
  },
  {
   "cell_type": "code",
   "execution_count": null,
   "metadata": {
    "deletable": false,
    "editable": false,
    "run_control": {
     "frozen": true
    }
   },
   "outputs": [],
   "source": [
    ">>nano go.py\n",
    "\n",
    "####in editor>>\n",
    "\n",
    "b=3\n",
    "<<<<<<< HEAD\n",
    "#hello\n",
    "\n",
    "=======\n",
    "#comment here too\n",
    ">>>>>>> branch2\n",
    "\n",
    "\n",
    "####which we change to this to keep both mods>>\n",
    "\n",
    "b=3\n",
    "#hello\n",
    "#comment here too\n",
    "\n"
   ]
  },
  {
   "cell_type": "markdown",
   "metadata": {},
   "source": [
    "Then add the file and check the status"
   ]
  },
  {
   "cell_type": "code",
   "execution_count": 2,
   "metadata": {},
   "outputs": [
    {
     "ename": "SyntaxError",
     "evalue": "invalid syntax (<ipython-input-2-5de9e5fcd226>, line 1)",
     "output_type": "error",
     "traceback": [
      "\u001b[1;36m  File \u001b[1;32m\"<ipython-input-2-5de9e5fcd226>\"\u001b[1;36m, line \u001b[1;32m1\u001b[0m\n\u001b[1;33m    >>git add go.py\u001b[0m\n\u001b[1;37m    ^\u001b[0m\n\u001b[1;31mSyntaxError\u001b[0m\u001b[1;31m:\u001b[0m invalid syntax\n"
     ]
    }
   ],
   "source": [
    ">>git add go.py\n",
    ">>git status\n",
    "On branch master\n",
    "All conflicts fixed but you are still merging.\n",
    "  (use \"git commit\" to conclude merge)\n",
    "\n",
    "Changes to be committed:\n",
    "        modified:   go.py\n",
    ">>git commit \n",
    "[master b7e6929] Merge branch 'branch2' Kept both features"
   ]
  },
  {
   "cell_type": "markdown",
   "metadata": {},
   "source": [
    "Conflicts now gone\n",
    "\n",
    "And committed\n",
    "\n",
    "\n",
    "--graph --oneline   ==>> helps us visualise the merge"
   ]
  },
  {
   "cell_type": "code",
   "execution_count": null,
   "metadata": {
    "deletable": false,
    "editable": false,
    "run_control": {
     "frozen": true
    }
   },
   "outputs": [],
   "source": [
    ">>git log --graph --oneline"
   ]
  },
  {
   "cell_type": "markdown",
   "metadata": {},
   "source": [
    "\n",
    "![](ghtop_images/ghubOP.png)"
   ]
  },
  {
   "cell_type": "markdown",
   "metadata": {},
   "source": [
    "#### Abort merge"
   ]
  },
  {
   "cell_type": "code",
   "execution_count": null,
   "metadata": {
    "deletable": false,
    "editable": false,
    "run_control": {
     "frozen": true
    }
   },
   "outputs": [],
   "source": [
    ">>git merge --abort"
   ]
  },
  {
   "cell_type": "markdown",
   "metadata": {},
   "source": [
    "## Git Branches and Merging Cheat Sheet"
   ]
  },
  {
   "cell_type": "markdown",
   "metadata": {},
   "source": [
    "<code>git branch</code> Used to manage branches\n",
    "https://git-scm.com/docs/git-branch\n",
    "\n",
    "\n",
    "<code>git branch [branchname] </code> Creates the branch\n",
    "https://git-scm.com/book/en/v2/Git-Branching-Basic-Branching-and-Merging\n",
    "\n",
    "\n",
    "<code>git branch -d [branchname]</code> Deletes the branch\n",
    "https://git-scm.com/docs/git-branch#Documentation/git-branch.txt--D\n",
    "\n",
    "\n",
    "<code>git branch -D [branchname] </code> Forcibly deletes the branch\n",
    "https://git-scm.com/docs/git-branch#Documentation/git-branch.txt--D\n",
    "\n",
    "\n",
    "<code>git checkout [branchname] </code> Switches to a branch.\n",
    "https://git-scm.com/docs/git-checkout\n",
    "\n",
    "\n",
    "<code>git checkout -b [branchname]</code> Creates a new branch and switches to it.\n",
    "https://git-scm.com/docs/git-checkout#Documentation/git-checkout.txt--bltnewbranchgt\n",
    "\n",
    "    \n",
    "<code>git merge [branchname] </code> Merge joins branches together. \n",
    "https://git-scm.com/docs/git-merge\n",
    "\n",
    "\n",
    "\n",
    "<code>git merge --abort</code> If there are merge conflicts (meaning files are incompatible), --abort can be used to abort the merge action.\n",
    "\n",
    "\n",
    "\n",
    "<code>git log --graph --oneline</code>This shows a summarized view of the commit history for a repo.\n",
    "https://git-scm.com/book/en/v2/Git-Basics-Viewing-the-Commit-History"
   ]
  },
  {
   "cell_type": "markdown",
   "metadata": {},
   "source": [
    "## Working with remotes"
   ]
  },
  {
   "cell_type": "markdown",
   "metadata": {},
   "source": [
    "GitHub is a web-based Git repository hosting service.\n",
    "\n",
    "On top of the version control functionality of Git, GitHub includes extra features like bug tracking, wikis, and task management.\n",
    "\n",
    "GitHub lets us share and access repositories on the web and copy or clone them to our local computer, so we can work on them.\n",
    "\n",
    "GitHub is a popular choice with a robust feature set, but it's not the only one.\n",
    "Other services that provide similar functionality are BitBucket, and GitLab. \n",
    "\n",
    "![htpps://github.com](ghtop_images/git.png)\n",
    "\n",
    "GitHub provides free access to a Git server for public and private repositories.\n",
    "\n",
    "It limits the number of contributors for the free private repositories, and offers an unlimited private repository service for a monthly fee.\n",
    "We'll be using a free repository for our examples, which is fine for educational use, small personal projects, or open source development. \n"
   ]
  },
  {
   "cell_type": "markdown",
   "metadata": {},
   "source": [
    "### Clone a directory\n",
    "\n",
    "This is to create a local copy of a repository from the github website\n",
    "\n",
    "1) Go to the repo\n",
    "\n",
    "2) Click code and copy the clone URL HTTPS\n",
    "\n",
    "- other options are availabe too\n",
    "\n",
    "![](ghtop_images/gitclone.png)\n",
    "\n",
    "3) In Git bash run\n",
    "\n",
    "<code>git clone https://github.com/ThomasHSimm/SwanseaProperty.git</code>\n",
    "\n",
    "Fill in any passwords if required"
   ]
  },
  {
   "cell_type": "code",
   "execution_count": null,
   "metadata": {
    "deletable": false,
    "editable": false,
    "run_control": {
     "frozen": true
    }
   },
   "outputs": [],
   "source": [
    "# Make changes to files\n",
    "\n",
    "#Then add and commit the changes\n",
    ">>git commit -a -m \"Modified the readme\"\n",
    "[main c9307f7] modified read me\n",
    " 1 file changed, 1 insertion(+)"
   ]
  },
  {
   "cell_type": "markdown",
   "metadata": {},
   "source": [
    "## Git Push\n",
    "\n",
    "Send the changes to the remote repository"
   ]
  },
  {
   "cell_type": "code",
   "execution_count": null,
   "metadata": {
    "deletable": false,
    "editable": false,
    "run_control": {
     "frozen": true
    }
   },
   "outputs": [],
   "source": [
    ">>git push\n",
    "Enumerating objects: 5, done.\n",
    "Counting objects: 100% (5/5), done.\n",
    "Delta compression using up to 8 threads\n",
    "Compressing objects: 100% (3/3), done.\n",
    "Writing objects: 100% (3/3), 309 bytes | 309.00 KiB/s, done.\n",
    "Total 3 (delta 2), reused 0 (delta 0), pack-reused 0\n",
    "remote: Resolving deltas: 100% (2/2), completed with 2 local objects.\n",
    "To https://github.com/ThomasHSimm/SwanseaProperty.git\n",
    "   08aa0a2..c9307f7  main -> main"
   ]
  },
  {
   "cell_type": "markdown",
   "metadata": {},
   "source": [
    "## Basic Interaction with GitHub Cheat-Sheet\n",
    "\n",
    "There are various remote repository hosting sites:\n",
    "\n",
    "    - GitHub\n",
    "\n",
    "    - BitBucket\n",
    "\n",
    "    - Gitlab.\n",
    "\n",
    "Follow the workflow at https://github.com/join to set up a free account, username, and password. After that, these steps (https://help.github.com/articles/create-a-repo/) will help you create a brand new repository on GitHub.\n",
    "\n",
    "Some useful commands for getting started:\n",
    "\n",
    "#### git clone URL\n",
    "\t\n",
    "Git clone is used to clone a remote repository into a local workspace\n",
    "https://git-scm.com/docs/git-clone\n",
    "\n",
    "\n",
    "#### git push\t\n",
    "\n",
    "Git push is used to push commits from your local repo to a remote repo\n",
    "https://git-scm.com/docs/git-push\n",
    "\n",
    "\n",
    "#### git pull\n",
    "\t\n",
    "Git pull is used to fetch the newest updates from a remote repository\n",
    "https://git-scm.com/docs/git-pull\n",
    "\n",
    "\n",
    "#### These can be useful for keeping your local workspace up to date.\n",
    "\n",
    "- https://help.github.com/en/articles/caching-your-github-password-in-git\n",
    "\n",
    "\n",
    "- https://help.github.com/en/articles/generating-an-ssh-key  "
   ]
  },
  {
   "cell_type": "markdown",
   "metadata": {},
   "source": [
    "# Using a remote repository"
   ]
  },
  {
   "cell_type": "markdown",
   "metadata": {},
   "source": [
    "to find the configuration of a remote repository go to the local copy and use git remote -v to find where the data is fetched from and pushed to. Below they are the same but can be different if say fetch with HTTP for read only and say SSH for pushing. But need to be same place."
   ]
  },
  {
   "cell_type": "code",
   "execution_count": null,
   "metadata": {
    "deletable": false,
    "editable": false,
    "run_control": {
     "frozen": true
    }
   },
   "outputs": [],
   "source": [
    ">>git remote -v\n",
    "origin  https://github.com/ThomasHSimm/THS_website.git (fetch)\n",
    "origin  https://github.com/ThomasHSimm/THS_website.git (push)"
   ]
  },
  {
   "cell_type": "markdown",
   "metadata": {},
   "source": [
    "And more information with git remote show origin"
   ]
  },
  {
   "cell_type": "code",
   "execution_count": null,
   "metadata": {
    "deletable": false,
    "editable": false,
    "run_control": {
     "frozen": true
    }
   },
   "outputs": [],
   "source": [
    ">>git remote show origin\n",
    "* remote origin\n",
    "  Fetch URL: https://github.com/ThomasHSimm/THS_website.git\n",
    "  Push  URL: https://github.com/ThomasHSimm/THS_website.git\n",
    "  HEAD branch: master\n",
    "  Remote branches:\n",
    "    gh-pages tracked\n",
    "    master   tracked\n",
    "  Local branch configured for 'git pull':\n",
    "    master merges with remote master\n",
    "  Local ref configured for 'git push':\n",
    "    master pushes to master (up to date)"
   ]
  },
  {
   "cell_type": "markdown",
   "metadata": {},
   "source": [
    "If above had said --- master pushes to master (local out of date)\n",
    "\n",
    "This means there have been changes on the remote and the local is now out of date- e.g. someone else has changed the repo.\n",
    "\n",
    "We'd now need to run <code>>>git fetch</code> to sync the data. "
   ]
  },
  {
   "cell_type": "markdown",
   "metadata": {},
   "source": [
    "Find branches git is tracking <code>git branch -r</code>\n",
    "\n",
    "To make changes to a remote branch we have to pull the remote branch, merge it with the local branch then push to the origin- the same thing we'd do with the master.\n",
    "\n",
    "Like with local change <code>>>git status</code> can give us changes in the remote repository if it exists (when in the local one) as well as the local changes"
   ]
  },
  {
   "cell_type": "markdown",
   "metadata": {},
   "source": [
    "## Fetching new changes"
   ]
  },
  {
   "cell_type": "code",
   "execution_count": null,
   "metadata": {
    "deletable": false,
    "editable": false,
    "run_control": {
     "frozen": true
    }
   },
   "outputs": [],
   "source": [
    ">>git fetch"
   ]
  },
  {
   "cell_type": "markdown",
   "metadata": {},
   "source": [
    "This copies changes done in remote repo to local repo\n",
    "\n",
    "**But** unlike git pull doesn't instantly merge changes\n",
    "\n",
    "- git pull = fetch and merge \n",
    "- git fetch = just fetches\n",
    "\n",
    "Can merge like this"
   ]
  },
  {
   "cell_type": "code",
   "execution_count": null,
   "metadata": {
    "deletable": false,
    "editable": false,
    "run_control": {
     "frozen": true
    }
   },
   "outputs": [],
   "source": [
    ">>git merge orgin/master"
   ]
  },
  {
   "cell_type": "markdown",
   "metadata": {},
   "source": [
    "Or just do both with pull\n",
    "\n",
    "As long as there are no conflicts, Git will move the current branch tip up to the target branch tip and combine histories of both commits. Using a fast-forward merge"
   ]
  },
  {
   "cell_type": "code",
   "execution_count": null,
   "metadata": {
    "deletable": false,
    "editable": false,
    "run_control": {
     "frozen": true
    }
   },
   "outputs": [],
   "source": [
    ">>git pull"
   ]
  },
  {
   "cell_type": "markdown",
   "metadata": {},
   "source": [
    "To create a local branch for a remote branch we don't have yet run <code>git checkout BRANCH_NAME</code>"
   ]
  },
  {
   "cell_type": "markdown",
   "metadata": {},
   "source": [
    "<code>git remote update</code> will fetch the contents of all remote branches and allow us to merge the contents ourselves."
   ]
  },
  {
   "cell_type": "markdown",
   "metadata": {},
   "source": [
    "# Git Remotes Cheat-Sheet\n",
    "\n",
    "<code>git remote</code> \n",
    "\n",
    "Lists remote repos\n",
    "\n",
    "\n",
    "\n",
    "<code>git remote -v</code>\n",
    "\t\n",
    "List remote repos verbosely\n",
    "\n",
    "\n",
    "<code>git remote show [name]</code>\n",
    "\n",
    "Describes a single remote repo\n",
    "\n",
    "\n",
    "<code>git remote update</code>\t\n",
    "\n",
    "Fetches the most up-to-date objects\n",
    "\n",
    "\n",
    "<code>git fetch</code>\t\n",
    "\n",
    "Downloads specific objects\n",
    "\n",
    "\n",
    "<code>git branch -r</code>\n",
    "\n",
    "Lists remote branches; can be combined with other branch arguments to manage remote branches\n",
    "\n",
    "\n"
   ]
  },
  {
   "cell_type": "markdown",
   "metadata": {},
   "source": [
    "# Conflict Resolution Cheat Sheet\n",
    "\n",
    "Merge conflicts are not uncommon when working in a team of developers, or on Open Source Software. Fortunately, GitHub has some good documentation on how to handle them when they happen:\n",
    "\n",
    "https://help.github.com/en/github/collaborating-with-issues-and-pull-requests/about-merge-conflicts\n",
    "\n",
    "https://help.github.com/en/github/collaborating-with-issues-and-pull-requests/resolving-a-merge-conflict-using-the-command-line\n",
    "\n",
    "You can also use git rebase branchname to change the base of the current branch to be branchname\n",
    "\n",
    "The git rebase command is a lot more powerful.  Check out this link (https://git-scm.com/book/en/v2/Git-Tools-Rewriting-History) for more information."
   ]
  },
  {
   "cell_type": "markdown",
   "metadata": {},
   "source": [
    "# Git Fork and Pull Request Cheat Sheet\n",
    "\n",
    "Check out the following link for more information:\n",
    "\n",
    "https://help.github.com/en/articles/about-pull-request-merges"
   ]
  },
  {
   "cell_type": "markdown",
   "metadata": {},
   "source": [
    "# More Information on Code Reviews\n",
    "\n",
    "Check out the following links for more information:\n",
    "\n",
    "http://google.github.io/styleguide/\n",
    "\n",
    "https://help.github.com/en/articles/about-pull-request-reviews\n",
    "\n",
    "https://medium.com/osedea/the-perfect-code-review-process-845e6ba5c31\n",
    "\n",
    "https://smartbear.com/learn/code-review/what-is-code-review/"
   ]
  },
  {
   "cell_type": "markdown",
   "metadata": {},
   "source": [
    "# Additional Tools\n",
    "\n",
    "Check out the following links for more information:\n",
    "\n",
    "*    https://arp242.net/diy.html \n",
    "\n",
    "\n",
    "*    https://help.github.com/en/articles/closing-issues-using-keywords\n",
    "\n",
    "\n",
    "*    https://help.github.com/en/articles/setting-guidelines-for-repository-contributors \n",
    "\n",
    "\n",
    "*    https://www.infoworld.com/article/3271126/what-is-cicd-continuous-integration-and-continuous-delivery-explained.html\n",
    "\n",
    "\n",
    "*    https://stackify.com/what-is-cicd-whats-important-and-how-to-get-it-right/\n",
    "\n",
    "\n",
    "*    https://docs.travis-ci.com/user/tutorial/\n",
    "\n",
    "\n",
    "*    https://docs.travis-ci.com/user/build-stages/"
   ]
  },
  {
   "cell_type": "markdown",
   "metadata": {},
   "source": [
    "![](ghtop_images/google_git.png)"
   ]
  }
 ],
 "metadata": {
  "kernelspec": {
   "display_name": "Python 3",
   "language": "python",
   "name": "python3"
  },
  "language_info": {
   "codemirror_mode": {
    "name": "ipython",
    "version": 3
   },
   "file_extension": ".py",
   "mimetype": "text/x-python",
   "name": "python",
   "nbconvert_exporter": "python",
   "pygments_lexer": "ipython3",
   "version": "3.8.8"
  },
  "varInspector": {
   "cols": {
    "lenName": 16,
    "lenType": 16,
    "lenVar": 40
   },
   "kernels_config": {
    "python": {
     "delete_cmd_postfix": "",
     "delete_cmd_prefix": "del ",
     "library": "var_list.py",
     "varRefreshCmd": "print(var_dic_list())"
    },
    "r": {
     "delete_cmd_postfix": ") ",
     "delete_cmd_prefix": "rm(",
     "library": "var_list.r",
     "varRefreshCmd": "cat(var_dic_list()) "
    }
   },
   "types_to_exclude": [
    "module",
    "function",
    "builtin_function_or_method",
    "instance",
    "_Feature"
   ],
   "window_display": false
  }
 },
 "nbformat": 4,
 "nbformat_minor": 2
}
