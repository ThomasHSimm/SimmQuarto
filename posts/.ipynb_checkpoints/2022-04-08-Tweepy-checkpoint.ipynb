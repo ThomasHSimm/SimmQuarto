{
 "cells": [
  {
   "cell_type": "markdown",
   "metadata": {},
   "source": [
    "# Tweepy\n",
    "\n",
    "> Searching tweets using tweepy\n",
    "\n",
    "- toc: true \n",
    "- badges: true\n",
    "- comments: true\n",
    "- categories: [twitter, tweepy, Python]"
   ]
  },
  {
   "cell_type": "markdown",
   "metadata": {},
   "source": [
    "![](ghtop_images/header2.png)"
   ]
  },
  {
   "cell_type": "markdown",
   "metadata": {},
   "source": [
    "## Resources\n",
    "\n",
    "#### A. Getting started with twitter API - Twitter Developer Platform\n",
    "https://developer.twitter.com/en/docs/twitter-api/getting-started/about-twitter-api\n",
    "\n",
    "\n",
    "#### B. Tweepy Documentation\n",
    "\n",
    "https://docs.tweepy.org/en/stable/index.html\n",
    "\n",
    "\n",
    "#### C. A comprehensive guide for using the Twitter API v2 with Tweepy in Python - Suhem Parack \n",
    "\n",
    "https://dev.to/twitterdev/a-comprehensive-guide-for-using-the-twitter-api-v2-using-tweepy-in-python-15d9\n",
    "\n",
    "\n",
    "#### D. Making queries to Twitter API on tweepy - Roberto Aguilar\n",
    "\n",
    "https://medium.com/@robguilarr/making-queries-to-twitter-api-on-tweepy-66afeb7184a4\n",
    "\n",
    "\n",
    "#### E. Accessing the Twitter API with Python - Mihajlo Pavloski\n",
    "\n",
    "https://stackabuse.com/accessing-the-twitter-api-with-python/\n",
    "\n",
    "\n",
    "#### F. How to Apply for a Twitter Developer Account - jean-christophe-chouinard\n",
    "\n",
    "https://www.jcchouinard.com/apply-for-a-twitter-developer-account/\n",
    "\n",
    "\n",
    "#### G. How to get Twitter API Credentials (API Keys) - jean-christophe-chouinard\n",
    "\n",
    "https://www.jcchouinard.com/twitter-api-credentials/\n",
    "\n",
    "\n",
    "#### H. Twitter API with Python (Complete Guide) - jean-christophe-chouinard\n",
    "\n",
    "https://www.jcchouinard.com/twitter-api/\n"
   ]
  },
  {
   "cell_type": "markdown",
   "metadata": {},
   "source": [
    "## Setting up twitter API\n",
    "\n",
    "### 1. Apply for a developer account\n",
    "\n",
    "    Before using the Twitter API, you first need a Twitter account, and to have obtained some credentials. The process of getting credentials could change with time, but currently it is as follows:\n",
    "\n",
    "    Visit the Application Management page at https://apps.twitter.com/, and sign in with your Twitter account\n",
    "    Click on the \"Create New App\" button, fill in the details and agree the Terms of Service\n",
    "    Navigate to \"Keys and Access Tokens\" section and take a note of your Consumer Key and Secret\n",
    "    In the same section click on \"Create my access token\" button\n",
    "    Take note of your Access Token and Access Token Secret\n",
    "    And that's all. The consumer key/secret is used to authenticate the app that is using the Twitter API, while the access token/secret authenticates the user. All of these parameters should be treated as passwords, and should not be included in your code in plain text. One suitable way is to store them in a JSON file \"twitter_credentials.json\" and load these values from your code when needed.\n",
    "    \n",
    "Source [E. Accessing the Twitter API with Python - Mihajlo Pavloski](https://stackabuse.com/accessing-the-twitter-api-with-python/)\n",
    "\n",
    "    Twitter API access levels and versions\n",
    "\n",
    "    While the Twitter API v2 is the primary Twitter API, the platform currently supports previous versions (v1.1, Gnip 2.0) as well. We recommend that all users start with v2 as this is where all future innovation will happen. \n",
    "\n",
    "    The Twitter API v2 includes a few access levels to help you scale your usage on the platform. In general, new accounts can quickly sign up for free, Essential access. Should you want additional access, you may choose to apply for free Elevated access and beyond. \n",
    "    \n",
    "Source [A. Getting started with twitter API - Twitter Developer Platform](https://developer.twitter.com/en/docs/twitter-api/getting-started/about-twitter-api)\n",
    "\n",
    "![](ghtop_images/twitterAccesstypes.png)\n",
    "\n",
    "\n",
    "\n",
    "I applied for elevated access. This involved filling in several questions about what I would user twitter API for and a follow up email.\n",
    "\n",
    "For more info on how to apply for a twitter development account see [F. How to Apply for a Twitter Developer Account - jean-christophe-chouinard](https://www.jcchouinard.com/apply-for-a-twitter-developer-account/)\n",
    "\n",
    "\n",
    "### 2. Create a project/app\n",
    "\n",
    "To use the twitter API you need to create a twitter App. From this you can then get the security IDs, bearer_token, API_key etc.\n",
    "\n",
    "For more details on this see [G. How to get Twitter API Credentials (API Keys) - jean-christophe-chouinard](https://www.jcchouinard.com/twitter-api-credentials/)\n",
    "\n",
    "\n",
    "### 3. Set up an environment \n",
    "\n",
    "    Twitter API bestows us several endpoints at the moment we request our App access. From which 3 of them are for searching methods, those that bring samples of the tweets we want according to specific criteria.\n",
    "    api.search_30_day()\n",
    "\n",
    "    Premium Search for tweets from the last 30 days.\n",
    "    Monthly limitation of 4500 tweets per minute, without exceeding 25K tweets per month — Sandbox\n",
    "\n",
    "    api.search_full_archive()\n",
    "\n",
    "    Premium Search for tweets from March of 2006.\n",
    "    Monthly limitation of 3000 tweets per minute, without exceeding 5K tweets per month — Sandbox\n",
    "\n",
    "    api.search_tweets()\n",
    "\n",
    "    Regular Search for tweets from the last 6–9 days as maximum.\n",
    "    Monthly limitation of 3000 tweets per minute — Sandbox, this is the one that we gonna use in this case.\n",
    "\n",
    "From [D. Making queries to Twitter API on tweepy - Roberto Aguilar](https://medium.com/@robguilarr/making-queries-to-twitter-api-on-tweepy-66afeb7184a4)\n",
    "\n",
    "\n",
    "These environments are found at https://developer.twitter.com/en/account/environments.\n",
    "\n",
    "And the name of the environment is included in the particular search (as shown below `label=XXX`.\n",
    "\n",
    "### 4. Install tweepy\n",
    "\n",
    "`pip install tweepy`"
   ]
  },
  {
   "cell_type": "markdown",
   "metadata": {},
   "source": [
    "## Tweepy code"
   ]
  },
  {
   "cell_type": "code",
   "execution_count": null,
   "metadata": {},
   "outputs": [],
   "source": [
    "import os\n",
    "os.environ[\"BEARER_TOKEN\"]=\" insert here \"\n",
    "os.environ[\"API_key\"]='insert here'\n",
    "os.environ[\"API_secret\"]=' insert here'\n",
    "os.environ[\"access_token\"] = \" insert here \"\n",
    "os.environ[\"access_token_secret\"]=\" insert here \"\n"
   ]
  },
  {
   "cell_type": "markdown",
   "metadata": {},
   "source": [
    "### Import and check it is authenticated"
   ]
  },
  {
   "cell_type": "code",
   "execution_count": null,
   "metadata": {},
   "outputs": [],
   "source": [
    "import tweepy\n",
    "\n",
    "# API keys that yous saved earlier\n",
    "api_key = os.environ.get(\"API_KEY\")\n",
    "api_secrets = os.environ.get(\"API_secret\")\n",
    "access_token = os.environ.get(\"access_token\")\n",
    "access_secret = os.environ.get(\"access_token_secret\")\n",
    " \n",
    "# Authenticate to Twitter\n",
    "auth = tweepy.OAuthHandler(api_key,api_secrets)\n",
    "auth.set_access_token(access_token,access_secret)\n",
    " \n",
    "api = tweepy.API(auth)\n",
    " \n",
    "try:\n",
    "    api.verify_credentials()\n",
    "    print('Successful Authentication')\n",
    "except:\n",
    "    print('Failed authentication')"
   ]
  },
  {
   "cell_type": "markdown",
   "metadata": {},
   "source": [
    "### Search tweets\n",
    "\n",
    "Two main ones:\n",
    "\n",
    "For last 30 days:\n",
    "\n",
    "`outa = api.search_30_day(label, query, *, tag, fromDate, toDate, maxResults,next)`\n",
    "\n",
    "And for any times:\n",
    "\n",
    "`outa = api.search_full_archive(label, query, *, tag, fromDate, toDate,                                maxResults, next)`\n",
    "\n",
    "#### Query\n",
    "\n",
    "from the python script:\n",
    "\n",
    "    The equivalent of one premium rule/filter, with up to 1,024 characters (256 with Sandbox dev environments).\n",
    "\n",
    "    This parameter should include ALL portions of the rule/filter,including all operators, and portions of the rule should not be separated into other parameters of the query.\n",
    "    \n",
    "Following adapted from [D. Making queries to Twitter API on tweepy - Roberto Aguilar](https://medium.com/@robguilarr/making-queries-to-twitter-api-on-tweepy-66afeb7184a4)\n",
    "\n",
    "- Search for a term\n",
    "\n",
    "`query = 'holiday'`\n",
    "- Containing two words\n",
    "\n",
    "`query = 'holiday jet2'`\n",
    "- Containing exact words\n",
    "\n",
    "`query='\"jet2 braces\" \"holiday\"'`\n",
    "- Contain one word OR another\n",
    "\n",
    "`query='jet2 OR \"tuiuk\"'`\n",
    "- Hashtags and mentions\n",
    "\n",
    "`query = '@jet2tweets #holiday'`\n",
    "- Exclude words\n",
    "\n",
    "`query='@jet2tweets -travel'`\n",
    "- Who the tweet is sent from and to\n",
    "\n",
    "`query='holiday from:jet2tweets'`\n",
    "\n",
    "`query='holiday to:jet2tweets'`\n",
    "\n",
    "\n",
    "#### Dates\n",
    "\n",
    "Dates are in the format YYYYMMDDHHmm\n",
    "\n",
    "So 0:00 21st March 2021 = '202103210000'"
   ]
  },
  {
   "cell_type": "markdown",
   "metadata": {},
   "source": [
    "#hide\n",
    "#### Tag\n",
    "\n",
    "from script:\n",
    "\n",
    "    Tags can be used to segregate rules and their matching data into\n",
    "    different logical groups. If a rule tag is provided, the rule tag\n",
    "    is included in the 'matching_rules' attribute.\n",
    "\n",
    "    It is recommended to assign rule-specific UUIDs to rule tags and\n",
    "    maintain desired mappings on the client side.\n",
    "    \n",
    "Following adapted from [D. Making queries to Twitter API on tweepy - Roberto Aguilar](https://medium.com/@robguilarr/making-queries-to-twitter-api-on-tweepy-66afeb7184a4)\n",
    "\n",
    "- Retweets\n",
    "\n",
    "`tag='-filter:retweets'` without retweets\n",
    "\n",
    "`tag='filter:retweets'` and just RTs\n",
    "\n",
    "- Has links\n",
    "\n",
    "`tag='-filter:links'`\n",
    "\n",
    "- Has media\n",
    "\n",
    "`tag='-filter:media'`\n",
    "\n",
    "- Trusted\n",
    "\n",
    "`tag='-filter:trusted'`\n",
    "\n",
    "More filters can be seen in the [Docs](https://developer.twitter.com/en/docs/twitter-api/tweets/search/migrate)"
   ]
  },
  {
   "cell_type": "markdown",
   "metadata": {},
   "source": [
    "### The results file\n",
    "\n",
    "`outa=api.search_full_archive(label=label,\n",
    "         query=query,toDate=end_time,fromDate=start_time)`\n",
    "         \n",
    "The information from outa is accessed for each element using _json, i.e. \n",
    "\n",
    "`outa[0]._json` gives the first search result "
   ]
  },
  {
   "cell_type": "code",
   "execution_count": 3,
   "metadata": {},
   "outputs": [],
   "source": [
    "xx=outa[0]._json\n",
    "for ii,x in enumerate(xx):\n",
    "    print(ii,x)"
   ]
  },
  {
   "cell_type": "markdown",
   "metadata": {},
   "source": [
    "![](ghtop_images/tweepy_outputs.png)\n",
    "\n",
    "If the tweet is longer than 140 char the `text` property doesn't display all the text of the tweet. \n",
    "\n",
    "This will normally then be in the `extended_tweet` property but also sometimes in the `retweeted_status` property.\n",
    "\n",
    "So to get around this put in exceptions."
   ]
  },
  {
   "cell_type": "code",
   "execution_count": null,
   "metadata": {},
   "outputs": [],
   "source": [
    "textAll=[]\n",
    "\n",
    "for numa in range(0,10):\n",
    "    xx=outa1[numa]._json\n",
    "    \n",
    "    try:\n",
    "        textAll.append(numa,'1', xx['created_at'],\n",
    "              xx['retweeted_status']['extended_tweet']['full_text'] )\n",
    "    except:\n",
    "        try:\n",
    "            textAll.append(numa,'2',xx['created_at'],\n",
    "                  xx['extended_tweet']['full_text'])\n",
    "        except:\n",
    "            textAll.append(numa,'3',xx['created_at'],xx['text'])\n"
   ]
  }
 ],
 "metadata": {
  "hide_input": false,
  "kernelspec": {
   "display_name": "Python 3 (ipykernel)",
   "language": "python",
   "name": "python3"
  },
  "language_info": {
   "codemirror_mode": {
    "name": "ipython",
    "version": 3
   },
   "file_extension": ".py",
   "mimetype": "text/x-python",
   "name": "python",
   "nbconvert_exporter": "python",
   "pygments_lexer": "ipython3",
   "version": "3.8.8"
  },
  "varInspector": {
   "cols": {
    "lenName": 16,
    "lenType": 16,
    "lenVar": 40
   },
   "kernels_config": {
    "python": {
     "delete_cmd_postfix": "",
     "delete_cmd_prefix": "del ",
     "library": "var_list.py",
     "varRefreshCmd": "print(var_dic_list())"
    },
    "r": {
     "delete_cmd_postfix": ") ",
     "delete_cmd_prefix": "rm(",
     "library": "var_list.r",
     "varRefreshCmd": "cat(var_dic_list()) "
    }
   },
   "types_to_exclude": [
    "module",
    "function",
    "builtin_function_or_method",
    "instance",
    "_Feature"
   ],
   "window_display": false
  }
 },
 "nbformat": 4,
 "nbformat_minor": 2
}
