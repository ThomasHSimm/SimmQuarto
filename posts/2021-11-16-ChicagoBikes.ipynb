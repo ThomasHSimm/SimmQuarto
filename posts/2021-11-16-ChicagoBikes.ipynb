{
 "cells": [
  {
   "cell_type": "markdown",
   "metadata": {},
   "source": [
    "# How Does a Bike-Share Navigate Speedy Success\n"
   ]
  },
  {
   "cell_type": "markdown",
   "metadata": {},
   "source": [
    "![](ghtop_images/header2.png)"
   ]
  },
  {
   "cell_type": "markdown",
   "metadata": {},
   "source": [
    "## Introduction\n",
    "\n",
    "Some quick analysis on Cycle bike-share data from Chicago\n",
    "\n",
    "<i>Welcome to the Cyclistic bike-share analysis case study! In this case study, you will perform many real-world tasks of a junior\n",
    "data analyst. You will work for a fictional company, Cyclistic, and meet different characters and team members. In order to\n",
    "answer the key business questions, you will follow the steps of the data analysis process: ask, prepare, process, analyze,\n",
    "share, and act. Along the way, the Case Study Roadmap tables — including guiding questions and key tasks — will help you\n",
    "stay on the right path.\n",
    "By the end of this lesson, you will have a portfolio-ready case study. Download the packet and reference the details of this\n",
    "case study anytime. Then, when you begin your job hunt, your case study will be a tangible way to demonstrate your\n",
    "knowledge and skills to potential employers.</i>"
   ]
  },
  {
   "cell_type": "markdown",
   "metadata": {},
   "source": [
    "### Some imports"
   ]
  },
  {
   "cell_type": "code",
   "execution_count": 8,
   "metadata": {
    "deletable": false,
    "editable": false,
    "run_control": {
     "frozen": true
    }
   },
   "outputs": [],
   "source": [
    "import pandas as pd\n",
    "from bs4 import BeautifulSoup\n",
    "import numpy as np\n",
    "import requests\n",
    "# from datetime import datetime, timezone\n",
    "import os\n",
    "import geopandas as gpd\n",
    "\n",
    "#get the current working directory\n",
    "owd=os.getcwd()"
   ]
  },
  {
   "cell_type": "markdown",
   "metadata": {},
   "source": [
    "## A function to extract web zip files and save to /dat folder\n",
    "\n",
    "### We'll just look at Q1 for 2020 data\n",
    "\n",
    "The data for 2020 is split into Q1 and the rest is for each month. So we need to download and convert each to a data frame and then combine them together"
   ]
  },
  {
   "cell_type": "code",
   "execution_count": 3,
   "metadata": {
    "deletable": false,
    "editable": false,
    "run_control": {
     "frozen": true
    }
   },
   "outputs": [],
   "source": [
    "def extractStuff(url):\n",
    "    import requests, zipfile, io\n",
    "    import os\n",
    "    owd=os.getcwd()\n",
    "    r = requests.get(url)\n",
    "    z = zipfile.ZipFile(io.BytesIO(r.content))\n",
    "    z.extractall(owd+\"/dat/\")\n",
    "URL=\"https://divvy-tripdata.s3.amazonaws.com/\"\n",
    "noma =[['202004-divvy-tripdata'],\n",
    "['202005-divvy-tripdata'],\n",
    "['202006-divvy-tripdata'],\n",
    "['202007-divvy-tripdata'],\n",
    "['202008-divvy-tripdata'],\n",
    "['202009-divvy-tripdata'],\n",
    "['202010-divvy-tripdata'],\n",
    "['202011-divvy-tripdata'],\n",
    "['202012-divvy-tripdata']]\n",
    "    "
   ]
  },
  {
   "cell_type": "code",
   "execution_count": null,
   "metadata": {
    "deletable": false,
    "editable": false,
    "run_control": {
     "frozen": true
    }
   },
   "outputs": [],
   "source": [
    "for nom in noma:\n",
    "    extractStuff(URL+ nom[0]+\".zip\")"
   ]
  },
  {
   "cell_type": "markdown",
   "metadata": {},
   "source": [
    "### Load files, put in pandas data frame and have a look\n",
    "\n",
    "#### Lets load each csv and combine them"
   ]
  },
  {
   "cell_type": "code",
   "execution_count": 50,
   "metadata": {
    "deletable": false,
    "editable": false,
    "run_control": {
     "frozen": true
    }
   },
   "outputs": [
    {
     "name": "stdout",
     "output_type": "stream",
     "text": [
      "2 202004-divvy-tripdata\n",
      "1  202005-divvy-tripdata\n",
      "1  202006-divvy-tripdata\n",
      "1  202007-divvy-tripdata\n",
      "1  202008-divvy-tripdata\n",
      "1  202009-divvy-tripdata\n",
      "1  202010-divvy-tripdata\n",
      "1  202011-divvy-tripdata\n",
      "1  202012-divvy-tripdata\n"
     ]
    }
   ],
   "source": [
    "for i,nom in enumerate(noma):\n",
    "    if i>0:\n",
    "        df=pd.read_csv(owd+\"/dat/\"+nom[0]+'.csv')\n",
    "        dfAll=pd.concat([df,dfAll])    \n",
    "        print('1 ',nom[0])\n",
    "    else:\n",
    "        dfAll=pd.read_csv(owd+\"/dat/\"+nom[0]+'.csv')\n",
    "        print('2',nom[0])"
   ]
  },
  {
   "cell_type": "markdown",
   "metadata": {},
   "source": [
    "### How many NaN stations?"
   ]
  },
  {
   "cell_type": "code",
   "execution_count": 51,
   "metadata": {
    "deletable": false,
    "editable": false,
    "run_control": {
     "frozen": true
    }
   },
   "outputs": [
    {
     "name": "stdout",
     "output_type": "stream",
     "text": [
      "The percentage start stations NaN = 3.059012532441932\n",
      "The percentage end stations NaN = 3.5745840177013197\n",
      "The percentage start stations NaN = 4.889597906251324\n"
     ]
    }
   ],
   "source": [
    "print('The percentage start stations NaN = {}'.format(100*np.shape(dfAll[dfAll['start_station_id'].isna()])[0] / np.shape(dfAll)[0]) )#95 282 3 114 796\n",
    "\n",
    "print('The percentage end stations NaN = {}'.format(100*np.shape(dfAll[dfAll['end_station_id'].isna()])[0] / np.shape(dfAll)[0]) )#95 282 3 114 796\n",
    "\n",
    "bothNa=dfAll[dfAll['start_station_id'].isna() | dfAll['end_station_id'].isna()] \n",
    "print('The percentage start stations NaN = {}'.format(100*np.shape(bothNa)[0] / np.shape(dfAll)[0]) )#95 282 3 114 796"
   ]
  },
  {
   "cell_type": "code",
   "execution_count": 63,
   "metadata": {
    "deletable": false,
    "editable": false,
    "run_control": {
     "frozen": true
    }
   },
   "outputs": [
    {
     "data": {
      "text/html": [
       "<div>\n",
       "<style scoped>\n",
       "    .dataframe tbody tr th:only-of-type {\n",
       "        vertical-align: middle;\n",
       "    }\n",
       "\n",
       "    .dataframe tbody tr th {\n",
       "        vertical-align: top;\n",
       "    }\n",
       "\n",
       "    .dataframe thead th {\n",
       "        text-align: right;\n",
       "    }\n",
       "</style>\n",
       "<table border=\"1\" class=\"dataframe\">\n",
       "  <thead>\n",
       "    <tr style=\"text-align: right;\">\n",
       "      <th></th>\n",
       "      <th>ride_id</th>\n",
       "      <th>rideable_type</th>\n",
       "      <th>started_at</th>\n",
       "      <th>ended_at</th>\n",
       "      <th>start_station_name</th>\n",
       "      <th>start_station_id</th>\n",
       "      <th>end_station_name</th>\n",
       "      <th>end_station_id</th>\n",
       "      <th>start_lat</th>\n",
       "      <th>start_lng</th>\n",
       "      <th>end_lat</th>\n",
       "      <th>end_lng</th>\n",
       "      <th>member_casual</th>\n",
       "    </tr>\n",
       "  </thead>\n",
       "  <tbody>\n",
       "    <tr>\n",
       "      <th>count</th>\n",
       "      <td>2962495</td>\n",
       "      <td>2962495</td>\n",
       "      <td>2962495</td>\n",
       "      <td>2962495</td>\n",
       "      <td>2962495</td>\n",
       "      <td>2962495.0</td>\n",
       "      <td>2962495</td>\n",
       "      <td>2962495.0</td>\n",
       "      <td>2.962495e+06</td>\n",
       "      <td>2.962495e+06</td>\n",
       "      <td>2.962495e+06</td>\n",
       "      <td>2.962495e+06</td>\n",
       "      <td>2962495</td>\n",
       "    </tr>\n",
       "    <tr>\n",
       "      <th>unique</th>\n",
       "      <td>2962287</td>\n",
       "      <td>3</td>\n",
       "      <td>2568216</td>\n",
       "      <td>2556286</td>\n",
       "      <td>689</td>\n",
       "      <td>1301.0</td>\n",
       "      <td>690</td>\n",
       "      <td>1304.0</td>\n",
       "      <td>NaN</td>\n",
       "      <td>NaN</td>\n",
       "      <td>NaN</td>\n",
       "      <td>NaN</td>\n",
       "      <td>2</td>\n",
       "    </tr>\n",
       "    <tr>\n",
       "      <th>top</th>\n",
       "      <td>0A2B0949201A9D0C</td>\n",
       "      <td>docked_bike</td>\n",
       "      <td>2020-09-07 15:19:26</td>\n",
       "      <td>2020-10-14 07:23:00</td>\n",
       "      <td>Streeter Dr &amp; Grand Ave</td>\n",
       "      <td>35.0</td>\n",
       "      <td>Streeter Dr &amp; Grand Ave</td>\n",
       "      <td>35.0</td>\n",
       "      <td>NaN</td>\n",
       "      <td>NaN</td>\n",
       "      <td>NaN</td>\n",
       "      <td>NaN</td>\n",
       "      <td>member</td>\n",
       "    </tr>\n",
       "    <tr>\n",
       "      <th>freq</th>\n",
       "      <td>2</td>\n",
       "      <td>2535257</td>\n",
       "      <td>12</td>\n",
       "      <td>13</td>\n",
       "      <td>32629</td>\n",
       "      <td>32192.0</td>\n",
       "      <td>34905</td>\n",
       "      <td>34467.0</td>\n",
       "      <td>NaN</td>\n",
       "      <td>NaN</td>\n",
       "      <td>NaN</td>\n",
       "      <td>NaN</td>\n",
       "      <td>1710201</td>\n",
       "    </tr>\n",
       "    <tr>\n",
       "      <th>mean</th>\n",
       "      <td>NaN</td>\n",
       "      <td>NaN</td>\n",
       "      <td>NaN</td>\n",
       "      <td>NaN</td>\n",
       "      <td>NaN</td>\n",
       "      <td>NaN</td>\n",
       "      <td>NaN</td>\n",
       "      <td>NaN</td>\n",
       "      <td>4.190534e+01</td>\n",
       "      <td>-8.764452e+01</td>\n",
       "      <td>4.190559e+01</td>\n",
       "      <td>-8.764481e+01</td>\n",
       "      <td>NaN</td>\n",
       "    </tr>\n",
       "    <tr>\n",
       "      <th>std</th>\n",
       "      <td>NaN</td>\n",
       "      <td>NaN</td>\n",
       "      <td>NaN</td>\n",
       "      <td>NaN</td>\n",
       "      <td>NaN</td>\n",
       "      <td>NaN</td>\n",
       "      <td>NaN</td>\n",
       "      <td>NaN</td>\n",
       "      <td>4.157203e-02</td>\n",
       "      <td>2.446731e-02</td>\n",
       "      <td>4.169299e-02</td>\n",
       "      <td>2.460637e-02</td>\n",
       "      <td>NaN</td>\n",
       "    </tr>\n",
       "    <tr>\n",
       "      <th>min</th>\n",
       "      <td>NaN</td>\n",
       "      <td>NaN</td>\n",
       "      <td>NaN</td>\n",
       "      <td>NaN</td>\n",
       "      <td>NaN</td>\n",
       "      <td>NaN</td>\n",
       "      <td>NaN</td>\n",
       "      <td>NaN</td>\n",
       "      <td>4.164850e+01</td>\n",
       "      <td>-8.777470e+01</td>\n",
       "      <td>4.164850e+01</td>\n",
       "      <td>-8.777470e+01</td>\n",
       "      <td>NaN</td>\n",
       "    </tr>\n",
       "    <tr>\n",
       "      <th>25%</th>\n",
       "      <td>NaN</td>\n",
       "      <td>NaN</td>\n",
       "      <td>NaN</td>\n",
       "      <td>NaN</td>\n",
       "      <td>NaN</td>\n",
       "      <td>NaN</td>\n",
       "      <td>NaN</td>\n",
       "      <td>NaN</td>\n",
       "      <td>4.188316e+01</td>\n",
       "      <td>-8.765840e+01</td>\n",
       "      <td>4.188338e+01</td>\n",
       "      <td>-8.765862e+01</td>\n",
       "      <td>NaN</td>\n",
       "    </tr>\n",
       "    <tr>\n",
       "      <th>50%</th>\n",
       "      <td>NaN</td>\n",
       "      <td>NaN</td>\n",
       "      <td>NaN</td>\n",
       "      <td>NaN</td>\n",
       "      <td>NaN</td>\n",
       "      <td>NaN</td>\n",
       "      <td>NaN</td>\n",
       "      <td>NaN</td>\n",
       "      <td>4.190096e+01</td>\n",
       "      <td>-8.764117e+01</td>\n",
       "      <td>4.190096e+01</td>\n",
       "      <td>-8.764182e+01</td>\n",
       "      <td>NaN</td>\n",
       "    </tr>\n",
       "    <tr>\n",
       "      <th>75%</th>\n",
       "      <td>NaN</td>\n",
       "      <td>NaN</td>\n",
       "      <td>NaN</td>\n",
       "      <td>NaN</td>\n",
       "      <td>NaN</td>\n",
       "      <td>NaN</td>\n",
       "      <td>NaN</td>\n",
       "      <td>NaN</td>\n",
       "      <td>4.193120e+01</td>\n",
       "      <td>-8.762773e+01</td>\n",
       "      <td>4.193125e+01</td>\n",
       "      <td>-8.762775e+01</td>\n",
       "      <td>NaN</td>\n",
       "    </tr>\n",
       "    <tr>\n",
       "      <th>max</th>\n",
       "      <td>NaN</td>\n",
       "      <td>NaN</td>\n",
       "      <td>NaN</td>\n",
       "      <td>NaN</td>\n",
       "      <td>NaN</td>\n",
       "      <td>NaN</td>\n",
       "      <td>NaN</td>\n",
       "      <td>NaN</td>\n",
       "      <td>4.206490e+01</td>\n",
       "      <td>-8.752823e+01</td>\n",
       "      <td>4.206501e+01</td>\n",
       "      <td>-8.752823e+01</td>\n",
       "      <td>NaN</td>\n",
       "    </tr>\n",
       "  </tbody>\n",
       "</table>\n",
       "</div>"
      ],
      "text/plain": [
       "                 ride_id rideable_type           started_at  \\\n",
       "count            2962495       2962495              2962495   \n",
       "unique           2962287             3              2568216   \n",
       "top     0A2B0949201A9D0C   docked_bike  2020-09-07 15:19:26   \n",
       "freq                   2       2535257                   12   \n",
       "mean                 NaN           NaN                  NaN   \n",
       "std                  NaN           NaN                  NaN   \n",
       "min                  NaN           NaN                  NaN   \n",
       "25%                  NaN           NaN                  NaN   \n",
       "50%                  NaN           NaN                  NaN   \n",
       "75%                  NaN           NaN                  NaN   \n",
       "max                  NaN           NaN                  NaN   \n",
       "\n",
       "                   ended_at       start_station_name  start_station_id  \\\n",
       "count               2962495                  2962495         2962495.0   \n",
       "unique              2556286                      689            1301.0   \n",
       "top     2020-10-14 07:23:00  Streeter Dr & Grand Ave              35.0   \n",
       "freq                     13                    32629           32192.0   \n",
       "mean                    NaN                      NaN               NaN   \n",
       "std                     NaN                      NaN               NaN   \n",
       "min                     NaN                      NaN               NaN   \n",
       "25%                     NaN                      NaN               NaN   \n",
       "50%                     NaN                      NaN               NaN   \n",
       "75%                     NaN                      NaN               NaN   \n",
       "max                     NaN                      NaN               NaN   \n",
       "\n",
       "               end_station_name  end_station_id     start_lat     start_lng  \\\n",
       "count                   2962495       2962495.0  2.962495e+06  2.962495e+06   \n",
       "unique                      690          1304.0           NaN           NaN   \n",
       "top     Streeter Dr & Grand Ave            35.0           NaN           NaN   \n",
       "freq                      34905         34467.0           NaN           NaN   \n",
       "mean                        NaN             NaN  4.190534e+01 -8.764452e+01   \n",
       "std                         NaN             NaN  4.157203e-02  2.446731e-02   \n",
       "min                         NaN             NaN  4.164850e+01 -8.777470e+01   \n",
       "25%                         NaN             NaN  4.188316e+01 -8.765840e+01   \n",
       "50%                         NaN             NaN  4.190096e+01 -8.764117e+01   \n",
       "75%                         NaN             NaN  4.193120e+01 -8.762773e+01   \n",
       "max                         NaN             NaN  4.206490e+01 -8.752823e+01   \n",
       "\n",
       "             end_lat       end_lng member_casual  \n",
       "count   2.962495e+06  2.962495e+06       2962495  \n",
       "unique           NaN           NaN             2  \n",
       "top              NaN           NaN        member  \n",
       "freq             NaN           NaN       1710201  \n",
       "mean    4.190559e+01 -8.764481e+01           NaN  \n",
       "std     4.169299e-02  2.460637e-02           NaN  \n",
       "min     4.164850e+01 -8.777470e+01           NaN  \n",
       "25%     4.188338e+01 -8.765862e+01           NaN  \n",
       "50%     4.190096e+01 -8.764182e+01           NaN  \n",
       "75%     4.193125e+01 -8.762775e+01           NaN  \n",
       "max     4.206501e+01 -8.752823e+01           NaN  "
      ]
     },
     "execution_count": 63,
     "metadata": {},
     "output_type": "execute_result"
    }
   ],
   "source": [
    "import copy\n",
    "dfUse=copy.copy(dfAll[dfAll['start_station_id'].notnull() & dfAll['end_station_id'].notnull()])\n",
    "dfUse.describe(include='all')"
   ]
  },
  {
   "cell_type": "markdown",
   "metadata": {},
   "source": [
    "### Now we need to convert the dates from object (i.e. string) to date format\n",
    "\n",
    "#### next add a new column as time for hire in hours"
   ]
  },
  {
   "cell_type": "code",
   "execution_count": 64,
   "metadata": {
    "deletable": false,
    "editable": false,
    "run_control": {
     "frozen": true
    }
   },
   "outputs": [
    {
     "data": {
      "text/html": [
       "<div>\n",
       "<style scoped>\n",
       "    .dataframe tbody tr th:only-of-type {\n",
       "        vertical-align: middle;\n",
       "    }\n",
       "\n",
       "    .dataframe tbody tr th {\n",
       "        vertical-align: top;\n",
       "    }\n",
       "\n",
       "    .dataframe thead th {\n",
       "        text-align: right;\n",
       "    }\n",
       "</style>\n",
       "<table border=\"1\" class=\"dataframe\">\n",
       "  <thead>\n",
       "    <tr style=\"text-align: right;\">\n",
       "      <th></th>\n",
       "      <th>ride_id</th>\n",
       "      <th>rideable_type</th>\n",
       "      <th>hire_time_h</th>\n",
       "      <th>started_at</th>\n",
       "      <th>ended_at</th>\n",
       "      <th>start_station_name</th>\n",
       "      <th>start_station_id</th>\n",
       "      <th>end_station_name</th>\n",
       "      <th>end_station_id</th>\n",
       "      <th>start_lat</th>\n",
       "      <th>start_lng</th>\n",
       "      <th>end_lat</th>\n",
       "      <th>end_lng</th>\n",
       "      <th>member_casual</th>\n",
       "    </tr>\n",
       "  </thead>\n",
       "  <tbody>\n",
       "    <tr>\n",
       "      <th>0</th>\n",
       "      <td>70B6A9A437D4C30D</td>\n",
       "      <td>classic_bike</td>\n",
       "      <td>0.176944</td>\n",
       "      <td>2020-12-27 12:44:29</td>\n",
       "      <td>2020-12-27 12:55:06</td>\n",
       "      <td>Aberdeen St &amp; Jackson Blvd</td>\n",
       "      <td>13157</td>\n",
       "      <td>Desplaines St &amp; Kinzie St</td>\n",
       "      <td>TA1306000003</td>\n",
       "      <td>41.877726</td>\n",
       "      <td>-87.654787</td>\n",
       "      <td>41.888716</td>\n",
       "      <td>-87.644448</td>\n",
       "      <td>member</td>\n",
       "    </tr>\n",
       "    <tr>\n",
       "      <th>39</th>\n",
       "      <td>15F369FDAED4E8E3</td>\n",
       "      <td>electric_bike</td>\n",
       "      <td>0.130556</td>\n",
       "      <td>2020-12-18 13:53:56</td>\n",
       "      <td>2020-12-18 14:01:46</td>\n",
       "      <td>Larrabee St &amp; Armitage Ave</td>\n",
       "      <td>TA1309000006</td>\n",
       "      <td>Wells St &amp; Walton St</td>\n",
       "      <td>TA1306000011</td>\n",
       "      <td>41.918112</td>\n",
       "      <td>-87.643799</td>\n",
       "      <td>41.900129</td>\n",
       "      <td>-87.634448</td>\n",
       "      <td>member</td>\n",
       "    </tr>\n",
       "    <tr>\n",
       "      <th>50</th>\n",
       "      <td>0CFD61DFE00E6043</td>\n",
       "      <td>electric_bike</td>\n",
       "      <td>0.030000</td>\n",
       "      <td>2020-12-28 17:10:25</td>\n",
       "      <td>2020-12-28 17:12:13</td>\n",
       "      <td>Kingsbury St &amp; Kinzie St</td>\n",
       "      <td>KA1503000043</td>\n",
       "      <td>Desplaines St &amp; Kinzie St</td>\n",
       "      <td>TA1306000003</td>\n",
       "      <td>41.889193</td>\n",
       "      <td>-87.638576</td>\n",
       "      <td>41.889099</td>\n",
       "      <td>-87.642479</td>\n",
       "      <td>member</td>\n",
       "    </tr>\n",
       "    <tr>\n",
       "      <th>87</th>\n",
       "      <td>244CB936487039B7</td>\n",
       "      <td>docked_bike</td>\n",
       "      <td>1.013056</td>\n",
       "      <td>2020-12-10 13:36:16</td>\n",
       "      <td>2020-12-10 14:37:03</td>\n",
       "      <td>Clark St &amp; Leland Ave</td>\n",
       "      <td>TA1309000014</td>\n",
       "      <td>Clark St &amp; Leland Ave</td>\n",
       "      <td>TA1309000014</td>\n",
       "      <td>41.967096</td>\n",
       "      <td>-87.667429</td>\n",
       "      <td>41.967096</td>\n",
       "      <td>-87.667429</td>\n",
       "      <td>casual</td>\n",
       "    </tr>\n",
       "    <tr>\n",
       "      <th>88</th>\n",
       "      <td>B7AD5038F79637F9</td>\n",
       "      <td>classic_bike</td>\n",
       "      <td>0.101111</td>\n",
       "      <td>2020-12-20 13:09:04</td>\n",
       "      <td>2020-12-20 13:15:08</td>\n",
       "      <td>Dearborn St &amp; Monroe St</td>\n",
       "      <td>TA1305000006</td>\n",
       "      <td>Kingsbury St &amp; Kinzie St</td>\n",
       "      <td>KA1503000043</td>\n",
       "      <td>41.881320</td>\n",
       "      <td>-87.629521</td>\n",
       "      <td>41.889177</td>\n",
       "      <td>-87.638506</td>\n",
       "      <td>member</td>\n",
       "    </tr>\n",
       "  </tbody>\n",
       "</table>\n",
       "</div>"
      ],
      "text/plain": [
       "             ride_id  rideable_type  hire_time_h          started_at  \\\n",
       "0   70B6A9A437D4C30D   classic_bike     0.176944 2020-12-27 12:44:29   \n",
       "39  15F369FDAED4E8E3  electric_bike     0.130556 2020-12-18 13:53:56   \n",
       "50  0CFD61DFE00E6043  electric_bike     0.030000 2020-12-28 17:10:25   \n",
       "87  244CB936487039B7    docked_bike     1.013056 2020-12-10 13:36:16   \n",
       "88  B7AD5038F79637F9   classic_bike     0.101111 2020-12-20 13:09:04   \n",
       "\n",
       "              ended_at          start_station_name start_station_id  \\\n",
       "0  2020-12-27 12:55:06  Aberdeen St & Jackson Blvd            13157   \n",
       "39 2020-12-18 14:01:46  Larrabee St & Armitage Ave     TA1309000006   \n",
       "50 2020-12-28 17:12:13    Kingsbury St & Kinzie St     KA1503000043   \n",
       "87 2020-12-10 14:37:03       Clark St & Leland Ave     TA1309000014   \n",
       "88 2020-12-20 13:15:08     Dearborn St & Monroe St     TA1305000006   \n",
       "\n",
       "             end_station_name end_station_id  start_lat  start_lng    end_lat  \\\n",
       "0   Desplaines St & Kinzie St   TA1306000003  41.877726 -87.654787  41.888716   \n",
       "39       Wells St & Walton St   TA1306000011  41.918112 -87.643799  41.900129   \n",
       "50  Desplaines St & Kinzie St   TA1306000003  41.889193 -87.638576  41.889099   \n",
       "87      Clark St & Leland Ave   TA1309000014  41.967096 -87.667429  41.967096   \n",
       "88   Kingsbury St & Kinzie St   KA1503000043  41.881320 -87.629521  41.889177   \n",
       "\n",
       "      end_lng member_casual  \n",
       "0  -87.644448        member  \n",
       "39 -87.634448        member  \n",
       "50 -87.642479        member  \n",
       "87 -87.667429        casual  \n",
       "88 -87.638506        member  "
      ]
     },
     "execution_count": 64,
     "metadata": {},
     "output_type": "execute_result"
    }
   ],
   "source": [
    "dfUse.loc[:,'started_at']=pd.to_datetime(dfUse['started_at'],infer_datetime_format=True)\n",
    "dfUse.loc[:,'ended_at']=pd.to_datetime(dfUse['ended_at'],infer_datetime_format=True)\n",
    "\n",
    "delta=dfUse.iloc[:,3]-dfUse.iloc[:,2]\n",
    "dd=delta.dt.total_seconds()/(60*60)\n",
    "dfUse.insert(2,\"hire_time_h\",dd)\n",
    "dfUse.head()"
   ]
  },
  {
   "cell_type": "markdown",
   "metadata": {},
   "source": [
    "#### Maybe we want the day of the week?\n",
    "The day of the week with Monday=0, Sunday=6."
   ]
  },
  {
   "cell_type": "code",
   "execution_count": 65,
   "metadata": {
    "deletable": false,
    "editable": false,
    "run_control": {
     "frozen": true
    }
   },
   "outputs": [
    {
     "data": {
      "text/html": [
       "<div>\n",
       "<style scoped>\n",
       "    .dataframe tbody tr th:only-of-type {\n",
       "        vertical-align: middle;\n",
       "    }\n",
       "\n",
       "    .dataframe tbody tr th {\n",
       "        vertical-align: top;\n",
       "    }\n",
       "\n",
       "    .dataframe thead th {\n",
       "        text-align: right;\n",
       "    }\n",
       "</style>\n",
       "<table border=\"1\" class=\"dataframe\">\n",
       "  <thead>\n",
       "    <tr style=\"text-align: right;\">\n",
       "      <th></th>\n",
       "      <th>ride_id</th>\n",
       "      <th>rideable_type</th>\n",
       "      <th>hire_time_h</th>\n",
       "      <th>day_week</th>\n",
       "      <th>started_at</th>\n",
       "      <th>ended_at</th>\n",
       "      <th>start_station_name</th>\n",
       "      <th>start_station_id</th>\n",
       "      <th>end_station_name</th>\n",
       "      <th>end_station_id</th>\n",
       "      <th>start_lat</th>\n",
       "      <th>start_lng</th>\n",
       "      <th>end_lat</th>\n",
       "      <th>end_lng</th>\n",
       "      <th>member_casual</th>\n",
       "    </tr>\n",
       "  </thead>\n",
       "  <tbody>\n",
       "    <tr>\n",
       "      <th>0</th>\n",
       "      <td>70B6A9A437D4C30D</td>\n",
       "      <td>classic_bike</td>\n",
       "      <td>0.176944</td>\n",
       "      <td>6</td>\n",
       "      <td>2020-12-27 12:44:29</td>\n",
       "      <td>2020-12-27 12:55:06</td>\n",
       "      <td>Aberdeen St &amp; Jackson Blvd</td>\n",
       "      <td>13157</td>\n",
       "      <td>Desplaines St &amp; Kinzie St</td>\n",
       "      <td>TA1306000003</td>\n",
       "      <td>41.877726</td>\n",
       "      <td>-87.654787</td>\n",
       "      <td>41.888716</td>\n",
       "      <td>-87.644448</td>\n",
       "      <td>member</td>\n",
       "    </tr>\n",
       "    <tr>\n",
       "      <th>39</th>\n",
       "      <td>15F369FDAED4E8E3</td>\n",
       "      <td>electric_bike</td>\n",
       "      <td>0.130556</td>\n",
       "      <td>4</td>\n",
       "      <td>2020-12-18 13:53:56</td>\n",
       "      <td>2020-12-18 14:01:46</td>\n",
       "      <td>Larrabee St &amp; Armitage Ave</td>\n",
       "      <td>TA1309000006</td>\n",
       "      <td>Wells St &amp; Walton St</td>\n",
       "      <td>TA1306000011</td>\n",
       "      <td>41.918112</td>\n",
       "      <td>-87.643799</td>\n",
       "      <td>41.900129</td>\n",
       "      <td>-87.634448</td>\n",
       "      <td>member</td>\n",
       "    </tr>\n",
       "    <tr>\n",
       "      <th>50</th>\n",
       "      <td>0CFD61DFE00E6043</td>\n",
       "      <td>electric_bike</td>\n",
       "      <td>0.030000</td>\n",
       "      <td>0</td>\n",
       "      <td>2020-12-28 17:10:25</td>\n",
       "      <td>2020-12-28 17:12:13</td>\n",
       "      <td>Kingsbury St &amp; Kinzie St</td>\n",
       "      <td>KA1503000043</td>\n",
       "      <td>Desplaines St &amp; Kinzie St</td>\n",
       "      <td>TA1306000003</td>\n",
       "      <td>41.889193</td>\n",
       "      <td>-87.638576</td>\n",
       "      <td>41.889099</td>\n",
       "      <td>-87.642479</td>\n",
       "      <td>member</td>\n",
       "    </tr>\n",
       "    <tr>\n",
       "      <th>87</th>\n",
       "      <td>244CB936487039B7</td>\n",
       "      <td>docked_bike</td>\n",
       "      <td>1.013056</td>\n",
       "      <td>3</td>\n",
       "      <td>2020-12-10 13:36:16</td>\n",
       "      <td>2020-12-10 14:37:03</td>\n",
       "      <td>Clark St &amp; Leland Ave</td>\n",
       "      <td>TA1309000014</td>\n",
       "      <td>Clark St &amp; Leland Ave</td>\n",
       "      <td>TA1309000014</td>\n",
       "      <td>41.967096</td>\n",
       "      <td>-87.667429</td>\n",
       "      <td>41.967096</td>\n",
       "      <td>-87.667429</td>\n",
       "      <td>casual</td>\n",
       "    </tr>\n",
       "    <tr>\n",
       "      <th>88</th>\n",
       "      <td>B7AD5038F79637F9</td>\n",
       "      <td>classic_bike</td>\n",
       "      <td>0.101111</td>\n",
       "      <td>6</td>\n",
       "      <td>2020-12-20 13:09:04</td>\n",
       "      <td>2020-12-20 13:15:08</td>\n",
       "      <td>Dearborn St &amp; Monroe St</td>\n",
       "      <td>TA1305000006</td>\n",
       "      <td>Kingsbury St &amp; Kinzie St</td>\n",
       "      <td>KA1503000043</td>\n",
       "      <td>41.881320</td>\n",
       "      <td>-87.629521</td>\n",
       "      <td>41.889177</td>\n",
       "      <td>-87.638506</td>\n",
       "      <td>member</td>\n",
       "    </tr>\n",
       "  </tbody>\n",
       "</table>\n",
       "</div>"
      ],
      "text/plain": [
       "             ride_id  rideable_type  hire_time_h  day_week  \\\n",
       "0   70B6A9A437D4C30D   classic_bike     0.176944         6   \n",
       "39  15F369FDAED4E8E3  electric_bike     0.130556         4   \n",
       "50  0CFD61DFE00E6043  electric_bike     0.030000         0   \n",
       "87  244CB936487039B7    docked_bike     1.013056         3   \n",
       "88  B7AD5038F79637F9   classic_bike     0.101111         6   \n",
       "\n",
       "            started_at            ended_at          start_station_name  \\\n",
       "0  2020-12-27 12:44:29 2020-12-27 12:55:06  Aberdeen St & Jackson Blvd   \n",
       "39 2020-12-18 13:53:56 2020-12-18 14:01:46  Larrabee St & Armitage Ave   \n",
       "50 2020-12-28 17:10:25 2020-12-28 17:12:13    Kingsbury St & Kinzie St   \n",
       "87 2020-12-10 13:36:16 2020-12-10 14:37:03       Clark St & Leland Ave   \n",
       "88 2020-12-20 13:09:04 2020-12-20 13:15:08     Dearborn St & Monroe St   \n",
       "\n",
       "   start_station_id           end_station_name end_station_id  start_lat  \\\n",
       "0             13157  Desplaines St & Kinzie St   TA1306000003  41.877726   \n",
       "39     TA1309000006       Wells St & Walton St   TA1306000011  41.918112   \n",
       "50     KA1503000043  Desplaines St & Kinzie St   TA1306000003  41.889193   \n",
       "87     TA1309000014      Clark St & Leland Ave   TA1309000014  41.967096   \n",
       "88     TA1305000006   Kingsbury St & Kinzie St   KA1503000043  41.881320   \n",
       "\n",
       "    start_lng    end_lat    end_lng member_casual  \n",
       "0  -87.654787  41.888716 -87.644448        member  \n",
       "39 -87.643799  41.900129 -87.634448        member  \n",
       "50 -87.638576  41.889099 -87.642479        member  \n",
       "87 -87.667429  41.967096 -87.667429        casual  \n",
       "88 -87.629521  41.889177 -87.638506        member  "
      ]
     },
     "execution_count": 65,
     "metadata": {},
     "output_type": "execute_result"
    }
   ],
   "source": [
    "dfUse.insert(3,'day_week',dfUse.loc[:,'started_at'].dt.dayofweek)\n",
    "dfUse.head()"
   ]
  },
  {
   "cell_type": "markdown",
   "metadata": {},
   "source": [
    "### Lets also get the time on its own"
   ]
  },
  {
   "cell_type": "code",
   "execution_count": 68,
   "metadata": {
    "deletable": false,
    "editable": false,
    "run_control": {
     "frozen": true
    }
   },
   "outputs": [
    {
     "data": {
      "text/html": [
       "<div>\n",
       "<style scoped>\n",
       "    .dataframe tbody tr th:only-of-type {\n",
       "        vertical-align: middle;\n",
       "    }\n",
       "\n",
       "    .dataframe tbody tr th {\n",
       "        vertical-align: top;\n",
       "    }\n",
       "\n",
       "    .dataframe thead th {\n",
       "        text-align: right;\n",
       "    }\n",
       "</style>\n",
       "<table border=\"1\" class=\"dataframe\">\n",
       "  <thead>\n",
       "    <tr style=\"text-align: right;\">\n",
       "      <th></th>\n",
       "      <th>ride_id</th>\n",
       "      <th>rideable_type</th>\n",
       "      <th>hire_time_h</th>\n",
       "      <th>day_week</th>\n",
       "      <th>time_day</th>\n",
       "      <th>started_at</th>\n",
       "      <th>ended_at</th>\n",
       "      <th>start_station_name</th>\n",
       "      <th>start_station_id</th>\n",
       "      <th>end_station_name</th>\n",
       "      <th>end_station_id</th>\n",
       "      <th>start_lat</th>\n",
       "      <th>distance</th>\n",
       "      <th>start_lng</th>\n",
       "      <th>end_lat</th>\n",
       "      <th>end_lng</th>\n",
       "      <th>member_casual</th>\n",
       "    </tr>\n",
       "  </thead>\n",
       "  <tbody>\n",
       "    <tr>\n",
       "      <th>0</th>\n",
       "      <td>70B6A9A437D4C30D</td>\n",
       "      <td>classic_bike</td>\n",
       "      <td>0.176944</td>\n",
       "      <td>6</td>\n",
       "      <td>12.733333</td>\n",
       "      <td>2020-12-27 12:44:29</td>\n",
       "      <td>2020-12-27 12:55:06</td>\n",
       "      <td>Aberdeen St &amp; Jackson Blvd</td>\n",
       "      <td>13157</td>\n",
       "      <td>Desplaines St &amp; Kinzie St</td>\n",
       "      <td>TA1306000003</td>\n",
       "      <td>41.877726</td>\n",
       "      <td>1.491984</td>\n",
       "      <td>-87.654787</td>\n",
       "      <td>41.888716</td>\n",
       "      <td>-87.644448</td>\n",
       "      <td>member</td>\n",
       "    </tr>\n",
       "    <tr>\n",
       "      <th>39</th>\n",
       "      <td>15F369FDAED4E8E3</td>\n",
       "      <td>electric_bike</td>\n",
       "      <td>0.130556</td>\n",
       "      <td>4</td>\n",
       "      <td>13.883333</td>\n",
       "      <td>2020-12-18 13:53:56</td>\n",
       "      <td>2020-12-18 14:01:46</td>\n",
       "      <td>Larrabee St &amp; Armitage Ave</td>\n",
       "      <td>TA1309000006</td>\n",
       "      <td>Wells St &amp; Walton St</td>\n",
       "      <td>TA1306000011</td>\n",
       "      <td>41.918112</td>\n",
       "      <td>2.144117</td>\n",
       "      <td>-87.643799</td>\n",
       "      <td>41.900129</td>\n",
       "      <td>-87.634448</td>\n",
       "      <td>member</td>\n",
       "    </tr>\n",
       "    <tr>\n",
       "      <th>50</th>\n",
       "      <td>0CFD61DFE00E6043</td>\n",
       "      <td>electric_bike</td>\n",
       "      <td>0.030000</td>\n",
       "      <td>0</td>\n",
       "      <td>17.166667</td>\n",
       "      <td>2020-12-28 17:10:25</td>\n",
       "      <td>2020-12-28 17:12:13</td>\n",
       "      <td>Kingsbury St &amp; Kinzie St</td>\n",
       "      <td>KA1503000043</td>\n",
       "      <td>Desplaines St &amp; Kinzie St</td>\n",
       "      <td>TA1306000003</td>\n",
       "      <td>41.889193</td>\n",
       "      <td>0.323238</td>\n",
       "      <td>-87.638576</td>\n",
       "      <td>41.889099</td>\n",
       "      <td>-87.642479</td>\n",
       "      <td>member</td>\n",
       "    </tr>\n",
       "    <tr>\n",
       "      <th>87</th>\n",
       "      <td>244CB936487039B7</td>\n",
       "      <td>docked_bike</td>\n",
       "      <td>1.013056</td>\n",
       "      <td>3</td>\n",
       "      <td>13.600000</td>\n",
       "      <td>2020-12-10 13:36:16</td>\n",
       "      <td>2020-12-10 14:37:03</td>\n",
       "      <td>Clark St &amp; Leland Ave</td>\n",
       "      <td>TA1309000014</td>\n",
       "      <td>Clark St &amp; Leland Ave</td>\n",
       "      <td>TA1309000014</td>\n",
       "      <td>41.967096</td>\n",
       "      <td>0.000000</td>\n",
       "      <td>-87.667429</td>\n",
       "      <td>41.967096</td>\n",
       "      <td>-87.667429</td>\n",
       "      <td>casual</td>\n",
       "    </tr>\n",
       "    <tr>\n",
       "      <th>88</th>\n",
       "      <td>B7AD5038F79637F9</td>\n",
       "      <td>classic_bike</td>\n",
       "      <td>0.101111</td>\n",
       "      <td>6</td>\n",
       "      <td>13.150000</td>\n",
       "      <td>2020-12-20 13:09:04</td>\n",
       "      <td>2020-12-20 13:15:08</td>\n",
       "      <td>Dearborn St &amp; Monroe St</td>\n",
       "      <td>TA1305000006</td>\n",
       "      <td>Kingsbury St &amp; Kinzie St</td>\n",
       "      <td>KA1503000043</td>\n",
       "      <td>41.881320</td>\n",
       "      <td>1.147392</td>\n",
       "      <td>-87.629521</td>\n",
       "      <td>41.889177</td>\n",
       "      <td>-87.638506</td>\n",
       "      <td>member</td>\n",
       "    </tr>\n",
       "  </tbody>\n",
       "</table>\n",
       "</div>"
      ],
      "text/plain": [
       "             ride_id  rideable_type  hire_time_h  day_week   time_day  \\\n",
       "0   70B6A9A437D4C30D   classic_bike     0.176944         6  12.733333   \n",
       "39  15F369FDAED4E8E3  electric_bike     0.130556         4  13.883333   \n",
       "50  0CFD61DFE00E6043  electric_bike     0.030000         0  17.166667   \n",
       "87  244CB936487039B7    docked_bike     1.013056         3  13.600000   \n",
       "88  B7AD5038F79637F9   classic_bike     0.101111         6  13.150000   \n",
       "\n",
       "            started_at            ended_at          start_station_name  \\\n",
       "0  2020-12-27 12:44:29 2020-12-27 12:55:06  Aberdeen St & Jackson Blvd   \n",
       "39 2020-12-18 13:53:56 2020-12-18 14:01:46  Larrabee St & Armitage Ave   \n",
       "50 2020-12-28 17:10:25 2020-12-28 17:12:13    Kingsbury St & Kinzie St   \n",
       "87 2020-12-10 13:36:16 2020-12-10 14:37:03       Clark St & Leland Ave   \n",
       "88 2020-12-20 13:09:04 2020-12-20 13:15:08     Dearborn St & Monroe St   \n",
       "\n",
       "   start_station_id           end_station_name end_station_id  start_lat  \\\n",
       "0             13157  Desplaines St & Kinzie St   TA1306000003  41.877726   \n",
       "39     TA1309000006       Wells St & Walton St   TA1306000011  41.918112   \n",
       "50     KA1503000043  Desplaines St & Kinzie St   TA1306000003  41.889193   \n",
       "87     TA1309000014      Clark St & Leland Ave   TA1309000014  41.967096   \n",
       "88     TA1305000006   Kingsbury St & Kinzie St   KA1503000043  41.881320   \n",
       "\n",
       "    distance  start_lng    end_lat    end_lng member_casual  \n",
       "0   1.491984 -87.654787  41.888716 -87.644448        member  \n",
       "39  2.144117 -87.643799  41.900129 -87.634448        member  \n",
       "50  0.323238 -87.638576  41.889099 -87.642479        member  \n",
       "87  0.000000 -87.667429  41.967096 -87.667429        casual  \n",
       "88  1.147392 -87.629521  41.889177 -87.638506        member  "
      ]
     },
     "execution_count": 68,
     "metadata": {},
     "output_type": "execute_result"
    }
   ],
   "source": [
    "dfUse.insert(4,'time_day',dfUse.loc[:,'started_at'].dt.hour + dfUse.loc[:,'started_at'].dt.minute/60)\n",
    "dfUse.head()"
   ]
  },
  {
   "cell_type": "markdown",
   "metadata": {},
   "source": [
    "### And the distance travelled"
   ]
  },
  {
   "cell_type": "code",
   "execution_count": 66,
   "metadata": {
    "deletable": false,
    "editable": false,
    "run_control": {
     "frozen": true
    }
   },
   "outputs": [],
   "source": [
    "def distanceLatLong(lat1,lon1,lat2,lon2):\n",
    "    \n",
    "    import numpy as np\n",
    "\n",
    "    def deg2rad(deg):\n",
    "        return deg * np.pi/180\n",
    "\n",
    "    R = 6371; # Radius of the earth in km\n",
    "    dLat = deg2rad(lat2-lat1)  # deg2rad below\n",
    "    dLon = deg2rad(lon2-lon1)\n",
    "    a = np.sin(dLat/2) * np.sin(dLat/2) + \\\n",
    "    np.cos(deg2rad(lat1)) * np.cos(deg2rad(lat2)) * \\\n",
    "    np.sin(dLon/2) * np.sin(dLon/2)\n",
    "\n",
    "    c = 2 * np.arctan2(np.sqrt(a), np.sqrt(1-a))\n",
    "    d = R * c ## Distance in km\n",
    " \n",
    "    return d"
   ]
  },
  {
   "cell_type": "code",
   "execution_count": 67,
   "metadata": {
    "deletable": false,
    "editable": false,
    "run_control": {
     "frozen": true
    }
   },
   "outputs": [
    {
     "data": {
      "text/html": [
       "<div>\n",
       "<style scoped>\n",
       "    .dataframe tbody tr th:only-of-type {\n",
       "        vertical-align: middle;\n",
       "    }\n",
       "\n",
       "    .dataframe tbody tr th {\n",
       "        vertical-align: top;\n",
       "    }\n",
       "\n",
       "    .dataframe thead th {\n",
       "        text-align: right;\n",
       "    }\n",
       "</style>\n",
       "<table border=\"1\" class=\"dataframe\">\n",
       "  <thead>\n",
       "    <tr style=\"text-align: right;\">\n",
       "      <th></th>\n",
       "      <th>hire_time_h</th>\n",
       "      <th>day_week</th>\n",
       "      <th>start_lat</th>\n",
       "      <th>distance</th>\n",
       "      <th>start_lng</th>\n",
       "      <th>end_lat</th>\n",
       "      <th>end_lng</th>\n",
       "    </tr>\n",
       "  </thead>\n",
       "  <tbody>\n",
       "    <tr>\n",
       "      <th>count</th>\n",
       "      <td>2.962495e+06</td>\n",
       "      <td>2.962495e+06</td>\n",
       "      <td>2.962495e+06</td>\n",
       "      <td>2.962495e+06</td>\n",
       "      <td>2.962495e+06</td>\n",
       "      <td>2.962495e+06</td>\n",
       "      <td>2.962495e+06</td>\n",
       "    </tr>\n",
       "    <tr>\n",
       "      <th>mean</th>\n",
       "      <td>4.291666e-01</td>\n",
       "      <td>3.262215e+00</td>\n",
       "      <td>4.190534e+01</td>\n",
       "      <td>2.240406e+00</td>\n",
       "      <td>-8.764452e+01</td>\n",
       "      <td>4.190559e+01</td>\n",
       "      <td>-8.764481e+01</td>\n",
       "    </tr>\n",
       "    <tr>\n",
       "      <th>std</th>\n",
       "      <td>6.640800e+00</td>\n",
       "      <td>1.973614e+00</td>\n",
       "      <td>4.157203e-02</td>\n",
       "      <td>2.029178e+00</td>\n",
       "      <td>2.446731e-02</td>\n",
       "      <td>4.169299e-02</td>\n",
       "      <td>2.460637e-02</td>\n",
       "    </tr>\n",
       "    <tr>\n",
       "      <th>min</th>\n",
       "      <td>-4.841661e+02</td>\n",
       "      <td>0.000000e+00</td>\n",
       "      <td>4.164850e+01</td>\n",
       "      <td>0.000000e+00</td>\n",
       "      <td>-8.777470e+01</td>\n",
       "      <td>4.164850e+01</td>\n",
       "      <td>-8.777470e+01</td>\n",
       "    </tr>\n",
       "    <tr>\n",
       "      <th>25%</th>\n",
       "      <td>1.377778e-01</td>\n",
       "      <td>2.000000e+00</td>\n",
       "      <td>4.188316e+01</td>\n",
       "      <td>8.598642e-01</td>\n",
       "      <td>-8.765840e+01</td>\n",
       "      <td>4.188338e+01</td>\n",
       "      <td>-8.765862e+01</td>\n",
       "    </tr>\n",
       "    <tr>\n",
       "      <th>50%</th>\n",
       "      <td>2.525000e-01</td>\n",
       "      <td>3.000000e+00</td>\n",
       "      <td>4.190096e+01</td>\n",
       "      <td>1.713410e+00</td>\n",
       "      <td>-8.764117e+01</td>\n",
       "      <td>4.190096e+01</td>\n",
       "      <td>-8.764182e+01</td>\n",
       "    </tr>\n",
       "    <tr>\n",
       "      <th>75%</th>\n",
       "      <td>4.577778e-01</td>\n",
       "      <td>5.000000e+00</td>\n",
       "      <td>4.193120e+01</td>\n",
       "      <td>3.098683e+00</td>\n",
       "      <td>-8.762773e+01</td>\n",
       "      <td>4.193125e+01</td>\n",
       "      <td>-8.762775e+01</td>\n",
       "    </tr>\n",
       "    <tr>\n",
       "      <th>max</th>\n",
       "      <td>9.786672e+02</td>\n",
       "      <td>6.000000e+00</td>\n",
       "      <td>4.206490e+01</td>\n",
       "      <td>4.837080e+01</td>\n",
       "      <td>-8.752823e+01</td>\n",
       "      <td>4.206501e+01</td>\n",
       "      <td>-8.752823e+01</td>\n",
       "    </tr>\n",
       "  </tbody>\n",
       "</table>\n",
       "</div>"
      ],
      "text/plain": [
       "        hire_time_h      day_week     start_lat      distance     start_lng  \\\n",
       "count  2.962495e+06  2.962495e+06  2.962495e+06  2.962495e+06  2.962495e+06   \n",
       "mean   4.291666e-01  3.262215e+00  4.190534e+01  2.240406e+00 -8.764452e+01   \n",
       "std    6.640800e+00  1.973614e+00  4.157203e-02  2.029178e+00  2.446731e-02   \n",
       "min   -4.841661e+02  0.000000e+00  4.164850e+01  0.000000e+00 -8.777470e+01   \n",
       "25%    1.377778e-01  2.000000e+00  4.188316e+01  8.598642e-01 -8.765840e+01   \n",
       "50%    2.525000e-01  3.000000e+00  4.190096e+01  1.713410e+00 -8.764117e+01   \n",
       "75%    4.577778e-01  5.000000e+00  4.193120e+01  3.098683e+00 -8.762773e+01   \n",
       "max    9.786672e+02  6.000000e+00  4.206490e+01  4.837080e+01 -8.752823e+01   \n",
       "\n",
       "            end_lat       end_lng  \n",
       "count  2.962495e+06  2.962495e+06  \n",
       "mean   4.190559e+01 -8.764481e+01  \n",
       "std    4.169299e-02  2.460637e-02  \n",
       "min    4.164850e+01 -8.777470e+01  \n",
       "25%    4.188338e+01 -8.765862e+01  \n",
       "50%    4.190096e+01 -8.764182e+01  \n",
       "75%    4.193125e+01 -8.762775e+01  \n",
       "max    4.206501e+01 -8.752823e+01  "
      ]
     },
     "execution_count": 67,
     "metadata": {},
     "output_type": "execute_result"
    }
   ],
   "source": [
    "d=distanceLatLong(dfUse[\"start_lat\"].values,dfUse[\"start_lng\"].values,dfUse[\"end_lat\"].values,dfUse[\"end_lng\"].values)\n",
    "dfUse.insert(11,'distance',d)\n",
    "dfUse.describe()"
   ]
  },
  {
   "cell_type": "markdown",
   "metadata": {},
   "source": [
    "### Some issues arose above\n",
    "- hire_time_h max and min values\n",
    "\n",
    "Looks like the error is there from the start, so lets delete them\n",
    "\n",
    "do the same for long times"
   ]
  },
  {
   "cell_type": "code",
   "execution_count": 69,
   "metadata": {
    "deletable": false,
    "editable": false,
    "run_control": {
     "frozen": true
    }
   },
   "outputs": [],
   "source": [
    "dfUse=dfUse[dfUse.hire_time_h>=0]\n",
    "\n",
    "dfUse=dfUse[dfUse.hire_time_h<24]"
   ]
  },
  {
   "cell_type": "markdown",
   "metadata": {},
   "source": [
    "### Lets drop some columns for space"
   ]
  },
  {
   "cell_type": "code",
   "execution_count": 71,
   "metadata": {
    "deletable": false,
    "editable": false,
    "run_control": {
     "frozen": true
    }
   },
   "outputs": [],
   "source": [
    "dfUse.drop(columns=[\"ride_id\", \"started_at\",\"ended_at\",\"start_station_name\",\"end_station_name\"],inplace=True)\n",
    "#,\"start_station_id\",\"end_station_id\"]"
   ]
  },
  {
   "cell_type": "markdown",
   "metadata": {},
   "source": [
    "### save"
   ]
  },
  {
   "cell_type": "code",
   "execution_count": 72,
   "metadata": {
    "deletable": false,
    "editable": false,
    "run_control": {
     "frozen": true
    }
   },
   "outputs": [],
   "source": [
    "dfUse.to_csv('/data/df_2020.csv')\n",
    "df=copy.copy(dfUse)"
   ]
  },
  {
   "cell_type": "code",
   "execution_count": 3,
   "metadata": {},
   "outputs": [
    {
     "name": "stderr",
     "output_type": "stream",
     "text": [
      "C:\\Users\\44781\\anaconda3\\lib\\site-packages\\IPython\\core\\interactiveshell.py:3165: DtypeWarning: Columns (5,6) have mixed types.Specify dtype option on import or set low_memory=False.\n",
      "  has_raised = await self.run_ast_nodes(code_ast.body, cell_name,\n"
     ]
    },
    {
     "data": {
      "text/html": [
       "<div>\n",
       "<style scoped>\n",
       "    .dataframe tbody tr th:only-of-type {\n",
       "        vertical-align: middle;\n",
       "    }\n",
       "\n",
       "    .dataframe tbody tr th {\n",
       "        vertical-align: top;\n",
       "    }\n",
       "\n",
       "    .dataframe thead th {\n",
       "        text-align: right;\n",
       "    }\n",
       "</style>\n",
       "<table border=\"1\" class=\"dataframe\">\n",
       "  <thead>\n",
       "    <tr style=\"text-align: right;\">\n",
       "      <th></th>\n",
       "      <th>Unnamed: 0</th>\n",
       "      <th>rideable_type</th>\n",
       "      <th>hire_time_h</th>\n",
       "      <th>day_week</th>\n",
       "      <th>time_day</th>\n",
       "      <th>start_station_id</th>\n",
       "      <th>end_station_id</th>\n",
       "      <th>start_lat</th>\n",
       "      <th>distance</th>\n",
       "      <th>start_lng</th>\n",
       "      <th>end_lat</th>\n",
       "      <th>end_lng</th>\n",
       "      <th>member_casual</th>\n",
       "    </tr>\n",
       "  </thead>\n",
       "  <tbody>\n",
       "    <tr>\n",
       "      <th>0</th>\n",
       "      <td>0</td>\n",
       "      <td>classic_bike</td>\n",
       "      <td>0.176944</td>\n",
       "      <td>6</td>\n",
       "      <td>12.733333</td>\n",
       "      <td>13157</td>\n",
       "      <td>TA1306000003</td>\n",
       "      <td>41.877726</td>\n",
       "      <td>1.491984</td>\n",
       "      <td>-87.654787</td>\n",
       "      <td>41.888716</td>\n",
       "      <td>-87.644448</td>\n",
       "      <td>member</td>\n",
       "    </tr>\n",
       "    <tr>\n",
       "      <th>1</th>\n",
       "      <td>39</td>\n",
       "      <td>electric_bike</td>\n",
       "      <td>0.130556</td>\n",
       "      <td>4</td>\n",
       "      <td>13.883333</td>\n",
       "      <td>TA1309000006</td>\n",
       "      <td>TA1306000011</td>\n",
       "      <td>41.918112</td>\n",
       "      <td>2.144117</td>\n",
       "      <td>-87.643799</td>\n",
       "      <td>41.900129</td>\n",
       "      <td>-87.634448</td>\n",
       "      <td>member</td>\n",
       "    </tr>\n",
       "    <tr>\n",
       "      <th>2</th>\n",
       "      <td>50</td>\n",
       "      <td>electric_bike</td>\n",
       "      <td>0.030000</td>\n",
       "      <td>0</td>\n",
       "      <td>17.166667</td>\n",
       "      <td>KA1503000043</td>\n",
       "      <td>TA1306000003</td>\n",
       "      <td>41.889193</td>\n",
       "      <td>0.323238</td>\n",
       "      <td>-87.638576</td>\n",
       "      <td>41.889099</td>\n",
       "      <td>-87.642479</td>\n",
       "      <td>member</td>\n",
       "    </tr>\n",
       "    <tr>\n",
       "      <th>3</th>\n",
       "      <td>87</td>\n",
       "      <td>docked_bike</td>\n",
       "      <td>1.013056</td>\n",
       "      <td>3</td>\n",
       "      <td>13.600000</td>\n",
       "      <td>TA1309000014</td>\n",
       "      <td>TA1309000014</td>\n",
       "      <td>41.967096</td>\n",
       "      <td>0.000000</td>\n",
       "      <td>-87.667429</td>\n",
       "      <td>41.967096</td>\n",
       "      <td>-87.667429</td>\n",
       "      <td>casual</td>\n",
       "    </tr>\n",
       "    <tr>\n",
       "      <th>4</th>\n",
       "      <td>88</td>\n",
       "      <td>classic_bike</td>\n",
       "      <td>0.101111</td>\n",
       "      <td>6</td>\n",
       "      <td>13.150000</td>\n",
       "      <td>TA1305000006</td>\n",
       "      <td>KA1503000043</td>\n",
       "      <td>41.881320</td>\n",
       "      <td>1.147392</td>\n",
       "      <td>-87.629521</td>\n",
       "      <td>41.889177</td>\n",
       "      <td>-87.638506</td>\n",
       "      <td>member</td>\n",
       "    </tr>\n",
       "    <tr>\n",
       "      <th>...</th>\n",
       "      <td>...</td>\n",
       "      <td>...</td>\n",
       "      <td>...</td>\n",
       "      <td>...</td>\n",
       "      <td>...</td>\n",
       "      <td>...</td>\n",
       "      <td>...</td>\n",
       "      <td>...</td>\n",
       "      <td>...</td>\n",
       "      <td>...</td>\n",
       "      <td>...</td>\n",
       "      <td>...</td>\n",
       "      <td>...</td>\n",
       "    </tr>\n",
       "    <tr>\n",
       "      <th>2949984</th>\n",
       "      <td>84771</td>\n",
       "      <td>docked_bike</td>\n",
       "      <td>0.215278</td>\n",
       "      <td>3</td>\n",
       "      <td>16.166667</td>\n",
       "      <td>140.0</td>\n",
       "      <td>140.0</td>\n",
       "      <td>41.899000</td>\n",
       "      <td>0.000000</td>\n",
       "      <td>-87.629900</td>\n",
       "      <td>41.899000</td>\n",
       "      <td>-87.629900</td>\n",
       "      <td>member</td>\n",
       "    </tr>\n",
       "    <tr>\n",
       "      <th>2949985</th>\n",
       "      <td>84772</td>\n",
       "      <td>docked_bike</td>\n",
       "      <td>0.319167</td>\n",
       "      <td>3</td>\n",
       "      <td>17.933333</td>\n",
       "      <td>322.0</td>\n",
       "      <td>351.0</td>\n",
       "      <td>41.799600</td>\n",
       "      <td>1.056377</td>\n",
       "      <td>-87.594700</td>\n",
       "      <td>41.803000</td>\n",
       "      <td>-87.606600</td>\n",
       "      <td>casual</td>\n",
       "    </tr>\n",
       "    <tr>\n",
       "      <th>2949986</th>\n",
       "      <td>84773</td>\n",
       "      <td>docked_bike</td>\n",
       "      <td>1.886111</td>\n",
       "      <td>4</td>\n",
       "      <td>19.950000</td>\n",
       "      <td>236.0</td>\n",
       "      <td>182.0</td>\n",
       "      <td>41.907600</td>\n",
       "      <td>0.604983</td>\n",
       "      <td>-87.638600</td>\n",
       "      <td>41.903200</td>\n",
       "      <td>-87.634300</td>\n",
       "      <td>casual</td>\n",
       "    </tr>\n",
       "    <tr>\n",
       "      <th>2949987</th>\n",
       "      <td>84774</td>\n",
       "      <td>docked_bike</td>\n",
       "      <td>0.708611</td>\n",
       "      <td>3</td>\n",
       "      <td>17.983333</td>\n",
       "      <td>310.0</td>\n",
       "      <td>310.0</td>\n",
       "      <td>41.920100</td>\n",
       "      <td>0.000000</td>\n",
       "      <td>-87.677900</td>\n",
       "      <td>41.920100</td>\n",
       "      <td>-87.677900</td>\n",
       "      <td>casual</td>\n",
       "    </tr>\n",
       "    <tr>\n",
       "      <th>2949988</th>\n",
       "      <td>84775</td>\n",
       "      <td>docked_bike</td>\n",
       "      <td>0.100000</td>\n",
       "      <td>5</td>\n",
       "      <td>1.516667</td>\n",
       "      <td>138.0</td>\n",
       "      <td>138.0</td>\n",
       "      <td>41.904600</td>\n",
       "      <td>0.000000</td>\n",
       "      <td>-87.640600</td>\n",
       "      <td>41.904600</td>\n",
       "      <td>-87.640600</td>\n",
       "      <td>casual</td>\n",
       "    </tr>\n",
       "  </tbody>\n",
       "</table>\n",
       "<p>2949989 rows × 13 columns</p>\n",
       "</div>"
      ],
      "text/plain": [
       "         Unnamed: 0  rideable_type  hire_time_h  day_week   time_day  \\\n",
       "0                 0   classic_bike     0.176944         6  12.733333   \n",
       "1                39  electric_bike     0.130556         4  13.883333   \n",
       "2                50  electric_bike     0.030000         0  17.166667   \n",
       "3                87    docked_bike     1.013056         3  13.600000   \n",
       "4                88   classic_bike     0.101111         6  13.150000   \n",
       "...             ...            ...          ...       ...        ...   \n",
       "2949984       84771    docked_bike     0.215278         3  16.166667   \n",
       "2949985       84772    docked_bike     0.319167         3  17.933333   \n",
       "2949986       84773    docked_bike     1.886111         4  19.950000   \n",
       "2949987       84774    docked_bike     0.708611         3  17.983333   \n",
       "2949988       84775    docked_bike     0.100000         5   1.516667   \n",
       "\n",
       "        start_station_id end_station_id  start_lat  distance  start_lng  \\\n",
       "0                  13157   TA1306000003  41.877726  1.491984 -87.654787   \n",
       "1           TA1309000006   TA1306000011  41.918112  2.144117 -87.643799   \n",
       "2           KA1503000043   TA1306000003  41.889193  0.323238 -87.638576   \n",
       "3           TA1309000014   TA1309000014  41.967096  0.000000 -87.667429   \n",
       "4           TA1305000006   KA1503000043  41.881320  1.147392 -87.629521   \n",
       "...                  ...            ...        ...       ...        ...   \n",
       "2949984            140.0          140.0  41.899000  0.000000 -87.629900   \n",
       "2949985            322.0          351.0  41.799600  1.056377 -87.594700   \n",
       "2949986            236.0          182.0  41.907600  0.604983 -87.638600   \n",
       "2949987            310.0          310.0  41.920100  0.000000 -87.677900   \n",
       "2949988            138.0          138.0  41.904600  0.000000 -87.640600   \n",
       "\n",
       "           end_lat    end_lng member_casual  \n",
       "0        41.888716 -87.644448        member  \n",
       "1        41.900129 -87.634448        member  \n",
       "2        41.889099 -87.642479        member  \n",
       "3        41.967096 -87.667429        casual  \n",
       "4        41.889177 -87.638506        member  \n",
       "...            ...        ...           ...  \n",
       "2949984  41.899000 -87.629900        member  \n",
       "2949985  41.803000 -87.606600        casual  \n",
       "2949986  41.903200 -87.634300        casual  \n",
       "2949987  41.920100 -87.677900        casual  \n",
       "2949988  41.904600 -87.640600        casual  \n",
       "\n",
       "[2949989 rows x 13 columns]"
      ]
     },
     "execution_count": 3,
     "metadata": {},
     "output_type": "execute_result"
    }
   ],
   "source": [
    "df = pd.read_csv('/data/df_2020.csv')\n",
    "df"
   ]
  },
  {
   "cell_type": "markdown",
   "metadata": {},
   "source": [
    "### Put frequency location onto a map"
   ]
  },
  {
   "cell_type": "code",
   "execution_count": 21,
   "metadata": {
    "deletable": false,
    "editable": false,
    "run_control": {
     "frozen": true
    }
   },
   "outputs": [],
   "source": [
    "import folium\n",
    "from folium import plugins\n",
    "from folium.plugins import HeatMap\n",
    "\n",
    "lat=df['start_lat'].values\n",
    "lon=df['start_lng'].values\n",
    "latlon = [lat, lon]\n",
    "\n",
    "maps = folium.Map(location=[lat[0],lon[0]],\n",
    "                    zoom_start = 11)\n",
    "\n",
    "latlon=np.transpose(latlon)\n",
    "\n",
    "# Plot it on the map\n",
    "HeatMap(latlon).add_to(maps)\n",
    "\n",
    "# Display the map\n",
    "maps"
   ]
  },
  {
   "attachments": {},
   "cell_type": "markdown",
   "metadata": {},
   "source": [
    "![](ghtop_images/ChiHeat.png)"
   ]
  },
  {
   "cell_type": "markdown",
   "metadata": {},
   "source": [
    "Bit of a mess, grouping by region may be better"
   ]
  },
  {
   "cell_type": "markdown",
   "metadata": {},
   "source": [
    "## Plot some choroplots\n",
    "open and modify the geojson file- seems to make life easier later"
   ]
  },
  {
   "cell_type": "code",
   "execution_count": 5,
   "metadata": {
    "deletable": false,
    "editable": false,
    "run_control": {
     "frozen": true
    }
   },
   "outputs": [
    {
     "data": {
      "text/html": [
       "<div>\n",
       "<style scoped>\n",
       "    .dataframe tbody tr th:only-of-type {\n",
       "        vertical-align: middle;\n",
       "    }\n",
       "\n",
       "    .dataframe tbody tr th {\n",
       "        vertical-align: top;\n",
       "    }\n",
       "\n",
       "    .dataframe thead th {\n",
       "        text-align: right;\n",
       "    }\n",
       "</style>\n",
       "<table border=\"1\" class=\"dataframe\">\n",
       "  <thead>\n",
       "    <tr style=\"text-align: right;\">\n",
       "      <th></th>\n",
       "      <th>ID</th>\n",
       "      <th>pri_neigh</th>\n",
       "      <th>geometry</th>\n",
       "    </tr>\n",
       "  </thead>\n",
       "  <tbody>\n",
       "    <tr>\n",
       "      <th>0</th>\n",
       "      <td>0</td>\n",
       "      <td>Grand Boulevard</td>\n",
       "      <td>MULTIPOLYGON (((-87.60671 41.81681, -87.60670 ...</td>\n",
       "    </tr>\n",
       "    <tr>\n",
       "      <th>1</th>\n",
       "      <td>1</td>\n",
       "      <td>Printers Row</td>\n",
       "      <td>MULTIPOLYGON (((-87.62761 41.87437, -87.62760 ...</td>\n",
       "    </tr>\n",
       "    <tr>\n",
       "      <th>2</th>\n",
       "      <td>2</td>\n",
       "      <td>United Center</td>\n",
       "      <td>MULTIPOLYGON (((-87.66707 41.88885, -87.66707 ...</td>\n",
       "    </tr>\n",
       "    <tr>\n",
       "      <th>3</th>\n",
       "      <td>3</td>\n",
       "      <td>Sheffield &amp; DePaul</td>\n",
       "      <td>MULTIPOLYGON (((-87.65833 41.92166, -87.65835 ...</td>\n",
       "    </tr>\n",
       "    <tr>\n",
       "      <th>4</th>\n",
       "      <td>4</td>\n",
       "      <td>Humboldt Park</td>\n",
       "      <td>MULTIPOLYGON (((-87.74060 41.88782, -87.74060 ...</td>\n",
       "    </tr>\n",
       "  </tbody>\n",
       "</table>\n",
       "</div>"
      ],
      "text/plain": [
       "   ID           pri_neigh                                           geometry\n",
       "0   0     Grand Boulevard  MULTIPOLYGON (((-87.60671 41.81681, -87.60670 ...\n",
       "1   1        Printers Row  MULTIPOLYGON (((-87.62761 41.87437, -87.62760 ...\n",
       "2   2       United Center  MULTIPOLYGON (((-87.66707 41.88885, -87.66707 ...\n",
       "3   3  Sheffield & DePaul  MULTIPOLYGON (((-87.65833 41.92166, -87.65835 ...\n",
       "4   4       Humboldt Park  MULTIPOLYGON (((-87.74060 41.88782, -87.74060 ..."
      ]
     },
     "execution_count": 5,
     "metadata": {},
     "output_type": "execute_result"
    }
   ],
   "source": [
    "import geopandas as gpd\n",
    "fname='Chicago.geojson'\n",
    "chicago = gpd.read_file(fname)\n",
    "\n",
    "# neighborhoods aren't unique so lets use the index and call it ID\n",
    "chicago.reset_index(inplace=True)\n",
    "chicago.rename(columns={'index':'ID'},inplace=True)\n",
    "\n",
    "chicago.drop(columns=['sec_neigh','shape_area','shape_len'],inplace=True)\n",
    "chicago.to_file(\"Chi_.json\", driver=\"GeoJSON\")\n",
    "chicago.head()"
   ]
  },
  {
   "cell_type": "markdown",
   "metadata": {},
   "source": [
    "### Now we want to convert each station to a region within the json file\n",
    "\n",
    "#### First let's create a variable for each station, with location and station_id"
   ]
  },
  {
   "cell_type": "code",
   "execution_count": 6,
   "metadata": {
    "deletable": false,
    "editable": false,
    "run_control": {
     "frozen": true
    }
   },
   "outputs": [
    {
     "data": {
      "text/html": [
       "<div>\n",
       "<style scoped>\n",
       "    .dataframe tbody tr th:only-of-type {\n",
       "        vertical-align: middle;\n",
       "    }\n",
       "\n",
       "    .dataframe tbody tr th {\n",
       "        vertical-align: top;\n",
       "    }\n",
       "\n",
       "    .dataframe thead th {\n",
       "        text-align: right;\n",
       "    }\n",
       "</style>\n",
       "<table border=\"1\" class=\"dataframe\">\n",
       "  <thead>\n",
       "    <tr style=\"text-align: right;\">\n",
       "      <th></th>\n",
       "      <th>start_station_id</th>\n",
       "      <th>start_lat</th>\n",
       "      <th>start_lng</th>\n",
       "    </tr>\n",
       "  </thead>\n",
       "  <tbody>\n",
       "    <tr>\n",
       "      <th>0</th>\n",
       "      <td>2.0</td>\n",
       "      <td>41.876505</td>\n",
       "      <td>-87.620535</td>\n",
       "    </tr>\n",
       "    <tr>\n",
       "      <th>1</th>\n",
       "      <td>3.0</td>\n",
       "      <td>41.867228</td>\n",
       "      <td>-87.615357</td>\n",
       "    </tr>\n",
       "    <tr>\n",
       "      <th>2</th>\n",
       "      <td>4.0</td>\n",
       "      <td>41.856268</td>\n",
       "      <td>-87.613345</td>\n",
       "    </tr>\n",
       "    <tr>\n",
       "      <th>3</th>\n",
       "      <td>5.0</td>\n",
       "      <td>41.874050</td>\n",
       "      <td>-87.627709</td>\n",
       "    </tr>\n",
       "    <tr>\n",
       "      <th>4</th>\n",
       "      <td>6.0</td>\n",
       "      <td>41.886974</td>\n",
       "      <td>-87.612813</td>\n",
       "    </tr>\n",
       "    <tr>\n",
       "      <th>...</th>\n",
       "      <td>...</td>\n",
       "      <td>...</td>\n",
       "      <td>...</td>\n",
       "    </tr>\n",
       "    <tr>\n",
       "      <th>1877</th>\n",
       "      <td>TA1309000066</td>\n",
       "      <td>41.969101</td>\n",
       "      <td>-87.674234</td>\n",
       "    </tr>\n",
       "    <tr>\n",
       "      <th>1878</th>\n",
       "      <td>TA1309000067</td>\n",
       "      <td>41.803034</td>\n",
       "      <td>-87.606613</td>\n",
       "    </tr>\n",
       "    <tr>\n",
       "      <th>1879</th>\n",
       "      <td>WL-008</td>\n",
       "      <td>41.867122</td>\n",
       "      <td>-87.641071</td>\n",
       "    </tr>\n",
       "    <tr>\n",
       "      <th>1880</th>\n",
       "      <td>WL-011</td>\n",
       "      <td>41.880395</td>\n",
       "      <td>-87.642727</td>\n",
       "    </tr>\n",
       "    <tr>\n",
       "      <th>1881</th>\n",
       "      <td>WL-012</td>\n",
       "      <td>41.883364</td>\n",
       "      <td>-87.641203</td>\n",
       "    </tr>\n",
       "  </tbody>\n",
       "</table>\n",
       "<p>1882 rows × 3 columns</p>\n",
       "</div>"
      ],
      "text/plain": [
       "     start_station_id  start_lat  start_lng\n",
       "0                 2.0  41.876505 -87.620535\n",
       "1                 3.0  41.867228 -87.615357\n",
       "2                 4.0  41.856268 -87.613345\n",
       "3                 5.0  41.874050 -87.627709\n",
       "4                 6.0  41.886974 -87.612813\n",
       "...               ...        ...        ...\n",
       "1877     TA1309000066  41.969101 -87.674234\n",
       "1878     TA1309000067  41.803034 -87.606613\n",
       "1879           WL-008  41.867122 -87.641071\n",
       "1880           WL-011  41.880395 -87.642727\n",
       "1881           WL-012  41.883364 -87.641203\n",
       "\n",
       "[1882 rows x 3 columns]"
      ]
     },
     "execution_count": 6,
     "metadata": {},
     "output_type": "execute_result"
    }
   ],
   "source": [
    "#use mean here just in case some slight differences- big ones lets hope not!\n",
    "dfStat=df.groupby(by=['start_station_id']).mean()\n",
    "\n",
    "dfStat=dfStat.drop(columns=['Unnamed: 0','hire_time_h','day_week','time_day','distance','end_lat','end_lng'])\n",
    "dfStat.reset_index(inplace=True)\n",
    "dfStat"
   ]
  },
  {
   "cell_type": "markdown",
   "metadata": {},
   "source": [
    "#### Now for each station we want a JSON-area code\n",
    "This is *slightly* convoluted\n",
    "- scroll through each station\n",
    "- for each station find if it's inside a Chigao_JSON region\n",
    "- if not we assign if a value 1000\n",
    "- for those with no region find the nearest station that has a JSON-region (done in tab after this)\n",
    "\n",
    "whatChoro = json ID\n",
    "whatwhat = station ID"
   ]
  },
  {
   "cell_type": "code",
   "execution_count": 7,
   "metadata": {
    "deletable": false,
    "editable": false,
    "run_control": {
     "frozen": true
    }
   },
   "outputs": [],
   "source": [
    "from shapely.geometry import shape, Point\n",
    "\n",
    "\n",
    "whatChoro=[]\n",
    "whatwhat=[]\n",
    "# check each polygon to see if it contains the point\n",
    "i=0\n",
    "# scroll through each station\n",
    "for istat in range(np.shape(dfStat)[0]):\n",
    "    i=0\n",
    "    #create a point for the station\n",
    "    point=Point(dfStat.loc[istat,'start_lng'],dfStat.loc[istat,'start_lat'])\n",
    "    \n",
    "    #scroll through each geometery\n",
    "    for feature in chicago.ID:\n",
    "        polygon = shape(chicago.loc[i,'geometry'])\n",
    "        if polygon.contains(point):\n",
    "            #this gives the json region ID\n",
    "            whatChoro.append(chicago.loc[i,'ID'])\n",
    "            #this give the station id\n",
    "            whatwhat.append(dfStat.loc[istat,'start_station_id'])\n",
    "            break \n",
    "        \n",
    "        #if we don't get a match!!\n",
    "        if feature==chicago['ID'].iloc[-1]:\n",
    "            \n",
    "            import copy\n",
    "            # find distances lat2/lng2 this location\n",
    "            # lat1/lng1 all locations\n",
    "            lat1_=copy.copy(dfStat['start_lat'])\n",
    "            lon1_=copy.copy(dfStat['start_lng'])\n",
    "            lat2_=dfStat.loc[istat,'start_lat']\n",
    "            lon2_=dfStat.loc[istat,'start_lng']\n",
    "\n",
    "            \n",
    "            #this gives the json region ID\n",
    "            whatChoro.append(1000)\n",
    "            #this give the station id\n",
    "            whatwhat.append(dfStat.loc[istat,'start_station_id'])\n",
    "            \n",
    "            \n",
    "        i=i+1"
   ]
  },
  {
   "cell_type": "markdown",
   "metadata": {},
   "source": [
    "#### This does the cleaning up if they don't have a json id\n",
    "\n",
    "This will handle when we don't get a match---> a reuse of the distance function with slight mods"
   ]
  },
  {
   "cell_type": "code",
   "execution_count": 8,
   "metadata": {
    "deletable": false,
    "editable": false,
    "run_control": {
     "frozen": true
    }
   },
   "outputs": [],
   "source": [
    "def distanceLatLong_v2(lat1_,lon1_,lat2_,lon2_):\n",
    "    \n",
    "    import numpy as np\n",
    "    import math\n",
    "    def deg2rad(deg):\n",
    "        return deg * np.pi/180\n",
    "    def inner(lat1,lon1,lat2,lon2):\n",
    "        R = 6371; # Radius of the earth in km\n",
    "        dLat = deg2rad(lat2-lat1)  # deg2rad below\n",
    "        dLon = deg2rad(lon2-lon1)\n",
    "        a = np.sin(dLat/2) * np.sin(dLat/2) + \\\n",
    "        np.cos(deg2rad(lat1)) * np.cos(deg2rad(lat2)) * \\\n",
    "        np.sin(dLon/2) * np.sin(dLon/2)\n",
    "\n",
    "        c = 2 * math.atan2(np.sqrt(a), np.sqrt(1-a))\n",
    "        d = R * c ## Distance in km\n",
    "        if d==0:\n",
    "            d=1000\n",
    "        return d\n",
    "    if np.shape(lat1_)[0]>1:\n",
    "        d=[]\n",
    "        for i in range(np.shape(lat1_)[0]):\n",
    "            d.append(inner(lat1_[i],lon1_[i],lat2_,lon2_))\n",
    "        \n",
    "    else:\n",
    "        d=inner(lat1_,lon1_,lat2_,lon2_)   \n",
    "    \n",
    "    return d"
   ]
  },
  {
   "cell_type": "markdown",
   "metadata": {},
   "source": [
    "this scrolls through ones we didn't match and finds nearest JSON-id we did match"
   ]
  },
  {
   "cell_type": "code",
   "execution_count": 9,
   "metadata": {
    "deletable": false,
    "editable": false,
    "run_control": {
     "frozen": true
    }
   },
   "outputs": [
    {
     "name": "stdout",
     "output_type": "stream",
     "text": [
      "554 474 48 48 3.218616605981318\n",
      "555 474 48 48 1.5436541433245226\n",
      "556 474 48 48 0.7244340745224377\n",
      "557 554 48 48 1.618989106320433\n",
      "558 557 48 48 0.9589393666816851\n",
      "559 558 48 48 1.703490590200107\n",
      "560 559 48 48 1.0394756465095663\n",
      "561 554 48 48 0.5321339843549502\n",
      "562 561 48 48 0.8611490298165934\n",
      "563 561 48 48 0.4535879672825213\n",
      "570 554 48 48 0.7620712283526319\n",
      "603 562 48 48 0.7657516801324228\n",
      "604 1355 55 55 0.9398603094768803\n",
      "605 559 48 48 1.3757808765327746\n",
      "1441 554 48 48 0.0009191040374285816\n",
      "1442 1441 48 48 0.003706303019684898\n",
      "1443 555 48 48 0.006456249041029345\n",
      "1444 556 48 48 4.9908562509422157e-05\n",
      "1445 1444 48 48 0.002230404415936471\n",
      "1446 557 48 48 0.0012372240336437155\n",
      "1447 1446 48 48 0.003412919018808641\n",
      "1450 558 48 48 0.005285184511373336\n",
      "1451 1450 48 48 0.011408782497315317\n",
      "1452 559 48 48 0.027327480291422585\n",
      "1453 560 48 48 0.0012042612006966005\n",
      "1454 561 48 48 0.0010429138707679156\n",
      "1455 562 48 48 0.0017205826064828574\n",
      "1456 1455 48 48 0.0034819520850311483\n",
      "1457 563 48 48 0.0025804458419044335\n",
      "1458 563 48 48 0.009202498604403178\n",
      "1470 570 48 48 0.004764480272445732\n",
      "1513 603 48 48 0.0008354495738933785\n",
      "1514 603 48 48 0.0011940325501674988\n",
      "1515 604 55 55 0.006060872681823562\n",
      "1516 1515 55 55 0.012603279140811706\n",
      "1517 605 48 48 0.009833621616663023\n",
      "1582 555 48 48 0.0011726503764087032\n",
      "1583 559 48 48 0.0038048094986119284\n",
      "1584 1453 48 48 0.0005568291527966493\n",
      "1585 561 48 48 0.0005786222457187065\n",
      "1586 1447 48 48 0.5069880704727254\n",
      "1587 605 48 48 0.0032438412454957833\n"
     ]
    }
   ],
   "source": [
    "for i in range(np.shape(dfStat)[0]):\n",
    "    if whatChoro[i]==1000:\n",
    "             \n",
    "        #find distances lat2/lng2 this location\n",
    "        # lat1/lng1 all locations\n",
    "        lat1_=copy.copy(dfStat['start_lat'])\n",
    "        lon1_=copy.copy(dfStat['start_lng'])\n",
    "        lat2_=dfStat.loc[i,'start_lat']\n",
    "        lon2_=dfStat.loc[i,'start_lng']\n",
    "        ind=[idx for idx, element in enumerate(whatChoro) if element==1000]\n",
    "        lat1_[ind]=0\n",
    "        lon1_[ind]=0\n",
    "        d=distanceLatLong_v2(lat1_,lon1_,lat2_,lon2_)\n",
    "        indamin=d.index(min(d))\n",
    "#         whatwhat[i]=whatwhat[indamin]\n",
    "        whatChoro[i]=whatChoro[indamin]\n",
    "        \n",
    "        print(i,indamin,whatChoro[i],whatChoro[indamin],min(d))"
   ]
  },
  {
   "cell_type": "markdown",
   "metadata": {},
   "source": [
    "### Now we can insert a new column in df with the json ID"
   ]
  },
  {
   "cell_type": "code",
   "execution_count": 10,
   "metadata": {
    "deletable": false,
    "editable": false,
    "run_control": {
     "frozen": true
    }
   },
   "outputs": [],
   "source": [
    "chicID=[]\n",
    "for stat in df['start_station_id']:\n",
    "#     chicID.append(stat)\n",
    "    ind=[idx for idx, element in enumerate(whatwhat) if element==stat]\n",
    "    try:\n",
    "        chicID.append(whatChoro[ind[0]])\n",
    "    except:\n",
    "        continue"
   ]
  },
  {
   "cell_type": "code",
   "execution_count": 11,
   "metadata": {
    "deletable": false,
    "editable": false,
    "run_control": {
     "frozen": true
    }
   },
   "outputs": [
    {
     "data": {
      "text/html": [
       "<div>\n",
       "<style scoped>\n",
       "    .dataframe tbody tr th:only-of-type {\n",
       "        vertical-align: middle;\n",
       "    }\n",
       "\n",
       "    .dataframe tbody tr th {\n",
       "        vertical-align: top;\n",
       "    }\n",
       "\n",
       "    .dataframe thead th {\n",
       "        text-align: right;\n",
       "    }\n",
       "</style>\n",
       "<table border=\"1\" class=\"dataframe\">\n",
       "  <thead>\n",
       "    <tr style=\"text-align: right;\">\n",
       "      <th></th>\n",
       "      <th>ID</th>\n",
       "      <th>Unnamed: 0</th>\n",
       "      <th>rideable_type</th>\n",
       "      <th>hire_time_h</th>\n",
       "      <th>day_week</th>\n",
       "      <th>time_day</th>\n",
       "      <th>start_station_id</th>\n",
       "      <th>end_station_id</th>\n",
       "      <th>start_lat</th>\n",
       "      <th>distance</th>\n",
       "      <th>start_lng</th>\n",
       "      <th>end_lat</th>\n",
       "      <th>end_lng</th>\n",
       "      <th>member_casual</th>\n",
       "    </tr>\n",
       "  </thead>\n",
       "  <tbody>\n",
       "    <tr>\n",
       "      <th>0</th>\n",
       "      <td>40</td>\n",
       "      <td>0</td>\n",
       "      <td>classic_bike</td>\n",
       "      <td>0.176944</td>\n",
       "      <td>6</td>\n",
       "      <td>12.733333</td>\n",
       "      <td>13157</td>\n",
       "      <td>TA1306000003</td>\n",
       "      <td>41.877726</td>\n",
       "      <td>1.491984</td>\n",
       "      <td>-87.654787</td>\n",
       "      <td>41.888716</td>\n",
       "      <td>-87.644448</td>\n",
       "      <td>member</td>\n",
       "    </tr>\n",
       "    <tr>\n",
       "      <th>1</th>\n",
       "      <td>92</td>\n",
       "      <td>39</td>\n",
       "      <td>electric_bike</td>\n",
       "      <td>0.130556</td>\n",
       "      <td>4</td>\n",
       "      <td>13.883333</td>\n",
       "      <td>TA1309000006</td>\n",
       "      <td>TA1306000011</td>\n",
       "      <td>41.918112</td>\n",
       "      <td>2.144117</td>\n",
       "      <td>-87.643799</td>\n",
       "      <td>41.900129</td>\n",
       "      <td>-87.634448</td>\n",
       "      <td>member</td>\n",
       "    </tr>\n",
       "    <tr>\n",
       "      <th>2</th>\n",
       "      <td>97</td>\n",
       "      <td>50</td>\n",
       "      <td>electric_bike</td>\n",
       "      <td>0.030000</td>\n",
       "      <td>0</td>\n",
       "      <td>17.166667</td>\n",
       "      <td>KA1503000043</td>\n",
       "      <td>TA1306000003</td>\n",
       "      <td>41.889193</td>\n",
       "      <td>0.323238</td>\n",
       "      <td>-87.638576</td>\n",
       "      <td>41.889099</td>\n",
       "      <td>-87.642479</td>\n",
       "      <td>member</td>\n",
       "    </tr>\n",
       "    <tr>\n",
       "      <th>3</th>\n",
       "      <td>56</td>\n",
       "      <td>87</td>\n",
       "      <td>docked_bike</td>\n",
       "      <td>1.013056</td>\n",
       "      <td>3</td>\n",
       "      <td>13.600000</td>\n",
       "      <td>TA1309000014</td>\n",
       "      <td>TA1309000014</td>\n",
       "      <td>41.967096</td>\n",
       "      <td>0.000000</td>\n",
       "      <td>-87.667429</td>\n",
       "      <td>41.967096</td>\n",
       "      <td>-87.667429</td>\n",
       "      <td>casual</td>\n",
       "    </tr>\n",
       "    <tr>\n",
       "      <th>4</th>\n",
       "      <td>26</td>\n",
       "      <td>88</td>\n",
       "      <td>classic_bike</td>\n",
       "      <td>0.101111</td>\n",
       "      <td>6</td>\n",
       "      <td>13.150000</td>\n",
       "      <td>TA1305000006</td>\n",
       "      <td>KA1503000043</td>\n",
       "      <td>41.881320</td>\n",
       "      <td>1.147392</td>\n",
       "      <td>-87.629521</td>\n",
       "      <td>41.889177</td>\n",
       "      <td>-87.638506</td>\n",
       "      <td>member</td>\n",
       "    </tr>\n",
       "  </tbody>\n",
       "</table>\n",
       "</div>"
      ],
      "text/plain": [
       "   ID  Unnamed: 0  rideable_type  hire_time_h  day_week   time_day  \\\n",
       "0  40           0   classic_bike     0.176944         6  12.733333   \n",
       "1  92          39  electric_bike     0.130556         4  13.883333   \n",
       "2  97          50  electric_bike     0.030000         0  17.166667   \n",
       "3  56          87    docked_bike     1.013056         3  13.600000   \n",
       "4  26          88   classic_bike     0.101111         6  13.150000   \n",
       "\n",
       "  start_station_id end_station_id  start_lat  distance  start_lng    end_lat  \\\n",
       "0            13157   TA1306000003  41.877726  1.491984 -87.654787  41.888716   \n",
       "1     TA1309000006   TA1306000011  41.918112  2.144117 -87.643799  41.900129   \n",
       "2     KA1503000043   TA1306000003  41.889193  0.323238 -87.638576  41.889099   \n",
       "3     TA1309000014   TA1309000014  41.967096  0.000000 -87.667429  41.967096   \n",
       "4     TA1305000006   KA1503000043  41.881320  1.147392 -87.629521  41.889177   \n",
       "\n",
       "     end_lng member_casual  \n",
       "0 -87.644448        member  \n",
       "1 -87.634448        member  \n",
       "2 -87.642479        member  \n",
       "3 -87.667429        casual  \n",
       "4 -87.638506        member  "
      ]
     },
     "execution_count": 11,
     "metadata": {},
     "output_type": "execute_result"
    }
   ],
   "source": [
    "df.insert(0,'ID',chicID)\n",
    "df.head()"
   ]
  },
  {
   "cell_type": "markdown",
   "metadata": {},
   "source": [
    "### And represent each JSON region by how many times they're used\n",
    "We'll take the count and divide it by the total- and because of the distribution we'll also take the log- basically hires are highly focussed on a few regions with many having low % "
   ]
  },
  {
   "cell_type": "code",
   "execution_count": 12,
   "metadata": {
    "deletable": false,
    "editable": false,
    "run_control": {
     "frozen": true
    }
   },
   "outputs": [
    {
     "data": {
      "text/html": [
       "<div>\n",
       "<style scoped>\n",
       "    .dataframe tbody tr th:only-of-type {\n",
       "        vertical-align: middle;\n",
       "    }\n",
       "\n",
       "    .dataframe tbody tr th {\n",
       "        vertical-align: top;\n",
       "    }\n",
       "\n",
       "    .dataframe thead th {\n",
       "        text-align: right;\n",
       "    }\n",
       "</style>\n",
       "<table border=\"1\" class=\"dataframe\">\n",
       "  <thead>\n",
       "    <tr style=\"text-align: right;\">\n",
       "      <th></th>\n",
       "      <th>ID</th>\n",
       "      <th>rideable_type</th>\n",
       "    </tr>\n",
       "  </thead>\n",
       "  <tbody>\n",
       "    <tr>\n",
       "      <th>0</th>\n",
       "      <td>0</td>\n",
       "      <td>-5.835124</td>\n",
       "    </tr>\n",
       "    <tr>\n",
       "      <th>1</th>\n",
       "      <td>1</td>\n",
       "      <td>-5.124845</td>\n",
       "    </tr>\n",
       "    <tr>\n",
       "      <th>2</th>\n",
       "      <td>2</td>\n",
       "      <td>-6.001956</td>\n",
       "    </tr>\n",
       "    <tr>\n",
       "      <th>3</th>\n",
       "      <td>3</td>\n",
       "      <td>-3.718336</td>\n",
       "    </tr>\n",
       "    <tr>\n",
       "      <th>4</th>\n",
       "      <td>4</td>\n",
       "      <td>-4.965188</td>\n",
       "    </tr>\n",
       "  </tbody>\n",
       "</table>\n",
       "</div>"
      ],
      "text/plain": [
       "   ID  rideable_type\n",
       "0   0      -5.835124\n",
       "1   1      -5.124845\n",
       "2   2      -6.001956\n",
       "3   3      -3.718336\n",
       "4   4      -4.965188"
      ]
     },
     "execution_count": 12,
     "metadata": {},
     "output_type": "execute_result"
    }
   ],
   "source": [
    "dfG=df.groupby('ID').count()\n",
    "dfG.reset_index(inplace=True)\n",
    "dfG=dfG[['ID','rideable_type']]\n",
    "dfG.rename(columns={'rideable_type':'Frequency'})\n",
    "dfG.rideable_type=np.log(dfG.rideable_type/sum(dfG.rideable_type))\n",
    "dfG.head()"
   ]
  },
  {
   "cell_type": "code",
   "execution_count": 90,
   "metadata": {
    "deletable": false,
    "editable": false,
    "run_control": {
     "frozen": true
    }
   },
   "outputs": [],
   "source": [
    "df.to_csv('/data/dfChoro_2020.csv')"
   ]
  },
  {
   "cell_type": "code",
   "execution_count": 5,
   "metadata": {},
   "outputs": [
    {
     "name": "stderr",
     "output_type": "stream",
     "text": [
      "C:\\Users\\44781\\anaconda3\\lib\\site-packages\\IPython\\core\\interactiveshell.py:3165: DtypeWarning: Columns (7,8) have mixed types.Specify dtype option on import or set low_memory=False.\n",
      "  has_raised = await self.run_ast_nodes(code_ast.body, cell_name,\n"
     ]
    }
   ],
   "source": [
    "df = pd.read_csv('/data/dfChoro_2020.csv')"
   ]
  },
  {
   "cell_type": "markdown",
   "metadata": {},
   "source": [
    "### Now the plotting\n",
    "We first read in the json file, add the df with our frequency values to it then we can plot the data\n"
   ]
  },
  {
   "cell_type": "markdown",
   "metadata": {},
   "source": [
    "### Lets put this in a function to look at differences"
   ]
  },
  {
   "cell_type": "code",
   "execution_count": 6,
   "metadata": {},
   "outputs": [],
   "source": [
    "def bigChoro(dfIN,colname,choi):\n",
    "    import folium \n",
    "    \n",
    "    LEGNOM=colname\n",
    "    if choi=='count':\n",
    "        dfG=dfIN.groupby('ID').count()\n",
    "        dfG[colname]=dfG[colname]/(100*274/7)\n",
    "        myscale = (dfG[colname].quantile((0,0.25,0.5,0.75,0.9,0.95,.97,1))).tolist()\n",
    "#         np.linspace(dfG[colname].min(),dfG[colname].max(),10)\n",
    "        LEGNOM='Number of journeys 100s per week'\n",
    "    elif choi=='mean':\n",
    "        dfG=dfIN.groupby('ID').mean()\n",
    "        myscale = np.linspace(dfG[colname].min(),dfG[colname].max(),10)\n",
    "    elif choi=='sum':\n",
    "        dfG=dfIN.groupby('ID').sum()\n",
    "        myscale = np.linspace(dfG[colname].min(),dfG[colname].max(),10)\n",
    "    elif choi=='dayofweek':\n",
    "        dfIN=dfIN[['ID',colname]]\n",
    "        dfG=dfIN.groupby(['ID']).agg(lambda x:x.value_counts().index[0])\n",
    "        dfG[dfG[colname]>4]=5-dfG[dfG[colname]>4]\n",
    "        myscale = np.array([-2.,0.,1.,2.,3.,4.])\n",
    "        LEGNOM='Day of week (-2 to -1 weekend, 0-4 Monday to Friday)'\n",
    "    elif choi=='mode':\n",
    "        dfIN=dfIN[['ID',colname]]\n",
    "        dfIN[colname].astype('int32')\n",
    "        dfG=dfIN.groupby(['ID']).agg(lambda x:x.value_counts().index[0])\n",
    "        myscale = np.linspace(dfG[colname].min(),dfG[colname].max(),10)\n",
    "        \n",
    "    dfG.reset_index(inplace=True)\n",
    "    dfG=dfG[['ID',colname]]\n",
    "\n",
    "\n",
    "    nil=gpd.read_file(\"Chi_.json\")\n",
    "    nil=nil[['ID','geometry']]\n",
    "\n",
    "    # merge data frames\n",
    "    nilpop=nil.merge(dfG,on=\"ID\")\n",
    "\n",
    "    #initial map\n",
    "    m = folium.Map(location=[41.884,-87.6247], zoom_start=10,\\\n",
    "       control_scale=True,tiles=\"Stamen Toner\")#,tiles = t_list[1])\n",
    "\n",
    "    folium.TileLayer('CartoDB positron',name=\"Light Map\",control=False).add_to(m)\n",
    "\n",
    "   \n",
    "    # (dfG['rideable_type'].quantile((0,.02,0.1,.25,0.5,0.75,0.9,0.95,0.98,1))).tolist()\n",
    "    choropleth =folium.Choropleth(\n",
    "        geo_data=\"Chi_.json\", \n",
    "        data=nilpop,\n",
    "        threshold_scale=myscale,\n",
    "        columns=['ID',colname],\n",
    "        name='choropleth',\n",
    "        fill_color='BuPu',#PuBuGn YlGn PuBuGn YlGnBu RdYlBu\n",
    "        key_on= \"feature.properties.ID\",\n",
    "        fill_opacity=0.7,\n",
    "        line_opacity=0.2,\n",
    "        nan_fill_color='gray',\n",
    "        legend_name=LEGNOM, \n",
    "        nan_fill_opacity =.5,\n",
    "        ).add_to(m)\n",
    "    folium.LayerControl().add_to(m)\n",
    "    choropleth.geojson.add_child(\n",
    "        folium.features.GeoJsonTooltip(['pri_neigh'],labels=False)\n",
    "        )\n",
    "    return m"
   ]
  },
  {
   "cell_type": "code",
   "execution_count": 24,
   "metadata": {},
   "outputs": [
    {
     "data": {
      "text/plain": [
       "Index(['ID', 'Unnamed: 0', 'rideable_type', 'hire_time_h', 'day_week',\n",
       "       'time_day', 'start_station_id', 'end_station_id', 'start_lat',\n",
       "       'distance', 'start_lng', 'end_lat', 'end_lng', 'member_casual'],\n",
       "      dtype='object')"
      ]
     },
     "execution_count": 24,
     "metadata": {},
     "output_type": "execute_result"
    }
   ],
   "source": [
    "dfIN.columns"
   ]
  },
  {
   "cell_type": "code",
   "execution_count": 13,
   "metadata": {
    "deletable": false,
    "editable": false,
    "run_control": {
     "frozen": true
    }
   },
   "outputs": [],
   "source": [
    "colname='distance'#end_station_id\n",
    "dfIN= df[df.member_casual=='member']\n",
    "m=bigChoro(dfIN,colname,'mean')\n",
    "m"
   ]
  },
  {
   "cell_type": "markdown",
   "metadata": {},
   "source": [
    "![](ghtop_images/ChiDist.png)"
   ]
  },
  {
   "cell_type": "code",
   "execution_count": 14,
   "metadata": {
    "deletable": false,
    "editable": false,
    "run_control": {
     "frozen": true
    }
   },
   "outputs": [],
   "source": [
    "colname='day_week'#end_station_id\n",
    "dfIN= df[df.member_casual=='member']\n",
    "m=bigChoro(dfIN,colname,'dayofweek')\n",
    "m"
   ]
  },
  {
   "cell_type": "markdown",
   "metadata": {},
   "source": [
    "![](ghtop_images/ChiDay.png)"
   ]
  },
  {
   "cell_type": "code",
   "execution_count": 16,
   "metadata": {
    "deletable": false,
    "editable": false,
    "run_control": {
     "frozen": true
    }
   },
   "outputs": [],
   "source": [
    "colname='time_day'#end_station_id\n",
    "dfIN= df[df.member_casual=='member']\n",
    "m=bigChoro(dfIN,colname,'mode')\n",
    "m"
   ]
  },
  {
   "cell_type": "markdown",
   "metadata": {},
   "source": [
    "![](ghtop_images/ChiDayTime.png)"
   ]
  },
  {
   "cell_type": "code",
   "execution_count": 18,
   "metadata": {},
   "outputs": [],
   "source": [
    "colname='time_day'#end_station_id\n",
    "dfIN= df[df.member_casual=='member']\n",
    "m=bigChoro(dfIN,colname,'count')\n",
    "m"
   ]
  },
  {
   "cell_type": "markdown",
   "metadata": {},
   "source": [
    "![](ghtop_images/ChiCountMember.png)"
   ]
  },
  {
   "cell_type": "code",
   "execution_count": 19,
   "metadata": {
    "deletable": false,
    "editable": false,
    "run_control": {
     "frozen": true
    }
   },
   "outputs": [],
   "source": [
    "colname='time_day'#end_station_id\n",
    "dfIN= df[df.member_casual=='casual']\n",
    "m=bigChoro(dfIN,colname,'count')\n",
    "m"
   ]
  },
  {
   "cell_type": "markdown",
   "metadata": {},
   "source": [
    "![](ghtop_images/ChiCountCasual.png)"
   ]
  },
  {
   "cell_type": "code",
   "execution_count": 46,
   "metadata": {},
   "outputs": [
    {
     "data": {
      "text/plain": [
       "array([-2.,  0.,  1.,  2.,  3.,  4.])"
      ]
     },
     "execution_count": 46,
     "metadata": {},
     "output_type": "execute_result"
    }
   ],
   "source": [
    "np.linspace(-2,4,7)\n",
    "np.array([-2.,0.,1.,2.,3.,4.])"
   ]
  },
  {
   "cell_type": "code",
   "execution_count": 95,
   "metadata": {},
   "outputs": [],
   "source": [
    "import seaborn as sns\n",
    "import matplotlib as mpl\n",
    "import matplotlib.pyplot as plt"
   ]
  },
  {
   "cell_type": "code",
   "execution_count": 96,
   "metadata": {},
   "outputs": [
    {
     "data": {
      "image/png": "[encoded data removed]",
      "text/plain": [
       "<Figure size 504x360 with 1 Axes>"
      ]
     },
     "metadata": {},
     "output_type": "display_data"
    }
   ],
   "source": [
    "sns.set_theme(style=\"ticks\")\n",
    "\n",
    "f, ax = plt.subplots(figsize=(7, 5))\n",
    "sns.despine(f)\n",
    "\n",
    "# Draw a nested boxplot to show bills by day and time\n",
    "sns.histplot(df,hue=\"member_casual\", x=\"time_day\",\n",
    "            multiple=\"stack\",\n",
    "            palette=\"dark:b_r\",\n",
    "            edgecolor=\".3\",\n",
    "            linewidth=.5,)\n",
    "sns.despine(offset=10, trim=True)"
   ]
  },
  {
   "cell_type": "code",
   "execution_count": 123,
   "metadata": {},
   "outputs": [
    {
     "data": {
      "image/png": "[encoded data removed]",
      "text/plain": [
       "<Figure size 720x504 with 2 Axes>"
      ]
     },
     "metadata": {},
     "output_type": "display_data"
    }
   ],
   "source": [
    "from matplotlib.ticker import PercentFormatter\n",
    "df_=df[df.hire_time_h<5]\n",
    "df_=df_[df_.hire_time_h>0]\n",
    "sns.set_theme(style=\"ticks\")\n",
    "\n",
    "binwidth = 5\n",
    "\n",
    "f, ax1 = plt.subplots(figsize=(10, 7))\n",
    "sns.despine(f)\n",
    "df2_=df_[df_.member_casual=='member']\n",
    "# Draw a nested boxplot to show bills by day and time\n",
    "sns.histplot(df2_, x=\"hire_time_h\",\n",
    "            multiple=\"stack\",\n",
    "            palette=\"light:m_r\",\n",
    "            edgecolor=\".3\",\n",
    "            linewidth=.5,\n",
    "            stat='probability',\n",
    "            log_scale=True,\n",
    "            ax=ax1,\n",
    "            label='member')\n",
    "\n",
    "ax2=ax1.twinx()\n",
    "\n",
    "df2_=df_[df_.member_casual=='casual']\n",
    "# Draw a nested boxplot to show bills by day and time\n",
    "sns.histplot(df2_, x=\"hire_time_h\",\n",
    "             element=\"step\",fill=False,\n",
    "             color='red',\n",
    "            linewidth=.8,\n",
    "            stat='probability',\n",
    "            log_scale=True,\n",
    "            ax=ax2,\n",
    "            label='casual')\n",
    "\n",
    "ax1.legend(loc='upper left')\n",
    "ax2.legend(loc='upper right')\n",
    "sns.despine(offset=10, trim=True)\n",
    "# ax.legend('Member','Casual')"
   ]
  },
  {
   "cell_type": "code",
   "execution_count": 142,
   "metadata": {},
   "outputs": [
    {
     "data": {
      "text/plain": [
       "<matplotlib.legend.Legend at 0x2f212cc0be0>"
      ]
     },
     "execution_count": 142,
     "metadata": {},
     "output_type": "execute_result"
    },
    {
     "data": {
      "image/png": "[encoded data removed]",
      "text/plain": [
       "<Figure size 720x576 with 1 Axes>"
      ]
     },
     "metadata": {},
     "output_type": "display_data"
    }
   ],
   "source": [
    "sns.set_theme(style=\"ticks\")\n",
    "\n",
    "f, ax = plt.subplots(figsize=(10, 8))\n",
    "sns.despine(f)\n",
    "df_=df[ df[\"distance\"]>0.1 ]\n",
    "df_= df_[df_[\"distance\"]<20]\n",
    "df_=df_[df_.member_casual=='member']\n",
    "# Draw a nested boxplot to show bills by day and time\n",
    "sns.histplot(data=df_, x=\"distance\",\n",
    "            edgecolor=\".3\",\n",
    "            linewidth=.5,\n",
    "            stat='probability',\n",
    "             label='member')\n",
    "sns.despine(offset=10, trim=True)\n",
    "df_=df[df[\"distance\"]>0.1]\n",
    "df_= df_[df_[\"distance\"]<20]\n",
    "df_=df_[df_.member_casual=='casual']\n",
    "sns.histplot(data=df_, x=\"distance\",\n",
    "            linewidth=.8,\n",
    "            color='r',\n",
    "            stat='probability',\n",
    "             label='casual',\n",
    "            fill=False,\n",
    "            element='step')\n",
    "\n",
    "ax.legend(loc='upper right')\n"
   ]
  },
  {
   "cell_type": "code",
   "execution_count": 125,
   "metadata": {},
   "outputs": [
    {
     "data": {
      "text/plain": [
       "Text(0.5, 0, 'Day of the week')"
      ]
     },
     "execution_count": 125,
     "metadata": {},
     "output_type": "execute_result"
    },
    {
     "data": {
      "image/png": "[encoded data removed]",
      "text/plain": [
       "<Figure size 432x288 with 1 Axes>"
      ]
     },
     "metadata": {},
     "output_type": "display_data"
    }
   ],
   "source": [
    "# f, ax = plt.subplots(figsize=(7, 5))\n",
    "sns.set_theme(style=\"whitegrid\")\n",
    "\n",
    "# Draw a nested boxplot to show bills by day and time\n",
    "ax=sns.histplot(df,hue=\"member_casual\", \n",
    "             x=\"day_week\",palette=\"dark:b_r\",\n",
    "             multiple=\"dodge\",\n",
    "             bins=[0 ,1 ,2 ,3, 4, 5, 6,7],\n",
    "             shrink=.9\n",
    "            )\n",
    "sns.despine(offset=20, trim=True)\n",
    "aa=np.array([0,1,2,3,4,5,6])+.5\n",
    "ax.set_xticks(aa)\n",
    "ax.set_xlim([0, 7.5])\n",
    "lab=['Monday','Tuesday','Wednesday','Thursday','Friday','Saturday','Sunday']\n",
    "ax.set_xticklabels(lab,rotation='vertical')\n",
    "ax.set_xlabel('Day of the week')\n"
   ]
  },
  {
   "cell_type": "markdown",
   "metadata": {},
   "source": [
    "### So after a quick look at the data (*maybe some plots need mods) some clear trends:\n",
    "- Casuals use bikes more on weekends, members more on weekdays\n",
    "- Members tend to use bikes in commuting times 7-9 am and 4-7 pm. Whereas casuals more spread but focussed later\n",
    "- Casuals tend to use the bikes for longer and travel further from initial location"
   ]
  }
 ],
 "metadata": {
  "hide_input": false,
  "kernelspec": {
   "display_name": "Python 3",
   "language": "python",
   "name": "python3"
  },
  "language_info": {
   "codemirror_mode": {
    "name": "ipython",
    "version": 3
   },
   "file_extension": ".py",
   "mimetype": "text/x-python",
   "name": "python",
   "nbconvert_exporter": "python",
   "pygments_lexer": "ipython3",
   "version": "3.8.8"
  },
  "varInspector": {
   "cols": {
    "lenName": 16,
    "lenType": 16,
    "lenVar": 40
   },
   "kernels_config": {
    "python": {
     "delete_cmd_postfix": "",
     "delete_cmd_prefix": "del ",
     "library": "var_list.py",
     "varRefreshCmd": "print(var_dic_list())"
    },
    "r": {
     "delete_cmd_postfix": ") ",
     "delete_cmd_prefix": "rm(",
     "library": "var_list.r",
     "varRefreshCmd": "cat(var_dic_list()) "
    }
   },
   "types_to_exclude": [
    "module",
    "function",
    "builtin_function_or_method",
    "instance",
    "_Feature"
   ],
   "window_display": false
  }
 },
 "nbformat": 4,
 "nbformat_minor": 2
}
