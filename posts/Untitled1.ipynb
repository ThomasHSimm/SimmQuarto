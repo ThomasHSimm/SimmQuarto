{
 "cells": [
  {
   "cell_type": "code",
   "execution_count": 15,
   "metadata": {},
   "outputs": [],
   "source": [
    "from sklearn.ensemble import RandomForestClassifier\n",
    "from sklearn.tree import DecisionTreeClassifier\n",
    "# from dtreeviz.trees import *\n",
    "from pandas.api.types import is_string_dtype, is_numeric_dtype, is_categorical_dtype\n",
    "from fastai.tabular.all import *\n",
    "import pandas as pd\n"
   ]
  },
  {
   "cell_type": "code",
   "execution_count": 22,
   "metadata": {},
   "outputs": [],
   "source": [
    "df=pd.read_csv(\"C:\\\\Users\\\\44781\\\\Downloads\\\\epl2021_big(1).csv\")\n",
    "try:\n",
    "    df.drop(columns=[\"Unnamed: 0\"], inplace=True)\n",
    "except:\n",
    "    pass\n",
    "df=df.drop(columns=[\"tkl+int\"])"
   ]
  },
  {
   "cell_type": "code",
   "execution_count": 34,
   "metadata": {},
   "outputs": [
    {
     "name": "stdout",
     "output_type": "stream",
     "text": [
      "<class 'pandas.core.frame.DataFrame'>\n",
      "Int64Index: 740 entries, 0 to 739\n",
      "Data columns (total 10 columns):\n",
      " #   Column               Non-Null Count  Dtype  \n",
      "---  ------               --------------  -----  \n",
      " 0   dead                 740 non-null    float64\n",
      " 1   fk_passing_types     740 non-null    float64\n",
      " 2   tb                   740 non-null    float64\n",
      " 3   press_passing_types  740 non-null    float64\n",
      " 4   sw                   740 non-null    float64\n",
      " 5   crs_passing_types    740 non-null    float64\n",
      " 6   ck                   740 non-null    float64\n",
      " 7   in                   740 non-null    float64\n",
      " 8   out                  740 non-null    float64\n",
      " 9   str                  740 non-null    float64\n",
      "dtypes: float64(10)\n",
      "memory usage: 63.6 KB\n"
     ]
    },
    {
     "data": {
      "text/plain": [
       "None"
      ]
     },
     "metadata": {},
     "output_type": "display_data"
    }
   ],
   "source": [
    "x=60\n",
    "#  cmp%_keeper avgdist       \n",
    "with pd.option_context(\"display.max_columns\", None):\n",
    "    display(df.iloc[:,10+x:20+x].info())"
   ]
  },
  {
   "cell_type": "code",
   "execution_count": 23,
   "metadata": {},
   "outputs": [
    {
     "data": {
      "text/plain": [
       "0.2702702702702703"
      ]
     },
     "execution_count": 23,
     "metadata": {},
     "output_type": "execute_result"
    }
   ],
   "source": [
    "df=df[df['round']>1]\n",
    "# sza=np.shape(df)[0]\n",
    "\n",
    "# randAr=np.random.randint(0,100, size=sza)\n",
    "# cond = randAr>=15\n",
    "\n",
    "cond=df['round']<29\n",
    "\n",
    "train_idx = np.where( cond)[0]\n",
    "valid_idx = np.where(~cond)[0]\n",
    "\n",
    "\n",
    "\n",
    "splits = (list(train_idx),list(valid_idx))\n",
    "\n",
    "valid_idx.shape[0]/len(df)"
   ]
  },
  {
   "cell_type": "code",
   "execution_count": 24,
   "metadata": {},
   "outputs": [
    {
     "data": {
      "text/plain": [
       "['venue', 'opponent', 'team']"
      ]
     },
     "execution_count": 24,
     "metadata": {},
     "output_type": "execute_result"
    }
   ],
   "source": [
    "dep_var='Win'\n",
    "cont,cat = cont_cat_split(df, 1, dep_var=dep_var)\n",
    "cat"
   ]
  },
  {
   "cell_type": "code",
   "execution_count": 48,
   "metadata": {},
   "outputs": [
    {
     "name": "stderr",
     "output_type": "stream",
     "text": [
      "C:\\Users\\44781\\anaconda3\\lib\\site-packages\\fastai\\tabular\\core.py:116: RuntimeWarning: invalid value encountered in less_equal\n",
      "  new_t = next((r[0] for r in t if r[1]<=df[c].min() and r[2]>=df[c].max()), None)\n"
     ]
    }
   ],
   "source": [
    "df_=df.iloc[:,[3,174]]\n",
    "procs = [Categorify, FillMissing]\n",
    "to = TabularPandas(df, procs, cat, cont, y_names=dep_var, splits=splits)\n",
    "\n",
    "xs,y = to.train.xs,to.train.y\n",
    "valid_xs,valid_y = to.valid.xs,to.valid.y"
   ]
  },
  {
   "cell_type": "code",
   "execution_count": 132,
   "metadata": {},
   "outputs": [],
   "source": [
    "# [i for i,x in enumerate(df.columns) if x=='Win']\n",
    "# # df['Win']\n",
    "\n",
    "# [x for x in df.iloc[:,174] if x !=\"W\" and x!=\"L\" and x!='D']\n",
    "import copy\n",
    "df_=copy.copy(df)"
   ]
  },
  {
   "cell_type": "code",
   "execution_count": 163,
   "metadata": {},
   "outputs": [
    {
     "name": "stdout",
     "output_type": "stream",
     "text": [
      "0.9766081871345029\n"
     ]
    }
   ],
   "source": [
    "xx=df\n",
    "ivals=[]\n",
    "ii=0\n",
    "for i in range(len(df.columns)):\n",
    "#     print(xx.iloc[:,i].isnull().values.any(), '----',df.columns[i])\n",
    "    if xx.iloc[:,i].isnull().values.any()==False:\n",
    "        ivals.append(i)\n",
    "        ii+=1\n",
    "print(ii/len(df.columns))"
   ]
  },
  {
   "cell_type": "code",
   "execution_count": 133,
   "metadata": {},
   "outputs": [],
   "source": [
    "df_=df_.iloc[:,ivals]\n"
   ]
  },
  {
   "cell_type": "code",
   "execution_count": 131,
   "metadata": {},
   "outputs": [
    {
     "data": {
      "text/plain": [
       "341"
      ]
     },
     "execution_count": 131,
     "metadata": {},
     "output_type": "execute_result"
    }
   ],
   "source": [
    "max(ivals)"
   ]
  },
  {
   "cell_type": "code",
   "execution_count": 91,
   "metadata": {},
   "outputs": [
    {
     "data": {
      "text/plain": [
       "Index(['np:g-xg', 'np:g-xg', 'sota', 'saves', 'save%', 'cs', 'psxg',\n",
       "       'cmp%_keeper', 'Win'],\n",
       "      dtype='object')"
      ]
     },
     "execution_count": 91,
     "metadata": {},
     "output_type": "execute_result"
    }
   ],
   "source": [
    "cols=df_.columns\n",
    "cols"
   ]
  },
  {
   "cell_type": "code",
   "execution_count": 134,
   "metadata": {},
   "outputs": [],
   "source": [
    "cont,cat = cont_cat_split(df_, 1, dep_var=\"Win\")\n",
    "to = TabularPandas(df_, procs, cat, cont, y_names=dep_var, splits=splits)"
   ]
  },
  {
   "cell_type": "code",
   "execution_count": 94,
   "metadata": {},
   "outputs": [],
   "source": [
    "def rf(xs, y, n_estimators=150, max_samples=150,\n",
    "       max_features=0.4, min_samples_leaf=40, **kwargs):\n",
    "    return RandomForestClassifier(n_jobs=-1, n_estimators=n_estimators,\n",
    "        max_samples=max_samples, max_features=max_features,\n",
    "        min_samples_leaf=min_samples_leaf, oob_score=True,class_weight=\"balanced_subsample\").fit(xs, y)"
   ]
  },
  {
   "cell_type": "code",
   "execution_count": 160,
   "metadata": {},
   "outputs": [
    {
     "name": "stderr",
     "output_type": "stream",
     "text": [
      "C:\\Users\\44781\\anaconda3\\lib\\site-packages\\fastai\\tabular\\core.py:116: RuntimeWarning: invalid value encountered in less_equal\n",
      "  new_t = next((r[0] for r in t if r[1]<=df[c].min() and r[2]>=df[c].max()), None)\n"
     ]
    },
    {
     "name": "stdout",
     "output_type": "stream",
     "text": [
      "0.7092592592592593 0.485\n"
     ]
    }
   ],
   "source": [
    "\n",
    "procs = [Categorify, FillMissing]\n",
    "to = TabularPandas(df, procs, cat, cont, y_names=dep_var, splits=splits)\n",
    "\n",
    "xs,y = to.train.xs,to.train.y\n",
    "valid_xs,valid_y = to.valid.xs,to.valid.y\n",
    "\n",
    "m = rf(xs, y,n_estimators=100,max_samples=100,\n",
    "       max_features=.7, min_samples_leaf=4)\n",
    "print(m.score(xs,y), m.score(valid_xs, valid_y) )"
   ]
  },
  {
   "cell_type": "code",
   "execution_count": null,
   "metadata": {},
   "outputs": [],
   "source": []
  }
 ],
 "metadata": {
  "hide_input": false,
  "kernelspec": {
   "display_name": "Python 3 (ipykernel)",
   "language": "python",
   "name": "python3"
  },
  "language_info": {
   "codemirror_mode": {
    "name": "ipython",
    "version": 3
   },
   "file_extension": ".py",
   "mimetype": "text/x-python",
   "name": "python",
   "nbconvert_exporter": "python",
   "pygments_lexer": "ipython3",
   "version": "3.8.8"
  },
  "varInspector": {
   "cols": {
    "lenName": 16,
    "lenType": 16,
    "lenVar": 40
   },
   "kernels_config": {
    "python": {
     "delete_cmd_postfix": "",
     "delete_cmd_prefix": "del ",
     "library": "var_list.py",
     "varRefreshCmd": "print(var_dic_list())"
    },
    "r": {
     "delete_cmd_postfix": ") ",
     "delete_cmd_prefix": "rm(",
     "library": "var_list.r",
     "varRefreshCmd": "cat(var_dic_list()) "
    }
   },
   "types_to_exclude": [
    "module",
    "function",
    "builtin_function_or_method",
    "instance",
    "_Feature"
   ],
   "window_display": false
  }
 },
 "nbformat": 4,
 "nbformat_minor": 2
}
