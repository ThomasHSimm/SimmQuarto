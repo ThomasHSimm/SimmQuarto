{
 "cells": [
  {
   "cell_type": "markdown",
   "metadata": {},
   "source": []
  },
  {
   "cell_type": "markdown",
   "metadata": {},
   "source": [
    "## Modifications to code for separating swing video\n",
    "\n",
    "\n",
    "### - Imported files are not saved to a location \n",
    "\n",
    "This means can't pass 'path' when creating the Dataset. So that line is removed from the `__init__` \n",
    "\n",
    "In theory the video could then be loaded with `cap = cv2.VideoCapture(self)` but this doesn't work as openCV requires a file. So a get around for this is create a temp file https://discuss.streamlit.io/t/how-to-access-uploaded-video-in-streamlit-by-open-cv/5831/4\n",
    "\n",
    "``` python\n",
    "f = st.file_uploader(\"Upload file\")\n",
    "tfile = tempfile.NamedTemporaryFile(delete=False)\n",
    "tfile.write(f.read())\n",
    "vf = cv.VideoCapture(tfile.name)\n",
    "```\n",
    "\n",
    "For the same reason the image files are not saved as a file\n",
    "\n",
    "### - Video load issue\n",
    "\n",
    "If the video is loaded a second time `ret, img = cv2.VideoCapture` there are problems receieving the video i.e. `ret=False`.\n",
    "\n",
    "A get around used was to copy the imported file \n",
    "``` python\n",
    "uploaded_filesCOPY = copy.copy( uploaded_files )\n",
    "```\n",
    "\n",
    "### - Using on a CPU instead of a GPU\n",
    "\n",
    "The code needed modifying slightly to allow it to work using a CPU. \n",
    "Although it does have the following line, a few more changes were needed\n",
    "``` python\n",
    "device = torch.device('cuda' if torch.cuda.is_available() else 'cpu')\n",
    "```\n",
    "\n",
    "Adding a description in the loads\n",
    "``` python\n",
    "torch.load('mobilenet_v2.pth.tar',map_location=torch.device('cpu'))\n",
    "```\n",
    "\n",
    "Removing the cdu() part at end of e.g. variables \n",
    "``` python\n",
    "Variable(torch.zeros(2*self.lstm_layers, batch_size, self.lstm_hidden).cuda()\n",
    "# to     \n",
    "Variable(torch.zeros(2*self.lstm_layers, batch_size, self.lstm_hidden)\n",
    "```"
   ]
  },
  {
   "cell_type": "code",
   "execution_count": null,
   "metadata": {},
   "outputs": [],
   "source": []
  }
 ],
 "metadata": {
  "hide_input": false,
  "kernelspec": {
   "display_name": "Python 3 (ipykernel)",
   "language": "python",
   "name": "python3"
  },
  "language_info": {
   "codemirror_mode": {
    "name": "ipython",
    "version": 3
   },
   "file_extension": ".py",
   "mimetype": "text/x-python",
   "name": "python",
   "nbconvert_exporter": "python",
   "pygments_lexer": "ipython3",
   "version": "3.8.8"
  },
  "varInspector": {
   "cols": {
    "lenName": 16,
    "lenType": 16,
    "lenVar": 40
   },
   "kernels_config": {
    "python": {
     "delete_cmd_postfix": "",
     "delete_cmd_prefix": "del ",
     "library": "var_list.py",
     "varRefreshCmd": "print(var_dic_list())"
    },
    "r": {
     "delete_cmd_postfix": ") ",
     "delete_cmd_prefix": "rm(",
     "library": "var_list.r",
     "varRefreshCmd": "cat(var_dic_list()) "
    }
   },
   "types_to_exclude": [
    "module",
    "function",
    "builtin_function_or_method",
    "instance",
    "_Feature"
   ],
   "window_display": false
  }
 },
 "nbformat": 4,
 "nbformat_minor": 2
}
